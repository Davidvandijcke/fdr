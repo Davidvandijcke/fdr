{
 "cells": [
  {
   "cell_type": "code",
   "execution_count": 1,
   "id": "e21b10d2-9f52-4ba4-9299-4287492b83bc",
   "metadata": {
    "execution": {
     "iopub.execute_input": "2023-07-13T14:00:21.881731Z",
     "iopub.status.busy": "2023-07-13T14:00:21.881387Z",
     "iopub.status.idle": "2023-07-13T14:01:17.950430Z",
     "shell.execute_reply": "2023-07-13T14:01:17.949654Z",
     "shell.execute_reply.started": "2023-07-13T14:00:21.881702Z"
    },
    "tags": []
   },
   "outputs": [
    {
     "data": {
      "application/vnd.jupyter.widget-view+json": {
       "model_id": "f19ddaa8b2494c9190020c0d09b3cd3b",
       "version_major": 2,
       "version_minor": 0
      },
      "text/plain": [
       "VBox()"
      ]
     },
     "metadata": {},
     "output_type": "display_data"
    },
    {
     "name": "stdout",
     "output_type": "stream",
     "text": [
      "Starting Spark application\n"
     ]
    },
    {
     "data": {
      "text/html": [
       "<table>\n<tbody><tr><th>ID</th><th>YARN Application ID</th><th>Kind</th><th>State</th><th>Spark UI</th><th>Driver log</th><th>User</th><th>Current session?</th></tr><tr><td>0</td><td>application_1689255436350_0001</td><td>pyspark</td><td>idle</td><td><a target=\"_blank\" href=\"http://ip-172-31-41-113.ec2.internal:20888/proxy/application_1689255436350_0001/\" class=\"emr-proxy-link j-3MOZZTQILJPNN application_1689255436350_0001\" emr-resource=\"j-3MOZZTQILJPNN\n\" application-id=\"application_1689255436350_0001\">Link</a></td><td><a target=\"_blank\" href=\"http://ip-172-31-42-36.ec2.internal:8042/node/containerlogs/container_1689255436350_0001_01_000001/livy\">Link</a></td><td>None</td><td>✔</td></tr></tbody></table>"
      ],
      "text/plain": [
       "<IPython.core.display.HTML object>"
      ]
     },
     "metadata": {},
     "output_type": "display_data"
    },
    {
     "data": {
      "application/vnd.jupyter.widget-view+json": {
       "model_id": "",
       "version_major": 2,
       "version_minor": 0
      },
      "text/plain": [
       "FloatProgress(value=0.0, bar_style='info', description='Progress:', layout=Layout(height='25px', width='50%'),…"
      ]
     },
     "metadata": {},
     "output_type": "display_data"
    },
    {
     "name": "stdout",
     "output_type": "stream",
     "text": [
      "SparkSession available as 'spark'.\n"
     ]
    },
    {
     "data": {
      "application/vnd.jupyter.widget-view+json": {
       "model_id": "",
       "version_major": 2,
       "version_minor": 0
      },
      "text/plain": [
       "FloatProgress(value=0.0, bar_style='info', description='Progress:', layout=Layout(height='25px', width='50%'),…"
      ]
     },
     "metadata": {},
     "output_type": "display_data"
    }
   ],
   "source": [
    "\"\"\" Filter India data\n",
    "\n",
    "aws emr add-steps --cluster-id <Your EMR cluster id> --steps Type=spark,Name=TestJob,Args=[--deploy-mode,cluster,--master,yarn,--conf,spark.yarn.submit.waitAppCompletion=true,s3a://your-source-bucket/code/pythonjob.py,s3a://your-source-bucket/data/data.csv,s3a://your-destination-bucket/test-output/],ActionOnFailure=CONTINUE\n",
    "\"\"\"\n",
    "\n",
    "from collections import namedtuple\n",
    "import logging\n",
    "import sys\n",
    "\n",
    "from geopy.distance import great_circle\n",
    "import pandas as pd\n",
    "import geopandas as gpd\n",
    "import numpy as np\n",
    "\n",
    "from datetime import timedelta, date, datetime\n",
    "from statistics import *\n",
    "from shapely.geometry import MultiPolygon, Polygon\n",
    "from shapely import wkt\n",
    "\n",
    "\n",
    "from pyspark import SparkContext\n",
    "from pyspark.sql import SQLContext, SparkSession\n",
    "from pyspark.sql.window import Window\n",
    "from pyspark.sql.types import (\n",
    "    StructType,\n",
    "    LongType,\n",
    "    StructField,\n",
    "    IntegerType,\n",
    "    StringType,\n",
    "    DoubleType,\n",
    "    TimestampType,\n",
    "    ArrayType\n",
    ")\n",
    "import pyspark.sql.functions as F\n",
    "from math import *\n",
    "import time\n",
    "import json\n",
    "\n",
    "\n",
    "spark = SparkSession.builder.appName(f\"trips_veraset\").getOrCreate()\n",
    "spark.sparkContext.addPyFile(\"s3://ipsos-dvd/scripts/utils.py\")\n",
    "\n",
    "fn = \"s3://ipsos-dvd/fdd/data/pings_IN_2021-09-01_2021-09-30/\"\n",
    "\n",
    "\n"
   ]
  },
  {
   "cell_type": "code",
   "execution_count": 7,
   "id": "b8398b0e-c113-4131-94df-ecded370f1d2",
   "metadata": {
    "execution": {
     "iopub.execute_input": "2023-07-13T14:38:40.933916Z",
     "iopub.status.busy": "2023-07-13T14:38:40.933611Z",
     "iopub.status.idle": "2023-07-13T14:38:43.204724Z",
     "shell.execute_reply": "2023-07-13T14:38:43.203875Z",
     "shell.execute_reply.started": "2023-07-13T14:38:40.933890Z"
    },
    "tags": []
   },
   "outputs": [
    {
     "data": {
      "application/vnd.jupyter.widget-view+json": {
       "model_id": "2e52fec12c184ff189b4ca64dc03a136",
       "version_major": 2,
       "version_minor": 0
      },
      "text/plain": [
       "VBox()"
      ]
     },
     "metadata": {},
     "output_type": "display_data"
    },
    {
     "data": {
      "application/vnd.jupyter.widget-view+json": {
       "model_id": "",
       "version_major": 2,
       "version_minor": 0
      },
      "text/plain": [
       "FloatProgress(value=0.0, bar_style='info', description='Progress:', layout=Layout(height='25px', width='50%'),…"
      ]
     },
     "metadata": {},
     "output_type": "display_data"
    },
    {
     "name": "stdout",
     "output_type": "stream",
     "text": [
      "+--------------------+---------+---------+-------------+--------+\n",
      "|                caid| latitude|longitude|utc_timestamp|altitude|\n",
      "+--------------------+---------+---------+-------------+--------+\n",
      "|0c076b4217a5f8bee...|26.897369|75.772568|   1631088670|    null|\n",
      "|0c076b4217a5f8bee...|26.897369|75.772568|   1631089868|    null|\n",
      "|757d9b3c494ff6fa6...| 17.37527| 78.47443|   1631203951|    null|\n",
      "|757d9b3c494ff6fa6...| 17.37528| 78.47444|   1631203962|     0.0|\n",
      "|fd5a8877a234a3bfa...| 28.49767| 77.15836|   1630979266|    null|\n",
      "|fd5a8877a234a3bfa...| 28.49767| 77.15836|   1630979299|    null|\n",
      "|fd5a8877a234a3bfa...|28.497683|77.158348|   1630979309|    null|\n",
      "|fd5a8877a234a3bfa...|28.497705|77.158348|   1630979340|    null|\n",
      "|fd5a8877a234a3bfa...|  28.4977| 77.15836|   1630979395|    null|\n",
      "|fd5a8877a234a3bfa...| 28.49767| 77.15836|   1630979629|    null|\n",
      "|fd5a8877a234a3bfa...| 28.49178|  77.1588|   1631008465|    null|\n",
      "|fd5a8877a234a3bfa...| 28.49178|  77.1588|   1631008499|    null|\n",
      "|fd5a8877a234a3bfa...| 28.49177|  77.1588|   1631008501|    null|\n",
      "|fd5a8877a234a3bfa...| 28.49178|  77.1588|   1631008552|    null|\n",
      "|fd5a8877a234a3bfa...| 28.49177|  77.1588|   1631008569|    null|\n",
      "|fd5a8877a234a3bfa...| 28.49178|  77.1588|   1631008619|    null|\n",
      "|fd5a8877a234a3bfa...| 28.49178|  77.1588|   1631008978|    null|\n",
      "|fd5a8877a234a3bfa...| 28.49178|  77.1588|   1631009285|    null|\n",
      "|fd5a8877a234a3bfa...| 28.49177|  77.1588|   1631009330|    null|\n",
      "|fd5a8877a234a3bfa...| 28.49178|  77.1588|   1631009859|    null|\n",
      "+--------------------+---------+---------+-------------+--------+\n",
      "only showing top 20 rows"
     ]
    }
   ],
   "source": [
    "india = spark.read.parquet(fn)\n",
    "india.show()"
   ]
  },
  {
   "cell_type": "code",
   "execution_count": 8,
   "id": "966d5089-2e24-481f-bad0-931b0a18e8ee",
   "metadata": {
    "execution": {
     "iopub.execute_input": "2023-07-13T14:38:43.206768Z",
     "iopub.status.busy": "2023-07-13T14:38:43.206434Z",
     "iopub.status.idle": "2023-07-13T14:42:11.257609Z",
     "shell.execute_reply": "2023-07-13T14:42:11.256754Z",
     "shell.execute_reply.started": "2023-07-13T14:38:43.206732Z"
    },
    "tags": []
   },
   "outputs": [
    {
     "data": {
      "application/vnd.jupyter.widget-view+json": {
       "model_id": "c6bfa562ab7a4505b688f97debe7acc2",
       "version_major": 2,
       "version_minor": 0
      },
      "text/plain": [
       "VBox()"
      ]
     },
     "metadata": {},
     "output_type": "display_data"
    },
    {
     "data": {
      "application/vnd.jupyter.widget-view+json": {
       "model_id": "",
       "version_major": 2,
       "version_minor": 0
      },
      "text/plain": [
       "FloatProgress(value=0.0, bar_style='info', description='Progress:', layout=Layout(height='25px', width='50%'),…"
      ]
     },
     "metadata": {},
     "output_type": "display_data"
    },
    {
     "name": "stdout",
     "output_type": "stream",
     "text": [
      "+--------------------+---------+---------+-------------+--------+-------------------+\n",
      "|                caid| latitude|longitude|utc_timestamp|altitude|               date|\n",
      "+--------------------+---------+---------+-------------+--------+-------------------+\n",
      "|453f3255b987c9c96...| 22.28827| 73.25702|   1631449573|    null|2021-09-12 17:56:13|\n",
      "|453f3255b987c9c96...| 22.28827| 73.25702|   1631449606|    null|2021-09-12 17:56:46|\n",
      "|453f3255b987c9c96...|22.288288|73.237543|   1631461094|     0.0|2021-09-12 21:08:14|\n",
      "|453f3255b987c9c96...|22.288288|73.237543|   1631461279|     0.0|2021-09-12 21:11:19|\n",
      "|453f3255b987c9c96...|22.288288|73.237543|   1631461459|     0.0|2021-09-12 21:14:19|\n",
      "|40165ec6d23ec641b...| 22.95495| 73.33912|   1631434634|    null|2021-09-12 13:47:14|\n",
      "|40165ec6d23ec641b...| 22.95496| 73.33914|   1631434643|    null|2021-09-12 13:47:23|\n",
      "|40165ec6d23ec641b...| 22.95496| 73.33914|   1631436658|    null|2021-09-12 14:20:58|\n",
      "|40165ec6d23ec641b...|22.846846| 73.33935|   1631440625|    null|2021-09-12 15:27:05|\n",
      "|40165ec6d23ec641b...| 22.84683| 73.33936|   1631440670|    null|2021-09-12 15:27:50|\n",
      "|40165ec6d23ec641b...|22.954954|73.339128|   1631462003|     0.0|2021-09-12 21:23:23|\n",
      "|40165ec6d23ec641b...| 22.93694| 73.34894|   1631463661|    null|2021-09-12 21:51:01|\n",
      "|40165ec6d23ec641b...| 22.93693| 73.34893|   1631463712|    null|2021-09-12 21:51:52|\n",
      "|40165ec6d23ec641b...|22.954954|73.339128|   1631466893|     0.0|2021-09-12 22:44:53|\n",
      "|40165ec6d23ec641b...|22.954954|73.339128|   1631467787|     0.0|2021-09-12 22:59:47|\n",
      "|40165ec6d23ec641b...|22.954954|73.339128|   1631467968|     0.0|2021-09-12 23:02:48|\n",
      "|40165ec6d23ec641b...|22.954954|73.339128|   1631468148|     0.0|2021-09-12 23:05:48|\n",
      "|5a78cf71be7c5a942...|  23.0276|  72.5871|   1631435641|    null|2021-09-12 14:04:01|\n",
      "|5a78cf71be7c5a942...|  23.0276|  72.5871|   1631435644|    null|2021-09-12 14:04:04|\n",
      "|5a78cf71be7c5a942...|  23.0276|  72.5871|   1631435692|    null|2021-09-12 14:04:52|\n",
      "+--------------------+---------+---------+-------------+--------+-------------------+\n",
      "only showing top 20 rows"
     ]
    }
   ],
   "source": [
    "# filter on bounding box\n",
    "minx, maxx = 68.716667, 80.983333 # Longitude\n",
    "miny, maxy = 22.166667, 30.916667 # Latitude\n",
    "\n",
    "# filter on rajastan\n",
    "india = india.filter(F.col('longitude').between(minx, maxx) & F.col('latitude').between(miny, maxy))\n",
    "\n",
    "# filter on internet blackout dates\n",
    "india = india.withColumn(\"date\", F.from_utc_timestamp(F.col(\"utc_timestamp\").cast(TimestampType()), tz = \"IST\"))\n",
    "india = india.filter(F.to_date(F.col(\"date\")).isin([\"2021-09-05\", \"2021-09-12\", \"2021-09-19\", \"2021-09-26\"]))\n",
    "\n",
    "india.write.mode(\"overwrite\").parquet(\"s3://ipsos-dvd/fdd/data/rajasatan_sundays_sep_2021\")"
   ]
  },
  {
   "cell_type": "code",
   "execution_count": null,
   "id": "df0241f5-57cf-464c-a5b4-6785eaaed948",
   "metadata": {},
   "outputs": [],
   "source": []
  }
 ],
 "metadata": {
  "kernelspec": {
   "display_name": "PySpark",
   "language": "python",
   "name": "pysparkkernel"
  },
  "language_info": {
   "codemirror_mode": {
    "name": "python",
    "version": 3
   },
   "file_extension": ".py",
   "mimetype": "text/x-python",
   "name": "pyspark",
   "pygments_lexer": "python3"
  }
 },
 "nbformat": 4,
 "nbformat_minor": 5
}
