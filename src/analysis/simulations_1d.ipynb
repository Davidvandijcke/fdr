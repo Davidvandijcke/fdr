{
 "cells": [
  {
   "cell_type": "code",
   "execution_count": 1,
   "id": "5fa6b192-fdd1-4088-bb27-b2f8ac456a27",
   "metadata": {},
   "outputs": [],
   "source": [
    "from FDD import FDD\n",
    "from FDD.SURE import SURE\n",
    "import numpy as np\n",
    "import pandas as pd\n",
    "import torch \n",
    "from matplotlib import pyplot as plt\n",
    "import matplotlib as mpl\n",
    "import ray\n",
    "#import boto3\n",
    "import os\n",
    "import pickle\n",
    "from tabulate import tabulate\n",
    "\n",
    "\n",
    "def ft(x, jumps):\n",
    "    temp = x**2 + np.sin(10 * x)  # change 10 to any other value to adjust the frequency of oscillation\n",
    "    for (xj, jj) in jumps:\n",
    "        if x > xj:\n",
    "            temp += jj\n",
    "    return temp\n",
    "\n",
    "# Redefine the function to generate data with larger jumps, with last one going down\n",
    "def generate1D(jumps=[(0.2013934, 0.6), (0.4023231, 1), (0.590349, 1.5), (0.7893434, -2)], sigma=0.1, N=500, data=None):\n",
    "    if data is None:\n",
    "        data = np.random.rand(N)  # draw N 1D points from a uniform\n",
    "\n",
    "    # now sample the function values on the data points\n",
    "    grid_f = np.zeros(data.shape)\n",
    "    for i in range(data.shape[0]):\n",
    "        grid_f[i] = ft(data[i], jumps)\n",
    "\n",
    "    # Normalize function values to [0, 1]\n",
    "    grid_f = (grid_f - np.min(grid_f)) / np.max(grid_f)  # - np.min(grid_f))\n",
    "\n",
    "    # now add noise\n",
    "    grid_sample = grid_f + np.random.normal(loc=0, scale=sigma, size=data.shape)  # add random Gaussian noise\n",
    "    \n",
    "    # now cast this data into a standard data format\n",
    "    X = data.copy()\n",
    "    Y = grid_sample.copy()\n",
    "    u = grid_f.copy()\n",
    "\n",
    "    return (X, Y, u)\n",
    "\n",
    "def getOriginalImage(model, jumplocs = [0.2013934, 0.4023231, 0.590349, 0.7893434]):\n",
    "    data = model.grid_x * np.max(model.X_raw, axis = 0) + np.min(model.X_raw, axis = 0) # draw 1000 2D points from a uniform\n",
    "    data = data.squeeze()\n",
    "    # original boundary\n",
    "    \n",
    "    temp_bdy = np.zeros_like(data)\n",
    "    for jump in jumplocs:\n",
    "        temp_bdy += ((data+0.5*model.resolution) < jump) * ((np.append(data[1:], 0) + 1.5*model.resolution) > jump)\n",
    "\n",
    "    x, y, u = generate1D(N = data.size, data=data)\n",
    "\n",
    "\n",
    "    return u, temp_bdy\n",
    "\n"
   ]
  },
  {
   "cell_type": "code",
   "execution_count": 2,
   "id": "def77169-0cb3-42e3-b3e1-b9bb75b23ab0",
   "metadata": {},
   "outputs": [],
   "source": [
    "#----------------\n",
    "# parameters\n",
    "#----------------\n",
    "sigma=0.05\n",
    "S = 50\n",
    "N = 3000\n",
    "lmbda = 100\n",
    "nu = 0.002\n",
    "main_dir = \"s3://projects-fdd/\" #\"/home/dvdijcke/\"\n",
    "data_out = os.path.join(main_dir, \"data\", \"out\")\n",
    "figs_dir = os.path.join(main_dir, \"results\", \"figs\")\n",
    "tabs_dir = os.path.join(main_dir, \"results\", \"tabs\")\n",
    "\n",
    "df = pd.read_csv(os.path.join(data_out, \"simulations\", \"2022-08-02\", \"simulations_1d_sigma_0.05.csv\"))\n"
   ]
  },
  {
   "cell_type": "code",
   "execution_count": 3,
   "id": "3ebe1e81-850e-44d8-8fa3-99ddd867860f",
   "metadata": {},
   "outputs": [
    {
     "data": {
      "text/html": [
       "<div>\n",
       "<style scoped>\n",
       "    .dataframe tbody tr th:only-of-type {\n",
       "        vertical-align: middle;\n",
       "    }\n",
       "\n",
       "    .dataframe tbody tr th {\n",
       "        vertical-align: top;\n",
       "    }\n",
       "\n",
       "    .dataframe thead th {\n",
       "        text-align: right;\n",
       "    }\n",
       "</style>\n",
       "<table border=\"1\" class=\"dataframe\">\n",
       "  <thead>\n",
       "    <tr style=\"text-align: right;\">\n",
       "      <th></th>\n",
       "      <th>X_0</th>\n",
       "      <th>Y_jumpfrom</th>\n",
       "      <th>Y_jumpto</th>\n",
       "      <th>Y_jumpsize</th>\n",
       "      <th>N</th>\n",
       "      <th>S</th>\n",
       "      <th>s</th>\n",
       "      <th>sigma</th>\n",
       "      <th>lambda</th>\n",
       "      <th>nu</th>\n",
       "      <th>jump_neg</th>\n",
       "      <th>jump_pos</th>\n",
       "      <th>mse</th>\n",
       "    </tr>\n",
       "  </thead>\n",
       "  <tbody>\n",
       "    <tr>\n",
       "      <th>0</th>\n",
       "      <td>0.038094</td>\n",
       "      <td>0.079442</td>\n",
       "      <td>0.123155</td>\n",
       "      <td>0.043713</td>\n",
       "      <td>500</td>\n",
       "      <td>32.0</td>\n",
       "      <td>0</td>\n",
       "      <td>0.05</td>\n",
       "      <td>98.671191</td>\n",
       "      <td>0.000138</td>\n",
       "      <td>0.0</td>\n",
       "      <td>0.235294</td>\n",
       "      <td>0.115176</td>\n",
       "    </tr>\n",
       "    <tr>\n",
       "      <th>1</th>\n",
       "      <td>0.078600</td>\n",
       "      <td>0.123155</td>\n",
       "      <td>0.200395</td>\n",
       "      <td>0.077240</td>\n",
       "      <td>500</td>\n",
       "      <td>32.0</td>\n",
       "      <td>0</td>\n",
       "      <td>0.05</td>\n",
       "      <td>98.671191</td>\n",
       "      <td>0.000138</td>\n",
       "      <td>0.0</td>\n",
       "      <td>0.235294</td>\n",
       "      <td>0.115176</td>\n",
       "    </tr>\n",
       "    <tr>\n",
       "      <th>2</th>\n",
       "      <td>0.122759</td>\n",
       "      <td>0.200395</td>\n",
       "      <td>0.241324</td>\n",
       "      <td>0.040929</td>\n",
       "      <td>500</td>\n",
       "      <td>32.0</td>\n",
       "      <td>0</td>\n",
       "      <td>0.05</td>\n",
       "      <td>98.671191</td>\n",
       "      <td>0.000138</td>\n",
       "      <td>0.0</td>\n",
       "      <td>0.235294</td>\n",
       "      <td>0.115176</td>\n",
       "    </tr>\n",
       "    <tr>\n",
       "      <th>3</th>\n",
       "      <td>0.198198</td>\n",
       "      <td>0.248264</td>\n",
       "      <td>0.274683</td>\n",
       "      <td>0.026419</td>\n",
       "      <td>500</td>\n",
       "      <td>32.0</td>\n",
       "      <td>0</td>\n",
       "      <td>0.05</td>\n",
       "      <td>98.671191</td>\n",
       "      <td>0.000138</td>\n",
       "      <td>0.0</td>\n",
       "      <td>0.235294</td>\n",
       "      <td>0.115176</td>\n",
       "    </tr>\n",
       "    <tr>\n",
       "      <th>4</th>\n",
       "      <td>0.400189</td>\n",
       "      <td>0.264948</td>\n",
       "      <td>0.195254</td>\n",
       "      <td>-0.069694</td>\n",
       "      <td>500</td>\n",
       "      <td>32.0</td>\n",
       "      <td>0</td>\n",
       "      <td>0.05</td>\n",
       "      <td>98.671191</td>\n",
       "      <td>0.000138</td>\n",
       "      <td>0.0</td>\n",
       "      <td>0.235294</td>\n",
       "      <td>0.115176</td>\n",
       "    </tr>\n",
       "  </tbody>\n",
       "</table>\n",
       "</div>"
      ],
      "text/plain": [
       "        X_0  Y_jumpfrom  Y_jumpto  Y_jumpsize    N     S  s  sigma     lambda  \\\n",
       "0  0.038094    0.079442  0.123155    0.043713  500  32.0  0   0.05  98.671191   \n",
       "1  0.078600    0.123155  0.200395    0.077240  500  32.0  0   0.05  98.671191   \n",
       "2  0.122759    0.200395  0.241324    0.040929  500  32.0  0   0.05  98.671191   \n",
       "3  0.198198    0.248264  0.274683    0.026419  500  32.0  0   0.05  98.671191   \n",
       "4  0.400189    0.264948  0.195254   -0.069694  500  32.0  0   0.05  98.671191   \n",
       "\n",
       "         nu  jump_neg  jump_pos       mse  \n",
       "0  0.000138       0.0  0.235294  0.115176  \n",
       "1  0.000138       0.0  0.235294  0.115176  \n",
       "2  0.000138       0.0  0.235294  0.115176  \n",
       "3  0.000138       0.0  0.235294  0.115176  \n",
       "4  0.000138       0.0  0.235294  0.115176  "
      ]
     },
     "execution_count": 3,
     "metadata": {},
     "output_type": "execute_result"
    }
   ],
   "source": [
    "df.head()"
   ]
  },
  {
   "cell_type": "code",
   "execution_count": 4,
   "id": "5c26949a-c1e9-4225-aba9-587f03723759",
   "metadata": {},
   "outputs": [],
   "source": [
    "N = df['N'].max()\n",
    "lmbda, nu, sigma, S = df[['lambda', 'nu', 'sigma', 'S']].loc[0]\n",
    "\n"
   ]
  },
  {
   "cell_type": "markdown",
   "id": "343a95cb-a1fb-4989-84ca-67e1b037963a",
   "metadata": {},
   "source": [
    "## Create plots"
   ]
  },
  {
   "cell_type": "code",
   "execution_count": 6,
   "id": "7e54df93-0841-495d-8d16-f89d56d74760",
   "metadata": {
    "tags": []
   },
   "outputs": [
    {
     "name": "stderr",
     "output_type": "stream",
     "text": [
      "/home/ubuntu/fdd/src/FDD/primaldual_multi_scaled_tune.py:35: UserWarning: To copy construct from a tensor, it is recommended to use sourceTensor.clone().detach() or sourceTensor.clone().detach().requires_grad_(True), rather than torch.tensor(sourceTensor).\n",
      "  tauu = torch.tensor(  1.0 / torch.sqrt(denom) * res, device=dev)  # torch.tensor(  1.0 / 6.0 * res, device=dev) # *res\n",
      "/home/ubuntu/fdd/src/FDD/primaldual_multi_scaled_tune.py:36: UserWarning: To copy construct from a tensor, it is recommended to use sourceTensor.clone().detach() or sourceTensor.clone().detach().requires_grad_(True), rather than torch.tensor(sourceTensor).\n",
      "  sigmap = torch.tensor( 1.0 / torch.sqrt(denom)  * res, device=dev) # torch.tensor( (1.0 / (3.0 + l))  * res, device=dev) # *res\n"
     ]
    }
   ],
   "source": [
    "np.random.seed(3340)\n",
    "# Generate data with reduced noise\n",
    "X, Y, U = generate1D(sigma=0.05, N=N)\n",
    "\n",
    "resolution = 1/int(0.05*Y.size)\n",
    "model = FDD(Y, X, level = S, lmbda = lmbda, nu = nu, iter = 10000, tol = 5e-5, resolution=resolution,\n",
    "    pick_nu = \"MS\", scaled = True, scripted = False, CI=False)\n",
    "\n",
    "results = model.run()\n",
    "u = results['u']\n",
    "J_grid = results['J']\n",
    "jumps = results['jumps']"
   ]
  },
  {
   "cell_type": "code",
   "execution_count": 9,
   "id": "6ee15ef2-0e91-4109-84ac-93f497b8d0a0",
   "metadata": {
    "tags": []
   },
   "outputs": [
    {
     "ename": "NameError",
     "evalue": "name 'u_lower' is not defined",
     "output_type": "error",
     "traceback": [
      "\u001b[0;31m---------------------------------------------------------------------------\u001b[0m",
      "\u001b[0;31mNameError\u001b[0m                                 Traceback (most recent call last)",
      "\u001b[1;32m/home/ubuntu/fdd/src/analysis/simulations_1d.ipynb Cell 7\u001b[0m line \u001b[0;36m3\n\u001b[1;32m     <a href='vscode-notebook-cell://ssh-remote%2Baws-ec2-umich/home/ubuntu/fdd/src/analysis/simulations_1d.ipynb#X11sdnNjb2RlLXJlbW90ZQ%3D%3D?line=35'>36</a>\u001b[0m ax\u001b[39m.\u001b[39mplot(X_sorted, U_sorted, label\u001b[39m=\u001b[39m\u001b[39m'\u001b[39m\u001b[39mTruth\u001b[39m\u001b[39m'\u001b[39m, color\u001b[39m=\u001b[39mc1, linewidth\u001b[39m=\u001b[39m\u001b[39m2.5\u001b[39m)\n\u001b[1;32m     <a href='vscode-notebook-cell://ssh-remote%2Baws-ec2-umich/home/ubuntu/fdd/src/analysis/simulations_1d.ipynb#X11sdnNjb2RlLXJlbW90ZQ%3D%3D?line=36'>37</a>\u001b[0m ax\u001b[39m.\u001b[39mplot(model\u001b[39m.\u001b[39mgrid_x, u, \u001b[39m'\u001b[39m\u001b[39m-o\u001b[39m\u001b[39m'\u001b[39m, markersize\u001b[39m=\u001b[39m\u001b[39m1\u001b[39m, c\u001b[39m=\u001b[39mc2, label \u001b[39m=\u001b[39m \u001b[39mr\u001b[39m\u001b[39m\"\u001b[39m\u001b[39m$\u001b[39m\u001b[39m\\\u001b[39m\u001b[39mhat\u001b[39m\u001b[39m{u}\u001b[39;00m\u001b[39m$\u001b[39m\u001b[39m\"\u001b[39m)\n\u001b[0;32m---> <a href='vscode-notebook-cell://ssh-remote%2Baws-ec2-umich/home/ubuntu/fdd/src/analysis/simulations_1d.ipynb#X11sdnNjb2RlLXJlbW90ZQ%3D%3D?line=37'>38</a>\u001b[0m ax\u001b[39m.\u001b[39mfill_between(model\u001b[39m.\u001b[39mgrid_x\u001b[39m.\u001b[39msqueeze(), u_lower, u_upper, color\u001b[39m=\u001b[39m\u001b[39m'\u001b[39m\u001b[39mb\u001b[39m\u001b[39m'\u001b[39m, alpha\u001b[39m=\u001b[39m\u001b[39m.1\u001b[39m, label \u001b[39m=\u001b[39m \u001b[39mr\u001b[39m\u001b[39m\"\u001b[39m\u001b[39m$\u001b[39m\u001b[39m\\\u001b[39m\u001b[39mhat\u001b[39m\u001b[39m{u}\u001b[39;00m\u001b[39m$ (95\u001b[39m\u001b[39m%\u001b[39m\u001b[39m CI)\u001b[39m\u001b[39m\"\u001b[39m)\n\u001b[1;32m     <a href='vscode-notebook-cell://ssh-remote%2Baws-ec2-umich/home/ubuntu/fdd/src/analysis/simulations_1d.ipynb#X11sdnNjb2RlLXJlbW90ZQ%3D%3D?line=38'>39</a>\u001b[0m ax\u001b[39m.\u001b[39mscatter(X_sorted, Y_sorted, s\u001b[39m=\u001b[39m\u001b[39m15\u001b[39m, label\u001b[39m=\u001b[39m\u001b[39m'\u001b[39m\u001b[39mPoint Cloud\u001b[39m\u001b[39m'\u001b[39m, color\u001b[39m=\u001b[39mc1,alpha\u001b[39m=\u001b[39m\u001b[39m0.3\u001b[39m, edgecolors\u001b[39m=\u001b[39m\u001b[39m'\u001b[39m\u001b[39mnone\u001b[39m\u001b[39m'\u001b[39m)\n\u001b[1;32m     <a href='vscode-notebook-cell://ssh-remote%2Baws-ec2-umich/home/ubuntu/fdd/src/analysis/simulations_1d.ipynb#X11sdnNjb2RlLXJlbW90ZQ%3D%3D?line=40'>41</a>\u001b[0m \u001b[39m# plot mean jump locations\u001b[39;00m\n",
      "\u001b[0;31mNameError\u001b[0m: name 'u_lower' is not defined"
     ]
    },
    {
     "data": {
      "image/png": "[encoded data removed]",
      "text/plain": [
       "<Figure size 1000x600 with 1 Axes>"
      ]
     },
     "metadata": {},
     "output_type": "display_data"
    },
    {
     "data": {
      "image/png": "[encoded data removed]",
      "text/plain": [
       "<Figure size 1000x600 with 1 Axes>"
      ]
     },
     "metadata": {},
     "output_type": "display_data"
    }
   ],
   "source": [
    "# plot figures\n",
    "cmap = mpl.colormaps.get_cmap('coolwarm')\n",
    "c1 = cmap(0.1)\n",
    "c2 = cmap(0.7)\n",
    "\n",
    "def prettify(ax):\n",
    "    ax.spines['top'].set_visible(False)\n",
    "    ax.spines['right'].set_visible(False)\n",
    "    ax.spines['left'].set_color(c1)\n",
    "    ax.spines['bottom'].set_color(c1)\n",
    "    ax.tick_params(axis='both', which='both', colors=c1, size=10)\n",
    "    ax.yaxis.label.set_color(c1)\n",
    "    ax.xaxis.label.set_color(c1)\n",
    "    leg = plt.legend(loc=\"lower right\")\n",
    "    leg.get_frame().set_alpha(0)\n",
    "\n",
    "# cb = \"#d7e3ff\"\n",
    "# cr = \"#f7ccc1\"\n",
    "\n",
    "# Sort data for plotting\n",
    "sort_inds = np.argsort(X)\n",
    "X_sorted = X[sort_inds]\n",
    "Y_sorted = Y[sort_inds]\n",
    "U_sorted = U[sort_inds]\n",
    "\n",
    "# Plot truth\n",
    "fig, ax = plt.subplots(figsize=(10,6))\n",
    "ax.plot(X_sorted, U_sorted, label='Truth', color=c2)\n",
    "ax.scatter(X_sorted, Y_sorted, s=15, label='Point Cloud', color=c1,alpha=0.3, edgecolors='none')\n",
    "prettify(ax)\n",
    "# plt.savefig(os.path.join(figs_dir, \"simulation_1d_truth.pdf\"), bbox_inches='tight')\n",
    "\n",
    "# plot estimates \n",
    "fig, ax = plt.subplots(figsize=(10,6))\n",
    "#plt.scatter(model.grid_x, u, s=1)\n",
    "ax.plot(X_sorted, U_sorted, label='Truth', color=c1, linewidth=2.5)\n",
    "ax.plot(model.grid_x, u, '-o', markersize=1, c=c2, label = r\"$\\hat{u}$\")\n",
    "ax.fill_between(model.grid_x.squeeze(), u_lower, u_upper, color='b', alpha=.1, label = r\"$\\hat{u}$ (95% CI)\")\n",
    "ax.scatter(X_sorted, Y_sorted, s=15, label='Point Cloud', color=c1,alpha=0.3, edgecolors='none')\n",
    "\n",
    "# plot mean jump locations\n",
    "jumplocs = (np.where(J_grid==1)[0] / J_grid.size).tolist()\n",
    "for xc in jumplocs:\n",
    "    if xc == jumplocs[0]:\n",
    "        plt.axvline(x=xc, color=c2, linestyle='--', alpha=0.5, label=\"Boundary\")\n",
    "    else:\n",
    "        plt.axvline(x=xc, color=c2, linestyle='--', alpha=0.5)\n",
    "        \n",
    "        \n",
    "# # plot lower bound jump locations\n",
    "# jumplocs = (np.where(J_lower==1)[0] / J_lower.size).tolist()\n",
    "# for xc in jumplocs:\n",
    "#     if xc == jumplocs[0]:\n",
    "#         plt.axvline(x=xc, color=c1, alpha=0.5, linestyle='--', label=\"Boundary (95% CI)\")\n",
    "#     else:\n",
    "#         plt.axvline(x=xc, color=c1, alpha=0.5, linestyle='--')\n",
    "\n",
    "    \n",
    "prettify(ax)\n",
    "plt.savefig(os.path.join(figs_dir, \"simulation_1d_estimate.pdf\"), bbox_inches='tight')\n"
   ]
  },
  {
   "cell_type": "code",
   "execution_count": 8,
   "id": "b8e38946-5935-4d05-80f8-6704fd0cbf15",
   "metadata": {},
   "outputs": [],
   "source": [
    "uu, J_true = getOriginalImage(model)\n",
    "\n",
    "pos = ((J_true ) * (J_grid+np.append(J_grid[1:],0 )))"
   ]
  },
  {
   "cell_type": "code",
   "execution_count": 72,
   "id": "f2c900c5-f000-4825-ac31-66897555e607",
   "metadata": {},
   "outputs": [
    {
     "data": {
      "text/plain": [
       "0.0"
      ]
     },
     "execution_count": 72,
     "metadata": {},
     "output_type": "execute_result"
    }
   ],
   "source": [
    "(J_true * (1-pos) * J_grid).sum()"
   ]
  },
  {
   "cell_type": "code",
   "execution_count": 10,
   "id": "7375ab2c-e6e2-4fa2-852f-d2283f36e104",
   "metadata": {},
   "outputs": [
    {
     "data": {
      "text/plain": [
       "<matplotlib.collections.PathCollection at 0x14ecf4e4a1c0>"
      ]
     },
     "execution_count": 10,
     "metadata": {},
     "output_type": "execute_result"
    },
    {
     "data": {
      "image/png": "[encoded data removed]",
      "text/plain": [
       "<Figure size 640x480 with 1 Axes>"
      ]
     },
     "metadata": {},
     "output_type": "display_data"
    }
   ],
   "source": [
    "plt.scatter(model.grid_x, u)"
   ]
  },
  {
   "cell_type": "code",
   "execution_count": 5,
   "id": "3fd13479-8a88-40ad-ac99-db4b0d3c9259",
   "metadata": {},
   "outputs": [
    {
     "name": "stdout",
     "output_type": "stream",
     "text": [
      "    def adjustBoundary(self, u, J_grid):\n",
      "        for k in range(1, len(J_grid) - 1):\n",
      "            if J_grid[k] == 1:\n",
      "                if (J_grid[k-1] == 0) and (J_grid[k+1]==1):\n",
      "                    u[k+1] = u[k].copy()\n",
      "                    J_grid[k] = 0\n",
      "        return (u, J_grid)\n",
      "\n"
     ]
    }
   ],
   "source": [
    "import inspect\n",
    "lines = inspect.getsource(FDD.adjustBoundary)\n",
    "print(lines)"
   ]
  },
  {
   "cell_type": "code",
   "execution_count": 44,
   "id": "e6442f15-52ad-4bad-9c0e-b5a4cea9d9bb",
   "metadata": {},
   "outputs": [
    {
     "data": {
      "text/plain": [
       "0.06029170772548198"
      ]
     },
     "execution_count": 44,
     "metadata": {},
     "output_type": "execute_result"
    }
   ],
   "source": [
    "u[97]"
   ]
  },
  {
   "cell_type": "code",
   "execution_count": 8,
   "id": "10c2aff4-4827-4f83-b599-be524b10b79b",
   "metadata": {},
   "outputs": [],
   "source": [
    "temp = pd.DataFrame(jumps)"
   ]
  },
  {
   "cell_type": "code",
   "execution_count": 9,
   "id": "da4618d1-8695-43f2-8ad2-af813ae4905c",
   "metadata": {},
   "outputs": [
    {
     "data": {
      "text/html": [
       "<div>\n",
       "<style scoped>\n",
       "    .dataframe tbody tr th:only-of-type {\n",
       "        vertical-align: middle;\n",
       "    }\n",
       "\n",
       "    .dataframe tbody tr th {\n",
       "        vertical-align: top;\n",
       "    }\n",
       "\n",
       "    .dataframe thead th {\n",
       "        text-align: right;\n",
       "    }\n",
       "</style>\n",
       "<table border=\"1\" class=\"dataframe\">\n",
       "  <thead>\n",
       "    <tr style=\"text-align: right;\">\n",
       "      <th></th>\n",
       "      <th>X_0</th>\n",
       "      <th>Y_jumpfrom</th>\n",
       "      <th>Y_jumpto</th>\n",
       "      <th>Y_jumpsize</th>\n",
       "    </tr>\n",
       "  </thead>\n",
       "  <tbody>\n",
       "    <tr>\n",
       "      <th>0</th>\n",
       "      <td>0.200168</td>\n",
       "      <td>0.266644</td>\n",
       "      <td>0.282389</td>\n",
       "      <td>0.015746</td>\n",
       "    </tr>\n",
       "    <tr>\n",
       "      <th>1</th>\n",
       "      <td>0.404403</td>\n",
       "      <td>0.063677</td>\n",
       "      <td>0.206423</td>\n",
       "      <td>0.142746</td>\n",
       "    </tr>\n",
       "    <tr>\n",
       "      <th>2</th>\n",
       "      <td>0.599895</td>\n",
       "      <td>0.317986</td>\n",
       "      <td>0.706896</td>\n",
       "      <td>0.388910</td>\n",
       "    </tr>\n",
       "    <tr>\n",
       "      <th>3</th>\n",
       "      <td>0.791926</td>\n",
       "      <td>0.969803</td>\n",
       "      <td>0.608419</td>\n",
       "      <td>-0.361384</td>\n",
       "    </tr>\n",
       "  </tbody>\n",
       "</table>\n",
       "</div>"
      ],
      "text/plain": [
       "        X_0  Y_jumpfrom  Y_jumpto  Y_jumpsize\n",
       "0  0.200168    0.266644  0.282389    0.015746\n",
       "1  0.404403    0.063677  0.206423    0.142746\n",
       "2  0.599895    0.317986  0.706896    0.388910\n",
       "3  0.791926    0.969803  0.608419   -0.361384"
      ]
     },
     "execution_count": 9,
     "metadata": {},
     "output_type": "execute_result"
    }
   ],
   "source": [
    "temp\n"
   ]
  },
  {
   "cell_type": "code",
   "execution_count": 13,
   "id": "11c41eb3-d459-435d-9c98-7cdd50796326",
   "metadata": {},
   "outputs": [
    {
     "data": {
      "text/plain": [
       "array([ 0.12896662,  0.21367482,  0.31956007, -0.42163669])"
      ]
     },
     "execution_count": 13,
     "metadata": {},
     "output_type": "execute_result"
    }
   ],
   "source": [
    "jumpsizes"
   ]
  },
  {
   "cell_type": "code",
   "execution_count": 76,
   "id": "4b374dd8-dd89-4a14-b50f-e5efc000540a",
   "metadata": {},
   "outputs": [],
   "source": [
    "        k = np.array(np.where(J_grid == 1))\n",
    "        \n",
    "\n",
    "        # Store the average points\n",
    "        Y_jumpfrom = []\n",
    "        Y_jumpto = []\n",
    "        Y_jumpsize = []\n",
    "        Y_boundary = []\n",
    "        X_jumpfrom = []\n",
    "        X_jumpto = []\n"
   ]
  },
  {
   "cell_type": "code",
   "execution_count": 77,
   "id": "c03c5cf6-e96a-474a-8737-2259cc4d5460",
   "metadata": {},
   "outputs": [],
   "source": [
    "i = 0\n",
    "\n",
    "origin_points = []\n",
    "dest_points = []\n",
    "\n",
    "# Get the coordinates of the current boundary point\n",
    "point = k[:, i]\n",
    "\n",
    "# Initialize a list to store the neighboring hypervoxels\n",
    "#neighbors = list(self.explore(point, J_grid))\n",
    "neighbors = []  \n",
    "count = 0\n",
    "for d in range(J_grid.ndim):\n",
    "    neighbor = point.copy()\n",
    "    if neighbor[d] < J_grid.shape[d] - 1:\n",
    "        neighbor[d] += 1\n",
    "        neighbors.append(neighbor)\n",
    "        count += 1\n",
    "if count == 0:\n",
    "    neighbors.append(point.copy())\n",
    "                    "
   ]
  },
  {
   "cell_type": "code",
   "execution_count": 78,
   "id": "d366777e-eb9d-4617-81cb-2c6da500d2ff",
   "metadata": {},
   "outputs": [
    {
     "data": {
      "text/plain": [
       "[array([50])]"
      ]
     },
     "execution_count": 78,
     "metadata": {},
     "output_type": "execute_result"
    }
   ],
   "source": [
    "neighbors"
   ]
  },
  {
   "cell_type": "code",
   "execution_count": 81,
   "id": "255e9b2d-2fef-439b-b61a-876ae1aa5e70",
   "metadata": {},
   "outputs": [],
   "source": [
    "# origin_points\n",
    "origin_points = model.grid_x_og[tuple(point)]\n",
    "if len(origin_points) == 0:\n",
    "    origin_points = self.grid_x[tuple(point)] + model.resolution / 2\n",
    "Yjumpfrom = float(u[tuple(point)])\n",
    "\n",
    "\n",
    "# jumpfrom point\n",
    "origin_points = np.stack(origin_points).squeeze()\n",
    "if (origin_points.ndim > 1) | ((origin_points.ndim == 1) and (origin_points.shape[0] > 1)): # if there are multiple points in the hypervoxel, take the mean\n",
    "    jumpfrom = np.mean(origin_points, axis = 0)\n",
    "else:\n",
    "    jumpfrom = origin_points"
   ]
  },
  {
   "cell_type": "code",
   "execution_count": 85,
   "id": "723e6d21-a826-4629-b64b-fecb5722d096",
   "metadata": {
    "tags": []
   },
   "outputs": [],
   "source": [
    "# jumpto point\n",
    "pointslist = [model.grid_x_og[tuple(neighbors[j])] if model.grid_x_og[tuple(neighbors[j])] != []  # if grid cell is empty, assign centerpoint\n",
    "                else [model.grid_x[tuple(neighbors[j])] + model.resolution / 2] for j in range(len(neighbors))]\n",
    "\n",
    "# get point with largest jump size\n",
    "Yjumptos = [u[tuple(neighbors[j])] for j in range(len(neighbors))]\n",
    "Yjumpsizes = [abs(Yjumptos[j] - Yjumpfrom) for j in range(len(neighbors))]\n",
    "idx = np.argmax(Yjumpsizes)\n",
    "Yjumpto = Yjumptos[idx]\n",
    "dest_points = model.grid_x_og[tuple(neighbors[idx])]\n",
    "if len(dest_points) == 0:\n",
    "    dest_points = model.grid_x[tuple(neighbors[idx])] + model.resolution / 2\n",
    "dest_points = np.stack(dest_points).squeeze()\n",
    "\n",
    "if (dest_points.ndim > 1) or ((dest_points.ndim == 1) and (dest_points.shape[0] > 1)): # if there are multiple points in the hypervoxel, take the mean\n",
    "    jumpto = np.mean(dest_points, axis = 0)\n",
    "else:\n",
    "    jumpto = dest_points"
   ]
  },
  {
   "cell_type": "code",
   "execution_count": 95,
   "id": "3352eaf1-174e-4d15-9535-3b0ef220fb56",
   "metadata": {},
   "outputs": [
    {
     "data": {
      "text/plain": [
       "(250,)"
      ]
     },
     "execution_count": 95,
     "metadata": {},
     "output_type": "execute_result"
    }
   ],
   "source": [
    "u.shape"
   ]
  },
  {
   "cell_type": "code",
   "execution_count": null,
   "id": "ba91e84c-2925-4025-9160-6b5770c4a8d1",
   "metadata": {},
   "outputs": [],
   "source": [
    "        k = np.array(np.where(J_grid == 1))\n",
    "        \n",
    "\n",
    "        # Store the average points\n",
    "        Y_jumpfrom = []\n",
    "        Y_jumpto = []\n",
    "        Y_jumpsize = []\n",
    "        Y_boundary = []\n",
    "        X_jumpfrom = []\n",
    "        X_jumpto = []\n",
    "\n",
    "\n",
    "        # Iterate over the boundary points\n",
    "        for i in range(k.shape[1]):\n",
    "\n",
    "            origin_points = []\n",
    "            dest_points = []\n",
    "\n",
    "            # Get the coordinates of the current boundary point\n",
    "            point = k[:, i]\n",
    "\n",
    "            # Initialize a list to store the neighboring hypervoxels\n",
    "            #neighbors = list(self.explore(point, J_grid))\n",
    "            neighbors = []  \n",
    "            count = 0\n",
    "            for d in range(J_grid.ndim):\n",
    "                neighbor = point.copy()\n",
    "                if neighbor[d] < J_grid.shape[d] - 1:\n",
    "                    neighbor[d] += 1\n",
    "                    neighbors.append(neighbor)\n",
    "                    count += 1\n",
    "            if count == 0:\n",
    "                neighbors.append(point.copy())\n",
    "                    \n",
    "\n",
    "            # Check if there are any valid neighbors\n",
    "            if neighbors:\n",
    "\n",
    "                # origin_points\n",
    "                origin_points = self.grid_x_og[tuple(point)]\n",
    "                if len(origin_points) == 0:\n",
    "                    origin_points = self.grid_x[tuple(point)] + self.resolution / 2\n",
    "                Yjumpfrom = float(u[tuple(point)])\n",
    "\n",
    "\n",
    "                # jumpfrom point\n",
    "                origin_points = np.stack(origin_points).squeeze()\n",
    "                if (origin_points.ndim > 1) | ((origin_points.ndim == 1) and (origin_points.shape[0] > 1)): # if there are multiple points in the hypervoxel, take the mean\n",
    "                    jumpfrom = np.mean(origin_points, axis = 0)\n",
    "                else:\n",
    "                    jumpfrom = origin_points\n",
    "\n",
    "\n",
    "                # jumpto point\n",
    "                pointslist = [self.grid_x_og[tuple(neighbors[j])] if self.grid_x_og[tuple(neighbors[j])] != []  # if grid cell is empty, assign centerpoint\n",
    "                                else [self.grid_x[tuple(neighbors[j])] + self.resolution / 2] for j in range(len(neighbors))]\n",
    "\n",
    "                if average:\n",
    "                    counts = [len(pointslist[j]) for j in range(len(neighbors))]\n",
    "                    total = sum(counts) # TODO: jump sizes on diagonal boundary sections are off\n",
    "                    Yjumpto = np.sum([(u[tuple(neighbors[j])] * counts[j]) / total for j in range(len(neighbors))]) # proper unweighted average of the y values\n",
    "                    dest_points = np.stack([item for sublist in pointslist for item in sublist]).squeeze()\n",
    "                    if dest_points.ndim > 1: # if there are multiple points in the hypervoxel, take the mean\n",
    "                        jumpto = np.mean(dest_points, axis = 0)\n",
    "                    else:\n",
    "                        jumpto = dest_points\n",
    "                else:\n",
    "                    # get point with largest jump size\n",
    "                    Yjumptos = [u[tuple(neighbors[j])] for j in range(len(neighbors))]\n",
    "                    Yjumpsizes = [abs(Yjumptos[j] - Yjumpfrom) for j in range(len(neighbors))]\n",
    "                    idx = np.argmax(Yjumpsizes)\n",
    "                    Yjumpto = Yjumptos[idx]\n",
    "                    dest_points = self.grid_x_og[tuple(neighbors[idx])]\n",
    "                    if len(dest_points) == 0:\n",
    "                        dest_points = self.grid_x[tuple(neighbors[idx])] + self.resolution / 2\n",
    "                    dest_points = np.stack(dest_points).squeeze()\n",
    "                    \n",
    "                    if (dest_points.ndim > 1) or ((dest_points.ndim == 1) and (dest_points.shape[0] > 1)): # if there are multiple points in the hypervoxel, take the mean\n",
    "                        jumpto = np.mean(dest_points, axis = 0)\n",
    "                    else:\n",
    "                        jumpto = dest_points\n",
    "                    \n",
    "                    # dists = [[np.linalg.norm(jumpfrom - point) for point in pointslist[j]] for j in range(len(neighbors))]\n",
    "                    # idx = np.argmin([np.argmin(sublist) for sublist in dists])\n",
    "                    # closest = tuple(neighbors[idx])\n",
    "                    # Yjumpto = u[closest]\n",
    "\n",
    "                    # dest_points = self.grid_x_og[closest]\n",
    "                    # if len(dest_points) == 0:\n",
    "                    #     dest_points = self.grid_x[closest] + self.resolution / 2\n",
    "                    # dest_points = np.stack(dest_points).squeeze()\n",
    "\n",
    "                    # if dest_points.ndim > 1: # if there are multiple points in the hypervoxel, take the mean\n",
    "                    #     jumpto = np.mean(dest_points, axis = 0)\n",
    "                    # else:\n",
    "                    #     jumpto = dest_points\n",
    "                        \n",
    "\n",
    "                # append to lists\n",
    "                Y_boundary.append((jumpfrom + jumpto) / 2)\n",
    "                Y_jumpfrom.append(Yjumpfrom)\n",
    "                Y_jumpto.append(Yjumpto)\n",
    "                Y_jumpsize.append(Yjumpto - Yjumpfrom)\n",
    "                X_jumpfrom.append(jumpfrom)\n",
    "                X_jumpto.append(jumpto)\n",
    "\n",
    "        if Y_boundary:\n",
    "            Y_boundary = np.stack(Y_boundary)\n",
    "            Y_jumpfrom = np.stack(Y_jumpfrom)\n",
    "            Y_jumpto = np.stack(Y_jumpto)\n",
    "            Y_jumpsize = np.stack(Y_jumpsize)\n",
    "            \n",
    "            if Y_boundary.ndim == 1:\n",
    "                Y_boundary = np.expand_dims(Y_boundary, -1)\n",
    "        \n",
    "\n",
    "            # create named array to return\n",
    "            rays = [Y_boundary[:,d] for d in range(Y_boundary.shape[1])] + [Y_jumpfrom, Y_jumpto, Y_jumpsize]\n",
    "            names = [\"X_\" + str(d) for d in range(Y_boundary.shape[1])] + [\"Y_jumpfrom\", \"Y_jumpto\", \"Y_jumpsize\"]\n",
    "            jumps = pd.DataFrame(np.core.records.fromarrays(rays, names=names))\n",
    "        else:\n",
    "            jumps = None\n",
    "\n",
    "        return jumps"
   ]
  },
  {
   "cell_type": "markdown",
   "id": "cf16e133-db94-4c76-9f24-faa568eea302",
   "metadata": {},
   "source": [
    "## Create table"
   ]
  },
  {
   "cell_type": "code",
   "execution_count": 91,
   "id": "feb679b7-2dc7-45cf-ad0d-f1fc26d8a0be",
   "metadata": {},
   "outputs": [],
   "source": [
    "def format_value(value):\n",
    "    if isinstance(value, int):\n",
    "        return str(value)\n",
    "    return \"{:.4f}\".format(value)\n",
    "\n",
    "\n",
    "def create_latex_subtables(df, sigma=0.05):\n",
    "    df_sigma = df.copy()\n",
    "\n",
    "    # Get the unique alpha values, sorted\n",
    "    # alphas = sorted(df_sigma['alpha'].unique())\n",
    "\n",
    "    # Initialize the final LaTeX table string\n",
    "    latex_tables = \"\\\\begin{subtable}{\\\\textwidth}\\n\\\\centering\\n\"\n",
    "\n",
    "\n",
    "\n",
    "    # Get the subset of the dataframe with the current alpha value\n",
    "    df_alpha = df_sigma.sort_values('N')\n",
    "\n",
    "    # Remove the 'alpha', 'S', 'lambda', 'nu', 'sigma', 'Y_jumpfrom', and 'Y_jumpto' columns\n",
    "    df_alpha = df_alpha.drop(['S', 'lambda', 'nu', 'sigma', 'Y_jumpfrom', 'Y_jumpto'], axis=1)\n",
    "\n",
    "    # reorder columns\n",
    "    cols = ['N', 'mse', 'mse_est', 'bias', 'jump_neg', 'jump_pos']\n",
    "    df_alpha = df_alpha[cols]\n",
    "\n",
    "    df_alpha.rename(columns={'mse' : 'MSE',\n",
    "                            'jump_neg' : 'FNR',\n",
    "                            'jump_pos' : 'FPR'}, \n",
    "                    inplace=True)\n",
    "\n",
    "    df_alpha['N'] = df_alpha['N'].astype(int)\n",
    "    # format value on df_alpha\n",
    "    df_alpha = df_alpha.applymap(format_value)\n",
    "\n",
    "\n",
    "    # Generate the LaTeX table\n",
    "    latex_table = tabulate(df_alpha, tablefmt=\"latex_booktabs\", headers=\"keys\", showindex=False)\n",
    "\n",
    "    # Get the lambda and nu values\n",
    "    lambda_val = df_sigma['lambda'].values[0]\n",
    "    nu_val = df_sigma['nu'].values[0]\n",
    "\n",
    "    # Add the sub-table to the final LaTeX tables string\n",
    "    nrow = df_alpha.shape[1]\n",
    "    latex_tables += \"%s \\\\\\\\ SURE: $\\\\lambda$ = %.4f, $\\\\nu$ = %.4f  \\\\\\\\ \\n\\n\" % (latex_table, lambda_val, nu_val)\n",
    "\n",
    "\n",
    "    # replace the names that require maths (tabulate processes them as text)\n",
    "    # latex_tables = latex_tables.replace(f\"alpha\", f\"$ \\\\alpha $\")\n",
    "    # latex_tables = latex_tables.replace(\"Y\\\\_jumpsize\", \"$ \\\\hat{\\\\alpha} $\")\n",
    "    latex_tables = latex_tables.replace(\"mse\\\\_est\", \"MSE $\\\\tau_{\\\\mathrm{FD}}$\")\n",
    "    latex_tables = latex_tables.replace(\"bias\", \"Bias $\\\\tau_{\\\\mathrm{FD}}$\")\n",
    "\n",
    "\n",
    "\n",
    "    latex_tables += \"\\\\end{subtable}\"\n",
    "    \n",
    "    \n",
    "    return latex_tables"
   ]
  },
  {
   "cell_type": "code",
   "execution_count": 17,
   "id": "2fadee54-d577-49aa-8549-b2a17c1b5cfa",
   "metadata": {},
   "outputs": [],
   "source": [
    "jumplist = np.array([(0.2013934, 0.6), (0.4023231, 1), (0.590349, 1.5), (0.7893434, -2)])\n",
    "\n",
    "\n",
    "X,Y,U = generate1D(jumps=[],sigma=0.05, N=N)\n",
    "data = np.random.rand(N)  # draw N 1D points from a uniform\n",
    "\n",
    "# now sample the function values on the data points\n",
    "grid_f = np.zeros(data.shape)\n",
    "for i in range(data.shape[0]):\n",
    "    grid_f[i] = ft(data[i], jumplist)\n",
    "\n",
    "jumpsizes = ((jumplist[:,1] - grid_f.min()) / grid_f.max())\n",
    "jumplocs = jumplist[:,0]"
   ]
  },
  {
   "cell_type": "code",
   "execution_count": 18,
   "id": "e2f26846-221c-4067-a71b-ef888f4c60f5",
   "metadata": {},
   "outputs": [],
   "source": [
    "jumpdf = pd.DataFrame(np.stack([jumplocs , jumpsizes]).T, columns = [\"X_0\", \"alpha\"])"
   ]
  },
  {
   "cell_type": "code",
   "execution_count": 19,
   "id": "4f75c96f-5392-4551-b48a-2aed6f49b2a4",
   "metadata": {},
   "outputs": [],
   "source": [
    "jumpdf.sort_values(\"X_0\", inplace=True)\n",
    "df.sort_values(\"X_0\", inplace=True)\n",
    "\n",
    "dfout = pd.merge_asof(df, jumpdf, on=\"X_0\", direction=\"nearest\")"
   ]
  },
  {
   "cell_type": "code",
   "execution_count": 48,
   "id": "a7002c9d-d22a-4ce7-a32c-4367e0d48dd0",
   "metadata": {},
   "outputs": [],
   "source": [
    "# Group by 'alpha', 'N', and 'S' and calculate the mean 'Y_jumpsize'\n",
    "dfout['Y_jumpsize'] = dfout['Y_jumpsize'].abs()\n",
    "dfout['bias'] = (dfout['Y_jumpsize'] - dfout['alpha'].abs())\n",
    "dfout['mse_est'] = dfout['bias']**2 \n",
    "mean_jumpsize = dfout.groupby(['alpha', 'N', 'S', 's']).agg({'Y_jumpsize' : 'mean', \n",
    "                                            'mse' : 'mean', \n",
    "                                            'mse_est' : 'mean',\n",
    "                                            'bias' : 'mean',\n",
    "                                            'jump_neg' : 'mean',\n",
    "                                            'jump_pos' : 'mean',\n",
    "                                            'Y_jumpfrom' : 'mean',\n",
    "                                            'Y_jumpto' : 'mean',\n",
    "                                            'lambda' : 'mean', \n",
    "                                            'nu' : 'mean', \n",
    "                                            'sigma' : 'mean'}).reset_index()\n",
    "mean_jumpsize = mean_jumpsize.groupby(['N', 'S']).agg({'Y_jumpsize' : 'mean', \n",
    "                                            'mse' : 'mean', \n",
    "                                            'mse_est' : 'mean',\n",
    "                                            'bias' : 'mean',\n",
    "                                            'jump_neg' : 'mean',\n",
    "                                            'jump_pos' : 'mean', \n",
    "                                            'Y_jumpfrom' : 'mean',\n",
    "                                            'Y_jumpto' : 'mean',\n",
    "                                            'lambda' : 'mean',\n",
    "                                            'alpha' : 'mean',\n",
    "                                            'nu' : 'mean', \n",
    "                                            'sigma' : 'mean'}).reset_index()"
   ]
  },
  {
   "cell_type": "code",
   "execution_count": 92,
   "id": "c4a27fb7-7ab3-49b0-b644-cedcf1858ed1",
   "metadata": {},
   "outputs": [],
   "source": [
    "latex_table = create_latex_subtables(mean_jumpsize)\n",
    "with open(os.path.join(tabs_dir, 'simulations_1D_sigma_0.05.tex'), 'w') as f:\n",
    "    f.write(latex_table)\n"
   ]
  },
  {
   "cell_type": "code",
   "execution_count": 80,
   "id": "2f924435-7455-435a-b72e-5a9fc0b2349e",
   "metadata": {},
   "outputs": [
    {
     "data": {
      "text/html": [
       "<div>\n",
       "<style scoped>\n",
       "    .dataframe tbody tr th:only-of-type {\n",
       "        vertical-align: middle;\n",
       "    }\n",
       "\n",
       "    .dataframe tbody tr th {\n",
       "        vertical-align: top;\n",
       "    }\n",
       "\n",
       "    .dataframe thead th {\n",
       "        text-align: right;\n",
       "    }\n",
       "</style>\n",
       "<table border=\"1\" class=\"dataframe\">\n",
       "  <thead>\n",
       "    <tr style=\"text-align: right;\">\n",
       "      <th></th>\n",
       "      <th>N</th>\n",
       "      <th>S</th>\n",
       "      <th>Y_jumpsize</th>\n",
       "      <th>mse</th>\n",
       "      <th>mse_est</th>\n",
       "      <th>bias</th>\n",
       "      <th>jump_neg</th>\n",
       "      <th>jump_pos</th>\n",
       "      <th>Y_jumpfrom</th>\n",
       "      <th>Y_jumpto</th>\n",
       "      <th>lambda</th>\n",
       "      <th>alpha</th>\n",
       "      <th>nu</th>\n",
       "      <th>sigma</th>\n",
       "    </tr>\n",
       "  </thead>\n",
       "  <tbody>\n",
       "    <tr>\n",
       "      <th>0</th>\n",
       "      <td>500</td>\n",
       "      <td>32.0</td>\n",
       "      <td>0.173627</td>\n",
       "      <td>0.078857</td>\n",
       "      <td>0.035818</td>\n",
       "      <td>-0.083918</td>\n",
       "      <td>-0.04367</td>\n",
       "      <td>0.193250</td>\n",
       "      <td>0.262260</td>\n",
       "      <td>0.319744</td>\n",
       "      <td>98.671191</td>\n",
       "      <td>-0.012811</td>\n",
       "      <td>0.000138</td>\n",
       "      <td>0.05</td>\n",
       "    </tr>\n",
       "    <tr>\n",
       "      <th>1</th>\n",
       "      <td>1000</td>\n",
       "      <td>32.0</td>\n",
       "      <td>0.192108</td>\n",
       "      <td>0.046106</td>\n",
       "      <td>0.030443</td>\n",
       "      <td>-0.065885</td>\n",
       "      <td>0.00000</td>\n",
       "      <td>0.109855</td>\n",
       "      <td>0.324635</td>\n",
       "      <td>0.344922</td>\n",
       "      <td>98.671191</td>\n",
       "      <td>-0.008941</td>\n",
       "      <td>0.000138</td>\n",
       "      <td>0.05</td>\n",
       "    </tr>\n",
       "    <tr>\n",
       "      <th>2</th>\n",
       "      <td>5000</td>\n",
       "      <td>32.0</td>\n",
       "      <td>0.241582</td>\n",
       "      <td>0.001191</td>\n",
       "      <td>0.009931</td>\n",
       "      <td>-0.052920</td>\n",
       "      <td>0.00000</td>\n",
       "      <td>0.018035</td>\n",
       "      <td>0.442975</td>\n",
       "      <td>0.480098</td>\n",
       "      <td>98.671191</td>\n",
       "      <td>0.048581</td>\n",
       "      <td>0.000138</td>\n",
       "      <td>0.05</td>\n",
       "    </tr>\n",
       "  </tbody>\n",
       "</table>\n",
       "</div>"
      ],
      "text/plain": [
       "      N     S  Y_jumpsize       mse   mse_est      bias  jump_neg  jump_pos  \\\n",
       "0   500  32.0    0.173627  0.078857  0.035818 -0.083918  -0.04367  0.193250   \n",
       "1  1000  32.0    0.192108  0.046106  0.030443 -0.065885   0.00000  0.109855   \n",
       "2  5000  32.0    0.241582  0.001191  0.009931 -0.052920   0.00000  0.018035   \n",
       "\n",
       "   Y_jumpfrom  Y_jumpto     lambda     alpha        nu  sigma  \n",
       "0    0.262260  0.319744  98.671191 -0.012811  0.000138   0.05  \n",
       "1    0.324635  0.344922  98.671191 -0.008941  0.000138   0.05  \n",
       "2    0.442975  0.480098  98.671191  0.048581  0.000138   0.05  "
      ]
     },
     "execution_count": 80,
     "metadata": {},
     "output_type": "execute_result"
    }
   ],
   "source": [
    "mean_jumpsize"
   ]
  },
  {
   "cell_type": "code",
   "execution_count": 93,
   "id": "ae91b5ca-a3da-4603-9810-e8d124713807",
   "metadata": {},
   "outputs": [
    {
     "data": {
      "text/plain": [
       "'\\\\begin{subtable}{\\\\textwidth}\\n\\\\centering\\n\\\\begin{tabular}{rrrrrr}\\n\\\\toprule\\n    N &    MSE &   MSE $\\\\tau_{\\\\mathrm{FD}}$ &    Bias $\\\\tau_{\\\\mathrm{FD}}$ &     FNR &    FPR \\\\\\\\\\n\\\\midrule\\n  500 & 0.0789 &    0.0358 & -0.0839 & -0.0437 & 0.1933 \\\\\\\\\\n 1000 & 0.0461 &    0.0304 & -0.0659 &  0      & 0.1099 \\\\\\\\\\n 5000 & 0.0012 &    0.0099 & -0.0529 &  0      & 0.018  \\\\\\\\\\n\\\\bottomrule\\n\\\\end{tabular} \\\\\\\\ SURE: $\\\\lambda$ = 98.6712, $\\\\nu$ = 0.0001  \\\\\\\\ \\n\\n\\\\end{subtable}'"
      ]
     },
     "execution_count": 93,
     "metadata": {},
     "output_type": "execute_result"
    }
   ],
   "source": [
    "latex_table\n",
    "    "
   ]
  },
  {
   "cell_type": "code",
   "execution_count": 90,
   "id": "f93b60b2-ae8c-4d91-8970-a29e51c5691b",
   "metadata": {},
   "outputs": [
    {
     "data": {
      "text/html": [
       "<div>\n",
       "<style scoped>\n",
       "    .dataframe tbody tr th:only-of-type {\n",
       "        vertical-align: middle;\n",
       "    }\n",
       "\n",
       "    .dataframe tbody tr th {\n",
       "        vertical-align: top;\n",
       "    }\n",
       "\n",
       "    .dataframe thead th {\n",
       "        text-align: right;\n",
       "    }\n",
       "</style>\n",
       "<table border=\"1\" class=\"dataframe\">\n",
       "  <thead>\n",
       "    <tr style=\"text-align: right;\">\n",
       "      <th></th>\n",
       "      <th>N</th>\n",
       "      <th>S</th>\n",
       "      <th>Y_jumpsize</th>\n",
       "      <th>mse</th>\n",
       "      <th>mse_est</th>\n",
       "      <th>bias</th>\n",
       "      <th>jump_neg</th>\n",
       "      <th>jump_pos</th>\n",
       "      <th>Y_jumpfrom</th>\n",
       "      <th>Y_jumpto</th>\n",
       "      <th>lambda</th>\n",
       "      <th>alpha</th>\n",
       "      <th>nu</th>\n",
       "      <th>sigma</th>\n",
       "    </tr>\n",
       "  </thead>\n",
       "  <tbody>\n",
       "    <tr>\n",
       "      <th>0</th>\n",
       "      <td>500</td>\n",
       "      <td>32.0</td>\n",
       "      <td>0.173627</td>\n",
       "      <td>0.078857</td>\n",
       "      <td>0.035818</td>\n",
       "      <td>-0.083918</td>\n",
       "      <td>-0.04367</td>\n",
       "      <td>0.193250</td>\n",
       "      <td>0.262260</td>\n",
       "      <td>0.319744</td>\n",
       "      <td>98.671191</td>\n",
       "      <td>-0.012811</td>\n",
       "      <td>0.000138</td>\n",
       "      <td>0.05</td>\n",
       "    </tr>\n",
       "    <tr>\n",
       "      <th>1</th>\n",
       "      <td>1000</td>\n",
       "      <td>32.0</td>\n",
       "      <td>0.192108</td>\n",
       "      <td>0.046106</td>\n",
       "      <td>0.030443</td>\n",
       "      <td>-0.065885</td>\n",
       "      <td>0.00000</td>\n",
       "      <td>0.109855</td>\n",
       "      <td>0.324635</td>\n",
       "      <td>0.344922</td>\n",
       "      <td>98.671191</td>\n",
       "      <td>-0.008941</td>\n",
       "      <td>0.000138</td>\n",
       "      <td>0.05</td>\n",
       "    </tr>\n",
       "    <tr>\n",
       "      <th>2</th>\n",
       "      <td>5000</td>\n",
       "      <td>32.0</td>\n",
       "      <td>0.241582</td>\n",
       "      <td>0.001191</td>\n",
       "      <td>0.009931</td>\n",
       "      <td>-0.052920</td>\n",
       "      <td>0.00000</td>\n",
       "      <td>0.018035</td>\n",
       "      <td>0.442975</td>\n",
       "      <td>0.480098</td>\n",
       "      <td>98.671191</td>\n",
       "      <td>0.048581</td>\n",
       "      <td>0.000138</td>\n",
       "      <td>0.05</td>\n",
       "    </tr>\n",
       "  </tbody>\n",
       "</table>\n",
       "</div>"
      ],
      "text/plain": [
       "      N     S  Y_jumpsize       mse   mse_est      bias  jump_neg  jump_pos  \\\n",
       "0   500  32.0    0.173627  0.078857  0.035818 -0.083918  -0.04367  0.193250   \n",
       "1  1000  32.0    0.192108  0.046106  0.030443 -0.065885   0.00000  0.109855   \n",
       "2  5000  32.0    0.241582  0.001191  0.009931 -0.052920   0.00000  0.018035   \n",
       "\n",
       "   Y_jumpfrom  Y_jumpto     lambda     alpha        nu  sigma  \n",
       "0    0.262260  0.319744  98.671191 -0.012811  0.000138   0.05  \n",
       "1    0.324635  0.344922  98.671191 -0.008941  0.000138   0.05  \n",
       "2    0.442975  0.480098  98.671191  0.048581  0.000138   0.05  "
      ]
     },
     "execution_count": 90,
     "metadata": {},
     "output_type": "execute_result"
    }
   ],
   "source": [
    "df"
   ]
  },
  {
   "cell_type": "markdown",
   "id": "160c0740-c871-40ee-8321-aee9ec91d5c7",
   "metadata": {},
   "source": [
    "## Misc"
   ]
  },
  {
   "cell_type": "markdown",
   "id": "a5e9857d-8e15-4901-9ddd-306ed1c48559",
   "metadata": {},
   "source": [
    "\n",
    "\n",
    "cmap = mpl.colormaps.get_cmap('coolwarm')\n",
    "c1 = cmap(0.1)\n",
    "c2 = cmap(0.7)\n",
    "\n",
    "# Sort data for plotting\n",
    "sort_inds = np.argsort(X)\n",
    "X_sorted = X[sort_inds]\n",
    "Y_sorted = Y[sort_inds]\n",
    "U_sorted = U[sort_inds]\n",
    "\n",
    "fig, ax = plt.subplots(figsize=(10,6))\n",
    "#  * np.max(model.Y_raw) + np.min(model.Y_raw)\n",
    "plt.scatter(model.grid_x, u, s=25)\n",
    "#plt.plot(model.grid_x, u, '-o', markersize=1, c=c1)\n",
    "#ax.scatter(model.grid_x, model.grid_y * np.max(model.Y_raw) + np.min(model.Y_raw), s=25, label='Point Cloud', color=c1, edgecolors='none')\n",
    "#ax.scatter(X_sorted, Y_sorted, s=25, label='Point Cloud', color=\"red\",alpha=0.3, edgecolors='none')\n"
   ]
  },
  {
   "cell_type": "code",
   "execution_count": 15,
   "id": "aac5e385-0c53-49e1-9686-4b4ca97a0b4c",
   "metadata": {},
   "outputs": [
    {
     "data": {
      "text/html": [
       "<div>\n",
       "<style scoped>\n",
       "    .dataframe tbody tr th:only-of-type {\n",
       "        vertical-align: middle;\n",
       "    }\n",
       "\n",
       "    .dataframe tbody tr th {\n",
       "        vertical-align: top;\n",
       "    }\n",
       "\n",
       "    .dataframe thead th {\n",
       "        text-align: right;\n",
       "    }\n",
       "</style>\n",
       "<table border=\"1\" class=\"dataframe\">\n",
       "  <thead>\n",
       "    <tr style=\"text-align: right;\">\n",
       "      <th></th>\n",
       "      <th>X_0</th>\n",
       "      <th>Y_jumpfrom</th>\n",
       "      <th>Y_jumpto</th>\n",
       "      <th>Y_jumpsize</th>\n",
       "    </tr>\n",
       "  </thead>\n",
       "  <tbody>\n",
       "    <tr>\n",
       "      <th>0</th>\n",
       "      <td>0.200168</td>\n",
       "      <td>0.266644</td>\n",
       "      <td>0.282389</td>\n",
       "      <td>0.015746</td>\n",
       "    </tr>\n",
       "    <tr>\n",
       "      <th>1</th>\n",
       "      <td>0.395897</td>\n",
       "      <td>0.063677</td>\n",
       "      <td>0.078879</td>\n",
       "      <td>0.015202</td>\n",
       "    </tr>\n",
       "    <tr>\n",
       "      <th>2</th>\n",
       "      <td>0.400361</td>\n",
       "      <td>0.078879</td>\n",
       "      <td>0.178405</td>\n",
       "      <td>0.099526</td>\n",
       "    </tr>\n",
       "    <tr>\n",
       "      <th>3</th>\n",
       "      <td>0.404403</td>\n",
       "      <td>0.178405</td>\n",
       "      <td>0.206423</td>\n",
       "      <td>0.028019</td>\n",
       "    </tr>\n",
       "    <tr>\n",
       "      <th>4</th>\n",
       "      <td>0.583836</td>\n",
       "      <td>0.317986</td>\n",
       "      <td>0.345697</td>\n",
       "      <td>0.027711</td>\n",
       "    </tr>\n",
       "    <tr>\n",
       "      <th>5</th>\n",
       "      <td>0.588027</td>\n",
       "      <td>0.345697</td>\n",
       "      <td>0.567565</td>\n",
       "      <td>0.221868</td>\n",
       "    </tr>\n",
       "    <tr>\n",
       "      <th>6</th>\n",
       "      <td>0.592397</td>\n",
       "      <td>0.567565</td>\n",
       "      <td>0.672088</td>\n",
       "      <td>0.104523</td>\n",
       "    </tr>\n",
       "    <tr>\n",
       "      <th>7</th>\n",
       "      <td>0.596168</td>\n",
       "      <td>0.672088</td>\n",
       "      <td>0.693189</td>\n",
       "      <td>0.021101</td>\n",
       "    </tr>\n",
       "    <tr>\n",
       "      <th>8</th>\n",
       "      <td>0.599895</td>\n",
       "      <td>0.693189</td>\n",
       "      <td>0.706896</td>\n",
       "      <td>0.013707</td>\n",
       "    </tr>\n",
       "    <tr>\n",
       "      <th>9</th>\n",
       "      <td>0.783904</td>\n",
       "      <td>0.969803</td>\n",
       "      <td>0.871820</td>\n",
       "      <td>-0.097983</td>\n",
       "    </tr>\n",
       "    <tr>\n",
       "      <th>10</th>\n",
       "      <td>0.787893</td>\n",
       "      <td>0.871820</td>\n",
       "      <td>0.645345</td>\n",
       "      <td>-0.226475</td>\n",
       "    </tr>\n",
       "    <tr>\n",
       "      <th>11</th>\n",
       "      <td>0.791926</td>\n",
       "      <td>0.645345</td>\n",
       "      <td>0.608419</td>\n",
       "      <td>-0.036926</td>\n",
       "    </tr>\n",
       "  </tbody>\n",
       "</table>\n",
       "</div>"
      ],
      "text/plain": [
       "         X_0  Y_jumpfrom  Y_jumpto  Y_jumpsize\n",
       "0   0.200168    0.266644  0.282389    0.015746\n",
       "1   0.395897    0.063677  0.078879    0.015202\n",
       "2   0.400361    0.078879  0.178405    0.099526\n",
       "3   0.404403    0.178405  0.206423    0.028019\n",
       "4   0.583836    0.317986  0.345697    0.027711\n",
       "5   0.588027    0.345697  0.567565    0.221868\n",
       "6   0.592397    0.567565  0.672088    0.104523\n",
       "7   0.596168    0.672088  0.693189    0.021101\n",
       "8   0.599895    0.693189  0.706896    0.013707\n",
       "9   0.783904    0.969803  0.871820   -0.097983\n",
       "10  0.787893    0.871820  0.645345   -0.226475\n",
       "11  0.791926    0.645345  0.608419   -0.036926"
      ]
     },
     "execution_count": 15,
     "metadata": {},
     "output_type": "execute_result"
    }
   ],
   "source": [
    "temp = pd.DataFrame(jumps)\n",
    "temp"
   ]
  },
  {
   "cell_type": "code",
   "execution_count": 16,
   "id": "4a0963cc-1801-43a2-887c-b49fd1391040",
   "metadata": {},
   "outputs": [
    {
     "data": {
      "text/plain": [
       "12"
      ]
     },
     "execution_count": 16,
     "metadata": {},
     "output_type": "execute_result"
    }
   ],
   "source": [
    "J_grid.sum()"
   ]
  },
  {
   "cell_type": "code",
   "execution_count": 96,
   "id": "3826b6af-b3e5-4bcd-abad-b1a54754dcd1",
   "metadata": {},
   "outputs": [
    {
     "data": {
      "text/plain": [
       "<matplotlib.collections.PathCollection at 0x152d6cbcf580>"
      ]
     },
     "execution_count": 96,
     "metadata": {},
     "output_type": "execute_result"
    },
    {
     "data": {
      "image/png": "[encoded data removed]",
      "text/plain": [
       "<Figure size 640x480 with 1 Axes>"
      ]
     },
     "metadata": {},
     "output_type": "display_data"
    }
   ],
   "source": [
    "plt.scatter(model.grid_x, u, s=1)\n"
   ]
  },
  {
   "cell_type": "code",
   "execution_count": 10,
   "id": "3db358f5-a181-4b88-9711-ed5aee07f33d",
   "metadata": {},
   "outputs": [
    {
     "data": {
      "text/plain": [
       "-0.06612661481378704"
      ]
     },
     "execution_count": 10,
     "metadata": {},
     "output_type": "execute_result"
    }
   ],
   "source": [
    " np.min(model.Y_raw)"
   ]
  },
  {
   "cell_type": "code",
   "execution_count": 25,
   "id": "889201e9-6085-4f19-9cc8-c8d7e27fdc0a",
   "metadata": {},
   "outputs": [],
   "source": [
    "from types import MethodType\n",
    "\n",
    "def adjustBoundary(self, u, J_grid):\n",
    "\n",
    "    return (u, J_grid)\n",
    "model.adjustBoundary = MethodType(adjustBoundary, model)"
   ]
  },
  {
   "cell_type": "code",
   "execution_count": 1,
   "id": "978a0ec3-0dd2-4bf6-b71e-36b099f5a9ce",
   "metadata": {},
   "outputs": [],
   "source": [
    "from FDD import FDD\n",
    "from FDD.SURE import SURE\n",
    "import numpy as np\n",
    "import pandas as pd\n",
    "import torch \n",
    "from matplotlib import pyplot as plt\n",
    "import ray\n",
    "#import boto3\n",
    "import os\n",
    "import pickle\n",
    "\n",
    "def ft(x, jumps):\n",
    "    temp = x**2 + np.sin(10 * x)  # change 10 to any other value to adjust the frequency of oscillation\n",
    "    for (xj, jj) in jumps:\n",
    "        if x > xj:\n",
    "            temp += jj\n",
    "    return temp\n",
    "\n",
    "# Redefine the function to generate data with larger jumps, with last one going down\n",
    "def generate1D(jumps=[(0.2013934, 0.6), (0.4023231, 1), (0.590349, 1.5), (0.7893434, -2)], sigma=0.1, N=500):\n",
    "    data = np.random.rand(N)  # draw N 1D points from a uniform\n",
    "\n",
    "    # now sample the function values on the data points\n",
    "    grid_f = np.zeros(data.shape)\n",
    "    for i in range(data.shape[0]):\n",
    "        grid_f[i] = ft(data[i], jumps)\n",
    "\n",
    "    # Normalize function values to [0, 1]\n",
    "    grid_f = (grid_f - np.min(grid_f)) / np.max(grid_f)  # - np.min(grid_f))\n",
    "    \n",
    "\n",
    "    # now add noise\n",
    "    grid_sample = grid_f + np.random.normal(loc=0, scale=sigma, size=data.shape)  # add random Gaussian noise\n",
    "    \n",
    "    # now cast this data into a standard data format\n",
    "    X = data.copy()\n",
    "    Y = grid_sample.copy()\n",
    "    u = grid_f.copy()\n",
    "    \n",
    "    return (X, Y, u)\n",
    "\n",
    "def getOriginalImage(model, jumplocs = [0.2013934, 0.4023231, 0.590349, 0.7893434]):\n",
    "    data = model.grid_x * np.max(model.X_raw, axis = 0) + np.min(model.X_raw, axis = 0) # draw 1000 2D points from a uniform\n",
    "    data = data.squeeze()\n",
    "    # original boundary\n",
    "    \n",
    "    temp_bdy = np.zeros_like(data)\n",
    "    for jump in jumplocs:\n",
    "        temp_bdy += ((data+model.resolution) < jump) * ((np.append(data[1:], 0) + model.resolution) > jump)\n",
    "\n",
    "    x, y, u = generate1D(N = data.size)\n",
    "\n",
    "\n",
    "    return u, temp_bdy\n",
    "\n",
    "\n",
    "\n",
    "\n",
    "\n",
    "#----------------\n",
    "# parameters\n",
    "#----------------\n",
    "N_list = [500]\n",
    "N_sure = max(N_list)\n",
    "S = 32\n",
    "num_samples = 1 #  400 # 400 # 200\n",
    "num_sims = 1 # 100 # 100 # 100\n",
    "R = 1 #  3 # 3 # 5\n",
    "num_gpus = 1\n",
    "num_cpus = 2\n",
    "fdate = \"2022-07-31\"\n",
    "\n",
    "@ray.remote(num_gpus=num_gpus, num_cpus=num_cpus)  # This decorator indicates that this function will be distributed, with each task using one GPU.\n",
    "def train(config, sigma, N, lmbda, nu, S):\n",
    "    # Here we randomly generate training data.\n",
    "    print(\"running one simulation\")\n",
    "    X, Y, U = generate1D(sigma=sigma, N=N)\n",
    "\n",
    "    #tune.utils.wait_for_gpu(target_util = 0.1, retry = 100000)\n",
    "\n",
    "\n",
    "    if torch.cuda.is_available(): # cuda gpus\n",
    "        device_id = torch.cuda.current_device() \n",
    "        device = torch.device(\"cuda:{}\".format(device_id)) \n",
    "        torch.cuda.set_device(device)\n",
    "\n",
    "    elif torch.backends.mps.is_available(): # mac gpus\n",
    "        device = torch.device(\"mps\")\n",
    "\n",
    "    resolution = 1/int(N*0.05)\n",
    "    model = FDD(Y, X, level = S, lmbda = lmbda, nu = nu, iter = 100000, tol = 5e-5, resolution=resolution,\n",
    "            pick_nu = \"MS\", scaled = True, scripted = False)\n",
    "\n",
    "    u, jumps, J_grid, nrj, eps, it = model.run()\n",
    "    \n",
    "    print(\"done running\")\n",
    "\n",
    "    u_original, J_original = getOriginalImage(model)\n",
    "\n",
    "\n",
    "    mse = np.mean((u - u_original)**2)\n",
    "    jump_pos = np.sum(J_grid * (1-J_original)) / np.sum(1-J_original) # false positive rate (significance)\n",
    "    jump_neg = np.sum((1-J_grid) * (J_original)) / np.sum(J_original) # false negative rate (1-power)\n",
    "\n",
    "    temp = pd.DataFrame(jumps)\n",
    "    temp[['N', 'S', 's', 'sigma', 'lambda', 'nu', 'jump_neg', \n",
    "          'jump_pos', 'mse']] = N, S, config, sigma, lmbda, nu, jump_neg, jump_pos, mse\n",
    "    return temp\n",
    "\n",
    "np.random.seed(50345)"
   ]
  },
  {
   "cell_type": "code",
   "execution_count": 2,
   "id": "beffaba5-5bd9-41e7-9f23-dfb777e912f1",
   "metadata": {},
   "outputs": [
    {
     "name": "stdout",
     "output_type": "stream",
     "text": [
      "Running SURE\n",
      "Running simulations\n"
     ]
    }
   ],
   "source": [
    "\n",
    "\n",
    "dflist = []\n",
    "\n",
    "for sigma in [0.05]: #, 0.05]:\n",
    "\n",
    "    print(\"Running SURE\")\n",
    "    # run SURE once for largest N\n",
    "    X, Y, U = generate1D(sigma=sigma, N=N_sure)\n",
    "    resolution = 1/int(np.sqrt(0.05*N_sure))\n",
    "    model = FDD(Y, X, level = S, lmbda = 20, nu = 0.01, iter = 10000, tol = 5e-5, pick_nu = \"MS\", \n",
    "                scaled = True, resolution=resolution, scripted=False)\n",
    "#     res = SURE(tuner=True, num_samples=num_samples, model=model, R=R, \n",
    "#             num_gpus=num_gpus, num_cpus=num_cpus)\n",
    "#     best = res.get_best_result(metric = \"score\", mode = \"min\")\n",
    "\n",
    "#     config = best.metrics['config']\n",
    "#     lmbda, nu = config['lmbda'], config['nu']\n",
    "\n",
    "\n",
    "    lmbda = 120\n",
    "    nu = 0.0016\n",
    "    # model.lmbda = lmbda\n",
    "    # model.nu = nu\n",
    "    # model.tol = 5e-6\n",
    "    # u, jumps, J_grid, nrj, eps, it = model.run()\n",
    "    # temp = pd.DataFrame(jumps)\n",
    "    # temp['Y_jumpsize'].abs().mean()\n",
    "\n",
    "    # plt.hist(temp['Y_jumpsize'])\n",
    "    # plt.show()\n",
    "\n",
    "    # test = temp[temp['Y_jumpsize'].abs() < 0.02]\n",
    "    # plt.scatter(test['X_0'], test['X_1'], color = \"blue\")\n",
    "    # test = temp[temp['Y_jumpsize'].abs() > 0.02]\n",
    "    # plt.scatter(test['X_0'], test['X_1'], color = \"red\")\n",
    "\n",
    "    print(\"Running simulations\")\n",
    "    sims = list(range(num_sims))  # 100 simulations\n",
    "#     results = ray.get([train.remote(config, sigma, N, lmbda, nu, S) for config in sims for N in N_list])\n",
    "\n",
    "#     temp = pd.concat(results)\n",
    "#     dflist.append(temp)\n",
    "#     temp.to_csv(\"/home/dvdijcke/data/out/simulations/\" + fdate + \"/simulations_1d_sigma_\" + str(sigma) + \".csv\", index=False)\n",
    "\n",
    "#     print(f\"Done with sigma {sigma}\")"
   ]
  },
  {
   "cell_type": "code",
   "execution_count": 2,
   "id": "b0f06025-0a1e-4b75-833e-0eb5a0903d90",
   "metadata": {},
   "outputs": [
    {
     "data": {
      "text/plain": [
       "[ObjectRef(82891771158d68c1ffffffffffffffffffffffff0100000001000000)]"
      ]
     },
     "execution_count": 2,
     "metadata": {},
     "output_type": "execute_result"
    }
   ],
   "source": [
    "[train.remote(config, sigma, N, lmbda, nu, S) for config in sims for N in N_list]"
   ]
  },
  {
   "cell_type": "code",
   "execution_count": 3,
   "id": "ee485010-4eb4-4661-84cb-2b57f15ee578",
   "metadata": {},
   "outputs": [
    {
     "name": "stderr",
     "output_type": "stream",
     "text": [
      "2023-07-31 12:21:07,897\tINFO worker.py:1625 -- Started a local Ray instance.\n"
     ]
    },
    {
     "name": "stdout",
     "output_type": "stream",
     "text": [
      "\u001b[2m\u001b[36m(train pid=2003765)\u001b[0m running one simulation\n"
     ]
    },
    {
     "name": "stderr",
     "output_type": "stream",
     "text": [
      "\u001b[2m\u001b[36m(train pid=2003765)\u001b[0m /home/dvdijcke/miniconda3/envs/fdd_new/lib/python3.9/site-packages/FDD/primaldual_multi_scaled_tune.py:35: UserWarning: To copy construct from a tensor, it is recommended to use sourceTensor.clone().detach() or sourceTensor.clone().detach().requires_grad_(True), rather than torch.tensor(sourceTensor).\n",
      "\u001b[2m\u001b[36m(train pid=2003765)\u001b[0m   tauu = torch.tensor(  1.0 / torch.sqrt(denom) * res, device=dev)  # torch.tensor(  1.0 / 6.0 * res, device=dev) # *res\n",
      "\u001b[2m\u001b[36m(train pid=2003765)\u001b[0m /home/dvdijcke/miniconda3/envs/fdd_new/lib/python3.9/site-packages/FDD/primaldual_multi_scaled_tune.py:36: UserWarning: To copy construct from a tensor, it is recommended to use sourceTensor.clone().detach() or sourceTensor.clone().detach().requires_grad_(True), rather than torch.tensor(sourceTensor).\n",
      "\u001b[2m\u001b[36m(train pid=2003765)\u001b[0m   sigmap = torch.tensor( 1.0 / torch.sqrt(denom)  * res, device=dev) # torch.tensor( (1.0 / (3.0 + l))  * res, device=dev) # *res\n"
     ]
    },
    {
     "name": "stdout",
     "output_type": "stream",
     "text": [
      "\u001b[2m\u001b[36m(train pid=2003765)\u001b[0m done running\n"
     ]
    }
   ],
   "source": [
    "results = ray.get([train.remote(config, sigma, N, lmbda, nu, S) for config in sims for N in N_list])\n"
   ]
  },
  {
   "cell_type": "code",
   "execution_count": 5,
   "id": "cf4063c2-d093-4ad2-b569-5de2cd345d81",
   "metadata": {},
   "outputs": [],
   "source": [
    "torch.cuda.empty_cache()"
   ]
  },
  {
   "cell_type": "code",
   "execution_count": 6,
   "id": "714ad191-1d71-4335-bbf0-389424476c76",
   "metadata": {},
   "outputs": [],
   "source": [
    "del(model)"
   ]
  },
  {
   "cell_type": "code",
   "execution_count": 4,
   "id": "83b09f2a-72fd-4095-b4a3-06696c0eab1d",
   "metadata": {},
   "outputs": [
    {
     "name": "stderr",
     "output_type": "stream",
     "text": [
      "/home/dvdijcke/miniconda3/envs/fdd_new/lib/python3.9/site-packages/FDD/primaldual_multi_scaled_tune.py:35: UserWarning: To copy construct from a tensor, it is recommended to use sourceTensor.clone().detach() or sourceTensor.clone().detach().requires_grad_(True), rather than torch.tensor(sourceTensor).\n",
      "  tauu = torch.tensor(  1.0 / torch.sqrt(denom) * res, device=dev)  # torch.tensor(  1.0 / 6.0 * res, device=dev) # *res\n",
      "/home/dvdijcke/miniconda3/envs/fdd_new/lib/python3.9/site-packages/FDD/primaldual_multi_scaled_tune.py:36: UserWarning: To copy construct from a tensor, it is recommended to use sourceTensor.clone().detach() or sourceTensor.clone().detach().requires_grad_(True), rather than torch.tensor(sourceTensor).\n",
      "  sigmap = torch.tensor( 1.0 / torch.sqrt(denom)  * res, device=dev) # torch.tensor( (1.0 / (3.0 + l))  * res, device=dev) # *res\n",
      "\n",
      "KeyboardInterrupt\n",
      "\n"
     ]
    }
   ],
   "source": [
    "config = 1\n",
    "N=500\n",
    "sigma=0.05\n",
    "nu = 0.001\n",
    "lmbda=100\n",
    "X, Y, U = generate1D(sigma=sigma, N=N)\n",
    "\n",
    "#tune.utils.wait_for_gpu(target_util = 0.1, retry = 100000)\n",
    "\n",
    "\n",
    "if torch.cuda.is_available(): # cuda gpus\n",
    "    device_id = torch.cuda.current_device() \n",
    "    device = torch.device(\"cuda:{}\".format(device_id)) \n",
    "    torch.cuda.set_device(device)\n",
    "\n",
    "elif torch.backends.mps.is_available(): # mac gpus\n",
    "    device = torch.device(\"mps\")\n",
    "\n",
    "resolution = 1/int(np.sqrt(N*0.05))\n",
    "model = FDD(Y, X, level = S, lmbda = lmbda, nu = nu, iter = 100000, tol = 5e-5, resolution=resolution,\n",
    "        pick_nu = \"MS\", scaled = True, scripted = False)\n",
    "\n",
    "u, jumps, J_grid, nrj, eps, it = model.run()"
   ]
  },
  {
   "cell_type": "code",
   "execution_count": null,
   "id": "8d710a98-68d0-46e5-9ea8-b0905c474366",
   "metadata": {},
   "outputs": [],
   "source": []
  }
 ],
 "metadata": {
  "kernelspec": {
   "display_name": "fdd",
   "language": "python",
   "name": "python3"
  },
  "language_info": {
   "codemirror_mode": {
    "name": "ipython",
    "version": 3
   },
   "file_extension": ".py",
   "mimetype": "text/x-python",
   "name": "python",
   "nbconvert_exporter": "python",
   "pygments_lexer": "ipython3",
   "version": "3.10.12"
  }
 },
 "nbformat": 4,
 "nbformat_minor": 5
}
