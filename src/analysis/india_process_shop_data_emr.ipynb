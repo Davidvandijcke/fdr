{
 "cells": [
  {
   "cell_type": "code",
   "execution_count": 1,
   "metadata": {
    "execution": {
     "iopub.execute_input": "2024-01-17T21:37:46.953517Z",
     "iopub.status.busy": "2024-01-17T21:37:46.953249Z",
     "iopub.status.idle": "2024-01-17T21:39:06.356692Z",
     "shell.execute_reply": "2024-01-17T21:39:06.355904Z",
     "shell.execute_reply.started": "2024-01-17T21:37:46.953492Z"
    },
    "tags": []
   },
   "outputs": [
    {
     "data": {
      "application/vnd.jupyter.widget-view+json": {
       "model_id": "b43b4fb421914705a076ef6a3a6be18f",
       "version_major": 2,
       "version_minor": 0
      },
      "text/plain": [
       "VBox()"
      ]
     },
     "metadata": {},
     "output_type": "display_data"
    },
    {
     "name": "stdout",
     "output_type": "stream",
     "text": [
      "Starting Spark application\n"
     ]
    },
    {
     "data": {
      "text/html": [
       "<table>\n",
       "<tbody><tr><th>ID</th><th>YARN Application ID</th><th>Kind</th><th>State</th><th>Spark UI</th><th>Driver log</th><th>User</th><th>Current session?</th></tr><tr><td>0</td><td>application_1705527263949_0001</td><td>pyspark</td><td>idle</td><td><a target=\"_blank\" href=\"http://ip-172-31-43-122.ec2.internal:20888/proxy/application_1705527263949_0001/\" class=\"emr-proxy-link j-3NTJD3Q8LKPUL application_1705527263949_0001\" emr-resource=\"j-3NTJD3Q8LKPUL\n",
       "\" application-id=\"application_1705527263949_0001\">Link</a></td><td><a target=\"_blank\" href=\"http://ip-172-31-35-11.ec2.internal:8042/node/containerlogs/container_1705527263949_0001_01_000001/livy\">Link</a></td><td>None</td><td>✔</td></tr></tbody></table>"
      ],
      "text/plain": [
       "<IPython.core.display.HTML object>"
      ]
     },
     "metadata": {},
     "output_type": "display_data"
    },
    {
     "data": {
      "application/vnd.jupyter.widget-view+json": {
       "model_id": "",
       "version_major": 2,
       "version_minor": 0
      },
      "text/plain": [
       "FloatProgress(value=0.0, bar_style='info', description='Progress:', layout=Layout(height='25px', width='50%'),…"
      ]
     },
     "metadata": {},
     "output_type": "display_data"
    },
    {
     "name": "stdout",
     "output_type": "stream",
     "text": [
      "SparkSession available as 'spark'.\n"
     ]
    },
    {
     "data": {
      "application/vnd.jupyter.widget-view+json": {
       "model_id": "",
       "version_major": 2,
       "version_minor": 0
      },
      "text/plain": [
       "FloatProgress(value=0.0, bar_style='info', description='Progress:', layout=Layout(height='25px', width='50%'),…"
      ]
     },
     "metadata": {},
     "output_type": "display_data"
    }
   ],
   "source": [
    "\"\"\" Filter India data\n",
    "\n",
    "aws emr add-steps --cluster-id <Your EMR cluster id> --steps Type=spark,Name=TestJob,Args=[--deploy-mode,cluster,--master,yarn,--conf,spark.yarn.submit.waitAppCompletion=true,s3a://your-source-bucket/code/pythonjob.py,s3a://your-source-bucket/data/data.csv,s3a://your-destination-bucket/test-output/],ActionOnFailure=CONTINUE\n",
    "\"\"\"\n",
    "\n",
    "from collections import namedtuple\n",
    "import logging\n",
    "import sys\n",
    "\n",
    "import matplotlib.pyplot as plt\n",
    "\n",
    "from geopy.distance import great_circle\n",
    "import pandas as pd\n",
    "import geopandas as gpd\n",
    "import numpy as np\n",
    "\n",
    "from datetime import timedelta, date, datetime\n",
    "from statistics import *\n",
    "\n",
    "\n",
    "from pyspark import SparkContext\n",
    "from pyspark.sql import SQLContext, SparkSession\n",
    "from pyspark.sql.window import Window\n",
    "from pyspark.sql.types import (\n",
    "    StructType,\n",
    "    LongType,\n",
    "    StructField,\n",
    "    IntegerType,\n",
    "    StringType,\n",
    "    DoubleType,\n",
    "    TimestampType,\n",
    "    ArrayType,\n",
    "    BinaryType\n",
    ")\n",
    "import pyspark.sql.functions as F\n",
    "from math import *\n",
    "import time\n",
    "import json\n",
    "import boto3\n",
    "\n",
    "from sedona.register import SedonaRegistrator  \n",
    "from sedona.utils import SedonaKryoRegistrator, KryoSerializer\n",
    "from pyspark.sql.functions import udf\n",
    "from sedona.utils.adapter import Adapter\n",
    "from sedona.core.formatMapper.shapefileParser import ShapefileReader\n",
    "from sedona.core.SpatialRDD import PointRDD, SpatialRDD, CircleRDD\n",
    "from sedona.sql.types import GeometryType\n",
    "from sedona.core.enums import GridType, IndexType\n",
    "from sedona.core.spatialOperator import JoinQueryRaw\n",
    "from sedona.core.spatialOperator import JoinQuery\n",
    "from sedona.core.enums import IndexType\n",
    "from sedona.core.formatMapper.disc_utils import load_spatial_rdd_from_disc, GeoType\n",
    "from sedona.core.formatMapper import WktReader, GeoJsonReader\n",
    "# from sedona.spark import *\n",
    "#sedona = SedonaContext.create(config)\n",
    "\n",
    "import os\n",
    "from shapely.wkt import loads as wkt_loads\n",
    "from shapely.geometry import Point, Polygon, shape\n",
    "from shapely.ops import transform\n",
    "import shapely\n",
    "\n",
    "import s3fs\n",
    "\n",
    "s3 = s3fs.S3FileSystem(anon=False)\n",
    "\n",
    "spark = (SparkSession.builder.appName(\"sedona\")\n",
    "                 .config(\"spark.serializer\", KryoSerializer.getName)          \n",
    "        .config(\"spark.kryo.registrator\",     \n",
    "                  SedonaKryoRegistrator.getName)    \n",
    "         .config(\"spark.driver.maxResultSize\", \"3g\")\n",
    "    .getOrCreate() \n",
    "        )\n",
    "\n",
    "# Register Sedona UDTs and UDFs\n",
    "SedonaRegistrator.registerAll(spark)\n",
    "spark.sparkContext.addPyFile(\"s3://ipsos-dvd/scripts/utils.py\")\n",
    "\n",
    "bsdir = \"s3://ipsos-dvd/fdd/\"\n",
    "data_dir = bsdir + \"data/\"\n",
    "fn = data_dir +  \"pings_IN_2021-09-01_2021-09-30/\"\n",
    "\n",
    "#-------\n",
    "# parameters\n",
    "crs = \"epsg:3857\"\n",
    "\n",
    "\n",
    "\n",
    "def spatialIntersection(pings, poly, build_on_spatial_partitioned_rdd = True, using_index = True, origin_crs=\"epsg:4326\", crs=\"epsg:4326\", transform=True): \n",
    "    \n",
    "    poly_rdd = Adapter.toSpatialRdd(poly, \"geometry\")\n",
    "\n",
    "    pings.createOrReplaceTempView(\"pings\")\n",
    "\n",
    "    # Read Hive table\n",
    "    if transform:\n",
    "        pings = spark.sql(\n",
    "              f\"\"\"SELECT ST_Transform(ST_FlipCoordinates(ST_Point(pings.longitude, \n",
    "              pings.latitude)), \"{origin_crs}\", \"{crs}\") AS point, \n",
    "              *\n",
    "              FROM pings;\n",
    "              \"\"\"\n",
    "        )\n",
    "    else:\n",
    "        pings = spark.sql(\n",
    "              f\"\"\"SELECT ST_FlipCoordinates(ST_Transform(ST_FlipCoordinates(ST_Point(pings.longitude, \n",
    "              pings.latitude)), \"{origin_crs}\", \"{crs}\")) AS point, \n",
    "              *\n",
    "              FROM pings;\n",
    "              \"\"\"\n",
    "        )\n",
    "    num_partitions = 1000\n",
    "    pings = pings.repartition(num_partitions)\n",
    "    pings = pings.cache()\n",
    "    \n",
    "    grid_type = GridType.QUADTREE # this shit works so much better for skewed data\n",
    "\n",
    "    points_rdd = Adapter.toSpatialRdd(pings, \"point\")\n",
    "    points_rdd.analyze()\n",
    "    points_rdd.spatialPartitioning(grid_type)\n",
    "    \n",
    "    poly_rdd.analyze()\n",
    "    poly_rdd.spatialPartitioning(points_rdd.getPartitioner())\n",
    "    \n",
    "     ## Set to TRUE only if run join query\n",
    "    points_rdd.buildIndex(IndexType.QUADTREE, build_on_spatial_partitioned_rdd)\n",
    "    \n",
    "    result = JoinQueryRaw.SpatialJoinQueryFlat(points_rdd, poly_rdd, using_index, True)\n",
    "\n",
    "    return Adapter.toDf(result, poly_rdd.fieldNames, points_rdd.fieldNames, spark)\n",
    "\n",
    "\n"
   ]
  },
  {
   "cell_type": "markdown",
   "metadata": {},
   "source": [
    "## Get SafeGraph data"
   ]
  },
  {
   "cell_type": "code",
   "execution_count": null,
   "metadata": {
    "tags": []
   },
   "outputs": [],
   "source": [
    "places = (sqlContext.read.format('com.databricks.spark.csv')\n",
    "         .options(header='true', inferschema='true')\n",
    "         .option('escape','\"') # this is necessary because the fields contain \",\" as well but dont have quotes around them\n",
    "         .load(\"s3://external-safegraph-places-global-geometry/places/\"))"
   ]
  },
  {
   "cell_type": "code",
   "execution_count": 3,
   "metadata": {
    "execution": {
     "iopub.execute_input": "2023-11-20T18:11:52.633927Z",
     "iopub.status.busy": "2023-11-20T18:11:52.633701Z",
     "iopub.status.idle": "2023-11-20T18:11:52.875442Z",
     "shell.execute_reply": "2023-11-20T18:11:52.874723Z",
     "shell.execute_reply.started": "2023-11-20T18:11:52.633896Z"
    },
    "tags": []
   },
   "outputs": [
    {
     "data": {
      "application/vnd.jupyter.widget-view+json": {
       "model_id": "47063d27d41a4cecba58862e4c3aed77",
       "version_major": 2,
       "version_minor": 0
      },
      "text/plain": [
       "VBox()"
      ]
     },
     "metadata": {},
     "output_type": "display_data"
    },
    {
     "data": {
      "application/vnd.jupyter.widget-view+json": {
       "model_id": "",
       "version_major": 2,
       "version_minor": 0
      },
      "text/plain": [
       "FloatProgress(value=0.0, bar_style='info', description='Progress:', layout=Layout(height='25px', width='50%'),…"
      ]
     },
     "metadata": {},
     "output_type": "display_data"
    }
   ],
   "source": [
    "places = places.filter(F.col(\"ISO_COUNTRY_CODE\") == \"IN\")"
   ]
  },
  {
   "cell_type": "code",
   "execution_count": 4,
   "metadata": {
    "execution": {
     "iopub.execute_input": "2023-11-20T18:11:52.876574Z",
     "iopub.status.busy": "2023-11-20T18:11:52.876369Z",
     "iopub.status.idle": "2023-11-20T18:13:42.466458Z",
     "shell.execute_reply": "2023-11-20T18:13:42.465864Z",
     "shell.execute_reply.started": "2023-11-20T18:11:52.876553Z"
    },
    "tags": []
   },
   "outputs": [
    {
     "data": {
      "application/vnd.jupyter.widget-view+json": {
       "model_id": "90ea774158054375a229878b8d34ef4a",
       "version_major": 2,
       "version_minor": 0
      },
      "text/plain": [
       "VBox()"
      ]
     },
     "metadata": {},
     "output_type": "display_data"
    },
    {
     "data": {
      "application/vnd.jupyter.widget-view+json": {
       "model_id": "",
       "version_major": 2,
       "version_minor": 0
      },
      "text/plain": [
       "FloatProgress(value=0.0, bar_style='info', description='Progress:', layout=Layout(height='25px', width='50%'),…"
      ]
     },
     "metadata": {},
     "output_type": "display_data"
    },
    {
     "name": "stdout",
     "output_type": "stream",
     "text": [
      "301085"
     ]
    }
   ],
   "source": [
    "places.count()"
   ]
  },
  {
   "cell_type": "code",
   "execution_count": 5,
   "metadata": {
    "execution": {
     "iopub.execute_input": "2023-11-20T18:13:50.612879Z",
     "iopub.status.busy": "2023-11-20T18:13:50.612552Z",
     "iopub.status.idle": "2023-11-20T18:16:14.302394Z",
     "shell.execute_reply": "2023-11-20T18:16:14.301760Z",
     "shell.execute_reply.started": "2023-11-20T18:13:50.612854Z"
    },
    "tags": []
   },
   "outputs": [
    {
     "data": {
      "application/vnd.jupyter.widget-view+json": {
       "model_id": "486e5084f5c8440298a1afad9a4c276e",
       "version_major": 2,
       "version_minor": 0
      },
      "text/plain": [
       "VBox()"
      ]
     },
     "metadata": {},
     "output_type": "display_data"
    },
    {
     "data": {
      "application/vnd.jupyter.widget-view+json": {
       "model_id": "",
       "version_major": 2,
       "version_minor": 0
      },
      "text/plain": [
       "FloatProgress(value=0.0, bar_style='info', description='Progress:', layout=Layout(height='25px', width='50%'),…"
      ]
     },
     "metadata": {},
     "output_type": "display_data"
    }
   ],
   "source": [
    "places.repartition(1).write.mode(\"overwrite\").option(\"delimiter\", \"\\t\").option(\"header\", True).csv(data_dir + \"safegraph_india\")"
   ]
  },
  {
   "cell_type": "markdown",
   "metadata": {},
   "source": [
    "## Filter pings"
   ]
  },
  {
   "cell_type": "code",
   "execution_count": 2,
   "metadata": {
    "execution": {
     "iopub.execute_input": "2023-11-20T20:53:00.979871Z",
     "iopub.status.busy": "2023-11-20T20:53:00.979650Z",
     "iopub.status.idle": "2023-11-20T20:53:06.241894Z",
     "shell.execute_reply": "2023-11-20T20:53:06.241326Z",
     "shell.execute_reply.started": "2023-11-20T20:53:00.979849Z"
    },
    "tags": []
   },
   "outputs": [
    {
     "data": {
      "application/vnd.jupyter.widget-view+json": {
       "model_id": "4b429e0592294cd38c7b611aa9a79f34",
       "version_major": 2,
       "version_minor": 0
      },
      "text/plain": [
       "VBox()"
      ]
     },
     "metadata": {},
     "output_type": "display_data"
    },
    {
     "data": {
      "application/vnd.jupyter.widget-view+json": {
       "model_id": "",
       "version_major": 2,
       "version_minor": 0
      },
      "text/plain": [
       "FloatProgress(value=0.0, bar_style='info', description='Progress:', layout=Layout(height='25px', width='50%'),…"
      ]
     },
     "metadata": {},
     "output_type": "display_data"
    }
   ],
   "source": [
    "india = spark.read.parquet(fn)\n"
   ]
  },
  {
   "cell_type": "code",
   "execution_count": 3,
   "metadata": {
    "execution": {
     "iopub.execute_input": "2023-11-20T20:53:06.243427Z",
     "iopub.status.busy": "2023-11-20T20:53:06.243193Z",
     "iopub.status.idle": "2023-11-20T20:54:53.777778Z",
     "shell.execute_reply": "2023-11-20T20:54:53.777135Z",
     "shell.execute_reply.started": "2023-11-20T20:53:06.243404Z"
    },
    "tags": []
   },
   "outputs": [
    {
     "data": {
      "application/vnd.jupyter.widget-view+json": {
       "model_id": "27ad060efe284953b2a3a071e12bb76b",
       "version_major": 2,
       "version_minor": 0
      },
      "text/plain": [
       "VBox()"
      ]
     },
     "metadata": {},
     "output_type": "display_data"
    },
    {
     "data": {
      "application/vnd.jupyter.widget-view+json": {
       "model_id": "",
       "version_major": 2,
       "version_minor": 0
      },
      "text/plain": [
       "FloatProgress(value=0.0, bar_style='info', description='Progress:', layout=Layout(height='25px', width='50%'),…"
      ]
     },
     "metadata": {},
     "output_type": "display_data"
    }
   ],
   "source": [
    "# filter on bounding box\n",
    "minx, maxx = 68.716667, 80.983333 # Longitude\n",
    "miny, maxy = 22.166667, 30.916667 # Latitude\n",
    "\n",
    "# filter on rajastan\n",
    "india = india.filter(F.col('longitude').between(minx, maxx) & F.col('latitude').between(miny, maxy))\n",
    "\n",
    "# filter on internet blackout dates\n",
    "india = india.withColumn(\"date\", F.from_utc_timestamp(F.col(\"utc_timestamp\").cast(TimestampType()), tz = \"IST\"))\n",
    "# india = india.filter(F.to_date(F.col(\"date\")).isin([\"2021-09-05\", \"2021-09-12\", \"2021-09-19\", \"2021-09-26\"]))\n",
    "india = india.filter(F.to_date(F.col(\"date\")).isin([\"2021-09-06\", \"2021-09-13\", \"2021-09-20\", \"2021-09-27\"]))\n",
    "\n",
    "\n",
    "india.write.mode(\"overwrite\").parquet(\"s3://ipsos-dvd/fdd/data/rajasatan_monday_sep_2021\")"
   ]
  },
  {
   "cell_type": "markdown",
   "metadata": {},
   "source": [
    "## Intersect with shops and grid for subsampling"
   ]
  },
  {
   "cell_type": "code",
   "execution_count": 2,
   "metadata": {
    "execution": {
     "iopub.execute_input": "2023-11-27T18:17:14.428294Z",
     "iopub.status.busy": "2023-11-27T18:17:14.427992Z",
     "iopub.status.idle": "2023-11-27T18:17:14.475895Z",
     "shell.execute_reply": "2023-11-27T18:17:14.475180Z",
     "shell.execute_reply.started": "2023-11-27T18:17:14.428268Z"
    },
    "tags": []
   },
   "outputs": [
    {
     "data": {
      "application/vnd.jupyter.widget-view+json": {
       "model_id": "d2cab8003e1d4314ac2f741b27a86fd2",
       "version_major": 2,
       "version_minor": 0
      },
      "text/plain": [
       "VBox()"
      ]
     },
     "metadata": {},
     "output_type": "display_data"
    },
    {
     "data": {
      "application/vnd.jupyter.widget-view+json": {
       "model_id": "",
       "version_major": 2,
       "version_minor": 0
      },
      "text/plain": [
       "FloatProgress(value=0.0, bar_style='info', description='Progress:', layout=Layout(height='25px', width='50%'),…"
      ]
     },
     "metadata": {},
     "output_type": "display_data"
    }
   ],
   "source": [
    "### First intersect shops"
   ]
  },
  {
   "cell_type": "code",
   "execution_count": 3,
   "metadata": {
    "execution": {
     "iopub.execute_input": "2023-11-27T18:17:14.580616Z",
     "iopub.status.busy": "2023-11-27T18:17:14.580314Z",
     "iopub.status.idle": "2023-11-27T18:17:17.861827Z",
     "shell.execute_reply": "2023-11-27T18:17:17.861177Z",
     "shell.execute_reply.started": "2023-11-27T18:17:14.580589Z"
    },
    "tags": []
   },
   "outputs": [
    {
     "data": {
      "application/vnd.jupyter.widget-view+json": {
       "model_id": "6eadd1b300a6430cb4d22107e0b53d16",
       "version_major": 2,
       "version_minor": 0
      },
      "text/plain": [
       "VBox()"
      ]
     },
     "metadata": {},
     "output_type": "display_data"
    },
    {
     "data": {
      "application/vnd.jupyter.widget-view+json": {
       "model_id": "",
       "version_major": 2,
       "version_minor": 0
      },
      "text/plain": [
       "FloatProgress(value=0.0, bar_style='info', description='Progress:', layout=Layout(height='25px', width='50%'),…"
      ]
     },
     "metadata": {},
     "output_type": "display_data"
    }
   ],
   "source": [
    "# read data\n",
    "pings = spark.read.parquet(\"s3://ipsos-dvd/fdd/data/rajasatan_sundays_sep_2021\") # .sample(0.05)\n",
    "\n"
   ]
  },
  {
   "cell_type": "code",
   "execution_count": 48,
   "metadata": {
    "execution": {
     "iopub.execute_input": "2023-11-27T18:48:18.150312Z",
     "iopub.status.busy": "2023-11-27T18:48:18.150007Z",
     "iopub.status.idle": "2023-11-27T18:48:37.458506Z",
     "shell.execute_reply": "2023-11-27T18:48:37.457884Z",
     "shell.execute_reply.started": "2023-11-27T18:48:18.150287Z"
    },
    "tags": []
   },
   "outputs": [
    {
     "data": {
      "application/vnd.jupyter.widget-view+json": {
       "model_id": "5fa12b72299547b792106fa8c1fbbf61",
       "version_major": 2,
       "version_minor": 0
      },
      "text/plain": [
       "VBox()"
      ]
     },
     "metadata": {},
     "output_type": "display_data"
    },
    {
     "data": {
      "application/vnd.jupyter.widget-view+json": {
       "model_id": "",
       "version_major": 2,
       "version_minor": 0
      },
      "text/plain": [
       "FloatProgress(value=0.0, bar_style='info', description='Progress:', layout=Layout(height='25px', width='50%'),…"
      ]
     },
     "metadata": {},
     "output_type": "display_data"
    },
    {
     "name": "stdout",
     "output_type": "stream",
     "text": [
      "<string>:10: SettingWithCopyWarning: \n",
      "A value is trying to be set on a copy of a slice from a DataFrame.\n",
      "Try using .loc[row_indexer,col_indexer] = value instead\n",
      "\n",
      "See the caveats in the documentation: https://pandas.pydata.org/pandas-docs/stable/user_guide/indexing.html#returning-a-view-versus-a-copy"
     ]
    }
   ],
   "source": [
    "# load safegraph data\n",
    "test = spark.read.option(\"delimiter\", \"\\t\").csv(data_dir + 'safegraph_india', header=True).toPandas()\n",
    "\n",
    "temp = test[test.POLYGON_WKT.notna()]\n",
    "def _wkt_loads(x):\n",
    "    try:\n",
    "        return wkt_loads(x)\n",
    "    except:\n",
    "        return None\n",
    "temp['POLYGON_WKT'] = temp['POLYGON_WKT'].apply(_wkt_loads)\n",
    "temp = temp[temp.POLYGON_WKT != None]\n",
    "poly_raw = gpd.GeoDataFrame(temp, geometry=temp['POLYGON_WKT'], crs=\"epsg:4326\")\n",
    "\n",
    "\n",
    "\n",
    "#temp.drop(columns=\"POLYGON_WKT\").to_file(os.path.join(data_out, 'safegraph_india.geojson'), driver='GeoJSON')"
   ]
  },
  {
   "cell_type": "code",
   "execution_count": 49,
   "metadata": {
    "execution": {
     "iopub.execute_input": "2023-11-27T18:48:37.459787Z",
     "iopub.status.busy": "2023-11-27T18:48:37.459543Z",
     "iopub.status.idle": "2023-11-27T18:48:42.719177Z",
     "shell.execute_reply": "2023-11-27T18:48:42.718549Z",
     "shell.execute_reply.started": "2023-11-27T18:48:37.459763Z"
    },
    "tags": []
   },
   "outputs": [
    {
     "data": {
      "application/vnd.jupyter.widget-view+json": {
       "model_id": "2ebbef9ec87f4fcf9f48b216dd8302e4",
       "version_major": 2,
       "version_minor": 0
      },
      "text/plain": [
       "VBox()"
      ]
     },
     "metadata": {},
     "output_type": "display_data"
    },
    {
     "data": {
      "application/vnd.jupyter.widget-view+json": {
       "model_id": "",
       "version_major": 2,
       "version_minor": 0
      },
      "text/plain": [
       "FloatProgress(value=0.0, bar_style='info', description='Progress:', layout=Layout(height='25px', width='50%'),…"
      ]
     },
     "metadata": {},
     "output_type": "display_data"
    }
   ],
   "source": [
    "temp = test[test.POLYGON_WKT.isna()]\n",
    "poly_raw_2 = gpd.GeoDataFrame(temp, geometry=gpd.points_from_xy(temp.LONGITUDE, temp.LATITUDE), crs=\"epsg:4326\")"
   ]
  },
  {
   "cell_type": "code",
   "execution_count": 50,
   "metadata": {
    "execution": {
     "iopub.execute_input": "2023-11-27T18:48:42.720794Z",
     "iopub.status.busy": "2023-11-27T18:48:42.720577Z",
     "iopub.status.idle": "2023-11-27T18:48:56.005446Z",
     "shell.execute_reply": "2023-11-27T18:48:56.004769Z",
     "shell.execute_reply.started": "2023-11-27T18:48:42.720773Z"
    },
    "tags": []
   },
   "outputs": [
    {
     "data": {
      "application/vnd.jupyter.widget-view+json": {
       "model_id": "24b1064aaa654e3e94e8743174d718aa",
       "version_major": 2,
       "version_minor": 0
      },
      "text/plain": [
       "VBox()"
      ]
     },
     "metadata": {},
     "output_type": "display_data"
    },
    {
     "data": {
      "application/vnd.jupyter.widget-view+json": {
       "model_id": "",
       "version_major": 2,
       "version_minor": 0
      },
      "text/plain": [
       "FloatProgress(value=0.0, bar_style='info', description='Progress:', layout=Layout(height='25px', width='50%'),…"
      ]
     },
     "metadata": {},
     "output_type": "display_data"
    }
   ],
   "source": [
    "crs = \"epsg:3857\"\n",
    "poly_raw_2 = poly_raw_2.to_crs(crs)\n",
    "poly_raw_2['geometry'] = poly_raw_2['geometry'].buffer(150)"
   ]
  },
  {
   "cell_type": "code",
   "execution_count": 51,
   "metadata": {
    "execution": {
     "iopub.execute_input": "2023-11-27T18:48:56.006932Z",
     "iopub.status.busy": "2023-11-27T18:48:56.006686Z",
     "iopub.status.idle": "2023-11-27T18:49:25.334620Z",
     "shell.execute_reply": "2023-11-27T18:49:25.333802Z",
     "shell.execute_reply.started": "2023-11-27T18:48:56.006908Z"
    },
    "tags": []
   },
   "outputs": [
    {
     "data": {
      "application/vnd.jupyter.widget-view+json": {
       "model_id": "908d638ad69547d692530bd96677e042",
       "version_major": 2,
       "version_minor": 0
      },
      "text/plain": [
       "VBox()"
      ]
     },
     "metadata": {},
     "output_type": "display_data"
    },
    {
     "data": {
      "application/vnd.jupyter.widget-view+json": {
       "model_id": "",
       "version_major": 2,
       "version_minor": 0
      },
      "text/plain": [
       "FloatProgress(value=0.0, bar_style='info', description='Progress:', layout=Layout(height='25px', width='50%'),…"
      ]
     },
     "metadata": {},
     "output_type": "display_data"
    }
   ],
   "source": [
    "crs = \"epsg:3857\"\n",
    "poly_raw = poly_raw.to_crs(crs)\n",
    "poly_raw['geometry'] = poly_raw['geometry'].buffer(100)\n",
    "poly_raw = gpd.GeoDataFrame( pd.concat([poly_raw, poly_raw_2], ignore_index=True) )"
   ]
  },
  {
   "cell_type": "code",
   "execution_count": 52,
   "metadata": {
    "execution": {
     "iopub.execute_input": "2023-11-27T18:49:25.336450Z",
     "iopub.status.busy": "2023-11-27T18:49:25.336104Z",
     "iopub.status.idle": "2023-11-27T18:49:27.589648Z",
     "shell.execute_reply": "2023-11-27T18:49:27.589061Z",
     "shell.execute_reply.started": "2023-11-27T18:49:25.336414Z"
    },
    "tags": []
   },
   "outputs": [
    {
     "data": {
      "application/vnd.jupyter.widget-view+json": {
       "model_id": "44cc04aec9c146218d4ea0035f57d702",
       "version_major": 2,
       "version_minor": 0
      },
      "text/plain": [
       "VBox()"
      ]
     },
     "metadata": {},
     "output_type": "display_data"
    },
    {
     "data": {
      "application/vnd.jupyter.widget-view+json": {
       "model_id": "",
       "version_major": 2,
       "version_minor": 0
      },
      "text/plain": [
       "FloatProgress(value=0.0, bar_style='info', description='Progress:', layout=Layout(height='25px', width='50%'),…"
      ]
     },
     "metadata": {},
     "output_type": "display_data"
    }
   ],
   "source": [
    "minx, maxx = 7649504.379451, 9015023.392302 # EPSG:3857 Longitude\n",
    "miny, maxy = 2531547.394169, 3621931.489373 # EPSG:3857 Latitude\n",
    "poly_raw = poly_raw.cx[minx:maxx, miny:maxy]"
   ]
  },
  {
   "cell_type": "code",
   "execution_count": 53,
   "metadata": {
    "execution": {
     "iopub.execute_input": "2023-11-27T18:49:27.590778Z",
     "iopub.status.busy": "2023-11-27T18:49:27.590557Z",
     "iopub.status.idle": "2023-11-27T18:49:28.341676Z",
     "shell.execute_reply": "2023-11-27T18:49:28.341052Z",
     "shell.execute_reply.started": "2023-11-27T18:49:27.590750Z"
    },
    "tags": []
   },
   "outputs": [
    {
     "data": {
      "application/vnd.jupyter.widget-view+json": {
       "model_id": "e756cadb5a094d61918261e495905209",
       "version_major": 2,
       "version_minor": 0
      },
      "text/plain": [
       "VBox()"
      ]
     },
     "metadata": {},
     "output_type": "display_data"
    },
    {
     "data": {
      "application/vnd.jupyter.widget-view+json": {
       "model_id": "",
       "version_major": 2,
       "version_minor": 0
      },
      "text/plain": [
       "FloatProgress(value=0.0, bar_style='info', description='Progress:', layout=Layout(height='25px', width='50%'),…"
      ]
     },
     "metadata": {},
     "output_type": "display_data"
    }
   ],
   "source": [
    "poly_raw = poly_raw[['PLACEKEY', 'geometry']]"
   ]
  },
  {
   "cell_type": "code",
   "execution_count": 54,
   "metadata": {
    "execution": {
     "iopub.execute_input": "2023-11-27T18:49:28.342746Z",
     "iopub.status.busy": "2023-11-27T18:49:28.342534Z",
     "iopub.status.idle": "2023-11-27T18:49:28.578314Z",
     "shell.execute_reply": "2023-11-27T18:49:28.577726Z",
     "shell.execute_reply.started": "2023-11-27T18:49:28.342725Z"
    },
    "tags": []
   },
   "outputs": [
    {
     "data": {
      "application/vnd.jupyter.widget-view+json": {
       "model_id": "56d1d0ab58fa4776b4aca5a075f8c23c",
       "version_major": 2,
       "version_minor": 0
      },
      "text/plain": [
       "VBox()"
      ]
     },
     "metadata": {},
     "output_type": "display_data"
    },
    {
     "data": {
      "application/vnd.jupyter.widget-view+json": {
       "model_id": "",
       "version_major": 2,
       "version_minor": 0
      },
      "text/plain": [
       "FloatProgress(value=0.0, bar_style='info', description='Progress:', layout=Layout(height='25px', width='50%'),…"
      ]
     },
     "metadata": {},
     "output_type": "display_data"
    }
   ],
   "source": [
    "poly_raw = poly_raw.rename(columns={\"PLACEKEY\": \"id\"})\n",
    "poly_raw['origin'] = \"sg\""
   ]
  },
  {
   "cell_type": "code",
   "execution_count": 12,
   "metadata": {
    "execution": {
     "iopub.execute_input": "2023-11-27T18:18:30.723223Z",
     "iopub.status.busy": "2023-11-27T18:18:30.723008Z",
     "iopub.status.idle": "2023-11-27T18:18:32.981217Z",
     "shell.execute_reply": "2023-11-27T18:18:32.980348Z",
     "shell.execute_reply.started": "2023-11-27T18:18:30.723202Z"
    },
    "tags": []
   },
   "outputs": [
    {
     "data": {
      "application/vnd.jupyter.widget-view+json": {
       "model_id": "9965c732fab6495a8954d2a663e6f667",
       "version_major": 2,
       "version_minor": 0
      },
      "text/plain": [
       "VBox()"
      ]
     },
     "metadata": {},
     "output_type": "display_data"
    },
    {
     "data": {
      "application/vnd.jupyter.widget-view+json": {
       "model_id": "",
       "version_major": 2,
       "version_minor": 0
      },
      "text/plain": [
       "FloatProgress(value=0.0, bar_style='info', description='Progress:', layout=Layout(height='25px', width='50%'),…"
      ]
     },
     "metadata": {},
     "output_type": "display_data"
    }
   ],
   "source": [
    "s3 = s3fs.S3FileSystem(anon=False)\n",
    "s3 = boto3.client('s3')\n",
    "s3.download_file('ipsos-dvd', \"fdd/data/osm_buildings_pbf.geojson\", \"osm_buildings_pbf.geojson\")"
   ]
  },
  {
   "cell_type": "code",
   "execution_count": 33,
   "metadata": {
    "execution": {
     "iopub.execute_input": "2023-11-27T18:33:45.444149Z",
     "iopub.status.busy": "2023-11-27T18:33:45.443845Z",
     "iopub.status.idle": "2023-11-27T18:35:59.060383Z",
     "shell.execute_reply": "2023-11-27T18:35:59.059753Z",
     "shell.execute_reply.started": "2023-11-27T18:33:45.444124Z"
    },
    "tags": []
   },
   "outputs": [
    {
     "data": {
      "application/vnd.jupyter.widget-view+json": {
       "model_id": "924560173e024261847ff725e23f0cd0",
       "version_major": 2,
       "version_minor": 0
      },
      "text/plain": [
       "VBox()"
      ]
     },
     "metadata": {},
     "output_type": "display_data"
    },
    {
     "data": {
      "application/vnd.jupyter.widget-view+json": {
       "model_id": "",
       "version_major": 2,
       "version_minor": 0
      },
      "text/plain": [
       "FloatProgress(value=0.0, bar_style='info', description='Progress:', layout=Layout(height='25px', width='50%'),…"
      ]
     },
     "metadata": {},
     "output_type": "display_data"
    }
   ],
   "source": [
    "poly_osm = gpd.read_file(\"osm_buildings_pbf.geojson\")\n",
    "poly_osm = poly_osm.to_crs(\"epsg:3857\")"
   ]
  },
  {
   "cell_type": "code",
   "execution_count": 34,
   "metadata": {
    "execution": {
     "iopub.execute_input": "2023-11-27T18:35:59.061637Z",
     "iopub.status.busy": "2023-11-27T18:35:59.061420Z",
     "iopub.status.idle": "2023-11-27T18:36:01.316018Z",
     "shell.execute_reply": "2023-11-27T18:36:01.315392Z",
     "shell.execute_reply.started": "2023-11-27T18:35:59.061615Z"
    },
    "tags": []
   },
   "outputs": [
    {
     "data": {
      "application/vnd.jupyter.widget-view+json": {
       "model_id": "08e00544588c41c2bab21cfb0240e6d3",
       "version_major": 2,
       "version_minor": 0
      },
      "text/plain": [
       "VBox()"
      ]
     },
     "metadata": {},
     "output_type": "display_data"
    },
    {
     "data": {
      "application/vnd.jupyter.widget-view+json": {
       "model_id": "",
       "version_major": 2,
       "version_minor": 0
      },
      "text/plain": [
       "FloatProgress(value=0.0, bar_style='info', description='Progress:', layout=Layout(height='25px', width='50%'),…"
      ]
     },
     "metadata": {},
     "output_type": "display_data"
    }
   ],
   "source": [
    "minx, maxx = 7649504.379451, 9015023.392302 # EPSG:3857 Longitude\n",
    "miny, maxy = 2531547.394169, 3621931.489373 # EPSG:3857 Latitude\n",
    "poly_osm = poly_osm.cx[minx:maxx, miny:maxy]"
   ]
  },
  {
   "cell_type": "code",
   "execution_count": 35,
   "metadata": {
    "execution": {
     "iopub.execute_input": "2023-11-27T18:36:01.317537Z",
     "iopub.status.busy": "2023-11-27T18:36:01.317319Z",
     "iopub.status.idle": "2023-11-27T18:36:03.578653Z",
     "shell.execute_reply": "2023-11-27T18:36:03.578074Z",
     "shell.execute_reply.started": "2023-11-27T18:36:01.317515Z"
    },
    "tags": []
   },
   "outputs": [
    {
     "data": {
      "application/vnd.jupyter.widget-view+json": {
       "model_id": "e964da582765456380aef78ee226325e",
       "version_major": 2,
       "version_minor": 0
      },
      "text/plain": [
       "VBox()"
      ]
     },
     "metadata": {},
     "output_type": "display_data"
    },
    {
     "data": {
      "application/vnd.jupyter.widget-view+json": {
       "model_id": "",
       "version_major": 2,
       "version_minor": 0
      },
      "text/plain": [
       "FloatProgress(value=0.0, bar_style='info', description='Progress:', layout=Layout(height='25px', width='50%'),…"
      ]
     },
     "metadata": {},
     "output_type": "display_data"
    }
   ],
   "source": [
    "poly_osm.loc[poly_osm.geometry.type == \"MultiPolygon\", 'geometry'] = poly_osm.loc[poly_osm.geometry.type == \"MultiPolygon\", 'geometry'].buffer(100)\n",
    "poly_osm.loc[poly_osm.geometry.type == \"Point\", 'geometry'] = poly_osm.loc[poly_osm.geometry.type == \"Point\", 'geometry'].buffer(150)"
   ]
  },
  {
   "cell_type": "code",
   "execution_count": 36,
   "metadata": {
    "execution": {
     "iopub.execute_input": "2023-11-27T18:36:03.579823Z",
     "iopub.status.busy": "2023-11-27T18:36:03.579579Z",
     "iopub.status.idle": "2023-11-27T18:36:03.622820Z",
     "shell.execute_reply": "2023-11-27T18:36:03.622247Z",
     "shell.execute_reply.started": "2023-11-27T18:36:03.579801Z"
    },
    "tags": []
   },
   "outputs": [
    {
     "data": {
      "application/vnd.jupyter.widget-view+json": {
       "model_id": "51307635047b4503b4828ab3fca758d7",
       "version_major": 2,
       "version_minor": 0
      },
      "text/plain": [
       "VBox()"
      ]
     },
     "metadata": {},
     "output_type": "display_data"
    },
    {
     "data": {
      "application/vnd.jupyter.widget-view+json": {
       "model_id": "",
       "version_major": 2,
       "version_minor": 0
      },
      "text/plain": [
       "FloatProgress(value=0.0, bar_style='info', description='Progress:', layout=Layout(height='25px', width='50%'),…"
      ]
     },
     "metadata": {},
     "output_type": "display_data"
    }
   ],
   "source": [
    "poly_osm['origin'] = \"osm\"\n",
    "poly_osm.rename(columns={'osm_id' : 'id'}, inplace=True)\n"
   ]
  },
  {
   "cell_type": "code",
   "execution_count": 47,
   "metadata": {
    "execution": {
     "iopub.execute_input": "2023-11-27T18:48:07.919643Z",
     "iopub.status.busy": "2023-11-27T18:48:07.919303Z",
     "iopub.status.idle": "2023-11-27T18:48:08.160856Z",
     "shell.execute_reply": "2023-11-27T18:48:08.160203Z",
     "shell.execute_reply.started": "2023-11-27T18:48:07.919591Z"
    }
   },
   "outputs": [
    {
     "data": {
      "application/vnd.jupyter.widget-view+json": {
       "model_id": "db688794ca054947bd55060450aa870d",
       "version_major": 2,
       "version_minor": 0
      },
      "text/plain": [
       "VBox()"
      ]
     },
     "metadata": {},
     "output_type": "display_data"
    },
    {
     "data": {
      "application/vnd.jupyter.widget-view+json": {
       "model_id": "",
       "version_major": 2,
       "version_minor": 0
      },
      "text/plain": [
       "FloatProgress(value=0.0, bar_style='info', description='Progress:', layout=Layout(height='25px', width='50%'),…"
      ]
     },
     "metadata": {},
     "output_type": "display_data"
    }
   ],
   "source": [
    "poly_osm.loc[poly_osm['id'].isnull(), 'id'] = poly_osm.loc[poly_osm['id'].isnull(), 'osm_way_id'] \n",
    "poly_osm = poly_osm[['geometry', 'id', 'origin']]"
   ]
  },
  {
   "cell_type": "code",
   "execution_count": 55,
   "metadata": {
    "execution": {
     "iopub.execute_input": "2023-11-27T18:49:28.580066Z",
     "iopub.status.busy": "2023-11-27T18:49:28.579848Z",
     "iopub.status.idle": "2023-11-27T18:49:28.815599Z",
     "shell.execute_reply": "2023-11-27T18:49:28.815002Z",
     "shell.execute_reply.started": "2023-11-27T18:49:28.580045Z"
    },
    "tags": []
   },
   "outputs": [
    {
     "data": {
      "application/vnd.jupyter.widget-view+json": {
       "model_id": "72354f257ab94027b226823a2421b99f",
       "version_major": 2,
       "version_minor": 0
      },
      "text/plain": [
       "VBox()"
      ]
     },
     "metadata": {},
     "output_type": "display_data"
    },
    {
     "data": {
      "application/vnd.jupyter.widget-view+json": {
       "model_id": "",
       "version_major": 2,
       "version_minor": 0
      },
      "text/plain": [
       "FloatProgress(value=0.0, bar_style='info', description='Progress:', layout=Layout(height='25px', width='50%'),…"
      ]
     },
     "metadata": {},
     "output_type": "display_data"
    }
   ],
   "source": [
    "poly_raw = gpd.GeoDataFrame(pd.concat([poly_raw, poly_osm], ignore_index=True))"
   ]
  },
  {
   "cell_type": "code",
   "execution_count": 56,
   "metadata": {
    "execution": {
     "iopub.execute_input": "2023-11-27T18:51:44.678129Z",
     "iopub.status.busy": "2023-11-27T18:51:44.677813Z",
     "iopub.status.idle": "2023-11-27T18:51:44.915883Z",
     "shell.execute_reply": "2023-11-27T18:51:44.915247Z",
     "shell.execute_reply.started": "2023-11-27T18:51:44.678102Z"
    }
   },
   "outputs": [
    {
     "data": {
      "application/vnd.jupyter.widget-view+json": {
       "model_id": "ab62af03d2584a89b83b3d32f7d9dc58",
       "version_major": 2,
       "version_minor": 0
      },
      "text/plain": [
       "VBox()"
      ]
     },
     "metadata": {},
     "output_type": "display_data"
    },
    {
     "data": {
      "application/vnd.jupyter.widget-view+json": {
       "model_id": "",
       "version_major": 2,
       "version_minor": 0
      },
      "text/plain": [
       "FloatProgress(value=0.0, bar_style='info', description='Progress:', layout=Layout(height='25px', width='50%'),…"
      ]
     },
     "metadata": {},
     "output_type": "display_data"
    },
    {
     "name": "stdout",
     "output_type": "stream",
     "text": [
      "                          id  ... origin\n",
      "0        zzy-222@897-yks-t7q  ...     sg\n",
      "1        zzy-222@87x-h8v-mc5  ...     sg\n",
      "2       zzy-43mh@dvt-smp-tvz  ...     sg\n",
      "3        zzy-222@894-bx4-nnq  ...     sg\n",
      "4        zzy-223@7rn-qwz-zfz  ...     sg\n",
      "...                      ...  ...    ...\n",
      "107743            1015192932  ...    osm\n",
      "107744            1016781298  ...    osm\n",
      "107745            1016831313  ...    osm\n",
      "107746            1016831314  ...    osm\n",
      "107747            1016834569  ...    osm\n",
      "\n",
      "[107748 rows x 3 columns]"
     ]
    }
   ],
   "source": [
    "poly_raw"
   ]
  },
  {
   "cell_type": "code",
   "execution_count": 58,
   "metadata": {
    "execution": {
     "iopub.execute_input": "2023-11-27T18:51:53.987493Z",
     "iopub.status.busy": "2023-11-27T18:51:53.987190Z",
     "iopub.status.idle": "2023-11-27T18:51:59.249133Z",
     "shell.execute_reply": "2023-11-27T18:51:59.248457Z",
     "shell.execute_reply.started": "2023-11-27T18:51:53.987468Z"
    },
    "tags": []
   },
   "outputs": [
    {
     "data": {
      "application/vnd.jupyter.widget-view+json": {
       "model_id": "8ca48274a3ab419eb001b9790db43f69",
       "version_major": 2,
       "version_minor": 0
      },
      "text/plain": [
       "VBox()"
      ]
     },
     "metadata": {},
     "output_type": "display_data"
    },
    {
     "data": {
      "application/vnd.jupyter.widget-view+json": {
       "model_id": "",
       "version_major": 2,
       "version_minor": 0
      },
      "text/plain": [
       "FloatProgress(value=0.0, bar_style='info', description='Progress:', layout=Layout(height='25px', width='50%'),…"
      ]
     },
     "metadata": {},
     "output_type": "display_data"
    }
   ],
   "source": [
    "poly = spark.createDataFrame(poly_raw).cache()"
   ]
  },
  {
   "cell_type": "code",
   "execution_count": 59,
   "metadata": {
    "execution": {
     "iopub.execute_input": "2023-11-27T18:51:59.250379Z",
     "iopub.status.busy": "2023-11-27T18:51:59.250154Z",
     "iopub.status.idle": "2023-11-27T18:51:59.486017Z",
     "shell.execute_reply": "2023-11-27T18:51:59.485411Z",
     "shell.execute_reply.started": "2023-11-27T18:51:59.250357Z"
    },
    "tags": []
   },
   "outputs": [
    {
     "data": {
      "application/vnd.jupyter.widget-view+json": {
       "model_id": "500c4a60886346c59ec1f43285fa1e37",
       "version_major": 2,
       "version_minor": 0
      },
      "text/plain": [
       "VBox()"
      ]
     },
     "metadata": {},
     "output_type": "display_data"
    },
    {
     "data": {
      "application/vnd.jupyter.widget-view+json": {
       "model_id": "",
       "version_major": 2,
       "version_minor": 0
      },
      "text/plain": [
       "FloatProgress(value=0.0, bar_style='info', description='Progress:', layout=Layout(height='25px', width='50%'),…"
      ]
     },
     "metadata": {},
     "output_type": "display_data"
    }
   ],
   "source": [
    "pings = pings.withColumn(\"pings_id\", F.monotonically_increasing_id())"
   ]
  },
  {
   "cell_type": "code",
   "execution_count": 60,
   "metadata": {
    "execution": {
     "iopub.execute_input": "2023-11-27T18:51:59.487439Z",
     "iopub.status.busy": "2023-11-27T18:51:59.487224Z",
     "iopub.status.idle": "2023-11-27T18:52:56.899840Z",
     "shell.execute_reply": "2023-11-27T18:52:56.899214Z",
     "shell.execute_reply.started": "2023-11-27T18:51:59.487418Z"
    },
    "tags": []
   },
   "outputs": [
    {
     "data": {
      "application/vnd.jupyter.widget-view+json": {
       "model_id": "921e03a4f6424a18a6e247c551dcf3dc",
       "version_major": 2,
       "version_minor": 0
      },
      "text/plain": [
       "VBox()"
      ]
     },
     "metadata": {},
     "output_type": "display_data"
    },
    {
     "data": {
      "application/vnd.jupyter.widget-view+json": {
       "model_id": "",
       "version_major": 2,
       "version_minor": 0
      },
      "text/plain": [
       "FloatProgress(value=0.0, bar_style='info', description='Progress:', layout=Layout(height='25px', width='50%'),…"
      ]
     },
     "metadata": {},
     "output_type": "display_data"
    },
    {
     "name": "stdout",
     "output_type": "stream",
     "text": [
      "[('3.0', '2.12', '1.4.0')]"
     ]
    }
   ],
   "source": [
    "joined = spatialIntersection(pings, poly, crs=crs)\n",
    "# I think I found the issue: a lot of pings are from the same lat-long but I think this spatial join only retains the unique geometries\n",
    "# maybe not... doesn't seem to be the case"
   ]
  },
  {
   "cell_type": "code",
   "execution_count": 61,
   "metadata": {
    "execution": {
     "iopub.execute_input": "2023-11-27T18:52:56.901231Z",
     "iopub.status.busy": "2023-11-27T18:52:56.901009Z",
     "iopub.status.idle": "2023-11-27T18:52:56.934599Z",
     "shell.execute_reply": "2023-11-27T18:52:56.934051Z",
     "shell.execute_reply.started": "2023-11-27T18:52:56.901208Z"
    },
    "tags": []
   },
   "outputs": [
    {
     "data": {
      "application/vnd.jupyter.widget-view+json": {
       "model_id": "4931ed214f134bb1b070b6ddcee1ac28",
       "version_major": 2,
       "version_minor": 0
      },
      "text/plain": [
       "VBox()"
      ]
     },
     "metadata": {},
     "output_type": "display_data"
    },
    {
     "data": {
      "application/vnd.jupyter.widget-view+json": {
       "model_id": "",
       "version_major": 2,
       "version_minor": 0
      },
      "text/plain": [
       "FloatProgress(value=0.0, bar_style='info', description='Progress:', layout=Layout(height='25px', width='50%'),…"
      ]
     },
     "metadata": {},
     "output_type": "display_data"
    }
   ],
   "source": [
    "# joined.agg(F.countDistinct(\"pings_id\")).show()"
   ]
  },
  {
   "cell_type": "code",
   "execution_count": 62,
   "metadata": {
    "execution": {
     "iopub.execute_input": "2023-11-27T18:52:56.935606Z",
     "iopub.status.busy": "2023-11-27T18:52:56.935400Z",
     "iopub.status.idle": "2023-11-27T18:52:57.171867Z",
     "shell.execute_reply": "2023-11-27T18:52:57.171264Z",
     "shell.execute_reply.started": "2023-11-27T18:52:56.935586Z"
    },
    "tags": []
   },
   "outputs": [
    {
     "data": {
      "application/vnd.jupyter.widget-view+json": {
       "model_id": "e356194d483c421cb4b74be998ea0e2e",
       "version_major": 2,
       "version_minor": 0
      },
      "text/plain": [
       "VBox()"
      ]
     },
     "metadata": {},
     "output_type": "display_data"
    },
    {
     "data": {
      "application/vnd.jupyter.widget-view+json": {
       "model_id": "",
       "version_major": 2,
       "version_minor": 0
      },
      "text/plain": [
       "FloatProgress(value=0.0, bar_style='info', description='Progress:', layout=Layout(height='25px', width='50%'),…"
      ]
     },
     "metadata": {},
     "output_type": "display_data"
    }
   ],
   "source": [
    "# combine with original points data and filter duplicates\n",
    "unmatched_pings_df = pings.join(joined, on = pings.columns, how = \"left_anti\")\n",
    "\n",
    "# Concatenate the matched rows and unmatched rows\n",
    "joined = joined.unionByName(unmatched_pings_df,  allowMissingColumns=True)"
   ]
  },
  {
   "cell_type": "code",
   "execution_count": 63,
   "metadata": {
    "execution": {
     "iopub.execute_input": "2023-11-27T18:52:57.173325Z",
     "iopub.status.busy": "2023-11-27T18:52:57.173109Z",
     "iopub.status.idle": "2023-11-27T19:03:50.154197Z",
     "shell.execute_reply": "2023-11-27T19:03:50.153571Z",
     "shell.execute_reply.started": "2023-11-27T18:52:57.173303Z"
    }
   },
   "outputs": [
    {
     "data": {
      "application/vnd.jupyter.widget-view+json": {
       "model_id": "ed4e75a4aa83432083f539ed16de5f90",
       "version_major": 2,
       "version_minor": 0
      },
      "text/plain": [
       "VBox()"
      ]
     },
     "metadata": {},
     "output_type": "display_data"
    },
    {
     "data": {
      "application/vnd.jupyter.widget-view+json": {
       "model_id": "",
       "version_major": 2,
       "version_minor": 0
      },
      "text/plain": [
       "FloatProgress(value=0.0, bar_style='info', description='Progress:', layout=Layout(height='25px', width='50%'),…"
      ]
     },
     "metadata": {},
     "output_type": "display_data"
    },
    {
     "name": "stdout",
     "output_type": "stream",
     "text": [
      "+--------------------+-------------------+------+--------------------+--------------------+---------+---------+-------------+--------+--------------------+-------------+\n",
      "|        leftgeometry|                 id|origin|       rightgeometry|                caid| latitude|longitude|utc_timestamp|altitude|                date|     pings_id|\n",
      "+--------------------+-------------------+------+--------------------+--------------------+---------+---------+-------------+--------+--------------------+-------------+\n",
      "|POLYGON ((8240984...|zzy-222@87w-mkp-68v|    sg|POINT (8240800.45...|b7f01cd122a53cd82...| 30.39993| 74.02837|   1632067671|    null|2021-09-19 21:37:...|2413771693115|\n",
      "|POLYGON ((8240984...|zzy-222@87w-mkp-68v|    sg|POINT (8240800.45...|b7f01cd122a53cd82...| 30.39993| 74.02837|   1632067622|    null|2021-09-19 21:37:...|4604205043011|\n",
      "|POLYGON ((8240984...|zzy-222@87w-mkp-68v|    sg|POINT (8240800.45...|b7f01cd122a53cd82...| 30.39993| 74.02837|   1632067621|    null|2021-09-19 21:37:...|4604205043010|\n",
      "|POLYGON ((8240984...|zzy-222@87w-mkp-68v|    sg|POINT (8240800.45...|b7f01cd122a53cd82...| 30.39993| 74.02837|   1632067672|    null|2021-09-19 21:37:...|2413771693116|\n",
      "|POLYGON ((8240984...|zzy-222@87w-mkp-68v|    sg|POINT (8240798.22...|b7f01cd122a53cd82...|30.399949| 74.02835|   1632070677|     0.0|2021-09-19 22:27:...|3624952435301|\n",
      "|POLYGON ((8240984...|zzy-222@87w-mkp-68v|    sg|POINT (8240798.22...|b7f01cd122a53cd82...|30.399948| 74.02835|   1632070696|    null|2021-09-19 22:28:...|3624952435302|\n",
      "|POLYGON ((8240984...|zzy-222@87w-mkp-68v|    sg|POINT (8240798.22...|b7f01cd122a53cd82...|30.399949| 74.02835|   1632070696|    null|2021-09-19 22:28:...|2413771693117|\n",
      "|POLYGON ((8240984...|zzy-222@87w-mkp-68v|    sg|POINT (8240798.22...|b7f01cd122a53cd82...| 30.39994| 74.02835|   1632070706|    null|2021-09-19 22:28:...|3624952435303|\n",
      "|POLYGON ((8240984...|zzy-222@87w-mkp-68v|    sg|POINT (8240798.22...|b7f01cd122a53cd82...| 30.39994| 74.02835|   1632070696|    null|2021-09-19 22:28:...|4604205043014|\n",
      "|POLYGON ((8240984...|zzy-222@87w-mkp-68v|    sg|POINT (8240799.33...|b7f01cd122a53cd82...| 30.39993| 74.02836|   1632070706|    null|2021-09-19 22:28:...|4604205043015|\n",
      "|POLYGON ((8240984...|zzy-222@87w-mkp-68v|    sg|POINT (8240799.33...|b7f01cd122a53cd82...| 30.39993| 74.02836|   1632070706|    null|2021-09-19 22:28:...|2413771693118|\n",
      "|POLYGON ((8240984...|zzy-222@87w-mkp-68v|    sg|POINT (8240802.12...|b7f01cd122a53cd82...|30.399944|74.028385|   1632062643|     0.0|2021-09-19 20:14:...|4604205043009|\n",
      "|POLYGON ((8240984...|zzy-222@87w-mkp-68v|    sg|POINT (8240802.12...|b7f01cd122a53cd82...|30.399944|74.028385|   1632067622|    null|2021-09-19 21:37:...|2413771693114|\n",
      "|POLYGON ((8240984...|zzy-222@87w-mkp-68v|    sg|POINT (8240802.12...|b7f01cd122a53cd82...|30.399944|74.028385|   1632020155|    null|2021-09-19 08:25:...|4604205042997|\n",
      "|POLYGON ((8240984...|zzy-222@87w-mkp-68v|    sg|POINT (8240802.12...|b7f01cd122a53cd82...|30.399944|74.028385|   1632067622|    null|2021-09-19 21:37:...|3624952435300|\n",
      "|POLYGON ((8240984...|zzy-222@87w-mkp-68v|    sg|POINT (8240802.12...|b7f01cd122a53cd82...|30.399944|74.028385|   1632055517|     0.0|2021-09-19 18:15:...|4604205043007|\n",
      "|POLYGON ((8240984...|zzy-222@87w-mkp-68v|    sg|POINT (8240801.56...|b7f01cd122a53cd82...| 30.39994| 74.02838|   1632067672|    null|2021-09-19 21:37:...|4604205043013|\n",
      "|POLYGON ((8240984...|zzy-222@87w-mkp-68v|    sg|POINT (8240802.12...|b7f01cd122a53cd82...|30.399944|74.028385|   1632067621|    null|2021-09-19 21:37:...|2413771693113|\n",
      "|POLYGON ((8240984...|zzy-222@87w-mkp-68v|    sg|POINT (8240801.56...|b7f01cd122a53cd82...| 30.39994| 74.02838|   1632067671|    null|2021-09-19 21:37:...|4604205043012|\n",
      "|POLYGON ((8240984...|zzy-222@87w-mkp-68v|    sg|POINT (8240802.12...|b7f01cd122a53cd82...|30.399944|74.028385|   1632020155|    null|2021-09-19 08:25:...|3624952435293|\n",
      "+--------------------+-------------------+------+--------------------+--------------------+---------+---------+-------------+--------+--------------------+-------------+\n",
      "only showing top 20 rows"
     ]
    }
   ],
   "source": [
    "joined.show()"
   ]
  },
  {
   "cell_type": "code",
   "execution_count": 64,
   "metadata": {
    "execution": {
     "iopub.execute_input": "2023-11-27T19:04:46.957460Z",
     "iopub.status.busy": "2023-11-27T19:04:46.957152Z",
     "iopub.status.idle": "2023-11-27T19:04:47.701303Z",
     "shell.execute_reply": "2023-11-27T19:04:47.700716Z",
     "shell.execute_reply.started": "2023-11-27T19:04:46.957436Z"
    },
    "tags": []
   },
   "outputs": [
    {
     "data": {
      "application/vnd.jupyter.widget-view+json": {
       "model_id": "efe90b58c5354786a5f3dd847d2b895c",
       "version_major": 2,
       "version_minor": 0
      },
      "text/plain": [
       "VBox()"
      ]
     },
     "metadata": {},
     "output_type": "display_data"
    },
    {
     "data": {
      "application/vnd.jupyter.widget-view+json": {
       "model_id": "",
       "version_major": 2,
       "version_minor": 0
      },
      "text/plain": [
       "FloatProgress(value=0.0, bar_style='info', description='Progress:', layout=Layout(height='25px', width='50%'),…"
      ]
     },
     "metadata": {},
     "output_type": "display_data"
    }
   ],
   "source": [
    "test = (joined.filter(F.hour(F.col(\"date\")).between(6,18))\n",
    "            .withColumns({\"post\" : (F.to_date(F.col(\"date\") == \"2021-09-26\")).cast(IntegerType()), \"shop\" : F.col(\"id\").isNotNull().cast(IntegerType())})\n",
    "            .groupBy(\"caid\", \"latitude\", \"longitude\", \"utc_timestamp\", \"date\", \"post\", \"pings_id\", \"origin\", \"id\").agg(F.max(\"shop\").alias(\"shop\"))\n",
    "        ).cache()\n",
    "\n",
    "# TODO shouldnt take max anymore?"
   ]
  },
  {
   "cell_type": "markdown",
   "metadata": {},
   "source": [
    "### Now intersect with grid"
   ]
  },
  {
   "cell_type": "code",
   "execution_count": 150,
   "metadata": {
    "execution": {
     "iopub.execute_input": "2023-11-27T04:55:36.206292Z",
     "iopub.status.busy": "2023-11-27T04:55:36.206072Z",
     "iopub.status.idle": "2023-11-27T04:55:36.443369Z",
     "shell.execute_reply": "2023-11-27T04:55:36.442750Z",
     "shell.execute_reply.started": "2023-11-27T04:55:36.206269Z"
    },
    "tags": []
   },
   "outputs": [
    {
     "data": {
      "application/vnd.jupyter.widget-view+json": {
       "model_id": "f4a51fd638f44b89b85769f613291e70",
       "version_major": 2,
       "version_minor": 0
      },
      "text/plain": [
       "VBox()"
      ]
     },
     "metadata": {},
     "output_type": "display_data"
    },
    {
     "data": {
      "application/vnd.jupyter.widget-view+json": {
       "model_id": "",
       "version_major": 2,
       "version_minor": 0
      },
      "text/plain": [
       "FloatProgress(value=0.0, bar_style='info', description='Progress:', layout=Layout(height='25px', width='50%'),…"
      ]
     },
     "metadata": {},
     "output_type": "display_data"
    }
   ],
   "source": [
    "test=test.cache()"
   ]
  },
  {
   "cell_type": "code",
   "execution_count": 65,
   "metadata": {
    "execution": {
     "iopub.execute_input": "2023-11-27T19:04:51.061145Z",
     "iopub.status.busy": "2023-11-27T19:04:51.060836Z",
     "iopub.status.idle": "2023-11-27T19:04:51.301392Z",
     "shell.execute_reply": "2023-11-27T19:04:51.300740Z",
     "shell.execute_reply.started": "2023-11-27T19:04:51.061119Z"
    },
    "tags": []
   },
   "outputs": [
    {
     "data": {
      "application/vnd.jupyter.widget-view+json": {
       "model_id": "3f69ee567e594d1ca8c9a00dcc1116f0",
       "version_major": 2,
       "version_minor": 0
      },
      "text/plain": [
       "VBox()"
      ]
     },
     "metadata": {},
     "output_type": "display_data"
    },
    {
     "data": {
      "application/vnd.jupyter.widget-view+json": {
       "model_id": "",
       "version_major": 2,
       "version_minor": 0
      },
      "text/plain": [
       "FloatProgress(value=0.0, bar_style='info', description='Progress:', layout=Layout(height='25px', width='50%'),…"
      ]
     },
     "metadata": {},
     "output_type": "display_data"
    }
   ],
   "source": [
    "def create_grid(min_x, max_x, min_y, max_y, step):\n",
    "    grid = []\n",
    "    for x in np.arange(min_x, max_x, step):\n",
    "        for y in np.arange(min_y, max_y, step):\n",
    "            grid.append(Polygon([(x, y), (x+step, y), (x+step, y+step), (x, y+step)]))\n",
    "    return grid\n",
    "\n",
    "# create the grid\n",
    "min_x, min_y, max_x, max_y =[7649981.160830013, 2531547.754779711, 9015022.947024144, 3621930.062059432]\n",
    "grid = create_grid(min_x, max_x, min_y, max_y, step=40000) # 5km grid\n",
    "\n",
    "# create a GeoDataFrame from the grid\n",
    "grid_gdf = gpd.GeoDataFrame(geometry=grid)\n",
    "grid_gdf['x'] = grid_gdf.geometry.centroid.x\n",
    "grid_gdf['y'] = grid_gdf.geometry.centroid.y"
   ]
  },
  {
   "cell_type": "code",
   "execution_count": 66,
   "metadata": {
    "execution": {
     "iopub.execute_input": "2023-11-27T19:04:51.424223Z",
     "iopub.status.busy": "2023-11-27T19:04:51.423937Z",
     "iopub.status.idle": "2023-11-27T19:04:51.662037Z",
     "shell.execute_reply": "2023-11-27T19:04:51.661366Z",
     "shell.execute_reply.started": "2023-11-27T19:04:51.424200Z"
    },
    "tags": []
   },
   "outputs": [
    {
     "data": {
      "application/vnd.jupyter.widget-view+json": {
       "model_id": "6f5f97bdfd3a457bbd118b34a2c0937d",
       "version_major": 2,
       "version_minor": 0
      },
      "text/plain": [
       "VBox()"
      ]
     },
     "metadata": {},
     "output_type": "display_data"
    },
    {
     "data": {
      "application/vnd.jupyter.widget-view+json": {
       "model_id": "",
       "version_major": 2,
       "version_minor": 0
      },
      "text/plain": [
       "FloatProgress(value=0.0, bar_style='info', description='Progress:', layout=Layout(height='25px', width='50%'),…"
      ]
     },
     "metadata": {},
     "output_type": "display_data"
    }
   ],
   "source": [
    "grid_gdf.crs = crs\n",
    "grid_poly = spark.createDataFrame(grid_gdf).cache()"
   ]
  },
  {
   "cell_type": "code",
   "execution_count": 67,
   "metadata": {
    "execution": {
     "iopub.execute_input": "2023-11-27T19:04:52.795261Z",
     "iopub.status.busy": "2023-11-27T19:04:52.794952Z",
     "iopub.status.idle": "2023-11-27T19:04:58.056358Z",
     "shell.execute_reply": "2023-11-27T19:04:58.055681Z",
     "shell.execute_reply.started": "2023-11-27T19:04:52.795236Z"
    },
    "tags": []
   },
   "outputs": [
    {
     "data": {
      "application/vnd.jupyter.widget-view+json": {
       "model_id": "f4d71d194a41444c825186c6d55ea8ad",
       "version_major": 2,
       "version_minor": 0
      },
      "text/plain": [
       "VBox()"
      ]
     },
     "metadata": {},
     "output_type": "display_data"
    },
    {
     "data": {
      "application/vnd.jupyter.widget-view+json": {
       "model_id": "",
       "version_major": 2,
       "version_minor": 0
      },
      "text/plain": [
       "FloatProgress(value=0.0, bar_style='info', description='Progress:', layout=Layout(height='25px', width='50%'),…"
      ]
     },
     "metadata": {},
     "output_type": "display_data"
    }
   ],
   "source": [
    "grid_poly.write.mode(\"overwrite\").parquet(data_dir + 'grid_poly')"
   ]
  },
  {
   "cell_type": "code",
   "execution_count": 68,
   "metadata": {
    "execution": {
     "iopub.execute_input": "2023-11-27T19:04:58.057644Z",
     "iopub.status.busy": "2023-11-27T19:04:58.057417Z",
     "iopub.status.idle": "2023-11-27T19:24:38.618975Z",
     "shell.execute_reply": "2023-11-27T19:24:38.618188Z",
     "shell.execute_reply.started": "2023-11-27T19:04:58.057621Z"
    },
    "tags": []
   },
   "outputs": [
    {
     "data": {
      "application/vnd.jupyter.widget-view+json": {
       "model_id": "673a5d07c6404f5e92b2cc7873e097c2",
       "version_major": 2,
       "version_minor": 0
      },
      "text/plain": [
       "VBox()"
      ]
     },
     "metadata": {},
     "output_type": "display_data"
    },
    {
     "data": {
      "application/vnd.jupyter.widget-view+json": {
       "model_id": "",
       "version_major": 2,
       "version_minor": 0
      },
      "text/plain": [
       "FloatProgress(value=0.0, bar_style='info', description='Progress:', layout=Layout(height='25px', width='50%'),…"
      ]
     },
     "metadata": {},
     "output_type": "display_data"
    }
   ],
   "source": [
    "joined = spatialIntersection(test, grid_poly, crs=crs)\n"
   ]
  },
  {
   "cell_type": "code",
   "execution_count": 69,
   "metadata": {
    "execution": {
     "iopub.execute_input": "2023-11-27T19:24:38.621211Z",
     "iopub.status.busy": "2023-11-27T19:24:38.620880Z",
     "iopub.status.idle": "2023-11-27T19:24:38.916137Z",
     "shell.execute_reply": "2023-11-27T19:24:38.915493Z",
     "shell.execute_reply.started": "2023-11-27T19:24:38.621178Z"
    },
    "tags": []
   },
   "outputs": [
    {
     "data": {
      "application/vnd.jupyter.widget-view+json": {
       "model_id": "cc24770df5dc4f4ca9dee5c319ea4b9f",
       "version_major": 2,
       "version_minor": 0
      },
      "text/plain": [
       "VBox()"
      ]
     },
     "metadata": {},
     "output_type": "display_data"
    },
    {
     "data": {
      "application/vnd.jupyter.widget-view+json": {
       "model_id": "",
       "version_major": 2,
       "version_minor": 0
      },
      "text/plain": [
       "FloatProgress(value=0.0, bar_style='info', description='Progress:', layout=Layout(height='25px', width='50%'),…"
      ]
     },
     "metadata": {},
     "output_type": "display_data"
    }
   ],
   "source": [
    "joined = joined.cache()"
   ]
  },
  {
   "cell_type": "code",
   "execution_count": 70,
   "metadata": {
    "execution": {
     "iopub.execute_input": "2023-11-27T19:24:38.917379Z",
     "iopub.status.busy": "2023-11-27T19:24:38.917165Z",
     "iopub.status.idle": "2023-11-27T19:29:12.875278Z",
     "shell.execute_reply": "2023-11-27T19:29:12.874671Z",
     "shell.execute_reply.started": "2023-11-27T19:24:38.917358Z"
    },
    "tags": []
   },
   "outputs": [
    {
     "data": {
      "application/vnd.jupyter.widget-view+json": {
       "model_id": "8ab56c95f6424775885edf374fa419e8",
       "version_major": 2,
       "version_minor": 0
      },
      "text/plain": [
       "VBox()"
      ]
     },
     "metadata": {},
     "output_type": "display_data"
    },
    {
     "data": {
      "application/vnd.jupyter.widget-view+json": {
       "model_id": "",
       "version_major": 2,
       "version_minor": 0
      },
      "text/plain": [
       "FloatProgress(value=0.0, bar_style='info', description='Progress:', layout=Layout(height='25px', width='50%'),…"
      ]
     },
     "metadata": {},
     "output_type": "display_data"
    }
   ],
   "source": [
    "joined = joined.withColumn(\"date\", F.to_date(\"date\"))\n",
    "(joined.drop(\"rightgeometry\", \"leftgeometry\", \"caid\",  \"utc_timestamp\").write.mode(\"overwrite\")\n",
    "        .option(\"header\",\"true\").csv(data_dir + \"joined_subsampling\", compression=\"gzip\"))"
   ]
  },
  {
   "cell_type": "code",
   "execution_count": 71,
   "metadata": {
    "execution": {
     "iopub.execute_input": "2023-11-27T19:29:12.876409Z",
     "iopub.status.busy": "2023-11-27T19:29:12.876196Z",
     "iopub.status.idle": "2023-11-27T19:29:13.112724Z",
     "shell.execute_reply": "2023-11-27T19:29:13.112128Z",
     "shell.execute_reply.started": "2023-11-27T19:29:12.876387Z"
    },
    "tags": []
   },
   "outputs": [
    {
     "data": {
      "application/vnd.jupyter.widget-view+json": {
       "model_id": "5e00ea4960d54a50b7baab8b2bcaa909",
       "version_major": 2,
       "version_minor": 0
      },
      "text/plain": [
       "VBox()"
      ]
     },
     "metadata": {},
     "output_type": "display_data"
    },
    {
     "data": {
      "application/vnd.jupyter.widget-view+json": {
       "model_id": "",
       "version_major": 2,
       "version_minor": 0
      },
      "text/plain": [
       "FloatProgress(value=0.0, bar_style='info', description='Progress:', layout=Layout(height='25px', width='50%'),…"
      ]
     },
     "metadata": {},
     "output_type": "display_data"
    }
   ],
   "source": [
    "joined = joined.withColumn(\"post\", (F.col(\"date\") == \"2021-09-26\").cast(IntegerType()))"
   ]
  },
  {
   "cell_type": "code",
   "execution_count": 72,
   "metadata": {
    "execution": {
     "iopub.execute_input": "2023-11-27T19:29:13.113758Z",
     "iopub.status.busy": "2023-11-27T19:29:13.113547Z",
     "iopub.status.idle": "2023-11-27T19:31:24.704171Z",
     "shell.execute_reply": "2023-11-27T19:31:24.703484Z",
     "shell.execute_reply.started": "2023-11-27T19:29:13.113737Z"
    },
    "tags": []
   },
   "outputs": [
    {
     "data": {
      "application/vnd.jupyter.widget-view+json": {
       "model_id": "f646c9c5fa97457581e224890c92f7b6",
       "version_major": 2,
       "version_minor": 0
      },
      "text/plain": [
       "VBox()"
      ]
     },
     "metadata": {},
     "output_type": "display_data"
    },
    {
     "data": {
      "application/vnd.jupyter.widget-view+json": {
       "model_id": "",
       "version_major": 2,
       "version_minor": 0
      },
      "text/plain": [
       "FloatProgress(value=0.0, bar_style='info', description='Progress:', layout=Layout(height='25px', width='50%'),…"
      ]
     },
     "metadata": {},
     "output_type": "display_data"
    }
   ],
   "source": [
    "(joined.drop(\"rightgeometry\", \"leftgeometry\", \"utc_timestamp\")\n",
    "    .write.mode(\"overwrite\").option(\"header\",\"true\").csv(data_dir + \"joined_subsampling\", compression=\"gzip\")\n",
    ")"
   ]
  },
  {
   "cell_type": "markdown",
   "metadata": {},
   "source": [
    "### And finally add GADM for day of aggregation"
   ]
  },
  {
   "cell_type": "code",
   "execution_count": 2,
   "metadata": {
    "execution": {
     "iopub.execute_input": "2024-01-13T17:49:53.415142Z",
     "iopub.status.busy": "2024-01-13T17:49:53.414834Z",
     "iopub.status.idle": "2024-01-13T17:50:06.749397Z",
     "shell.execute_reply": "2024-01-13T17:50:06.748814Z",
     "shell.execute_reply.started": "2024-01-13T17:49:53.415112Z"
    },
    "tags": []
   },
   "outputs": [
    {
     "data": {
      "application/vnd.jupyter.widget-view+json": {
       "model_id": "501580f86df94fe29043a7bfa2c900e9",
       "version_major": 2,
       "version_minor": 0
      },
      "text/plain": [
       "VBox()"
      ]
     },
     "metadata": {},
     "output_type": "display_data"
    },
    {
     "data": {
      "application/vnd.jupyter.widget-view+json": {
       "model_id": "",
       "version_major": 2,
       "version_minor": 0
      },
      "text/plain": [
       "FloatProgress(value=0.0, bar_style='info', description='Progress:', layout=Layout(height='25px', width='50%'),…"
      ]
     },
     "metadata": {},
     "output_type": "display_data"
    }
   ],
   "source": [
    "joined = spark.read.csv(data_dir + \"joined_subsampling\", header=True)\n",
    "grid_poly = spark.read.parquet(data_dir + \"grid_poly\")"
   ]
  },
  {
   "cell_type": "code",
   "execution_count": 3,
   "metadata": {
    "execution": {
     "iopub.execute_input": "2024-01-13T17:50:06.750636Z",
     "iopub.status.busy": "2024-01-13T17:50:06.750416Z",
     "iopub.status.idle": "2024-01-13T17:50:06.994035Z",
     "shell.execute_reply": "2024-01-13T17:50:06.993453Z",
     "shell.execute_reply.started": "2024-01-13T17:50:06.750614Z"
    },
    "tags": []
   },
   "outputs": [
    {
     "data": {
      "application/vnd.jupyter.widget-view+json": {
       "model_id": "7b4a3e2e650e4905a2d4fe96f14638d8",
       "version_major": 2,
       "version_minor": 0
      },
      "text/plain": [
       "VBox()"
      ]
     },
     "metadata": {},
     "output_type": "display_data"
    },
    {
     "data": {
      "application/vnd.jupyter.widget-view+json": {
       "model_id": "",
       "version_major": 2,
       "version_minor": 0
      },
      "text/plain": [
       "FloatProgress(value=0.0, bar_style='info', description='Progress:', layout=Layout(height='25px', width='50%'),…"
      ]
     },
     "metadata": {},
     "output_type": "display_data"
    }
   ],
   "source": [
    "# Initialize an empty DataFrame for the result\n",
    "grid_full = grid_poly.withColumn(\"post\", F.lit(0)).union(grid_poly.withColumn(\"post\", F.lit(1)))"
   ]
  },
  {
   "cell_type": "code",
   "execution_count": 4,
   "metadata": {
    "execution": {
     "iopub.execute_input": "2024-01-13T17:50:06.995542Z",
     "iopub.status.busy": "2024-01-13T17:50:06.995315Z",
     "iopub.status.idle": "2024-01-13T17:50:07.239958Z",
     "shell.execute_reply": "2024-01-13T17:50:07.239344Z",
     "shell.execute_reply.started": "2024-01-13T17:50:06.995521Z"
    },
    "tags": []
   },
   "outputs": [
    {
     "data": {
      "application/vnd.jupyter.widget-view+json": {
       "model_id": "5017850cb87c40f3a38d735631c1f789",
       "version_major": 2,
       "version_minor": 0
      },
      "text/plain": [
       "VBox()"
      ]
     },
     "metadata": {},
     "output_type": "display_data"
    },
    {
     "data": {
      "application/vnd.jupyter.widget-view+json": {
       "model_id": "",
       "version_major": 2,
       "version_minor": 0
      },
      "text/plain": [
       "FloatProgress(value=0.0, bar_style='info', description='Progress:', layout=Layout(height='25px', width='50%'),…"
      ]
     },
     "metadata": {},
     "output_type": "display_data"
    }
   ],
   "source": [
    "# merge missing grid cells back in \n",
    "grid_full = (joined.drop(\"rightgeometry\", \"leftgeometry\", \"caid\", \"utc_timestamp\")\n",
    "                    .join(grid_full.drop(\"geometry\"), how = \"outer\", on = [\"x\", \"y\", \"post\"])\n",
    "            )"
   ]
  },
  {
   "cell_type": "code",
   "execution_count": 5,
   "metadata": {
    "execution": {
     "iopub.execute_input": "2024-01-13T17:50:07.241308Z",
     "iopub.status.busy": "2024-01-13T17:50:07.241074Z",
     "iopub.status.idle": "2024-01-13T17:50:12.518678Z",
     "shell.execute_reply": "2024-01-13T17:50:12.518062Z",
     "shell.execute_reply.started": "2024-01-13T17:50:07.241287Z"
    },
    "tags": []
   },
   "outputs": [
    {
     "data": {
      "application/vnd.jupyter.widget-view+json": {
       "model_id": "07c36e0464554894b8b83d9b77ec49d7",
       "version_major": 2,
       "version_minor": 0
      },
      "text/plain": [
       "VBox()"
      ]
     },
     "metadata": {},
     "output_type": "display_data"
    },
    {
     "data": {
      "application/vnd.jupyter.widget-view+json": {
       "model_id": "",
       "version_major": 2,
       "version_minor": 0
      },
      "text/plain": [
       "FloatProgress(value=0.0, bar_style='info', description='Progress:', layout=Layout(height='25px', width='50%'),…"
      ]
     },
     "metadata": {},
     "output_type": "display_data"
    }
   ],
   "source": [
    "gidname = \"gadm41_IND_3.json\"\n",
    "gadm = gpd.read_file(data_dir + gidname).to_crs(\"epsg:3857\")\n",
    "# create the grid\n",
    "min_x, min_y, max_x, max_y =[7649981.160830013, 2531547.754779711, 9015022.947024144, 3621930.062059432]\n",
    "gadm = gadm.cx[min_x:max_x, min_y:max_y]\n",
    "gadm = spark.createDataFrame(gadm).cache().select(\"GID_3\", \"GID_2\", \"geometry\")"
   ]
  },
  {
   "cell_type": "code",
   "execution_count": 6,
   "metadata": {
    "execution": {
     "iopub.execute_input": "2024-01-13T17:50:12.519775Z",
     "iopub.status.busy": "2024-01-13T17:50:12.519554Z",
     "iopub.status.idle": "2024-01-13T17:50:12.764546Z",
     "shell.execute_reply": "2024-01-13T17:50:12.763881Z",
     "shell.execute_reply.started": "2024-01-13T17:50:12.519754Z"
    },
    "tags": []
   },
   "outputs": [
    {
     "data": {
      "application/vnd.jupyter.widget-view+json": {
       "model_id": "4b8708dda53e4d5ca63bc5eafe50e194",
       "version_major": 2,
       "version_minor": 0
      },
      "text/plain": [
       "VBox()"
      ]
     },
     "metadata": {},
     "output_type": "display_data"
    },
    {
     "data": {
      "application/vnd.jupyter.widget-view+json": {
       "model_id": "",
       "version_major": 2,
       "version_minor": 0
      },
      "text/plain": [
       "FloatProgress(value=0.0, bar_style='info', description='Progress:', layout=Layout(height='25px', width='50%'),…"
      ]
     },
     "metadata": {},
     "output_type": "display_data"
    }
   ],
   "source": [
    "grid_full = grid_full.withColumns({'longitude' : F.col('longitude').cast(DoubleType()), 'latitude' : F.col('latitude').cast(DoubleType())})"
   ]
  },
  {
   "cell_type": "code",
   "execution_count": 7,
   "metadata": {
    "execution": {
     "iopub.execute_input": "2024-01-13T17:50:12.765625Z",
     "iopub.status.busy": "2024-01-13T17:50:12.765414Z",
     "iopub.status.idle": "2024-01-13T17:54:28.905220Z",
     "shell.execute_reply": "2024-01-13T17:54:28.904641Z",
     "shell.execute_reply.started": "2024-01-13T17:50:12.765604Z"
    },
    "tags": []
   },
   "outputs": [
    {
     "data": {
      "application/vnd.jupyter.widget-view+json": {
       "model_id": "2905d8548cfa43249ba51652377124ae",
       "version_major": 2,
       "version_minor": 0
      },
      "text/plain": [
       "VBox()"
      ]
     },
     "metadata": {},
     "output_type": "display_data"
    },
    {
     "data": {
      "application/vnd.jupyter.widget-view+json": {
       "model_id": "",
       "version_major": 2,
       "version_minor": 0
      },
      "text/plain": [
       "FloatProgress(value=0.0, bar_style='info', description='Progress:', layout=Layout(height='25px', width='50%'),…"
      ]
     },
     "metadata": {},
     "output_type": "display_data"
    },
    {
     "name": "stdout",
     "output_type": "stream",
     "text": [
      "[('3.0', '2.12', '1.4.0')]"
     ]
    }
   ],
   "source": [
    "joined = spatialIntersection(joined, gadm, origin_crs=\"epsg:4326\", crs=crs, transform=True)\n"
   ]
  },
  {
   "cell_type": "code",
   "execution_count": null,
   "metadata": {
    "execution": {
     "iopub.execute_input": "2024-01-13T17:54:28.906266Z",
     "iopub.status.busy": "2024-01-13T17:54:28.906056Z",
     "iopub.status.idle": "2024-01-13T18:51:57.563382Z"
    },
    "tags": []
   },
   "outputs": [
    {
     "data": {
      "application/vnd.jupyter.widget-view+json": {
       "model_id": "ba6871d68b8b41db998ca10ffb8e8be3",
       "version_major": 2,
       "version_minor": 0
      },
      "text/plain": [
       "VBox()"
      ]
     },
     "metadata": {},
     "output_type": "display_data"
    },
    {
     "data": {
      "application/vnd.jupyter.widget-view+json": {
       "model_id": "",
       "version_major": 2,
       "version_minor": 0
      },
      "text/plain": [
       "FloatProgress(value=0.0, bar_style='info', description='Progress:', layout=Layout(height='25px', width='50%'),…"
      ]
     },
     "metadata": {},
     "output_type": "display_data"
    }
   ],
   "source": [
    "joined.drop(\"rightgeometry\", \"leftgeometry\").repartition(1).write.mode(\"overwrite\").option(\"header\",\"true\").csv(data_dir + \"grid_subsampling_comb\", compression=\"gzip\")"
   ]
  },
  {
   "cell_type": "markdown",
   "metadata": {},
   "source": [
    "## Plot Grid Figure"
   ]
  },
  {
   "cell_type": "code",
   "execution_count": null,
   "metadata": {
    "execution": {
     "iopub.execute_input": "2024-01-13T18:51:57.566242Z",
     "iopub.status.busy": "2024-01-13T18:51:57.565915Z",
     "iopub.status.idle": "2024-01-13T19:00:14.009401Z"
    },
    "tags": []
   },
   "outputs": [
    {
     "data": {
      "application/vnd.jupyter.widget-view+json": {
       "model_id": "8ba2351b300d4939aa8df1bb9fe51f2d",
       "version_major": 2,
       "version_minor": 0
      },
      "text/plain": [
       "VBox()"
      ]
     },
     "metadata": {},
     "output_type": "display_data"
    },
    {
     "data": {
      "application/vnd.jupyter.widget-view+json": {
       "model_id": "",
       "version_major": 2,
       "version_minor": 0
      },
      "text/plain": [
       "FloatProgress(value=0.0, bar_style='info', description='Progress:', layout=Layout(height='25px', width='50%'),…"
      ]
     },
     "metadata": {},
     "output_type": "display_data"
    },
    {
     "name": "stdout",
     "output_type": "stream",
     "text": [
      "+------------------+\n",
      "|         avg(shop)|\n",
      "+------------------+\n",
      "|0.5432295182566816|\n",
      "+------------------+"
     ]
    }
   ],
   "source": [
    "joined = spark.read.csv(data_dir + \"grid_subsampling_comb\", header=True)\n",
    "joined.agg(F.mean(\"shop\")).show()"
   ]
  },
  {
   "cell_type": "code",
   "execution_count": 2,
   "metadata": {
    "execution": {
     "iopub.execute_input": "2024-01-15T04:00:52.294627Z",
     "iopub.status.busy": "2024-01-15T04:00:52.294420Z",
     "iopub.status.idle": "2024-01-15T04:01:09.589703Z",
     "shell.execute_reply": "2024-01-15T04:01:09.589134Z",
     "shell.execute_reply.started": "2024-01-15T04:00:52.294607Z"
    },
    "tags": []
   },
   "outputs": [
    {
     "data": {
      "application/vnd.jupyter.widget-view+json": {
       "model_id": "029588df57fc47ecbef56cd0ce6d0dbf",
       "version_major": 2,
       "version_minor": 0
      },
      "text/plain": [
       "VBox()"
      ]
     },
     "metadata": {},
     "output_type": "display_data"
    },
    {
     "data": {
      "application/vnd.jupyter.widget-view+json": {
       "model_id": "",
       "version_major": 2,
       "version_minor": 0
      },
      "text/plain": [
       "FloatProgress(value=0.0, bar_style='info', description='Progress:', layout=Layout(height='25px', width='50%'),…"
      ]
     },
     "metadata": {},
     "output_type": "display_data"
    }
   ],
   "source": [
    "# downloading geojson from s3 is much quicker\n",
    "s3 = s3fs.S3FileSystem(anon=False)\n",
    "fn = s3.glob(data_dir + \"grid_subsampling_comb/*.csv.gz\")[0].replace(\"ipsos-dvd/\", \"\")\n",
    "s3 = boto3.client('s3')\n",
    "# fn = \"fdd/data/grid_subsampling_sg/part-00000-5a3ac724-cc85-4162-946d-be1294d283b6-c000.csv.gz\"\n",
    "s3.download_file('ipsos-dvd', fn, \"grid_subsampling_comb.csv.gz\")\n",
    "\n"
   ]
  },
  {
   "cell_type": "code",
   "execution_count": 3,
   "metadata": {
    "execution": {
     "iopub.execute_input": "2024-01-15T04:01:09.591239Z",
     "iopub.status.busy": "2024-01-15T04:01:09.591030Z",
     "iopub.status.idle": "2024-01-15T04:08:50.084651Z",
     "shell.execute_reply": "2024-01-15T04:08:50.084057Z",
     "shell.execute_reply.started": "2024-01-15T04:01:09.591219Z"
    },
    "tags": []
   },
   "outputs": [
    {
     "data": {
      "application/vnd.jupyter.widget-view+json": {
       "model_id": "272de27db9aa47e68dbe6279d3a6703b",
       "version_major": 2,
       "version_minor": 0
      },
      "text/plain": [
       "VBox()"
      ]
     },
     "metadata": {},
     "output_type": "display_data"
    },
    {
     "data": {
      "application/vnd.jupyter.widget-view+json": {
       "model_id": "",
       "version_major": 2,
       "version_minor": 0
      },
      "text/plain": [
       "FloatProgress(value=0.0, bar_style='info', description='Progress:', layout=Layout(height='25px', width='50%'),…"
      ]
     },
     "metadata": {},
     "output_type": "display_data"
    },
    {
     "name": "stdout",
     "output_type": "stream",
     "text": [
      "/mnt1/yarn/usercache/livy/appcache/application_1705283342614_0006/container_1705283342614_0006_01_000001/tmp/8857941311104147398:227: DtypeWarning: Columns (10,11) have mixed types.Specify dtype option on import or set low_memory=False.\n",
      "  exec(code, global_dict)"
     ]
    }
   ],
   "source": [
    "gdf = pd.read_csv('grid_subsampling_comb.csv.gz')\n",
    "gdf['shop'] = gdf['shop'].fillna(0)"
   ]
  },
  {
   "cell_type": "code",
   "execution_count": 4,
   "metadata": {
    "execution": {
     "iopub.execute_input": "2024-01-15T04:08:50.085949Z",
     "iopub.status.busy": "2024-01-15T04:08:50.085739Z",
     "iopub.status.idle": "2024-01-15T04:09:03.364202Z",
     "shell.execute_reply": "2024-01-15T04:09:03.363488Z",
     "shell.execute_reply.started": "2024-01-15T04:08:50.085929Z"
    },
    "tags": []
   },
   "outputs": [
    {
     "data": {
      "application/vnd.jupyter.widget-view+json": {
       "model_id": "03f1cec51bad414f8c37487950dd016f",
       "version_major": 2,
       "version_minor": 0
      },
      "text/plain": [
       "VBox()"
      ]
     },
     "metadata": {},
     "output_type": "display_data"
    },
    {
     "data": {
      "application/vnd.jupyter.widget-view+json": {
       "model_id": "",
       "version_major": 2,
       "version_minor": 0
      },
      "text/plain": [
       "FloatProgress(value=0.0, bar_style='info', description='Progress:', layout=Layout(height='25px', width='50%'),…"
      ]
     },
     "metadata": {},
     "output_type": "display_data"
    }
   ],
   "source": [
    "df = gdf.copy()"
   ]
  },
  {
   "cell_type": "code",
   "execution_count": 5,
   "metadata": {
    "execution": {
     "iopub.execute_input": "2024-01-15T04:09:03.365379Z",
     "iopub.status.busy": "2024-01-15T04:09:03.365156Z",
     "iopub.status.idle": "2024-01-15T04:09:03.397517Z",
     "shell.execute_reply": "2024-01-15T04:09:03.396955Z",
     "shell.execute_reply.started": "2024-01-15T04:09:03.365358Z"
    },
    "tags": []
   },
   "outputs": [
    {
     "data": {
      "application/vnd.jupyter.widget-view+json": {
       "model_id": "cdd1af56e69043d1a4e1b18a89d23dfd",
       "version_major": 2,
       "version_minor": 0
      },
      "text/plain": [
       "VBox()"
      ]
     },
     "metadata": {},
     "output_type": "display_data"
    },
    {
     "data": {
      "application/vnd.jupyter.widget-view+json": {
       "model_id": "",
       "version_major": 2,
       "version_minor": 0
      },
      "text/plain": [
       "FloatProgress(value=0.0, bar_style='info', description='Progress:', layout=Layout(height='25px', width='50%'),…"
      ]
     },
     "metadata": {},
     "output_type": "display_data"
    }
   ],
   "source": [
    "# df = df[df.date >= \"2021-09-19\"] # .date.unique()"
   ]
  },
  {
   "cell_type": "code",
   "execution_count": 6,
   "metadata": {
    "execution": {
     "iopub.execute_input": "2024-01-15T04:09:03.398524Z",
     "iopub.status.busy": "2024-01-15T04:09:03.398318Z",
     "iopub.status.idle": "2024-01-15T04:09:50.760345Z",
     "shell.execute_reply": "2024-01-15T04:09:50.759738Z",
     "shell.execute_reply.started": "2024-01-15T04:09:03.398505Z"
    },
    "tags": []
   },
   "outputs": [
    {
     "data": {
      "application/vnd.jupyter.widget-view+json": {
       "model_id": "d274fb48e4654168b3049156d82e39a1",
       "version_major": 2,
       "version_minor": 0
      },
      "text/plain": [
       "VBox()"
      ]
     },
     "metadata": {},
     "output_type": "display_data"
    },
    {
     "data": {
      "application/vnd.jupyter.widget-view+json": {
       "model_id": "",
       "version_major": 2,
       "version_minor": 0
      },
      "text/plain": [
       "FloatProgress(value=0.0, bar_style='info', description='Progress:', layout=Layout(height='25px', width='50%'),…"
      ]
     },
     "metadata": {},
     "output_type": "display_data"
    }
   ],
   "source": [
    "# Get unique 'caid' values for each condition\n",
    "caid_post = set(df.loc[df.post == 1, 'caid'].unique())\n",
    "caid_pre = set(df.loc[df.post == 0, 'caid'].unique())\n",
    "\n",
    "# Find the intersection of both sets\n",
    "caidlist = caid_post.intersection(caid_pre)"
   ]
  },
  {
   "cell_type": "code",
   "execution_count": 7,
   "metadata": {
    "execution": {
     "iopub.execute_input": "2024-01-15T04:09:50.761384Z",
     "iopub.status.busy": "2024-01-15T04:09:50.761175Z",
     "iopub.status.idle": "2024-01-15T04:10:32.106627Z",
     "shell.execute_reply": "2024-01-15T04:10:32.106039Z",
     "shell.execute_reply.started": "2024-01-15T04:09:50.761363Z"
    },
    "tags": []
   },
   "outputs": [
    {
     "data": {
      "application/vnd.jupyter.widget-view+json": {
       "model_id": "2f51ac8f4c7944dcad7797e09e25ec9c",
       "version_major": 2,
       "version_minor": 0
      },
      "text/plain": [
       "VBox()"
      ]
     },
     "metadata": {},
     "output_type": "display_data"
    },
    {
     "data": {
      "application/vnd.jupyter.widget-view+json": {
       "model_id": "",
       "version_major": 2,
       "version_minor": 0
      },
      "text/plain": [
       "FloatProgress(value=0.0, bar_style='info', description='Progress:', layout=Layout(height='25px', width='50%'),…"
      ]
     },
     "metadata": {},
     "output_type": "display_data"
    }
   ],
   "source": [
    "df = df[df.caid.isin(caidlist)]"
   ]
  },
  {
   "cell_type": "code",
   "execution_count": 3,
   "metadata": {
    "execution": {
     "iopub.execute_input": "2024-01-17T22:09:06.085248Z",
     "iopub.status.busy": "2024-01-17T22:09:06.085035Z",
     "iopub.status.idle": "2024-01-17T22:09:37.427900Z",
     "shell.execute_reply": "2024-01-17T22:09:37.427289Z",
     "shell.execute_reply.started": "2024-01-17T22:09:06.085227Z"
    },
    "tags": []
   },
   "outputs": [
    {
     "data": {
      "application/vnd.jupyter.widget-view+json": {
       "model_id": "fc2dfefa45084893833afa5eb94666b5",
       "version_major": 2,
       "version_minor": 0
      },
      "text/plain": [
       "VBox()"
      ]
     },
     "metadata": {},
     "output_type": "display_data"
    },
    {
     "data": {
      "application/vnd.jupyter.widget-view+json": {
       "model_id": "",
       "version_major": 2,
       "version_minor": 0
      },
      "text/plain": [
       "FloatProgress(value=0.0, bar_style='info', description='Progress:', layout=Layout(height='25px', width='50%'),…"
      ]
     },
     "metadata": {},
     "output_type": "display_data"
    }
   ],
   "source": [
    "# merge cells outside india back in\n",
    "grid_poly = spark.read.parquet(data_dir + \"grid_poly\")\n",
    "grid_full = grid_poly.toPandas()\n",
    "\n",
    "grid_full = pd.concat([grid_full.assign(post=1), grid_full.assign(post=0)])\n",
    "\n",
    "\n",
    "temp = df[['x', 'y', 'post']].drop_duplicates()\n",
    "\n",
    "grid_full = grid_full.merge(temp, how = 'left',  on = ['x', 'y', 'post'], indicator = True)\n",
    "\n",
    "grid_full = grid_full[~(grid_full._merge == 'both')].drop(['_merge', 'geometry'], axis = 1)\n",
    "df = pd.concat([df, grid_full], ignore_index=True, axis=0)"
   ]
  },
  {
   "cell_type": "code",
   "execution_count": 4,
   "metadata": {
    "execution": {
     "iopub.execute_input": "2024-01-15T19:01:47.833183Z",
     "iopub.status.busy": "2024-01-15T19:01:47.832893Z",
     "iopub.status.idle": "2024-01-15T19:21:07.956814Z",
     "shell.execute_reply": "2024-01-15T19:21:07.956213Z",
     "shell.execute_reply.started": "2024-01-15T19:01:47.833159Z"
    },
    "tags": []
   },
   "outputs": [
    {
     "data": {
      "application/vnd.jupyter.widget-view+json": {
       "model_id": "61c7323fb8714e918855238d4a6ee7f8",
       "version_major": 2,
       "version_minor": 0
      },
      "text/plain": [
       "VBox()"
      ]
     },
     "metadata": {},
     "output_type": "display_data"
    },
    {
     "data": {
      "application/vnd.jupyter.widget-view+json": {
       "model_id": "",
       "version_major": 2,
       "version_minor": 0
      },
      "text/plain": [
       "FloatProgress(value=0.0, bar_style='info', description='Progress:', layout=Layout(height='25px', width='50%'),…"
      ]
     },
     "metadata": {},
     "output_type": "display_data"
    }
   ],
   "source": [
    "df.to_csv(os.path.join(bsdir, 'data', 'rajasatan_cheating_shops_merged_40K_devices.csv'))"
   ]
  },
  {
   "cell_type": "markdown",
   "metadata": {},
   "source": [
    "### Restart from here"
   ]
  },
  {
   "cell_type": "code",
   "execution_count": 2,
   "metadata": {
    "execution": {
     "iopub.execute_input": "2024-01-17T21:45:00.572283Z",
     "iopub.status.busy": "2024-01-17T21:45:00.571975Z",
     "iopub.status.idle": "2024-01-17T22:09:06.083968Z",
     "shell.execute_reply": "2024-01-17T22:09:06.083223Z",
     "shell.execute_reply.started": "2024-01-17T21:45:00.572258Z"
    },
    "tags": []
   },
   "outputs": [
    {
     "data": {
      "application/vnd.jupyter.widget-view+json": {
       "model_id": "8bbb9ad2d64f4eab88cf20039cac4e0e",
       "version_major": 2,
       "version_minor": 0
      },
      "text/plain": [
       "VBox()"
      ]
     },
     "metadata": {},
     "output_type": "display_data"
    },
    {
     "data": {
      "application/vnd.jupyter.widget-view+json": {
       "model_id": "",
       "version_major": 2,
       "version_minor": 0
      },
      "text/plain": [
       "FloatProgress(value=0.0, bar_style='info', description='Progress:', layout=Layout(height='25px', width='50%'),…"
      ]
     },
     "metadata": {},
     "output_type": "display_data"
    },
    {
     "name": "stdout",
     "output_type": "stream",
     "text": [
      "/mnt1/yarn/usercache/livy/appcache/application_1705527263949_0001/container_1705527263949_0001_01_000001/tmp/6077748119049163902:232: DtypeWarning: Columns (12,13) have mixed types.Specify dtype option on import or set low_memory=False.\n",
      "  exec(code, global_dict)"
     ]
    }
   ],
   "source": [
    "df = pd.read_csv(os.path.join(bsdir, 'data', 'rajasatan_cheating_shops_merged_40K_devices.csv'))"
   ]
  },
  {
   "cell_type": "code",
   "execution_count": 4,
   "metadata": {
    "execution": {
     "iopub.execute_input": "2024-01-17T22:09:37.429432Z",
     "iopub.status.busy": "2024-01-17T22:09:37.429165Z",
     "iopub.status.idle": "2024-01-17T22:09:42.689468Z",
     "shell.execute_reply": "2024-01-17T22:09:42.688692Z",
     "shell.execute_reply.started": "2024-01-17T22:09:37.429408Z"
    },
    "tags": []
   },
   "outputs": [
    {
     "data": {
      "application/vnd.jupyter.widget-view+json": {
       "model_id": "2d27b3ecae3d43eeabeccf494dfdf68b",
       "version_major": 2,
       "version_minor": 0
      },
      "text/plain": [
       "VBox()"
      ]
     },
     "metadata": {},
     "output_type": "display_data"
    },
    {
     "data": {
      "application/vnd.jupyter.widget-view+json": {
       "model_id": "",
       "version_major": 2,
       "version_minor": 0
      },
      "text/plain": [
       "FloatProgress(value=0.0, bar_style='info', description='Progress:', layout=Layout(height='25px', width='50%'),…"
      ]
     },
     "metadata": {},
     "output_type": "display_data"
    }
   ],
   "source": [
    "gadm = gpd.read_file(data_dir + \"gadm41_IND_3.json\")\n",
    "gadm = gadm.to_crs(crs)"
   ]
  },
  {
   "cell_type": "code",
   "execution_count": 7,
   "metadata": {
    "execution": {
     "iopub.execute_input": "2024-01-17T22:18:33.077954Z",
     "iopub.status.busy": "2024-01-17T22:18:33.077652Z",
     "iopub.status.idle": "2024-01-17T22:19:04.410697Z",
     "shell.execute_reply": "2024-01-17T22:19:04.410028Z",
     "shell.execute_reply.started": "2024-01-17T22:18:33.077928Z"
    },
    "tags": []
   },
   "outputs": [
    {
     "data": {
      "application/vnd.jupyter.widget-view+json": {
       "model_id": "a5ad73f3c72148409777f7a5d72070a8",
       "version_major": 2,
       "version_minor": 0
      },
      "text/plain": [
       "VBox()"
      ]
     },
     "metadata": {},
     "output_type": "display_data"
    },
    {
     "data": {
      "application/vnd.jupyter.widget-view+json": {
       "model_id": "",
       "version_major": 2,
       "version_minor": 0
      },
      "text/plain": [
       "FloatProgress(value=0.0, bar_style='info', description='Progress:', layout=Layout(height='25px', width='50%'),…"
      ]
     },
     "metadata": {},
     "output_type": "display_data"
    },
    {
     "name": "stdout",
     "output_type": "stream",
     "text": [
      "/mnt1/yarn/usercache/livy/appcache/application_1705527263949_0001/container_1705527263949_0001_01_000001/tmp/6077748119049163902:227: FutureWarning: The `op` parameter is deprecated and will be removed in a future release. Please use the `predicate` parameter instead.\n",
      "  exec(code, global_dict)\n",
      "/mnt1/yarn/usercache/livy/appcache/application_1705527263949_0001/container_1705527263949_0001_01_000001/tmp/6077748119049163902:227: FutureWarning: The `op` parameter is deprecated and will be removed in a future release. Please use the `predicate` parameter instead.\n",
      "  exec(code, global_dict)"
     ]
    }
   ],
   "source": [
    "gidname = \"GID_2\"\n",
    "df_post = df[df['post'] == 1] \n",
    "\n",
    "#-- 1\n",
    "df_post_temp = df_post.groupby([gidname]).agg(shops=(\"shop\", \"sum\")).reset_index()\n",
    "df_post_temp = df_post_temp.merge(gadm[[gidname, 'geometry']], on=gidname, how='left')\n",
    "df_post_temp = gpd.GeoDataFrame(df_post_temp, geometry=df_post_temp.geometry, crs=crs)\n",
    "df_post = df_post.groupby(['x', 'y']).agg(shops_grid=(\"shop\", \"sum\")).reset_index()\n",
    "df_post = gpd.GeoDataFrame(df_post, geometry=gpd.points_from_xy(df_post.x, df_post.y), crs=\"EPSG:3857\")\n",
    "df_post['geometry'] = df_post.buffer(20000, cap_style = 3)\n",
    "df_post = (df_post.sjoin(df_post_temp, how=\"left\", op='intersects')\n",
    "                .groupby(['x', 'y']).agg(shops_grid=('shops_grid', 'mean'), \n",
    "                                         shops=('shops', 'mean')).reset_index()\n",
    ")\n",
    "\n",
    "#-- 2\n",
    "# df_post.head()\n",
    "# df_post = df_post.groupby(['x', 'y', gidname]).agg(econ=('shop', 'mean'), shops=('shop', 'sum')).reset_index()\n",
    "# df_post = df_post.groupby(['x', 'y']).agg(econ=('econ', 'mean'), shops=('shops', 'mean'))\n",
    "\n",
    "df_pre = df[df['post'] == 0]\n",
    "\n",
    "# --- 1 \n",
    "df_pre_temp = df_pre.groupby([gidname, 'caid', 'date']).agg(shops=(\"shop\", \"sum\")).reset_index()\n",
    "df_pre_temp = df_pre_temp.groupby([gidname, 'caid']).agg(shops=(\"shops\", \"median\")).reset_index()\n",
    "# df_pre_temp = df_pre.groupby([gidname, 'date']).agg(shops=(\"shop\", \"sum\")).reset_index()\n",
    "df_pre_temp = df_pre_temp.groupby([gidname]).agg(shops=(\"shops\", \"sum\")).reset_index()\n",
    "\n",
    "\n",
    "df_pre_temp = df_pre_temp.merge(gadm[[gidname, 'geometry']], on=gidname, how='left')\n",
    "df_pre_temp = gpd.GeoDataFrame(df_pre_temp, geometry=df_pre_temp.geometry, crs=crs)\n",
    "df_pre = df_pre.groupby(['x', 'y']).agg(shops_grid=(\"shop\", \"sum\")).reset_index()\n",
    "df_pre = gpd.GeoDataFrame(df_pre, geometry=gpd.points_from_xy(df_pre.x, df_pre.y), crs=\"EPSG:3857\")\n",
    "df_pre['geometry'] = df_pre.buffer(20000, cap_style = 3)\n",
    "df_pre = (df_pre.sjoin(df_pre_temp, how=\"left\", op='intersects')\n",
    "                .groupby(['x', 'y']).agg(shops_grid=('shops_grid', 'mean'), \n",
    "                                         shops=('shops', 'mean')).reset_index()\n",
    ")\n",
    "\n",
    "# #--- 2\n",
    "# df_pre = df_pre.groupby(['x', 'y', 'date', 'caid', gidname]).agg(econ=('shop', 'mean'), shops=('shop', 'sum')).reset_index()\n",
    "# df_pre = df_pre.groupby(['x', 'y', 'caid', gidname]).agg(shops=('shops', 'mean')).reset_index()\n",
    "# df_pre = df_pre.groupby(['x', 'y', gidname]).agg(shops=('shops', 'sum')).reset_index()\n",
    "\n",
    "# df_pre['shops'] = df_pre['shops'] / 3\n",
    "\n",
    "dfagg = df_pre.merge(df_post, on=['x', 'y'], suffixes=('_pre', '_post'))\n",
    "# dfagg['pings_share_change'] = dfagg['econ_post'] - dfagg['econ_pre']\n",
    "# dfagg['pings_share_norm'] = dfagg['pings_share_change'] / dfagg['econ_pre']\n",
    "# dfagg['pings_share_ratio'] = dfagg['econ_post'] / dfagg['econ_pre']\n",
    "dfagg['shops_ratio'] = dfagg['shops_post'] / dfagg['shops_pre']\n",
    "# dfagg['shops_change'] = dfagg['shops_post'] / dfagg['shops_pre'] - 1\n",
    "dfagg.loc[dfagg.shops_ratio == inf, 'shops_ratio' ] = 1\n",
    "dfagg.loc[dfagg.shops_ratio.isna(), 'shops_ratio' ] = 1\n"
   ]
  },
  {
   "cell_type": "code",
   "execution_count": 78,
   "metadata": {
    "execution": {
     "iopub.execute_input": "2024-01-15T21:48:46.916150Z",
     "iopub.status.busy": "2024-01-15T21:48:46.915846Z",
     "iopub.status.idle": "2024-01-15T21:48:46.951786Z",
     "shell.execute_reply": "2024-01-15T21:48:46.951198Z",
     "shell.execute_reply.started": "2024-01-15T21:48:46.916126Z"
    },
    "tags": []
   },
   "outputs": [
    {
     "data": {
      "application/vnd.jupyter.widget-view+json": {
       "model_id": "61dc979bcaa44f428a2f583f4d22e9a5",
       "version_major": 2,
       "version_minor": 0
      },
      "text/plain": [
       "VBox()"
      ]
     },
     "metadata": {},
     "output_type": "display_data"
    },
    {
     "data": {
      "application/vnd.jupyter.widget-view+json": {
       "model_id": "",
       "version_major": 2,
       "version_minor": 0
      },
      "text/plain": [
       "FloatProgress(value=0.0, bar_style='info', description='Progress:', layout=Layout(height='25px', width='50%'),…"
      ]
     },
     "metadata": {},
     "output_type": "display_data"
    },
    {
     "name": "stdout",
     "output_type": "stream",
     "text": [
      "count    776.000000\n",
      "mean       1.440323\n",
      "std        1.336937\n",
      "min        0.000000\n",
      "25%        0.754023\n",
      "50%        1.000000\n",
      "75%        1.597698\n",
      "max        9.758045\n",
      "Name: shops_ratio, dtype: float64"
     ]
    }
   ],
   "source": [
    "dfagg['shops_ratio'].describe()"
   ]
  },
  {
   "cell_type": "code",
   "execution_count": 107,
   "metadata": {
    "execution": {
     "iopub.execute_input": "2024-01-15T22:10:03.077892Z",
     "iopub.status.busy": "2024-01-15T22:10:03.077594Z",
     "iopub.status.idle": "2024-01-15T22:10:03.319337Z",
     "shell.execute_reply": "2024-01-15T22:10:03.318519Z",
     "shell.execute_reply.started": "2024-01-15T22:10:03.077867Z"
    },
    "tags": []
   },
   "outputs": [
    {
     "data": {
      "application/vnd.jupyter.widget-view+json": {
       "model_id": "8f394a7be9ff4e47b6e60febbf54db47",
       "version_major": 2,
       "version_minor": 0
      },
      "text/plain": [
       "VBox()"
      ]
     },
     "metadata": {},
     "output_type": "display_data"
    },
    {
     "data": {
      "application/vnd.jupyter.widget-view+json": {
       "model_id": "",
       "version_major": 2,
       "version_minor": 0
      },
      "text/plain": [
       "FloatProgress(value=0.0, bar_style='info', description='Progress:', layout=Layout(height='25px', width='50%'),…"
      ]
     },
     "metadata": {},
     "output_type": "display_data"
    }
   ],
   "source": [
    "dfagg.to_csv(os.path.join(bsdir, 'data', 'rajasatan_cheating_shops_merged_40K_devices_agg.csv'))"
   ]
  },
  {
   "cell_type": "code",
   "execution_count": 8,
   "metadata": {
    "execution": {
     "iopub.execute_input": "2024-01-17T22:19:04.411976Z",
     "iopub.status.busy": "2024-01-17T22:19:04.411763Z",
     "iopub.status.idle": "2024-01-17T22:19:05.155687Z",
     "shell.execute_reply": "2024-01-17T22:19:05.155074Z",
     "shell.execute_reply.started": "2024-01-17T22:19:04.411954Z"
    },
    "tags": []
   },
   "outputs": [
    {
     "data": {
      "application/vnd.jupyter.widget-view+json": {
       "model_id": "d10670d4b71447558ad67569195af751",
       "version_major": 2,
       "version_minor": 0
      },
      "text/plain": [
       "VBox()"
      ]
     },
     "metadata": {},
     "output_type": "display_data"
    },
    {
     "data": {
      "application/vnd.jupyter.widget-view+json": {
       "model_id": "",
       "version_major": 2,
       "version_minor": 0
      },
      "text/plain": [
       "FloatProgress(value=0.0, bar_style='info', description='Progress:', layout=Layout(height='25px', width='50%'),…"
      ]
     },
     "metadata": {},
     "output_type": "display_data"
    },
    {
     "data": {
      "image/png": "[encoded data removed]",
      "text/plain": [
       "<IPython.core.display.Image object>"
      ]
     },
     "metadata": {},
     "output_type": "display_data"
    }
   ],
   "source": [
    "\n",
    "import geopandas as gpd\n",
    "temp = gpd.GeoDataFrame(dfagg, geometry=gpd.points_from_xy(dfagg.x, dfagg.y))\n",
    "temp['geometry'] = temp.buffer(20000, cap_style = 3)\n",
    "p = temp.plot(column=\"shops_ratio\", cmap='coolwarm_r', legend=True, vmax=1.5)\n",
    "\n",
    "%matplot plt"
   ]
  },
  {
   "cell_type": "code",
   "execution_count": 19,
   "metadata": {
    "execution": {
     "iopub.execute_input": "2024-01-15T20:26:35.667538Z",
     "iopub.status.busy": "2024-01-15T20:26:35.667242Z",
     "iopub.status.idle": "2024-01-15T20:26:35.702096Z",
     "shell.execute_reply": "2024-01-15T20:26:35.701489Z",
     "shell.execute_reply.started": "2024-01-15T20:26:35.667514Z"
    },
    "tags": []
   },
   "outputs": [
    {
     "data": {
      "application/vnd.jupyter.widget-view+json": {
       "model_id": "48c4f8ea5d204c25bd9346df665db04e",
       "version_major": 2,
       "version_minor": 0
      },
      "text/plain": [
       "VBox()"
      ]
     },
     "metadata": {},
     "output_type": "display_data"
    },
    {
     "data": {
      "application/vnd.jupyter.widget-view+json": {
       "model_id": "",
       "version_major": 2,
       "version_minor": 0
      },
      "text/plain": [
       "FloatProgress(value=0.0, bar_style='info', description='Progress:', layout=Layout(height='25px', width='50%'),…"
      ]
     },
     "metadata": {},
     "output_type": "display_data"
    },
    {
     "name": "stdout",
     "output_type": "stream",
     "text": [
      "0      1.515540\n",
      "1           NaN\n",
      "2      0.593802\n",
      "3      0.371134\n",
      "4      0.929875\n",
      "         ...   \n",
      "995         NaN\n",
      "996         NaN\n",
      "997    0.000000\n",
      "998         NaN\n",
      "999         NaN\n",
      "Name: shops_ratio, Length: 1000, dtype: float64"
     ]
    }
   ],
   "source": [
    "dfagg['shops_ratio']"
   ]
  },
  {
   "cell_type": "code",
   "execution_count": 15,
   "metadata": {
    "execution": {
     "iopub.execute_input": "2024-01-15T20:25:17.912219Z",
     "iopub.status.busy": "2024-01-15T20:25:17.911915Z",
     "iopub.status.idle": "2024-01-15T20:25:25.185482Z",
     "shell.execute_reply": "2024-01-15T20:25:25.184681Z",
     "shell.execute_reply.started": "2024-01-15T20:25:17.912193Z"
    },
    "tags": []
   },
   "outputs": [
    {
     "data": {
      "application/vnd.jupyter.widget-view+json": {
       "model_id": "800eca9e5cc549a8b4b2ea6b9026a99b",
       "version_major": 2,
       "version_minor": 0
      },
      "text/plain": [
       "VBox()"
      ]
     },
     "metadata": {},
     "output_type": "display_data"
    },
    {
     "data": {
      "application/vnd.jupyter.widget-view+json": {
       "model_id": "",
       "version_major": 2,
       "version_minor": 0
      },
      "text/plain": [
       "FloatProgress(value=0.0, bar_style='info', description='Progress:', layout=Layout(height='25px', width='50%'),…"
      ]
     },
     "metadata": {},
     "output_type": "display_data"
    },
    {
     "data": {
      "image/png": "[encoded data removed]",
      "text/plain": [
       "<IPython.core.display.Image object>"
      ]
     },
     "metadata": {},
     "output_type": "display_data"
    }
   ],
   "source": [
    "gidname = \"GID_3\"\n",
    "df.loc[df['post'].isna(), 'post'] = 1\n",
    "df_post = df[df['post'] == 1] \n",
    "df_post.loc[df_post.shop.isna(), 'shop'] = 1\n",
    "df_post_temp = df_post.groupby([gidname]).agg(shops=(\"shop\", \"sum\")).reset_index()\n",
    "df_post_temp = df_post_temp.merge(gadm[[gidname, 'geometry']], on=gidname, how='left')\n",
    "df_post_temp = gpd.GeoDataFrame(df_post_temp, geometry=df_post_temp.geometry, crs=crs)\n",
    "df_post = df_post.groupby(['x', 'y']).agg(shops_grid=(\"shop\", \"sum\")).reset_index()\n",
    "df_post = gpd.GeoDataFrame(df_post, geometry=gpd.points_from_xy(df_post.x, df_post.y), crs=\"EPSG:3857\")\n",
    "df_post.plot()\n",
    "%matplot plt"
   ]
  },
  {
   "cell_type": "code",
   "execution_count": 30,
   "metadata": {
    "execution": {
     "iopub.execute_input": "2024-01-15T21:01:23.738859Z",
     "iopub.status.busy": "2024-01-15T21:01:23.738543Z",
     "iopub.status.idle": "2024-01-15T21:01:24.984342Z",
     "shell.execute_reply": "2024-01-15T21:01:24.983723Z",
     "shell.execute_reply.started": "2024-01-15T21:01:23.738833Z"
    },
    "tags": []
   },
   "outputs": [
    {
     "data": {
      "application/vnd.jupyter.widget-view+json": {
       "model_id": "20bc6105848a412ca11ff8d7c404610e",
       "version_major": 2,
       "version_minor": 0
      },
      "text/plain": [
       "VBox()"
      ]
     },
     "metadata": {},
     "output_type": "display_data"
    },
    {
     "data": {
      "application/vnd.jupyter.widget-view+json": {
       "model_id": "",
       "version_major": 2,
       "version_minor": 0
      },
      "text/plain": [
       "FloatProgress(value=0.0, bar_style='info', description='Progress:', layout=Layout(height='25px', width='50%'),…"
      ]
     },
     "metadata": {},
     "output_type": "display_data"
    }
   ],
   "source": [
    "import os\n",
    "states_gdf = gpd.read_file(os.path.join('s3://ipsos-dvd/fdd/data/in', 'india', 'india_states_shapefile'))\n",
    "\n",
    "# Convert the CRS of the states GeoDataFrame to match the CRS of the Rajasthan GeoDataFrame\n",
    "states_gdf = states_gdf.to_crs('epsg:3857')\n",
    "\n",
    "\n",
    "# Extract the geometry for Rajasthan\n",
    "rajasthan_geometry = states_gdf[states_gdf['name_1'] == 'Rajasthan']['geometry']\n"
   ]
  },
  {
   "cell_type": "code",
   "execution_count": 106,
   "metadata": {
    "execution": {
     "iopub.execute_input": "2024-01-15T22:09:31.578089Z",
     "iopub.status.busy": "2024-01-15T22:09:31.577864Z",
     "iopub.status.idle": "2024-01-15T22:09:32.322498Z",
     "shell.execute_reply": "2024-01-15T22:09:32.321838Z",
     "shell.execute_reply.started": "2024-01-15T22:09:31.578067Z"
    },
    "tags": []
   },
   "outputs": [
    {
     "data": {
      "application/vnd.jupyter.widget-view+json": {
       "model_id": "893c03aef0054e0fb18a5218ca05a8f3",
       "version_major": 2,
       "version_minor": 0
      },
      "text/plain": [
       "VBox()"
      ]
     },
     "metadata": {},
     "output_type": "display_data"
    },
    {
     "data": {
      "application/vnd.jupyter.widget-view+json": {
       "model_id": "",
       "version_major": 2,
       "version_minor": 0
      },
      "text/plain": [
       "FloatProgress(value=0.0, bar_style='info', description='Progress:', layout=Layout(height='25px', width='50%'),…"
      ]
     },
     "metadata": {},
     "output_type": "display_data"
    },
    {
     "data": {
      "image/png": "[encoded data removed]",
      "text/plain": [
       "<IPython.core.display.Image object>"
      ]
     },
     "metadata": {},
     "output_type": "display_data"
    }
   ],
   "source": [
    "\n",
    "# Reset the limits for the zoom (to show the entire Rajasthan)\n",
    "rajasthan_extent = states_gdf[states_gdf['name_1'] == 'Rajasthan'].total_bounds\n",
    "xlim = (rajasthan_extent[0], rajasthan_extent[2])\n",
    "ylim = (rajasthan_extent[1], rajasthan_extent[3])\n",
    "\n",
    "# Create the plot\n",
    "fig, ax = plt.subplots(1, 1)\n",
    "\n",
    "# Plot the data\n",
    "vmax = 1.5\n",
    "p = temp.plot(column=\"shops_ratio\", cmap='coolwarm',  ax=ax, legend=True, vmax=vmax)\n",
    "\n",
    "# Plot the Rajasthan border\n",
    "rajasthan_geometry.boundary.plot(color='k', linewidth=2, ax=ax, alpha=0.5)\n",
    "%matplot plt"
   ]
  },
  {
   "cell_type": "code",
   "execution_count": 99,
   "metadata": {
    "execution": {
     "iopub.execute_input": "2024-01-15T22:05:33.576336Z",
     "iopub.status.busy": "2024-01-15T22:05:33.576119Z",
     "iopub.status.idle": "2024-01-15T22:05:34.319271Z",
     "shell.execute_reply": "2024-01-15T22:05:34.318664Z",
     "shell.execute_reply.started": "2024-01-15T22:05:33.576314Z"
    },
    "tags": []
   },
   "outputs": [
    {
     "data": {
      "application/vnd.jupyter.widget-view+json": {
       "model_id": "f7ddc8d47c124ae8ab2d9f9d663a1526",
       "version_major": 2,
       "version_minor": 0
      },
      "text/plain": [
       "VBox()"
      ]
     },
     "metadata": {},
     "output_type": "display_data"
    },
    {
     "data": {
      "application/vnd.jupyter.widget-view+json": {
       "model_id": "",
       "version_major": 2,
       "version_minor": 0
      },
      "text/plain": [
       "FloatProgress(value=0.0, bar_style='info', description='Progress:', layout=Layout(height='25px', width='50%'),…"
      ]
     },
     "metadata": {},
     "output_type": "display_data"
    },
    {
     "data": {
      "image/png": "[encoded data removed]",
      "text/plain": [
       "<IPython.core.display.Image object>"
      ]
     },
     "metadata": {},
     "output_type": "display_data"
    }
   ],
   "source": [
    "\n",
    "# Reset the limits for the zoom (to show the entire Rajasthan)\n",
    "rajasthan_extent = states_gdf[states_gdf['name_1'] == 'Rajasthan'].total_bounds\n",
    "xlim = (rajasthan_extent[0], rajasthan_extent[2])\n",
    "ylim = (rajasthan_extent[1], rajasthan_extent[3])\n",
    "\n",
    "# Create the plot\n",
    "fig, ax = plt.subplots(1, 1)\n",
    "\n",
    "# Plot the data\n",
    "vmax = 1.5\n",
    "p = temp.plot(column=\"shops_ratio\", cmap='coolwarm',  ax=ax, legend=True, vmax=vmax)\n",
    "\n",
    "# Plot the Rajasthan border\n",
    "rajasthan_geometry.boundary.plot(color='k', linewidth=2, ax=ax, alpha=0.5)\n",
    "%matplot plt"
   ]
  },
  {
   "cell_type": "code",
   "execution_count": null,
   "metadata": {},
   "outputs": [],
   "source": []
  }
 ],
 "metadata": {
  "kernelspec": {
   "display_name": "fdd",
   "language": "python",
   "name": "python3"
  },
  "language_info": {
   "codemirror_mode": {
    "name": "python",
    "version": 3
   },
   "file_extension": ".py",
   "mimetype": "text/x-python",
   "name": "python",
   "pygments_lexer": "python3",
   "version": "3.9.16"
  }
 },
 "nbformat": 4,
 "nbformat_minor": 4
}
