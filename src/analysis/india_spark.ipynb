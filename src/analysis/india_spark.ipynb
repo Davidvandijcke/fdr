{
 "cells": [
  {
   "cell_type": "code",
   "execution_count": 2,
   "metadata": {
    "execution": {
     "iopub.execute_input": "2023-11-17T19:29:51.568484Z",
     "iopub.status.busy": "2023-11-17T19:29:51.568188Z",
     "iopub.status.idle": "2023-11-17T19:29:54.833134Z",
     "shell.execute_reply": "2023-11-17T19:29:54.832529Z",
     "shell.execute_reply.started": "2023-11-17T19:29:51.568460Z"
    },
    "tags": []
   },
   "outputs": [
    {
     "data": {
      "application/vnd.jupyter.widget-view+json": {
       "model_id": "1a9dcebff08740688001e8a551a6b585",
       "version_major": 2,
       "version_minor": 0
      },
      "text/plain": [
       "VBox()"
      ]
     },
     "metadata": {},
     "output_type": "display_data"
    },
    {
     "data": {
      "application/vnd.jupyter.widget-view+json": {
       "model_id": "",
       "version_major": 2,
       "version_minor": 0
      },
      "text/plain": [
       "FloatProgress(value=0.0, bar_style='info', description='Progress:', layout=Layout(height='25px', width='50%'),…"
      ]
     },
     "metadata": {},
     "output_type": "display_data"
    }
   ],
   "source": [
    "\"\"\" Filter India data\n",
    "\n",
    "aws emr add-steps --cluster-id <Your EMR cluster id> --steps Type=spark,Name=TestJob,Args=[--deploy-mode,cluster,--master,yarn,--conf,spark.yarn.submit.waitAppCompletion=true,s3a://your-source-bucket/code/pythonjob.py,s3a://your-source-bucket/data/data.csv,s3a://your-destination-bucket/test-output/],ActionOnFailure=CONTINUE\n",
    "\"\"\"\n",
    "\n",
    "from collections import namedtuple\n",
    "import logging\n",
    "import sys\n",
    "\n",
    "from geopy.distance import great_circle\n",
    "import pandas as pd\n",
    "import geopandas as gpd\n",
    "import numpy as np\n",
    "\n",
    "from datetime import timedelta, date, datetime\n",
    "from statistics import *\n",
    "\n",
    "\n",
    "from pyspark import SparkContext\n",
    "from pyspark.sql import SQLContext, SparkSession\n",
    "from pyspark.sql.window import Window\n",
    "from pyspark.sql.types import (\n",
    "    StructType,\n",
    "    LongType,\n",
    "    StructField,\n",
    "    IntegerType,\n",
    "    StringType,\n",
    "    DoubleType,\n",
    "    TimestampType,\n",
    "    ArrayType,\n",
    "    BinaryType\n",
    ")\n",
    "import pyspark.sql.functions as F\n",
    "from math import *\n",
    "import time\n",
    "import json\n",
    "import boto3\n",
    "\n",
    "from sedona.register import SedonaRegistrator  \n",
    "from sedona.utils import SedonaKryoRegistrator, KryoSerializer\n",
    "from pyspark.sql.functions import udf\n",
    "from sedona.utils.adapter import Adapter\n",
    "from sedona.core.formatMapper.shapefileParser import ShapefileReader\n",
    "from sedona.core.SpatialRDD import PointRDD, SpatialRDD, CircleRDD\n",
    "from sedona.sql.types import GeometryType\n",
    "from sedona.core.enums import GridType, IndexType\n",
    "from sedona.core.spatialOperator import JoinQueryRaw\n",
    "from sedona.core.spatialOperator import JoinQuery\n",
    "from sedona.core.enums import IndexType\n",
    "from sedona.core.formatMapper.disc_utils import load_spatial_rdd_from_disc, GeoType\n",
    "from sedona.core.formatMapper import WktReader, GeoJsonReader\n",
    "# from sedona.spark import *\n",
    "#sedona = SedonaContext.create(config)\n",
    "\n",
    "\n",
    "from shapely.wkt import loads as wkt_loads\n",
    "from shapely.geometry import Point, Polygon, shape\n",
    "from shapely.ops import transform\n",
    "import shapely\n",
    "\n",
    "import s3fs\n",
    "\n",
    "s3 = s3fs.S3FileSystem(anon=False)\n",
    "\n",
    "spark = (SparkSession.builder.appName(\"sedona\")\n",
    "                 .config(\"spark.serializer\", KryoSerializer.getName)          \n",
    "        .config(\"spark.kryo.registrator\",     \n",
    "                  SedonaKryoRegistrator.getName)    \n",
    "         .config(\"spark.driver.maxResultSize\", \"3g\")\n",
    "    .getOrCreate() \n",
    "        )\n",
    "\n",
    "# Register Sedona UDTs and UDFs\n",
    "SedonaRegistrator.registerAll(spark)\n",
    "spark.sparkContext.addPyFile(\"s3://ipsos-dvd/scripts/utils.py\")\n",
    "\n",
    "bsdir = \"s3://ipsos-dvd/fdd/\"\n",
    "data_dir = bsdir + \"data/\"\n",
    "fn = data_dir +  \"pings_IN_2021-09-01_2021-09-30/\"\n",
    "\n",
    "#-------\n",
    "# parameters\n",
    "crs = \"epsg:3857\"\n",
    "\n",
    "\n",
    "\n",
    "def spatialIntersection(pings, poly, build_on_spatial_partitioned_rdd = True, using_index = True, origin_crs=\"epsg:4326\", crs=\"epsg:4326\", transform=True): \n",
    "    \n",
    "    poly_rdd = Adapter.toSpatialRdd(poly, \"geometry\")\n",
    "\n",
    "    pings.createOrReplaceTempView(\"pings\")\n",
    "\n",
    "    # Read Hive table\n",
    "    if transform:\n",
    "        pings = spark.sql(\n",
    "              f\"\"\"SELECT ST_Transform(ST_FlipCoordinates(ST_Point(pings.longitude, \n",
    "              pings.latitude)), \"{origin_crs}\", \"{crs}\") AS point, \n",
    "              *\n",
    "              FROM pings;\n",
    "              \"\"\"\n",
    "        )\n",
    "    else:\n",
    "        pings = spark.sql(\n",
    "              f\"\"\"SELECT ST_FlipCoordinates(ST_Transform(ST_FlipCoordinates(ST_Point(pings.longitude, \n",
    "              pings.latitude)), \"{origin_crs}\", \"{crs}\")) AS point, \n",
    "              *\n",
    "              FROM pings;\n",
    "              \"\"\"\n",
    "        )\n",
    "    num_partitions = 1000\n",
    "    pings = pings.repartition(num_partitions)\n",
    "    pings = pings.cache()\n",
    "    \n",
    "    grid_type = GridType.QUADTREE # this shit works so much better for skewed data\n",
    "\n",
    "    points_rdd = Adapter.toSpatialRdd(pings, \"point\")\n",
    "    points_rdd.analyze()\n",
    "    points_rdd.spatialPartitioning(grid_type)\n",
    "    \n",
    "    poly_rdd.analyze()\n",
    "    poly_rdd.spatialPartitioning(points_rdd.getPartitioner())\n",
    "    \n",
    "     ## Set to TRUE only if run join query\n",
    "    points_rdd.buildIndex(IndexType.QUADTREE, build_on_spatial_partitioned_rdd)\n",
    "    \n",
    "    result = JoinQueryRaw.SpatialJoinQueryFlat(points_rdd, poly_rdd, using_index, True)\n",
    "\n",
    "    return Adapter.toDf(result, poly_rdd.fieldNames, points_rdd.fieldNames, spark)\n",
    "\n",
    "\n"
   ]
  },
  {
   "cell_type": "code",
   "execution_count": null,
   "metadata": {},
   "outputs": [
    {
     "data": {
      "application/vnd.jupyter.widget-view+json": {
       "model_id": "86a115ad3af04b0fbffc796dbcd3ab59",
       "version_major": 2,
       "version_minor": 0
      },
      "text/plain": [
       "VBox()"
      ]
     },
     "metadata": {},
     "output_type": "display_data"
    },
    {
     "name": "stdout",
     "output_type": "stream",
     "text": [
      "Starting Spark application\n"
     ]
    }
   ],
   "source": [
    "india = spark.read.parquet(fn)\n"
   ]
  },
  {
   "cell_type": "code",
   "execution_count": null,
   "metadata": {},
   "outputs": [],
   "source": [
    "# filter on bounding box\n",
    "minx, maxx = 68.716667, 80.983333 # Longitude\n",
    "miny, maxy = 22.166667, 30.916667 # Latitude\n",
    "\n",
    "# filter on rajastan\n",
    "india = india.filter(F.col('longitude').between(minx, maxx) & F.col('latitude').between(miny, maxy))\n",
    "\n",
    "# filter on internet blackout dates\n",
    "india = india.withColumn(\"date\", F.from_utc_timestamp(F.col(\"utc_timestamp\").cast(TimestampType()), tz = \"IST\"))\n",
    "# india = india.filter(F.to_date(F.col(\"date\")).isin([\"2021-09-05\", \"2021-09-12\", \"2021-09-19\", \"2021-09-26\"]))\n",
    "india = india.filter(F.to_date(F.col(\"date\")).isin([\"2021-09-06\", \"2021-09-13\", \"2021-09-20\", \"2021-09-27\"]))\n",
    "\n",
    "\n",
    "india.write.mode(\"overwrite\").parquet(\"s3://ipsos-dvd/fdd/data/rajasatan_monday_sep_2021\")"
   ]
  },
  {
   "cell_type": "markdown",
   "metadata": {},
   "source": [
    "## Intersect with shops and grid for subsampling"
   ]
  },
  {
   "cell_type": "code",
   "execution_count": null,
   "metadata": {},
   "outputs": [
    {
     "data": {
      "application/vnd.jupyter.widget-view+json": {
       "model_id": "cf1203fd96654afe925201a6a3b8c230",
       "version_major": 2,
       "version_minor": 0
      },
      "text/plain": [
       "VBox()"
      ]
     },
     "metadata": {},
     "output_type": "display_data"
    },
    {
     "data": {
      "application/vnd.jupyter.widget-view+json": {
       "model_id": "",
       "version_major": 2,
       "version_minor": 0
      },
      "text/plain": [
       "FloatProgress(value=0.0, bar_style='info', description='Progress:', layout=Layout(height='25px', width='50%'),…"
      ]
     },
     "metadata": {},
     "output_type": "display_data"
    }
   ],
   "source": [
    "### First intersect shops"
   ]
  },
  {
   "cell_type": "code",
   "execution_count": null,
   "metadata": {},
   "outputs": [
    {
     "data": {
      "application/vnd.jupyter.widget-view+json": {
       "model_id": "c10493ce9b2d4cf1b14b9b1a0da40351",
       "version_major": 2,
       "version_minor": 0
      },
      "text/plain": [
       "VBox()"
      ]
     },
     "metadata": {},
     "output_type": "display_data"
    },
    {
     "data": {
      "application/vnd.jupyter.widget-view+json": {
       "model_id": "",
       "version_major": 2,
       "version_minor": 0
      },
      "text/plain": [
       "FloatProgress(value=0.0, bar_style='info', description='Progress:', layout=Layout(height='25px', width='50%'),…"
      ]
     },
     "metadata": {},
     "output_type": "display_data"
    }
   ],
   "source": [
    "# read data\n",
    "pings = spark.read.parquet(\"s3://ipsos-dvd/fdd/data/rajasatan_sundays_sep_2021\") # .sample(0.05)\n",
    "\n"
   ]
  },
  {
   "cell_type": "code",
   "execution_count": null,
   "metadata": {},
   "outputs": [
    {
     "data": {
      "application/vnd.jupyter.widget-view+json": {
       "model_id": "834161377ddd4cb0bd9fafb97da14131",
       "version_major": 2,
       "version_minor": 0
      },
      "text/plain": [
       "VBox()"
      ]
     },
     "metadata": {},
     "output_type": "display_data"
    },
    {
     "data": {
      "application/vnd.jupyter.widget-view+json": {
       "model_id": "",
       "version_major": 2,
       "version_minor": 0
      },
      "text/plain": [
       "FloatProgress(value=0.0, bar_style='info', description='Progress:', layout=Layout(height='25px', width='50%'),…"
      ]
     },
     "metadata": {},
     "output_type": "display_data"
    }
   ],
   "source": [
    "# downloading geojson from s3 is much quicker\n",
    "s3 = boto3.client('s3')\n",
    "s3.download_file('ipsos-dvd', 'fdd/data/shops.geojson', 'shops_s3.geojson')\n",
    "poly_raw = gpd.read_file(\"shops_s3.geojson\")\n"
   ]
  },
  {
   "cell_type": "code",
   "execution_count": null,
   "metadata": {},
   "outputs": [
    {
     "data": {
      "application/vnd.jupyter.widget-view+json": {
       "model_id": "86c55f2de8844c7385bf806e51465522",
       "version_major": 2,
       "version_minor": 0
      },
      "text/plain": [
       "VBox()"
      ]
     },
     "metadata": {},
     "output_type": "display_data"
    },
    {
     "data": {
      "application/vnd.jupyter.widget-view+json": {
       "model_id": "",
       "version_major": 2,
       "version_minor": 0
      },
      "text/plain": [
       "FloatProgress(value=0.0, bar_style='info', description='Progress:', layout=Layout(height='25px', width='50%'),…"
      ]
     },
     "metadata": {},
     "output_type": "display_data"
    }
   ],
   "source": [
    "crs = \"epsg:3857\"\n",
    "poly_raw = poly_raw.to_crs(crs)"
   ]
  },
  {
   "cell_type": "code",
   "execution_count": null,
   "metadata": {},
   "outputs": [
    {
     "data": {
      "application/vnd.jupyter.widget-view+json": {
       "model_id": "f0d291668c6a43ada26630dd396b39b7",
       "version_major": 2,
       "version_minor": 0
      },
      "text/plain": [
       "VBox()"
      ]
     },
     "metadata": {},
     "output_type": "display_data"
    },
    {
     "data": {
      "application/vnd.jupyter.widget-view+json": {
       "model_id": "",
       "version_major": 2,
       "version_minor": 0
      },
      "text/plain": [
       "FloatProgress(value=0.0, bar_style='info', description='Progress:', layout=Layout(height='25px', width='50%'),…"
      ]
     },
     "metadata": {},
     "output_type": "display_data"
    }
   ],
   "source": [
    "poly_raw.drop(columns = \"tags\", inplace=True)"
   ]
  },
  {
   "cell_type": "code",
   "execution_count": null,
   "metadata": {},
   "outputs": [
    {
     "data": {
      "application/vnd.jupyter.widget-view+json": {
       "model_id": "d8d62c18b26149f0b990cbaa6120e175",
       "version_major": 2,
       "version_minor": 0
      },
      "text/plain": [
       "VBox()"
      ]
     },
     "metadata": {},
     "output_type": "display_data"
    },
    {
     "data": {
      "application/vnd.jupyter.widget-view+json": {
       "model_id": "",
       "version_major": 2,
       "version_minor": 0
      },
      "text/plain": [
       "FloatProgress(value=0.0, bar_style='info', description='Progress:', layout=Layout(height='25px', width='50%'),…"
      ]
     },
     "metadata": {},
     "output_type": "display_data"
    }
   ],
   "source": [
    "poly = spark.createDataFrame(poly_raw).cache()"
   ]
  },
  {
   "cell_type": "code",
   "execution_count": null,
   "metadata": {},
   "outputs": [
    {
     "data": {
      "application/vnd.jupyter.widget-view+json": {
       "model_id": "0a21e0e9a7214450b188171736be72d6",
       "version_major": 2,
       "version_minor": 0
      },
      "text/plain": [
       "VBox()"
      ]
     },
     "metadata": {},
     "output_type": "display_data"
    },
    {
     "data": {
      "application/vnd.jupyter.widget-view+json": {
       "model_id": "",
       "version_major": 2,
       "version_minor": 0
      },
      "text/plain": [
       "FloatProgress(value=0.0, bar_style='info', description='Progress:', layout=Layout(height='25px', width='50%'),…"
      ]
     },
     "metadata": {},
     "output_type": "display_data"
    },
    {
     "name": "stdout",
     "output_type": "stream",
     "text": [
      "126010338"
     ]
    }
   ],
   "source": [
    "pings.count()"
   ]
  },
  {
   "cell_type": "code",
   "execution_count": null,
   "metadata": {},
   "outputs": [
    {
     "data": {
      "application/vnd.jupyter.widget-view+json": {
       "model_id": "b8fe5c84c9984afa8c162112c75bdba3",
       "version_major": 2,
       "version_minor": 0
      },
      "text/plain": [
       "VBox()"
      ]
     },
     "metadata": {},
     "output_type": "display_data"
    },
    {
     "data": {
      "application/vnd.jupyter.widget-view+json": {
       "model_id": "",
       "version_major": 2,
       "version_minor": 0
      },
      "text/plain": [
       "FloatProgress(value=0.0, bar_style='info', description='Progress:', layout=Layout(height='25px', width='50%'),…"
      ]
     },
     "metadata": {},
     "output_type": "display_data"
    }
   ],
   "source": [
    "pings = pings.withColumn(\"pings_id\", F.monotonically_increasing_id())"
   ]
  },
  {
   "cell_type": "code",
   "execution_count": null,
   "metadata": {},
   "outputs": [
    {
     "data": {
      "application/vnd.jupyter.widget-view+json": {
       "model_id": "5754c42c012c4020bf6add934e5be09d",
       "version_major": 2,
       "version_minor": 0
      },
      "text/plain": [
       "VBox()"
      ]
     },
     "metadata": {},
     "output_type": "display_data"
    },
    {
     "data": {
      "application/vnd.jupyter.widget-view+json": {
       "model_id": "",
       "version_major": 2,
       "version_minor": 0
      },
      "text/plain": [
       "FloatProgress(value=0.0, bar_style='info', description='Progress:', layout=Layout(height='25px', width='50%'),…"
      ]
     },
     "metadata": {},
     "output_type": "display_data"
    },
    {
     "name": "stdout",
     "output_type": "stream",
     "text": [
      "[('3.0', '2.12', '1.4.0')]"
     ]
    }
   ],
   "source": [
    "joined = spatialIntersection(pings, poly, crs=crs)\n",
    "# I think I found the issue: a lot of pings are from the same lat-long but I think this spatial join only retains the unique geometries\n",
    "# maybe not... doesn't seem to be the case"
   ]
  },
  {
   "cell_type": "code",
   "execution_count": null,
   "metadata": {},
   "outputs": [
    {
     "data": {
      "application/vnd.jupyter.widget-view+json": {
       "model_id": "d694ba7091af41cc9885df2ac59a2e61",
       "version_major": 2,
       "version_minor": 0
      },
      "text/plain": [
       "VBox()"
      ]
     },
     "metadata": {},
     "output_type": "display_data"
    },
    {
     "data": {
      "application/vnd.jupyter.widget-view+json": {
       "model_id": "",
       "version_major": 2,
       "version_minor": 0
      },
      "text/plain": [
       "FloatProgress(value=0.0, bar_style='info', description='Progress:', layout=Layout(height='25px', width='50%'),…"
      ]
     },
     "metadata": {},
     "output_type": "display_data"
    }
   ],
   "source": [
    "# joined.agg(F.countDistinct(\"pings_id\")).show()"
   ]
  },
  {
   "cell_type": "code",
   "execution_count": null,
   "metadata": {},
   "outputs": [
    {
     "data": {
      "application/vnd.jupyter.widget-view+json": {
       "model_id": "da277048c06444e9b60512f3838f188d",
       "version_major": 2,
       "version_minor": 0
      },
      "text/plain": [
       "VBox()"
      ]
     },
     "metadata": {},
     "output_type": "display_data"
    },
    {
     "data": {
      "application/vnd.jupyter.widget-view+json": {
       "model_id": "",
       "version_major": 2,
       "version_minor": 0
      },
      "text/plain": [
       "FloatProgress(value=0.0, bar_style='info', description='Progress:', layout=Layout(height='25px', width='50%'),…"
      ]
     },
     "metadata": {},
     "output_type": "display_data"
    }
   ],
   "source": [
    "# combine with original points data and filter duplicates\n",
    "unmatched_pings_df = pings.join(joined, on = pings.columns, how = \"left_anti\")\n",
    "\n",
    "# Concatenate the matched rows and unmatched rows\n",
    "joined = joined.unionByName(unmatched_pings_df,  allowMissingColumns=True)"
   ]
  },
  {
   "cell_type": "code",
   "execution_count": null,
   "metadata": {},
   "outputs": [
    {
     "data": {
      "application/vnd.jupyter.widget-view+json": {
       "model_id": "05c2045280144541ab6920491dfb192f",
       "version_major": 2,
       "version_minor": 0
      },
      "text/plain": [
       "VBox()"
      ]
     },
     "metadata": {},
     "output_type": "display_data"
    },
    {
     "data": {
      "application/vnd.jupyter.widget-view+json": {
       "model_id": "",
       "version_major": 2,
       "version_minor": 0
      },
      "text/plain": [
       "FloatProgress(value=0.0, bar_style='info', description='Progress:', layout=Layout(height='25px', width='50%'),…"
      ]
     },
     "metadata": {},
     "output_type": "display_data"
    }
   ],
   "source": [
    "test = (joined.filter(F.hour(F.col(\"date\")).between(6,18))\n",
    "            .withColumns({\"post\" : (F.to_date(F.col(\"date\") == \"2021-09-26\")).cast(IntegerType()), \"shop\" : F.col(\"id\").isNotNull().cast(IntegerType())})\n",
    "            .groupBy(\"caid\", \"latitude\", \"longitude\", \"utc_timestamp\", \"date\", \"post\", \"pings_id\").agg(F.max(\"shop\").alias(\"shop\"))\n",
    "        ).cache()"
   ]
  },
  {
   "cell_type": "markdown",
   "metadata": {},
   "source": [
    "### Now intersect with grid"
   ]
  },
  {
   "cell_type": "code",
   "execution_count": null,
   "metadata": {},
   "outputs": [
    {
     "data": {
      "application/vnd.jupyter.widget-view+json": {
       "model_id": "fadde2b3e23a4d2d94cce21baa11e3a1",
       "version_major": 2,
       "version_minor": 0
      },
      "text/plain": [
       "VBox()"
      ]
     },
     "metadata": {},
     "output_type": "display_data"
    },
    {
     "data": {
      "application/vnd.jupyter.widget-view+json": {
       "model_id": "",
       "version_major": 2,
       "version_minor": 0
      },
      "text/plain": [
       "FloatProgress(value=0.0, bar_style='info', description='Progress:', layout=Layout(height='25px', width='50%'),…"
      ]
     },
     "metadata": {},
     "output_type": "display_data"
    }
   ],
   "source": [
    "temp = test.agg(F.min(\"longitude\"),F.min('latitude'), F.max(\"longitude\"), F.max(\"latitude\"))"
   ]
  },
  {
   "cell_type": "code",
   "execution_count": null,
   "metadata": {},
   "outputs": [
    {
     "data": {
      "application/vnd.jupyter.widget-view+json": {
       "model_id": "0f7a85ee563e4611a38e7a17b430e89f",
       "version_major": 2,
       "version_minor": 0
      },
      "text/plain": [
       "VBox()"
      ]
     },
     "metadata": {},
     "output_type": "display_data"
    },
    {
     "data": {
      "application/vnd.jupyter.widget-view+json": {
       "model_id": "",
       "version_major": 2,
       "version_minor": 0
      },
      "text/plain": [
       "FloatProgress(value=0.0, bar_style='info', description='Progress:', layout=Layout(height='25px', width='50%'),…"
      ]
     },
     "metadata": {},
     "output_type": "display_data"
    }
   ],
   "source": [
    "test=test.cache()"
   ]
  },
  {
   "cell_type": "code",
   "execution_count": null,
   "metadata": {},
   "outputs": [
    {
     "data": {
      "application/vnd.jupyter.widget-view+json": {
       "model_id": "d9fad10b2d90418aa2fd863fe2cf16a4",
       "version_major": 2,
       "version_minor": 0
      },
      "text/plain": [
       "VBox()"
      ]
     },
     "metadata": {},
     "output_type": "display_data"
    },
    {
     "data": {
      "application/vnd.jupyter.widget-view+json": {
       "model_id": "",
       "version_major": 2,
       "version_minor": 0
      },
      "text/plain": [
       "FloatProgress(value=0.0, bar_style='info', description='Progress:', layout=Layout(height='25px', width='50%'),…"
      ]
     },
     "metadata": {},
     "output_type": "display_data"
    }
   ],
   "source": [
    "def create_grid(min_x, max_x, min_y, max_y, step):\n",
    "    grid = []\n",
    "    for x in np.arange(min_x, max_x, step):\n",
    "        for y in np.arange(min_y, max_y, step):\n",
    "            grid.append(Polygon([(x, y), (x+step, y), (x+step, y+step), (x, y+step)]))\n",
    "    return grid\n",
    "\n",
    "# create the grid\n",
    "min_x, min_y, max_x, max_y =[7649981.160830013, 2531547.754779711, 9015022.947024144, 3621930.062059432]\n",
    "grid = create_grid(min_x, max_x, min_y, max_y, step=40000) # 5km grid\n",
    "\n",
    "# create a GeoDataFrame from the grid\n",
    "grid_gdf = gpd.GeoDataFrame(geometry=grid)\n",
    "grid_gdf['x'] = grid_gdf.geometry.centroid.x\n",
    "grid_gdf['y'] = grid_gdf.geometry.centroid.y"
   ]
  },
  {
   "cell_type": "code",
   "execution_count": null,
   "metadata": {},
   "outputs": [
    {
     "data": {
      "application/vnd.jupyter.widget-view+json": {
       "model_id": "4e0d99b76fd94de9934854a21fe132d8",
       "version_major": 2,
       "version_minor": 0
      },
      "text/plain": [
       "VBox()"
      ]
     },
     "metadata": {},
     "output_type": "display_data"
    },
    {
     "data": {
      "application/vnd.jupyter.widget-view+json": {
       "model_id": "",
       "version_major": 2,
       "version_minor": 0
      },
      "text/plain": [
       "FloatProgress(value=0.0, bar_style='info', description='Progress:', layout=Layout(height='25px', width='50%'),…"
      ]
     },
     "metadata": {},
     "output_type": "display_data"
    }
   ],
   "source": [
    "grid_gdf.crs = crs\n",
    "grid_poly = spark.createDataFrame(grid_gdf).cache()"
   ]
  },
  {
   "cell_type": "code",
   "execution_count": null,
   "metadata": {},
   "outputs": [
    {
     "data": {
      "application/vnd.jupyter.widget-view+json": {
       "model_id": "6fa3fcee56754c91b5089ad94459e3ca",
       "version_major": 2,
       "version_minor": 0
      },
      "text/plain": [
       "VBox()"
      ]
     },
     "metadata": {},
     "output_type": "display_data"
    },
    {
     "data": {
      "application/vnd.jupyter.widget-view+json": {
       "model_id": "",
       "version_major": 2,
       "version_minor": 0
      },
      "text/plain": [
       "FloatProgress(value=0.0, bar_style='info', description='Progress:', layout=Layout(height='25px', width='50%'),…"
      ]
     },
     "metadata": {},
     "output_type": "display_data"
    }
   ],
   "source": [
    "grid_poly.write.mode(\"overwrite\").parquet(data_dir + 'grid_poly')"
   ]
  },
  {
   "cell_type": "code",
   "execution_count": null,
   "metadata": {},
   "outputs": [
    {
     "data": {
      "application/vnd.jupyter.widget-view+json": {
       "model_id": "9428e3e7dfab4a4795f4db258a77e509",
       "version_major": 2,
       "version_minor": 0
      },
      "text/plain": [
       "VBox()"
      ]
     },
     "metadata": {},
     "output_type": "display_data"
    },
    {
     "data": {
      "application/vnd.jupyter.widget-view+json": {
       "model_id": "",
       "version_major": 2,
       "version_minor": 0
      },
      "text/plain": [
       "FloatProgress(value=0.0, bar_style='info', description='Progress:', layout=Layout(height='25px', width='50%'),…"
      ]
     },
     "metadata": {},
     "output_type": "display_data"
    },
    {
     "name": "stdout",
     "output_type": "stream",
     "text": [
      "93785780"
     ]
    }
   ],
   "source": [
    "test.count()"
   ]
  },
  {
   "cell_type": "code",
   "execution_count": null,
   "metadata": {},
   "outputs": [
    {
     "data": {
      "application/vnd.jupyter.widget-view+json": {
       "model_id": "4f0d8d64f6ce4c96b372e3cec127de74",
       "version_major": 2,
       "version_minor": 0
      },
      "text/plain": [
       "VBox()"
      ]
     },
     "metadata": {},
     "output_type": "display_data"
    },
    {
     "data": {
      "application/vnd.jupyter.widget-view+json": {
       "model_id": "",
       "version_major": 2,
       "version_minor": 0
      },
      "text/plain": [
       "FloatProgress(value=0.0, bar_style='info', description='Progress:', layout=Layout(height='25px', width='50%'),…"
      ]
     },
     "metadata": {},
     "output_type": "display_data"
    }
   ],
   "source": [
    "joined = spatialIntersection(test, grid_poly, crs=crs)\n"
   ]
  },
  {
   "cell_type": "code",
   "execution_count": null,
   "metadata": {},
   "outputs": [
    {
     "data": {
      "application/vnd.jupyter.widget-view+json": {
       "model_id": "4356c00453174903a6c115d045793270",
       "version_major": 2,
       "version_minor": 0
      },
      "text/plain": [
       "VBox()"
      ]
     },
     "metadata": {},
     "output_type": "display_data"
    },
    {
     "data": {
      "application/vnd.jupyter.widget-view+json": {
       "model_id": "",
       "version_major": 2,
       "version_minor": 0
      },
      "text/plain": [
       "FloatProgress(value=0.0, bar_style='info', description='Progress:', layout=Layout(height='25px', width='50%'),…"
      ]
     },
     "metadata": {},
     "output_type": "display_data"
    }
   ],
   "source": [
    "joined = joined.cache()"
   ]
  },
  {
   "cell_type": "code",
   "execution_count": null,
   "metadata": {},
   "outputs": [
    {
     "data": {
      "application/vnd.jupyter.widget-view+json": {
       "model_id": "fc2870a8ca744d8b95379039a68e5247",
       "version_major": 2,
       "version_minor": 0
      },
      "text/plain": [
       "VBox()"
      ]
     },
     "metadata": {},
     "output_type": "display_data"
    },
    {
     "data": {
      "application/vnd.jupyter.widget-view+json": {
       "model_id": "",
       "version_major": 2,
       "version_minor": 0
      },
      "text/plain": [
       "FloatProgress(value=0.0, bar_style='info', description='Progress:', layout=Layout(height='25px', width='50%'),…"
      ]
     },
     "metadata": {},
     "output_type": "display_data"
    }
   ],
   "source": [
    "joined = joined.withColumn(\"date\", F.to_date(\"date\"))\n",
    "(joined.drop(\"rightgeometry\", \"leftgeometry\", \"caid\", \"latitude\", \"longitude\", \"utc_timestamp\").write.mode(\"overwrite\")\n",
    "        .option(\"header\",\"true\").csv(data_dir + \"joined_subsampling\", compression=\"gzip\"))"
   ]
  },
  {
   "cell_type": "code",
   "execution_count": null,
   "metadata": {},
   "outputs": [
    {
     "data": {
      "application/vnd.jupyter.widget-view+json": {
       "model_id": "e5c74e6a3d9d4605973acba0a772edc4",
       "version_major": 2,
       "version_minor": 0
      },
      "text/plain": [
       "VBox()"
      ]
     },
     "metadata": {},
     "output_type": "display_data"
    },
    {
     "data": {
      "application/vnd.jupyter.widget-view+json": {
       "model_id": "",
       "version_major": 2,
       "version_minor": 0
      },
      "text/plain": [
       "FloatProgress(value=0.0, bar_style='info', description='Progress:', layout=Layout(height='25px', width='50%'),…"
      ]
     },
     "metadata": {},
     "output_type": "display_data"
    }
   ],
   "source": [
    "joined = joined.withColumn(\"post\", (F.col(\"date\") == \"2021-09-26\").cast(IntegerType()))"
   ]
  },
  {
   "cell_type": "code",
   "execution_count": null,
   "metadata": {},
   "outputs": [
    {
     "data": {
      "application/vnd.jupyter.widget-view+json": {
       "model_id": "519e82440f194c49a08a985fa47a0a48",
       "version_major": 2,
       "version_minor": 0
      },
      "text/plain": [
       "VBox()"
      ]
     },
     "metadata": {},
     "output_type": "display_data"
    },
    {
     "data": {
      "application/vnd.jupyter.widget-view+json": {
       "model_id": "",
       "version_major": 2,
       "version_minor": 0
      },
      "text/plain": [
       "FloatProgress(value=0.0, bar_style='info', description='Progress:', layout=Layout(height='25px', width='50%'),…"
      ]
     },
     "metadata": {},
     "output_type": "display_data"
    }
   ],
   "source": [
    "(joined.drop(\"rightgeometry\", \"leftgeometry\", \"caid\", \"latitude\", \"longitude\", \"utc_timestamp\")\n",
    "    .write.mode(\"overwrite\").option(\"header\",\"true\").csv(data_dir + \"joined_subsampling\", compression=\"gzip\")\n",
    ")"
   ]
  },
  {
   "cell_type": "markdown",
   "metadata": {},
   "source": [
    "### And finally add GADM for day of aggregation"
   ]
  },
  {
   "cell_type": "code",
   "execution_count": 3,
   "metadata": {
    "execution": {
     "iopub.execute_input": "2023-11-17T19:30:21.967423Z",
     "iopub.status.busy": "2023-11-17T19:30:21.967104Z",
     "iopub.status.idle": "2023-11-17T19:30:31.243394Z",
     "shell.execute_reply": "2023-11-17T19:30:31.242782Z",
     "shell.execute_reply.started": "2023-11-17T19:30:21.967397Z"
    },
    "tags": []
   },
   "outputs": [
    {
     "data": {
      "application/vnd.jupyter.widget-view+json": {
       "model_id": "96b5a04da470461ba83088bf0c551d8b",
       "version_major": 2,
       "version_minor": 0
      },
      "text/plain": [
       "VBox()"
      ]
     },
     "metadata": {},
     "output_type": "display_data"
    },
    {
     "data": {
      "application/vnd.jupyter.widget-view+json": {
       "model_id": "",
       "version_major": 2,
       "version_minor": 0
      },
      "text/plain": [
       "FloatProgress(value=0.0, bar_style='info', description='Progress:', layout=Layout(height='25px', width='50%'),…"
      ]
     },
     "metadata": {},
     "output_type": "display_data"
    }
   ],
   "source": [
    "joined = spark.read.csv(data_dir + \"joined_subsampling\", header=True)\n",
    "grid_poly = spark.read.parquet(data_dir + \"grid_poly\")"
   ]
  },
  {
   "cell_type": "code",
   "execution_count": 4,
   "metadata": {
    "execution": {
     "iopub.execute_input": "2023-11-17T19:30:31.244700Z",
     "iopub.status.busy": "2023-11-17T19:30:31.244456Z",
     "iopub.status.idle": "2023-11-17T19:30:31.482805Z",
     "shell.execute_reply": "2023-11-17T19:30:31.482172Z",
     "shell.execute_reply.started": "2023-11-17T19:30:31.244678Z"
    },
    "tags": []
   },
   "outputs": [
    {
     "data": {
      "application/vnd.jupyter.widget-view+json": {
       "model_id": "4bbf51c8f8cb40b29d472658bc09916a",
       "version_major": 2,
       "version_minor": 0
      },
      "text/plain": [
       "VBox()"
      ]
     },
     "metadata": {},
     "output_type": "display_data"
    },
    {
     "data": {
      "application/vnd.jupyter.widget-view+json": {
       "model_id": "",
       "version_major": 2,
       "version_minor": 0
      },
      "text/plain": [
       "FloatProgress(value=0.0, bar_style='info', description='Progress:', layout=Layout(height='25px', width='50%'),…"
      ]
     },
     "metadata": {},
     "output_type": "display_data"
    }
   ],
   "source": [
    "# Initialize an empty DataFrame for the result\n",
    "grid_full = grid_poly.withColumn(\"post\", F.lit(0)).union(grid_poly.withColumn(\"post\", F.lit(1)))"
   ]
  },
  {
   "cell_type": "code",
   "execution_count": 5,
   "metadata": {
    "execution": {
     "iopub.execute_input": "2023-11-17T19:30:31.484334Z",
     "iopub.status.busy": "2023-11-17T19:30:31.484117Z",
     "iopub.status.idle": "2023-11-17T19:30:31.720531Z",
     "shell.execute_reply": "2023-11-17T19:30:31.719965Z",
     "shell.execute_reply.started": "2023-11-17T19:30:31.484312Z"
    },
    "tags": []
   },
   "outputs": [
    {
     "data": {
      "application/vnd.jupyter.widget-view+json": {
       "model_id": "189f657038c045c687c7c4ff06b46dc0",
       "version_major": 2,
       "version_minor": 0
      },
      "text/plain": [
       "VBox()"
      ]
     },
     "metadata": {},
     "output_type": "display_data"
    },
    {
     "data": {
      "application/vnd.jupyter.widget-view+json": {
       "model_id": "",
       "version_major": 2,
       "version_minor": 0
      },
      "text/plain": [
       "FloatProgress(value=0.0, bar_style='info', description='Progress:', layout=Layout(height='25px', width='50%'),…"
      ]
     },
     "metadata": {},
     "output_type": "display_data"
    }
   ],
   "source": [
    "# merge missing grid cells back in \n",
    "grid_full = (joined.drop(\"rightgeometry\", \"leftgeometry\", \"caid\", \"latitude\", \"longitude\", \"utc_timestamp\")\n",
    "                    .join(grid_full.drop(\"geometry\"), how = \"outer\", on = [\"x\", \"y\", \"post\"])\n",
    "            )"
   ]
  },
  {
   "cell_type": "code",
   "execution_count": 6,
   "metadata": {
    "execution": {
     "iopub.execute_input": "2023-11-17T19:30:31.721912Z",
     "iopub.status.busy": "2023-11-17T19:30:31.721701Z",
     "iopub.status.idle": "2023-11-17T19:30:36.981807Z",
     "shell.execute_reply": "2023-11-17T19:30:36.981209Z",
     "shell.execute_reply.started": "2023-11-17T19:30:31.721892Z"
    },
    "tags": []
   },
   "outputs": [
    {
     "data": {
      "application/vnd.jupyter.widget-view+json": {
       "model_id": "8885b2ffb6874c32ab9ec0241120d7f3",
       "version_major": 2,
       "version_minor": 0
      },
      "text/plain": [
       "VBox()"
      ]
     },
     "metadata": {},
     "output_type": "display_data"
    },
    {
     "data": {
      "application/vnd.jupyter.widget-view+json": {
       "model_id": "",
       "version_major": 2,
       "version_minor": 0
      },
      "text/plain": [
       "FloatProgress(value=0.0, bar_style='info', description='Progress:', layout=Layout(height='25px', width='50%'),…"
      ]
     },
     "metadata": {},
     "output_type": "display_data"
    }
   ],
   "source": [
    "gidname = \"gadm41_IND_3.json\"\n",
    "gadm = gpd.read_file(data_dir + gidname).to_crs(\"epsg:3857\")\n",
    "# create the grid\n",
    "min_x, min_y, max_x, max_y =[7649981.160830013, 2531547.754779711, 9015022.947024144, 3621930.062059432]\n",
    "gadm = gadm.cx[min_x:max_x, min_y:max_y]\n",
    "gadm = spark.createDataFrame(gadm).cache().select(\"NAME_3\", \"geometry\")"
   ]
  },
  {
   "cell_type": "code",
   "execution_count": 7,
   "metadata": {
    "execution": {
     "iopub.execute_input": "2023-11-17T19:30:36.982847Z",
     "iopub.status.busy": "2023-11-17T19:30:36.982642Z",
     "iopub.status.idle": "2023-11-17T19:30:37.219497Z",
     "shell.execute_reply": "2023-11-17T19:30:37.218931Z",
     "shell.execute_reply.started": "2023-11-17T19:30:36.982826Z"
    },
    "tags": []
   },
   "outputs": [
    {
     "data": {
      "application/vnd.jupyter.widget-view+json": {
       "model_id": "9bc2e3aadd7e41dda645085ec129a4f5",
       "version_major": 2,
       "version_minor": 0
      },
      "text/plain": [
       "VBox()"
      ]
     },
     "metadata": {},
     "output_type": "display_data"
    },
    {
     "data": {
      "application/vnd.jupyter.widget-view+json": {
       "model_id": "",
       "version_major": 2,
       "version_minor": 0
      },
      "text/plain": [
       "FloatProgress(value=0.0, bar_style='info', description='Progress:', layout=Layout(height='25px', width='50%'),…"
      ]
     },
     "metadata": {},
     "output_type": "display_data"
    }
   ],
   "source": [
    "grid_full = grid_full.withColumns({'longitude' : F.col('x').cast(DoubleType()), 'latitude' : F.col('y').cast(DoubleType())})"
   ]
  },
  {
   "cell_type": "code",
   "execution_count": 8,
   "metadata": {
    "execution": {
     "iopub.execute_input": "2023-11-17T19:30:37.220448Z",
     "iopub.status.busy": "2023-11-17T19:30:37.220243Z",
     "iopub.status.idle": "2023-11-17T19:33:08.890805Z",
     "shell.execute_reply": "2023-11-17T19:33:08.890168Z",
     "shell.execute_reply.started": "2023-11-17T19:30:37.220428Z"
    },
    "tags": []
   },
   "outputs": [
    {
     "data": {
      "application/vnd.jupyter.widget-view+json": {
       "model_id": "4e5d90f5c75344c1999fad7e66b6116c",
       "version_major": 2,
       "version_minor": 0
      },
      "text/plain": [
       "VBox()"
      ]
     },
     "metadata": {},
     "output_type": "display_data"
    },
    {
     "data": {
      "application/vnd.jupyter.widget-view+json": {
       "model_id": "",
       "version_major": 2,
       "version_minor": 0
      },
      "text/plain": [
       "FloatProgress(value=0.0, bar_style='info', description='Progress:', layout=Layout(height='25px', width='50%'),…"
      ]
     },
     "metadata": {},
     "output_type": "display_data"
    },
    {
     "name": "stdout",
     "output_type": "stream",
     "text": [
      "[('3.0', '2.12', '1.4.0')]"
     ]
    }
   ],
   "source": [
    "joined = spatialIntersection(grid_full, gadm, origin_crs=crs, crs=crs, transform=False)\n"
   ]
  },
  {
   "cell_type": "code",
   "execution_count": 9,
   "metadata": {
    "execution": {
     "iopub.execute_input": "2023-11-17T19:33:08.891943Z",
     "iopub.status.busy": "2023-11-17T19:33:08.891729Z",
     "iopub.status.idle": "2023-11-17T20:15:02.389378Z",
     "shell.execute_reply": "2023-11-17T20:15:02.388743Z",
     "shell.execute_reply.started": "2023-11-17T19:33:08.891921Z"
    },
    "tags": []
   },
   "outputs": [
    {
     "data": {
      "application/vnd.jupyter.widget-view+json": {
       "model_id": "01448aa51c634fb6bb595083ce5cb9e0",
       "version_major": 2,
       "version_minor": 0
      },
      "text/plain": [
       "VBox()"
      ]
     },
     "metadata": {},
     "output_type": "display_data"
    },
    {
     "data": {
      "application/vnd.jupyter.widget-view+json": {
       "model_id": "",
       "version_major": 2,
       "version_minor": 0
      },
      "text/plain": [
       "FloatProgress(value=0.0, bar_style='info', description='Progress:', layout=Layout(height='25px', width='50%'),…"
      ]
     },
     "metadata": {},
     "output_type": "display_data"
    }
   ],
   "source": [
    "joined.drop(\"rightgeometry\", \"leftgeometry\").repartition(1).write.mode(\"overwrite\").option(\"header\",\"true\").csv(data_dir + \"grid_subsampling\", compression=\"gzip\")"
   ]
  },
  {
   "cell_type": "code",
   "execution_count": 11,
   "metadata": {
    "execution": {
     "iopub.execute_input": "2023-11-17T20:24:42.743569Z",
     "iopub.status.busy": "2023-11-17T20:24:42.743257Z",
     "iopub.status.idle": "2023-11-17T20:30:10.778648Z",
     "shell.execute_reply": "2023-11-17T20:30:10.778058Z",
     "shell.execute_reply.started": "2023-11-17T20:24:42.743544Z"
    },
    "tags": []
   },
   "outputs": [
    {
     "data": {
      "application/vnd.jupyter.widget-view+json": {
       "model_id": "2602f6b2109c4c7d89eceb362d3d0ff8",
       "version_major": 2,
       "version_minor": 0
      },
      "text/plain": [
       "VBox()"
      ]
     },
     "metadata": {},
     "output_type": "display_data"
    },
    {
     "data": {
      "application/vnd.jupyter.widget-view+json": {
       "model_id": "",
       "version_major": 2,
       "version_minor": 0
      },
      "text/plain": [
       "FloatProgress(value=0.0, bar_style='info', description='Progress:', layout=Layout(height='25px', width='50%'),…"
      ]
     },
     "metadata": {},
     "output_type": "display_data"
    },
    {
     "name": "stdout",
     "output_type": "stream",
     "text": [
      "+------------------+\n",
      "|         avg(shop)|\n",
      "+------------------+\n",
      "|0.1793590379033833|\n",
      "+------------------+"
     ]
    }
   ],
   "source": [
    "joined = spark.read.csv(data_dir + \"grid_subsampling\", header=True)\n",
    "joined.agg(F.mean(\"shop\")).show()"
   ]
  },
  {
   "cell_type": "code",
   "execution_count": null,
   "metadata": {},
   "outputs": [],
   "source": []
  }
 ],
 "metadata": {
  "kernelspec": {
   "display_name": "PySpark",
   "language": "python",
   "name": "pysparkkernel"
  },
  "language_info": {
   "codemirror_mode": {
    "name": "python",
    "version": 3
   },
   "file_extension": ".py",
   "mimetype": "text/x-python",
   "name": "pyspark",
   "pygments_lexer": "python3"
  }
 },
 "nbformat": 4,
 "nbformat_minor": 4
}
