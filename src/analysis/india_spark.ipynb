{
 "cells": [
  {
   "cell_type": "code",
   "execution_count": 1,
   "metadata": {
    "execution": {
     "iopub.execute_input": "2023-11-14T03:58:23.031641Z",
     "iopub.status.busy": "2023-11-14T03:58:23.031310Z",
     "iopub.status.idle": "2023-11-14T03:59:42.388298Z",
     "shell.execute_reply": "2023-11-14T03:59:42.387689Z",
     "shell.execute_reply.started": "2023-11-14T03:58:23.031610Z"
    },
    "tags": []
   },
   "outputs": [
    {
     "data": {
      "application/vnd.jupyter.widget-view+json": {
       "model_id": "8049b326258e4cadbdf6bdfde934ec24",
       "version_major": 2,
       "version_minor": 0
      },
      "text/plain": [
       "VBox()"
      ]
     },
     "metadata": {},
     "output_type": "display_data"
    },
    {
     "name": "stdout",
     "output_type": "stream",
     "text": [
      "Starting Spark application\n"
     ]
    },
    {
     "data": {
      "text/html": [
       "<table>\n",
       "<tbody><tr><th>ID</th><th>YARN Application ID</th><th>Kind</th><th>State</th><th>Spark UI</th><th>Driver log</th><th>User</th><th>Current session?</th></tr><tr><td>0</td><td>application_1699933210764_0001</td><td>pyspark</td><td>idle</td><td><a target=\"_blank\" href=\"http://ip-172-31-41-103.ec2.internal:20888/proxy/application_1699933210764_0001/\" class=\"emr-proxy-link j-3DZKJP9FLYZ3M application_1699933210764_0001\" emr-resource=\"j-3DZKJP9FLYZ3M\n",
       "\" application-id=\"application_1699933210764_0001\">Link</a></td><td><a target=\"_blank\" href=\"http://ip-172-31-43-43.ec2.internal:8042/node/containerlogs/container_1699933210764_0001_01_000001/livy\">Link</a></td><td>None</td><td>✔</td></tr></tbody></table>"
      ],
      "text/plain": [
       "<IPython.core.display.HTML object>"
      ]
     },
     "metadata": {},
     "output_type": "display_data"
    },
    {
     "data": {
      "application/vnd.jupyter.widget-view+json": {
       "model_id": "",
       "version_major": 2,
       "version_minor": 0
      },
      "text/plain": [
       "FloatProgress(value=0.0, bar_style='info', description='Progress:', layout=Layout(height='25px', width='50%'),…"
      ]
     },
     "metadata": {},
     "output_type": "display_data"
    },
    {
     "name": "stdout",
     "output_type": "stream",
     "text": [
      "SparkSession available as 'spark'.\n"
     ]
    },
    {
     "data": {
      "application/vnd.jupyter.widget-view+json": {
       "model_id": "",
       "version_major": 2,
       "version_minor": 0
      },
      "text/plain": [
       "FloatProgress(value=0.0, bar_style='info', description='Progress:', layout=Layout(height='25px', width='50%'),…"
      ]
     },
     "metadata": {},
     "output_type": "display_data"
    }
   ],
   "source": [
    "\"\"\" Filter India data\n",
    "\n",
    "aws emr add-steps --cluster-id <Your EMR cluster id> --steps Type=spark,Name=TestJob,Args=[--deploy-mode,cluster,--master,yarn,--conf,spark.yarn.submit.waitAppCompletion=true,s3a://your-source-bucket/code/pythonjob.py,s3a://your-source-bucket/data/data.csv,s3a://your-destination-bucket/test-output/],ActionOnFailure=CONTINUE\n",
    "\"\"\"\n",
    "\n",
    "from collections import namedtuple\n",
    "import logging\n",
    "import sys\n",
    "\n",
    "from geopy.distance import great_circle\n",
    "import pandas as pd\n",
    "import geopandas as gpd\n",
    "import numpy as np\n",
    "\n",
    "from datetime import timedelta, date, datetime\n",
    "from statistics import *\n",
    "\n",
    "\n",
    "from pyspark import SparkContext\n",
    "from pyspark.sql import SQLContext, SparkSession\n",
    "from pyspark.sql.window import Window\n",
    "from pyspark.sql.types import (\n",
    "    StructType,\n",
    "    LongType,\n",
    "    StructField,\n",
    "    IntegerType,\n",
    "    StringType,\n",
    "    DoubleType,\n",
    "    TimestampType,\n",
    "    ArrayType,\n",
    "    BinaryType\n",
    ")\n",
    "import pyspark.sql.functions as F\n",
    "from math import *\n",
    "import time\n",
    "import json\n",
    "import boto3\n",
    "\n",
    "from sedona.register import SedonaRegistrator  \n",
    "from sedona.utils import SedonaKryoRegistrator, KryoSerializer\n",
    "from pyspark.sql.functions import udf\n",
    "from sedona.utils.adapter import Adapter\n",
    "from sedona.core.formatMapper.shapefileParser import ShapefileReader\n",
    "from sedona.core.SpatialRDD import PointRDD, SpatialRDD, CircleRDD\n",
    "from sedona.sql.types import GeometryType\n",
    "from sedona.core.enums import GridType, IndexType\n",
    "from sedona.core.spatialOperator import JoinQueryRaw\n",
    "from sedona.core.spatialOperator import JoinQuery\n",
    "from sedona.core.enums import IndexType\n",
    "from sedona.core.formatMapper.disc_utils import load_spatial_rdd_from_disc, GeoType\n",
    "from sedona.core.formatMapper import WktReader, GeoJsonReader\n",
    "\n",
    "from shapely.wkt import loads as wkt_loads\n",
    "from shapely.geometry import Point, Polygon, shape\n",
    "from shapely.ops import transform\n",
    "import shapely\n",
    "\n",
    "import s3fs\n",
    "\n",
    "s3 = s3fs.S3FileSystem(anon=False)\n",
    "\n",
    "spark = (SparkSession.builder.appName(\"sedona\")\n",
    "                 .config(\"spark.serializer\", KryoSerializer.getName)          \n",
    "        .config(\"spark.kryo.registrator\",     \n",
    "                  SedonaKryoRegistrator.getName)    \n",
    "         .config(\"spark.driver.maxResultSize\", \"3g\")\n",
    "    .getOrCreate() \n",
    "        )\n",
    "\n",
    "# Register Sedona UDTs and UDFs\n",
    "SedonaRegistrator.registerAll(spark)\n",
    "spark.sparkContext.addPyFile(\"s3://ipsos-dvd/scripts/utils.py\")\n",
    "\n",
    "bsdir = \"s3://ipsos-dvd/fdd/\"\n",
    "data_dir = bsdir + \"data/\"\n",
    "fn = data_dir +  \"pings_IN_2021-09-01_2021-09-30/\"\n",
    "\n",
    "\n"
   ]
  },
  {
   "cell_type": "code",
   "execution_count": null,
   "metadata": {},
   "outputs": [],
   "source": [
    "india = spark.read.parquet(fn)\n"
   ]
  },
  {
   "cell_type": "code",
   "execution_count": null,
   "metadata": {},
   "outputs": [],
   "source": [
    "# filter on bounding box\n",
    "minx, maxx = 68.716667, 80.983333 # Longitude\n",
    "miny, maxy = 22.166667, 30.916667 # Latitude\n",
    "\n",
    "# filter on rajastan\n",
    "india = india.filter(F.col('longitude').between(minx, maxx) & F.col('latitude').between(miny, maxy))\n",
    "\n",
    "# filter on internet blackout dates\n",
    "india = india.withColumn(\"date\", F.from_utc_timestamp(F.col(\"utc_timestamp\").cast(TimestampType()), tz = \"IST\"))\n",
    "# india = india.filter(F.to_date(F.col(\"date\")).isin([\"2021-09-05\", \"2021-09-12\", \"2021-09-19\", \"2021-09-26\"]))\n",
    "india = india.filter(F.to_date(F.col(\"date\")).isin([\"2021-09-06\", \"2021-09-13\", \"2021-09-20\", \"2021-09-27\"]))\n",
    "\n",
    "\n",
    "india.write.mode(\"overwrite\").parquet(\"s3://ipsos-dvd/fdd/data/rajasatan_monday_sep_2021\")"
   ]
  },
  {
   "cell_type": "markdown",
   "metadata": {},
   "source": [
    "## Intersect with shops and grid for subsampling"
   ]
  },
  {
   "cell_type": "code",
   "execution_count": 2,
   "metadata": {
    "execution": {
     "iopub.execute_input": "2023-11-14T03:59:42.389555Z",
     "iopub.status.busy": "2023-11-14T03:59:42.389337Z",
     "iopub.status.idle": "2023-11-14T03:59:42.433593Z",
     "shell.execute_reply": "2023-11-14T03:59:42.432966Z",
     "shell.execute_reply.started": "2023-11-14T03:59:42.389533Z"
    },
    "tags": []
   },
   "outputs": [
    {
     "data": {
      "application/vnd.jupyter.widget-view+json": {
       "model_id": "ac62b1284a30479f9eac7b60ef14eb4f",
       "version_major": 2,
       "version_minor": 0
      },
      "text/plain": [
       "VBox()"
      ]
     },
     "metadata": {},
     "output_type": "display_data"
    },
    {
     "data": {
      "application/vnd.jupyter.widget-view+json": {
       "model_id": "",
       "version_major": 2,
       "version_minor": 0
      },
      "text/plain": [
       "FloatProgress(value=0.0, bar_style='info', description='Progress:', layout=Layout(height='25px', width='50%'),…"
      ]
     },
     "metadata": {},
     "output_type": "display_data"
    }
   ],
   "source": [
    "### First intersect shops"
   ]
  },
  {
   "cell_type": "code",
   "execution_count": 3,
   "metadata": {
    "execution": {
     "iopub.execute_input": "2023-11-14T03:59:42.435192Z",
     "iopub.status.busy": "2023-11-14T03:59:42.434973Z",
     "iopub.status.idle": "2023-11-14T03:59:45.714519Z",
     "shell.execute_reply": "2023-11-14T03:59:45.713773Z",
     "shell.execute_reply.started": "2023-11-14T03:59:42.435171Z"
    },
    "tags": []
   },
   "outputs": [
    {
     "data": {
      "application/vnd.jupyter.widget-view+json": {
       "model_id": "3916194b8d7f48b3b9289e5664ee5aa0",
       "version_major": 2,
       "version_minor": 0
      },
      "text/plain": [
       "VBox()"
      ]
     },
     "metadata": {},
     "output_type": "display_data"
    },
    {
     "data": {
      "application/vnd.jupyter.widget-view+json": {
       "model_id": "",
       "version_major": 2,
       "version_minor": 0
      },
      "text/plain": [
       "FloatProgress(value=0.0, bar_style='info', description='Progress:', layout=Layout(height='25px', width='50%'),…"
      ]
     },
     "metadata": {},
     "output_type": "display_data"
    }
   ],
   "source": [
    "# read data\n",
    "pings = spark.read.parquet(\"s3://ipsos-dvd/fdd/data/rajasatan_sundays_sep_2021\")\n",
    "\n"
   ]
  },
  {
   "cell_type": "code",
   "execution_count": 4,
   "metadata": {
    "execution": {
     "iopub.execute_input": "2023-11-14T03:59:45.715869Z",
     "iopub.status.busy": "2023-11-14T03:59:45.715647Z",
     "iopub.status.idle": "2023-11-14T03:59:50.997334Z",
     "shell.execute_reply": "2023-11-14T03:59:50.996555Z",
     "shell.execute_reply.started": "2023-11-14T03:59:45.715848Z"
    },
    "tags": []
   },
   "outputs": [
    {
     "data": {
      "application/vnd.jupyter.widget-view+json": {
       "model_id": "484027f0bff443caa83d45f89a9de408",
       "version_major": 2,
       "version_minor": 0
      },
      "text/plain": [
       "VBox()"
      ]
     },
     "metadata": {},
     "output_type": "display_data"
    },
    {
     "data": {
      "application/vnd.jupyter.widget-view+json": {
       "model_id": "",
       "version_major": 2,
       "version_minor": 0
      },
      "text/plain": [
       "FloatProgress(value=0.0, bar_style='info', description='Progress:', layout=Layout(height='25px', width='50%'),…"
      ]
     },
     "metadata": {},
     "output_type": "display_data"
    },
    {
     "name": "stdout",
     "output_type": "stream",
     "text": [
      "+--------------------+---------+---------+-------------+--------+-------------------+\n",
      "|                caid| latitude|longitude|utc_timestamp|altitude|               date|\n",
      "+--------------------+---------+---------+-------------+--------+-------------------+\n",
      "|f2be0cf8cbca54449...|  28.6542|  77.2373|   1631428195|    null|2021-09-12 11:59:55|\n",
      "|f2be0cf8cbca54449...|  28.6542|  77.2373|   1631434184|    null|2021-09-12 13:39:44|\n",
      "|fc0b23d7eab67cad7...|30.725517|76.651452|   1631414310|    null|2021-09-12 08:08:30|\n",
      "|fc0b23d7eab67cad7...| 30.72552| 76.65146|   1631414325|    null|2021-09-12 08:08:45|\n",
      "|59b38e4c4d40a7bc1...| 28.62679| 77.37367|   1631413870|    null|2021-09-12 08:01:10|\n",
      "|59b38e4c4d40a7bc1...| 28.62679| 77.37367|   1631413873|    null|2021-09-12 08:01:13|\n",
      "|59b38e4c4d40a7bc1...| 28.62679| 77.37367|   1631413884|    null|2021-09-12 08:01:24|\n",
      "|d5270b5203bf1448d...| 28.70826| 77.28874|   1631470995|    null|2021-09-12 23:53:15|\n",
      "|d5270b5203bf1448d...| 28.70825| 77.28873|   1631471000|    null|2021-09-12 23:53:20|\n",
      "|d5270b5203bf1448d...| 28.70826| 77.28874|   1631471091|    null|2021-09-12 23:54:51|\n",
      "|d5270b5203bf1448d...| 28.70825| 77.28873|   1631471379|    null|2021-09-12 23:59:39|\n",
      "|d5270b5203bf1448d...| 28.70826| 77.28874|   1631471389|    null|2021-09-12 23:59:49|\n",
      "|edde0e4597569ce9b...|  23.0276|  72.5871|   1631457078|    null|2021-09-12 20:01:18|\n",
      "|edde0e4597569ce9b...|  23.0276|  72.5871|   1631457088|    null|2021-09-12 20:01:28|\n",
      "|de4b28ed5d7ffe972...| 27.45945| 80.08573|   1631440024|    null|2021-09-12 15:17:04|\n",
      "|de4b28ed5d7ffe972...| 27.45946| 80.08574|   1631440073|    null|2021-09-12 15:17:53|\n",
      "|b5854b01ea9158f09...|  22.5045| 72.82493|   1631421015|    null|2021-09-12 10:00:15|\n",
      "|4e41bb216de7698c7...|  28.6327|  77.2198|   1631426109|    null|2021-09-12 11:25:09|\n",
      "|4e41bb216de7698c7...|  28.6327|  77.2198|   1631426159|    null|2021-09-12 11:25:59|\n",
      "|4e41bb216de7698c7...|  28.6327|  77.2198|   1631426174|    null|2021-09-12 11:26:14|\n",
      "+--------------------+---------+---------+-------------+--------+-------------------+\n",
      "only showing top 20 rows"
     ]
    }
   ],
   "source": [
    "pings.show()"
   ]
  },
  {
   "cell_type": "code",
   "execution_count": 5,
   "metadata": {
    "execution": {
     "iopub.execute_input": "2023-11-14T03:59:50.998533Z",
     "iopub.status.busy": "2023-11-14T03:59:50.998286Z",
     "iopub.status.idle": "2023-11-14T03:59:51.038348Z",
     "shell.execute_reply": "2023-11-14T03:59:51.037762Z",
     "shell.execute_reply.started": "2023-11-14T03:59:50.998493Z"
    },
    "tags": []
   },
   "outputs": [
    {
     "data": {
      "application/vnd.jupyter.widget-view+json": {
       "model_id": "ada295e3541e4dce977a4245969bdb34",
       "version_major": 2,
       "version_minor": 0
      },
      "text/plain": [
       "VBox()"
      ]
     },
     "metadata": {},
     "output_type": "display_data"
    },
    {
     "data": {
      "application/vnd.jupyter.widget-view+json": {
       "model_id": "",
       "version_major": 2,
       "version_minor": 0
      },
      "text/plain": [
       "FloatProgress(value=0.0, bar_style='info', description='Progress:', layout=Layout(height='25px', width='50%'),…"
      ]
     },
     "metadata": {},
     "output_type": "display_data"
    }
   ],
   "source": [
    "def spatialIntersection(pings, poly, build_on_spatial_partitioned_rdd = True, using_index = True, crs=\"epsg:4326\"): \n",
    "    \n",
    "    poly_rdd = Adapter.toSpatialRdd(poly, \"geometry\")\n",
    "\n",
    "    pings.createOrReplaceTempView(\"pings\")\n",
    "\n",
    "    # Read Hive table\n",
    "    pings = spark.sql(\n",
    "          f\"\"\"SELECT ST_FlipCoordinates(ST_Transform(ST_FlipCoordinates(ST_Point(cast(pings.longitude as Decimal(24,20)), \n",
    "          cast(pings.latitude as Decimal(24,20)))), \"epsg:4326\", \"{crs}\")) AS point, \n",
    "          *\n",
    "          FROM pings;\n",
    "          \"\"\"\n",
    "    )\n",
    "    num_partitions = 1000\n",
    "    pings = pings.repartition(num_partitions)\n",
    "    pings = pings.cache()\n",
    "    \n",
    "    grid_type = GridType.QUADTREE # this shit works so much better for skewed data\n",
    "\n",
    "    points_rdd = Adapter.toSpatialRdd(pings, \"point\")\n",
    "    points_rdd.analyze()\n",
    "    points_rdd.spatialPartitioning(grid_type)\n",
    "    \n",
    "    poly_rdd.analyze()\n",
    "    poly_rdd.spatialPartitioning(points_rdd.getPartitioner())\n",
    "    \n",
    "     ## Set to TRUE only if run join query\n",
    "    points_rdd.buildIndex(IndexType.QUADTREE, build_on_spatial_partitioned_rdd)\n",
    "    \n",
    "    result = JoinQueryRaw.SpatialJoinQueryFlat(points_rdd, poly_rdd, using_index, True)\n",
    "\n",
    "    return Adapter.toDf(result, poly_rdd.fieldNames, points_rdd.fieldNames, spark)\n",
    "\n"
   ]
  },
  {
   "cell_type": "code",
   "execution_count": 6,
   "metadata": {
    "execution": {
     "iopub.execute_input": "2023-11-14T03:59:51.039532Z",
     "iopub.status.busy": "2023-11-14T03:59:51.039193Z",
     "iopub.status.idle": "2023-11-14T04:00:28.428826Z",
     "shell.execute_reply": "2023-11-14T04:00:28.428218Z",
     "shell.execute_reply.started": "2023-11-14T03:59:51.039508Z"
    },
    "tags": []
   },
   "outputs": [
    {
     "data": {
      "application/vnd.jupyter.widget-view+json": {
       "model_id": "b5645a3d6b5048eb80c789f52436b305",
       "version_major": 2,
       "version_minor": 0
      },
      "text/plain": [
       "VBox()"
      ]
     },
     "metadata": {},
     "output_type": "display_data"
    },
    {
     "data": {
      "application/vnd.jupyter.widget-view+json": {
       "model_id": "",
       "version_major": 2,
       "version_minor": 0
      },
      "text/plain": [
       "FloatProgress(value=0.0, bar_style='info', description='Progress:', layout=Layout(height='25px', width='50%'),…"
      ]
     },
     "metadata": {},
     "output_type": "display_data"
    }
   ],
   "source": [
    "# downloading geojson from s3 is much quicker\n",
    "s3 = boto3.client('s3')\n",
    "s3.download_file('ipsos-dvd', 'fdd/data/shops.geojson', 'shops_s3.geojson')\n",
    "poly_raw = gpd.read_file(\"shops_s3.geojson\")\n",
    "crs = \"EPSG:7774\"\n",
    "poly_raw = poly_raw.to_crs(crs)"
   ]
  },
  {
   "cell_type": "code",
   "execution_count": 7,
   "metadata": {
    "execution": {
     "iopub.execute_input": "2023-11-14T04:00:28.429984Z",
     "iopub.status.busy": "2023-11-14T04:00:28.429764Z",
     "iopub.status.idle": "2023-11-14T04:00:28.674125Z",
     "shell.execute_reply": "2023-11-14T04:00:28.673476Z",
     "shell.execute_reply.started": "2023-11-14T04:00:28.429963Z"
    },
    "tags": []
   },
   "outputs": [
    {
     "data": {
      "application/vnd.jupyter.widget-view+json": {
       "model_id": "6f8d0db5363842b18880083042490c04",
       "version_major": 2,
       "version_minor": 0
      },
      "text/plain": [
       "VBox()"
      ]
     },
     "metadata": {},
     "output_type": "display_data"
    },
    {
     "data": {
      "application/vnd.jupyter.widget-view+json": {
       "model_id": "",
       "version_major": 2,
       "version_minor": 0
      },
      "text/plain": [
       "FloatProgress(value=0.0, bar_style='info', description='Progress:', layout=Layout(height='25px', width='50%'),…"
      ]
     },
     "metadata": {},
     "output_type": "display_data"
    }
   ],
   "source": [
    "poly_raw.drop(columns = \"tags\", inplace=True)"
   ]
  },
  {
   "cell_type": "code",
   "execution_count": 8,
   "metadata": {
    "execution": {
     "iopub.execute_input": "2023-11-14T04:00:28.676288Z",
     "iopub.status.busy": "2023-11-14T04:00:28.676060Z",
     "iopub.status.idle": "2023-11-14T04:00:33.954085Z",
     "shell.execute_reply": "2023-11-14T04:00:33.953206Z",
     "shell.execute_reply.started": "2023-11-14T04:00:28.676266Z"
    },
    "tags": []
   },
   "outputs": [
    {
     "data": {
      "application/vnd.jupyter.widget-view+json": {
       "model_id": "08e5f4f926424d75800b5ce66acb870f",
       "version_major": 2,
       "version_minor": 0
      },
      "text/plain": [
       "VBox()"
      ]
     },
     "metadata": {},
     "output_type": "display_data"
    },
    {
     "data": {
      "application/vnd.jupyter.widget-view+json": {
       "model_id": "",
       "version_major": 2,
       "version_minor": 0
      },
      "text/plain": [
       "FloatProgress(value=0.0, bar_style='info', description='Progress:', layout=Layout(height='25px', width='50%'),…"
      ]
     },
     "metadata": {},
     "output_type": "display_data"
    }
   ],
   "source": [
    "poly = spark.createDataFrame(poly_raw).cache()"
   ]
  },
  {
   "cell_type": "code",
   "execution_count": 9,
   "metadata": {
    "execution": {
     "iopub.execute_input": "2023-11-14T04:00:33.955517Z",
     "iopub.status.busy": "2023-11-14T04:00:33.955292Z",
     "iopub.status.idle": "2023-11-14T04:02:31.630190Z",
     "shell.execute_reply": "2023-11-14T04:02:31.629558Z",
     "shell.execute_reply.started": "2023-11-14T04:00:33.955494Z"
    },
    "tags": []
   },
   "outputs": [
    {
     "data": {
      "application/vnd.jupyter.widget-view+json": {
       "model_id": "602698827cda425b990e5cc2e6c7dedb",
       "version_major": 2,
       "version_minor": 0
      },
      "text/plain": [
       "VBox()"
      ]
     },
     "metadata": {},
     "output_type": "display_data"
    },
    {
     "data": {
      "application/vnd.jupyter.widget-view+json": {
       "model_id": "",
       "version_major": 2,
       "version_minor": 0
      },
      "text/plain": [
       "FloatProgress(value=0.0, bar_style='info', description='Progress:', layout=Layout(height='25px', width='50%'),…"
      ]
     },
     "metadata": {},
     "output_type": "display_data"
    },
    {
     "name": "stdout",
     "output_type": "stream",
     "text": [
      "[('3.0', '2.12', '1.4.0')]"
     ]
    }
   ],
   "source": [
    "joined = spatialIntersection(pings, poly, crs=crs)\n"
   ]
  },
  {
   "cell_type": "code",
   "execution_count": 10,
   "metadata": {
    "execution": {
     "iopub.execute_input": "2023-11-14T04:02:31.631348Z",
     "iopub.status.busy": "2023-11-14T04:02:31.631118Z",
     "iopub.status.idle": "2023-11-14T04:02:31.873202Z",
     "shell.execute_reply": "2023-11-14T04:02:31.872593Z",
     "shell.execute_reply.started": "2023-11-14T04:02:31.631324Z"
    },
    "tags": []
   },
   "outputs": [
    {
     "data": {
      "application/vnd.jupyter.widget-view+json": {
       "model_id": "8fd85590db524152aef6b169171c0f7b",
       "version_major": 2,
       "version_minor": 0
      },
      "text/plain": [
       "VBox()"
      ]
     },
     "metadata": {},
     "output_type": "display_data"
    },
    {
     "data": {
      "application/vnd.jupyter.widget-view+json": {
       "model_id": "",
       "version_major": 2,
       "version_minor": 0
      },
      "text/plain": [
       "FloatProgress(value=0.0, bar_style='info', description='Progress:', layout=Layout(height='25px', width='50%'),…"
      ]
     },
     "metadata": {},
     "output_type": "display_data"
    }
   ],
   "source": [
    "# combine with original points data and filter duplicates\n",
    "test = pings.withColumns({\"leftgeometry\" : F.lit(None), 'id' : F.lit(None)}).union(joined.select(*pings.columns, \"leftgeometry\", \"id\"))"
   ]
  },
  {
   "cell_type": "code",
   "execution_count": 11,
   "metadata": {
    "execution": {
     "iopub.execute_input": "2023-11-14T04:02:31.874362Z",
     "iopub.status.busy": "2023-11-14T04:02:31.874144Z",
     "iopub.status.idle": "2023-11-14T04:02:32.116475Z",
     "shell.execute_reply": "2023-11-14T04:02:32.115860Z",
     "shell.execute_reply.started": "2023-11-14T04:02:31.874340Z"
    },
    "tags": []
   },
   "outputs": [
    {
     "data": {
      "application/vnd.jupyter.widget-view+json": {
       "model_id": "63da9d3456144555a970a02148d6c389",
       "version_major": 2,
       "version_minor": 0
      },
      "text/plain": [
       "VBox()"
      ]
     },
     "metadata": {},
     "output_type": "display_data"
    },
    {
     "data": {
      "application/vnd.jupyter.widget-view+json": {
       "model_id": "",
       "version_major": 2,
       "version_minor": 0
      },
      "text/plain": [
       "FloatProgress(value=0.0, bar_style='info', description='Progress:', layout=Layout(height='25px', width='50%'),…"
      ]
     },
     "metadata": {},
     "output_type": "display_data"
    }
   ],
   "source": [
    "test = (test.filter(F.hour(F.col(\"date\")).between(6,18))\n",
    "            .withColumns({\"post\" : (F.col(\"date\") == \"2021-09-26\"), \"shop\" : F.col(\"id\").isNotNull().cast(IntegerType())})\n",
    "            .groupBy(\"caid\", \"latitude\", \"longitude\", \"utc_timestamp\", \"date\", \"post\").agg(F.max(\"shop\").alias(\"shop\"))\n",
    "        )"
   ]
  },
  {
   "cell_type": "markdown",
   "metadata": {
    "execution": {
     "iopub.execute_input": "2023-11-13T19:22:42.937569Z",
     "iopub.status.busy": "2023-11-13T19:22:42.937263Z",
     "iopub.status.idle": "2023-11-13T19:22:42.974659Z",
     "shell.execute_reply": "2023-11-13T19:22:42.974075Z",
     "shell.execute_reply.started": "2023-11-13T19:22:42.937544Z"
    },
    "tags": []
   },
   "source": [
    "### Now intersect with grid"
   ]
  },
  {
   "cell_type": "code",
   "execution_count": 12,
   "metadata": {
    "execution": {
     "iopub.execute_input": "2023-11-14T04:02:32.117620Z",
     "iopub.status.busy": "2023-11-14T04:02:32.117389Z",
     "iopub.status.idle": "2023-11-14T04:02:37.390991Z",
     "shell.execute_reply": "2023-11-14T04:02:37.390155Z",
     "shell.execute_reply.started": "2023-11-14T04:02:32.117599Z"
    },
    "tags": []
   },
   "outputs": [
    {
     "data": {
      "application/vnd.jupyter.widget-view+json": {
       "model_id": "a04e950410264c7d801a5f63c064f0bb",
       "version_major": 2,
       "version_minor": 0
      },
      "text/plain": [
       "VBox()"
      ]
     },
     "metadata": {},
     "output_type": "display_data"
    },
    {
     "data": {
      "application/vnd.jupyter.widget-view+json": {
       "model_id": "",
       "version_major": 2,
       "version_minor": 0
      },
      "text/plain": [
       "FloatProgress(value=0.0, bar_style='info', description='Progress:', layout=Layout(height='25px', width='50%'),…"
      ]
     },
     "metadata": {},
     "output_type": "display_data"
    }
   ],
   "source": [
    "def create_grid(min_x, max_x, min_y, max_y, step):\n",
    "    grid = []\n",
    "    for x in np.arange(min_x, max_x, step):\n",
    "        for y in np.arange(min_y, max_y, step):\n",
    "            grid.append(Polygon([(x, y), (x+step, y), (x+step, y+step), (x, y+step)]))\n",
    "    return grid\n",
    "\n",
    "# create the grid\n",
    "min_x, min_y, max_x, max_y = poly_raw.geometry.total_bounds\n",
    "grid = create_grid(min_x, max_x, min_y, max_y, step=40000) # 5km grid\n",
    "\n",
    "# create a GeoDataFrame from the grid\n",
    "grid_gdf = gpd.GeoDataFrame(geometry=grid)\n",
    "grid_gdf['x'] = grid_gdf.geometry.centroid.x\n",
    "grid_gdf['y'] = grid_gdf.geometry.centroid.y"
   ]
  },
  {
   "cell_type": "code",
   "execution_count": 13,
   "metadata": {
    "execution": {
     "iopub.execute_input": "2023-11-14T04:02:37.392498Z",
     "iopub.status.busy": "2023-11-14T04:02:37.392173Z",
     "iopub.status.idle": "2023-11-14T04:02:37.642668Z",
     "shell.execute_reply": "2023-11-14T04:02:37.641887Z",
     "shell.execute_reply.started": "2023-11-14T04:02:37.392462Z"
    },
    "tags": []
   },
   "outputs": [
    {
     "data": {
      "application/vnd.jupyter.widget-view+json": {
       "model_id": "fea7adebd41c43d48fdfae40a565ba10",
       "version_major": 2,
       "version_minor": 0
      },
      "text/plain": [
       "VBox()"
      ]
     },
     "metadata": {},
     "output_type": "display_data"
    },
    {
     "data": {
      "application/vnd.jupyter.widget-view+json": {
       "model_id": "",
       "version_major": 2,
       "version_minor": 0
      },
      "text/plain": [
       "FloatProgress(value=0.0, bar_style='info', description='Progress:', layout=Layout(height='25px', width='50%'),…"
      ]
     },
     "metadata": {},
     "output_type": "display_data"
    }
   ],
   "source": [
    "grid_gdf.crs = poly_raw.crs\n",
    "grid_poly = spark.createDataFrame(grid_gdf).cache()"
   ]
  },
  {
   "cell_type": "code",
   "execution_count": 14,
   "metadata": {
    "execution": {
     "iopub.execute_input": "2023-11-14T04:02:37.643745Z",
     "iopub.status.busy": "2023-11-14T04:02:37.643528Z",
     "iopub.status.idle": "2023-11-14T04:02:37.890787Z",
     "shell.execute_reply": "2023-11-14T04:02:37.890171Z",
     "shell.execute_reply.started": "2023-11-14T04:02:37.643723Z"
    },
    "tags": []
   },
   "outputs": [
    {
     "data": {
      "application/vnd.jupyter.widget-view+json": {
       "model_id": "0550df989a6c43eb808f18e3a03dbd98",
       "version_major": 2,
       "version_minor": 0
      },
      "text/plain": [
       "VBox()"
      ]
     },
     "metadata": {},
     "output_type": "display_data"
    },
    {
     "data": {
      "application/vnd.jupyter.widget-view+json": {
       "model_id": "",
       "version_major": 2,
       "version_minor": 0
      },
      "text/plain": [
       "FloatProgress(value=0.0, bar_style='info', description='Progress:', layout=Layout(height='25px', width='50%'),…"
      ]
     },
     "metadata": {},
     "output_type": "display_data"
    },
    {
     "name": "stdout",
     "output_type": "stream",
     "text": [
      "                                              geometry  ...             y\n",
      "0    POLYGON ((480540.601 477591.750, 520540.601 47...  ...  4.975917e+05\n",
      "1    POLYGON ((480540.601 517591.750, 520540.601 51...  ...  5.375917e+05\n",
      "2    POLYGON ((480540.601 557591.750, 520540.601 55...  ...  5.775917e+05\n",
      "3    POLYGON ((480540.601 597591.750, 520540.601 59...  ...  6.175917e+05\n",
      "4    POLYGON ((480540.601 637591.750, 520540.601 63...  ...  6.575917e+05\n",
      "..                                                 ...  ...           ...\n",
      "795  POLYGON ((1720540.601 1277591.750, 1760540.601...  ...  1.297592e+06\n",
      "796  POLYGON ((1720540.601 1317591.750, 1760540.601...  ...  1.337592e+06\n",
      "797  POLYGON ((1720540.601 1357591.750, 1760540.601...  ...  1.377592e+06\n",
      "798  POLYGON ((1720540.601 1397591.750, 1760540.601...  ...  1.417592e+06\n",
      "799  POLYGON ((1720540.601 1437591.750, 1760540.601...  ...  1.457592e+06\n",
      "\n",
      "[800 rows x 3 columns]"
     ]
    }
   ],
   "source": [
    "grid_gdf"
   ]
  },
  {
   "cell_type": "code",
   "execution_count": 15,
   "metadata": {
    "execution": {
     "iopub.execute_input": "2023-11-14T04:02:37.891896Z",
     "iopub.status.busy": "2023-11-14T04:02:37.891678Z",
     "iopub.status.idle": "2023-11-14T04:05:17.681083Z",
     "shell.execute_reply": "2023-11-14T04:05:17.680443Z",
     "shell.execute_reply.started": "2023-11-14T04:02:37.891874Z"
    },
    "tags": []
   },
   "outputs": [
    {
     "data": {
      "application/vnd.jupyter.widget-view+json": {
       "model_id": "823ec646273a46d9b6d52ca7a2c50311",
       "version_major": 2,
       "version_minor": 0
      },
      "text/plain": [
       "VBox()"
      ]
     },
     "metadata": {},
     "output_type": "display_data"
    },
    {
     "data": {
      "application/vnd.jupyter.widget-view+json": {
       "model_id": "",
       "version_major": 2,
       "version_minor": 0
      },
      "text/plain": [
       "FloatProgress(value=0.0, bar_style='info', description='Progress:', layout=Layout(height='25px', width='50%'),…"
      ]
     },
     "metadata": {},
     "output_type": "display_data"
    }
   ],
   "source": [
    "joined = spatialIntersection(test, grid_poly, crs=crs)\n"
   ]
  },
  {
   "cell_type": "code",
   "execution_count": 16,
   "metadata": {
    "execution": {
     "iopub.execute_input": "2023-11-14T04:05:17.682219Z",
     "iopub.status.busy": "2023-11-14T04:05:17.681977Z",
     "iopub.status.idle": "2023-11-14T04:05:17.924291Z",
     "shell.execute_reply": "2023-11-14T04:05:17.923609Z",
     "shell.execute_reply.started": "2023-11-14T04:05:17.682196Z"
    },
    "tags": []
   },
   "outputs": [
    {
     "data": {
      "application/vnd.jupyter.widget-view+json": {
       "model_id": "d0bae397930b432792140e7b4d1ab825",
       "version_major": 2,
       "version_minor": 0
      },
      "text/plain": [
       "VBox()"
      ]
     },
     "metadata": {},
     "output_type": "display_data"
    },
    {
     "data": {
      "application/vnd.jupyter.widget-view+json": {
       "model_id": "",
       "version_major": 2,
       "version_minor": 0
      },
      "text/plain": [
       "FloatProgress(value=0.0, bar_style='info', description='Progress:', layout=Layout(height='25px', width='50%'),…"
      ]
     },
     "metadata": {},
     "output_type": "display_data"
    }
   ],
   "source": [
    "joined = joined.cache()\n",
    "joined = joined.withColumn(\"date\", F.to_date(\"date\"))"
   ]
  },
  {
   "cell_type": "code",
   "execution_count": 17,
   "metadata": {
    "execution": {
     "iopub.execute_input": "2023-11-14T04:05:17.925497Z",
     "iopub.status.busy": "2023-11-14T04:05:17.925264Z",
     "iopub.status.idle": "2023-11-14T04:07:51.671468Z",
     "shell.execute_reply": "2023-11-14T04:07:51.670856Z",
     "shell.execute_reply.started": "2023-11-14T04:05:17.925475Z"
    },
    "tags": []
   },
   "outputs": [
    {
     "data": {
      "application/vnd.jupyter.widget-view+json": {
       "model_id": "db06f39498784d0597f3239ef1b2b556",
       "version_major": 2,
       "version_minor": 0
      },
      "text/plain": [
       "VBox()"
      ]
     },
     "metadata": {},
     "output_type": "display_data"
    },
    {
     "data": {
      "application/vnd.jupyter.widget-view+json": {
       "model_id": "",
       "version_major": 2,
       "version_minor": 0
      },
      "text/plain": [
       "FloatProgress(value=0.0, bar_style='info', description='Progress:', layout=Layout(height='25px', width='50%'),…"
      ]
     },
     "metadata": {},
     "output_type": "display_data"
    }
   ],
   "source": [
    "joined = joined.drop(\"rightgeometry\", \"leftgeometry\", \"caid\", \"latitude\", \"longitude\", \"utc_timestamp\")\n",
    "\n",
    "joined.repartition(1).write.mode(\"overwrite\").option(\"header\",\"true\").csv(data_dir + \"grid_subsampling\", compression=\"gzip\")"
   ]
  },
  {
   "cell_type": "code",
   "execution_count": 48,
   "metadata": {
    "execution": {
     "iopub.execute_input": "2023-11-13T22:12:35.852052Z",
     "iopub.status.busy": "2023-11-13T22:12:35.851729Z",
     "iopub.status.idle": "2023-11-13T22:13:07.176723Z",
     "shell.execute_reply": "2023-11-13T22:13:07.176112Z",
     "shell.execute_reply.started": "2023-11-13T22:12:35.852025Z"
    },
    "tags": []
   },
   "outputs": [
    {
     "data": {
      "application/vnd.jupyter.widget-view+json": {
       "model_id": "f0c7fb21b18a49f49f57aa733908c644",
       "version_major": 2,
       "version_minor": 0
      },
      "text/plain": [
       "VBox()"
      ]
     },
     "metadata": {},
     "output_type": "display_data"
    },
    {
     "data": {
      "application/vnd.jupyter.widget-view+json": {
       "model_id": "",
       "version_major": 2,
       "version_minor": 0
      },
      "text/plain": [
       "FloatProgress(value=0.0, bar_style='info', description='Progress:', layout=Layout(height='25px', width='50%'),…"
      ]
     },
     "metadata": {},
     "output_type": "display_data"
    }
   ],
   "source": [
    "# convert to geojson \n",
    "gdf = pd.read_csv(data_dir + \"grid_subsampling/\" + \"part-00000-c1035a5d-2054-4a64-b724-4335883121d7-c000.csv.gz\")"
   ]
  }
 ],
 "metadata": {
  "kernelspec": {
   "display_name": "myenv",
   "language": "python",
   "name": "python3"
  },
  "language_info": {
   "codemirror_mode": {
    "name": "python",
    "version": 3
   },
   "file_extension": ".py",
   "mimetype": "text/x-python",
   "name": "python",
   "pygments_lexer": "python3",
   "version": "3.9.16"
  }
 },
 "nbformat": 4,
 "nbformat_minor": 4
}
