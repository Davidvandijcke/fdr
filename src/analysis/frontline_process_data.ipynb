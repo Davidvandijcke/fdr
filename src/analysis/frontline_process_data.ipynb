{
 "cells": [
  {
   "cell_type": "code",
   "execution_count": 1,
   "id": "c4f196cf-5df5-4322-aa79-27a44a99adef",
   "metadata": {
    "execution": {
     "iopub.execute_input": "2023-10-07T19:42:56.450357Z",
     "iopub.status.busy": "2023-10-07T19:42:56.450138Z",
     "iopub.status.idle": "2023-10-07T19:44:23.780218Z",
     "shell.execute_reply": "2023-10-07T19:44:23.779586Z",
     "shell.execute_reply.started": "2023-10-07T19:42:56.450335Z"
    },
    "tags": []
   },
   "outputs": [
    {
     "data": {
      "application/vnd.jupyter.widget-view+json": {
       "model_id": "08a4365457cd46e083154e15bd3349ef",
       "version_major": 2,
       "version_minor": 0
      },
      "text/plain": [
       "VBox()"
      ]
     },
     "metadata": {},
     "output_type": "display_data"
    },
    {
     "name": "stdout",
     "output_type": "stream",
     "text": [
      "Starting Spark application\n"
     ]
    },
    {
     "data": {
      "text/html": [
       "<table>\n",
       "<tbody><tr><th>ID</th><th>YARN Application ID</th><th>Kind</th><th>State</th><th>Spark UI</th><th>Driver log</th><th>User</th><th>Current session?</th></tr><tr><td>0</td><td>application_1696707369596_0001</td><td>pyspark</td><td>idle</td><td><a target=\"_blank\" href=\"http://ip-172-31-33-121.ec2.internal:20888/proxy/application_1696707369596_0001/\" class=\"emr-proxy-link j-2ZS1F7LSWQ4ZI application_1696707369596_0001\" emr-resource=\"j-2ZS1F7LSWQ4ZI\n",
       "\" application-id=\"application_1696707369596_0001\">Link</a></td><td><a target=\"_blank\" href=\"http://ip-172-31-35-145.ec2.internal:8042/node/containerlogs/container_1696707369596_0001_01_000001/livy\">Link</a></td><td>None</td><td>✔</td></tr></tbody></table>"
      ],
      "text/plain": [
       "<IPython.core.display.HTML object>"
      ]
     },
     "metadata": {},
     "output_type": "display_data"
    },
    {
     "data": {
      "application/vnd.jupyter.widget-view+json": {
       "model_id": "",
       "version_major": 2,
       "version_minor": 0
      },
      "text/plain": [
       "FloatProgress(value=0.0, bar_style='info', description='Progress:', layout=Layout(height='25px', width='50%'),…"
      ]
     },
     "metadata": {},
     "output_type": "display_data"
    },
    {
     "name": "stdout",
     "output_type": "stream",
     "text": [
      "SparkSession available as 'spark'.\n"
     ]
    },
    {
     "data": {
      "application/vnd.jupyter.widget-view+json": {
       "model_id": "",
       "version_major": 2,
       "version_minor": 0
      },
      "text/plain": [
       "FloatProgress(value=0.0, bar_style='info', description='Progress:', layout=Layout(height='25px', width='50%'),…"
      ]
     },
     "metadata": {},
     "output_type": "display_data"
    }
   ],
   "source": [
    "\"\"\" Filter based on h3 hexagons mapped to polygons\n",
    "\n",
    "aws emr add-steps --cluster-id <Your EMR cluster id> --steps Type=spark,Name=TestJob,Args=[--deploy-mode,cluster,--master,yarn,--conf,spark.yarn.submit.waitAppCompletion=true,s3a://your-source-bucket/code/pythonjob.py,s3a://your-source-bucket/data/data.csv,s3a://your-destination-bucket/test-output/],ActionOnFailure=CONTINUE\n",
    "\"\"\"\n",
    "\n",
    "from collections import namedtuple\n",
    "import logging\n",
    "import sys\n",
    "\n",
    "\n",
    "import pyproj\n",
    "\n",
    "from geopy.distance import great_circle\n",
    "import pandas as pd\n",
    "import geopandas as gpd\n",
    "import numpy as np\n",
    "import os\n",
    "\n",
    "from datetime import timedelta, date, datetime\n",
    "from statistics import *\n",
    "\n",
    "from pyspark import SparkContext\n",
    "\n",
    "from pyspark.sql import SQLContext, SparkSession\n",
    "from pyspark.sql.window import Window\n",
    "from pyspark.sql.types import (\n",
    "    StructType,\n",
    "    LongType,\n",
    "    StructField,\n",
    "    IntegerType,\n",
    "    StringType,\n",
    "    DoubleType,\n",
    "    TimestampType,\n",
    "    ArrayType\n",
    ")\n",
    "from pyspark.sql.functions import (\n",
    "    from_utc_timestamp,\n",
    "    to_utc_timestamp,\n",
    "    dayofyear,\n",
    "    col,\n",
    "    unix_timestamp,\n",
    "    monotonically_increasing_id,\n",
    "    pandas_udf,\n",
    "    PandasUDFType,\n",
    "    col,\n",
    "    asc,\n",
    "    lit,\n",
    "    countDistinct,\n",
    ")\n",
    "from sedona.register import SedonaRegistrator  \n",
    "from sedona.utils import SedonaKryoRegistrator, KryoSerializer\n",
    "from pyspark.sql.functions import udf\n",
    "from sedona.utils.adapter import Adapter\n",
    "from sedona.core.formatMapper.shapefileParser import ShapefileReader\n",
    "from sedona.core.SpatialRDD import PointRDD, SpatialRDD, CircleRDD\n",
    "from sedona.sql.types import GeometryType\n",
    "from sedona.core.enums import GridType, IndexType\n",
    "from sedona.core.spatialOperator import JoinQueryRaw\n",
    "from sedona.core.spatialOperator import JoinQuery\n",
    "from sedona.core.enums import IndexType\n",
    "from sedona.core.formatMapper.disc_utils import load_spatial_rdd_from_disc, GeoType\n",
    "from sedona.core.formatMapper import WktReader, GeoJsonReader\n",
    "import pyspark.sql.functions as F\n",
    "from math import *\n",
    "import time\n",
    "\n",
    "from shapely.wkt import loads as wkt_loads\n",
    "from shapely.geometry import Point, Polygon, shape\n",
    "from shapely.ops import transform\n",
    "import shapely\n",
    "\n",
    "def create_rectangular_grid(xmin, ymin, xmax, ymax, width, height, crs=\"epsg:4326\"):\n",
    "    rows = int(np.ceil((ymax-ymin) / height))\n",
    "    cols = int(np.ceil((xmax-xmin) / width))\n",
    "    polygons = []\n",
    "    \n",
    "    for i in range(rows):\n",
    "        for j in range(cols):\n",
    "            min_x = xmin + j * width\n",
    "            min_y = ymin + i * height\n",
    "            max_x = min_x + width\n",
    "            max_y = min_y + height\n",
    "            polygon = Polygon([(min_x, min_y), (min_x, max_y), (max_x, max_y), (max_x, min_y), (min_x, min_y)])\n",
    "            polygons.append(polygon)\n",
    "            \n",
    "    return gpd.GeoDataFrame(pd.DataFrame({'geometry': polygons}), crs=crs)\n",
    "\n",
    "\n",
    "\n",
    "spark = (SparkSession.builder.appName(\"sedona\")\n",
    "                 .config(\"spark.serializer\", KryoSerializer.getName)          \n",
    "        .config(\"spark.kryo.registrator\",     \n",
    "                  SedonaKryoRegistrator.getName)    \n",
    "         .config(\"spark.driver.maxResultSize\", \"3g\")\n",
    "    .getOrCreate() \n",
    "        )\n",
    "\n",
    "# Register Sedona UDTs and UDFs\n",
    "SedonaRegistrator.registerAll(spark)\n",
    "\n",
    "#------- \n",
    "# parameters\n",
    "#-------\n",
    "\n",
    "data_ukr = \"s3://ipsos-dvd/ukr/data/\"\n",
    "dir_data = \"s3://ipsos-dvd/fdd/data/ukr/\"\n",
    "\n"
   ]
  },
  {
   "cell_type": "code",
   "execution_count": 110,
   "id": "d7e9df15-1399-4f7e-9e70-e3234f5cb183",
   "metadata": {
    "execution": {
     "iopub.execute_input": "2023-10-02T20:44:27.013279Z",
     "iopub.status.busy": "2023-10-02T20:44:27.012977Z",
     "iopub.status.idle": "2023-10-02T20:52:23.410001Z",
     "shell.execute_reply": "2023-10-02T20:52:23.409385Z",
     "shell.execute_reply.started": "2023-10-02T20:44:27.013252Z"
    },
    "tags": []
   },
   "outputs": [
    {
     "data": {
      "application/vnd.jupyter.widget-view+json": {
       "model_id": "7762cf7541884c588f7716d3a6664756",
       "version_major": 2,
       "version_minor": 0
      },
      "text/plain": [
       "VBox()"
      ]
     },
     "metadata": {},
     "output_type": "display_data"
    },
    {
     "data": {
      "application/vnd.jupyter.widget-view+json": {
       "model_id": "",
       "version_major": 2,
       "version_minor": 0
      },
      "text/plain": [
       "FloatProgress(value=0.0, bar_style='info', description='Progress:', layout=Layout(height='25px', width='50%'),…"
      ]
     },
     "metadata": {},
     "output_type": "display_data"
    }
   ],
   "source": [
    "# # create grid to overlay\n",
    "# crs = \"epsg:6381\"\n",
    "# ukr = gpd.read_file(os.path.join(dir_data, 'raw', 'geo', 'ukr_admin_level1'))\n",
    "# test = ukr.to_crs(crs).dissolve().bounds\n",
    "# xmin, ymin, xmax, ymax = tuple(test.loc[0])\n",
    "# polygon = Polygon([(xmin, ymin), (xmin, ymax), (xmax, ymax), (xmax, ymin), (xmin, ymin)])\n",
    "# grid_width = 1000\n",
    "# grid_height = 1000\n",
    "\n",
    "# grid = create_rectangular_grid(xmin, ymin, xmax, ymax, grid_width, grid_height, crs)\n",
    "# polygon_gdf = gpd.GeoDataFrame(pd.DataFrame({'geometry': [polygon]}), crs=crs)\n",
    "# overlay = gpd.overlay(polygon_gdf, grid, how='intersection')\n",
    "\n",
    "# overlay.to_file(os.path.join(dir_data, 'out', 'geo',  'overlay.geojson'), driver=\"GeoJSON\")\n"
   ]
  },
  {
   "cell_type": "code",
   "execution_count": 2,
   "id": "4da074f9-4ade-41bc-92b3-8f4f03be2523",
   "metadata": {
    "execution": {
     "iopub.execute_input": "2023-10-02T22:02:00.534076Z",
     "iopub.status.busy": "2023-10-02T22:02:00.533777Z",
     "iopub.status.idle": "2023-10-02T22:06:06.413665Z",
     "shell.execute_reply": "2023-10-02T22:06:06.413021Z",
     "shell.execute_reply.started": "2023-10-02T22:02:00.534050Z"
    },
    "tags": []
   },
   "outputs": [
    {
     "data": {
      "application/vnd.jupyter.widget-view+json": {
       "model_id": "879a03a155fc4fadb3f0e1f41e351e3d",
       "version_major": 2,
       "version_minor": 0
      },
      "text/plain": [
       "VBox()"
      ]
     },
     "metadata": {},
     "output_type": "display_data"
    },
    {
     "data": {
      "application/vnd.jupyter.widget-view+json": {
       "model_id": "",
       "version_major": 2,
       "version_minor": 0
      },
      "text/plain": [
       "FloatProgress(value=0.0, bar_style='info', description='Progress:', layout=Layout(height='25px', width='50%'),…"
      ]
     },
     "metadata": {},
     "output_type": "display_data"
    }
   ],
   "source": [
    "fn = os.path.join(dir_data, 'out', 'geo',  'overlay.geojson')\n",
    "test = gpd.read_file(fn)\n",
    "\n",
    "poly_spark = spark.createDataFrame(\n",
    "  test\n",
    ").cache()"
   ]
  },
  {
   "cell_type": "code",
   "execution_count": 4,
   "id": "398ab2bc-67a9-476e-a83e-22a5bb95c8bd",
   "metadata": {
    "execution": {
     "iopub.execute_input": "2023-10-02T22:06:33.725349Z",
     "iopub.status.busy": "2023-10-02T22:06:33.725100Z",
     "iopub.status.idle": "2023-10-02T22:06:33.960792Z",
     "shell.execute_reply": "2023-10-02T22:06:33.960191Z",
     "shell.execute_reply.started": "2023-10-02T22:06:33.725300Z"
    },
    "tags": []
   },
   "outputs": [
    {
     "data": {
      "application/vnd.jupyter.widget-view+json": {
       "model_id": "351ece558f0f4e82afabf2dc68734937",
       "version_major": 2,
       "version_minor": 0
      },
      "text/plain": [
       "VBox()"
      ]
     },
     "metadata": {},
     "output_type": "display_data"
    },
    {
     "data": {
      "application/vnd.jupyter.widget-view+json": {
       "model_id": "",
       "version_major": 2,
       "version_minor": 0
      },
      "text/plain": [
       "FloatProgress(value=0.0, bar_style='info', description='Progress:', layout=Layout(height='25px', width='50%'),…"
      ]
     },
     "metadata": {},
     "output_type": "display_data"
    }
   ],
   "source": [
    "poly_rdd = Adapter.toSpatialRdd(poly_spark, \"geometry\")\n"
   ]
  },
  {
   "cell_type": "code",
   "execution_count": 5,
   "id": "3c00831c-5e0c-4b91-a5fe-a93ca5a533bd",
   "metadata": {
    "execution": {
     "iopub.execute_input": "2023-10-02T22:06:33.962317Z",
     "iopub.status.busy": "2023-10-02T22:06:33.961992Z",
     "iopub.status.idle": "2023-10-02T22:06:33.995631Z",
     "shell.execute_reply": "2023-10-02T22:06:33.995079Z",
     "shell.execute_reply.started": "2023-10-02T22:06:33.962294Z"
    },
    "tags": []
   },
   "outputs": [
    {
     "data": {
      "application/vnd.jupyter.widget-view+json": {
       "model_id": "b9f98a459d504f3e85ad48d1110ea24b",
       "version_major": 2,
       "version_minor": 0
      },
      "text/plain": [
       "VBox()"
      ]
     },
     "metadata": {},
     "output_type": "display_data"
    },
    {
     "data": {
      "application/vnd.jupyter.widget-view+json": {
       "model_id": "",
       "version_major": 2,
       "version_minor": 0
      },
      "text/plain": [
       "FloatProgress(value=0.0, bar_style='info', description='Progress:', layout=Layout(height='25px', width='50%'),…"
      ]
     },
     "metadata": {},
     "output_type": "display_data"
    }
   ],
   "source": [
    "# # convert pings to sedona geometry format\n",
    "\n",
    "# path = \"s3://ipsos-dvd/ukr/data/pings_2022-01-01_2022-12-31/\"\n",
    "\n",
    "# essential_fields = [\n",
    "#         StructField(\"utc_timestamp\",LongType(),False),\n",
    "#         StructField(\"caid\",StringType(),False),\n",
    "#         StructField(\"latitude\",DoubleType(),False),\n",
    "#         StructField(\"longitude\",DoubleType(),False),\n",
    "#         StructField(\"altitude\",DoubleType(),False),\n",
    "# ]\n",
    "# raw_schema = StructType(\n",
    "#     essential_fields + [\n",
    "#         StructField(\"id_type\",StringType(),False),\n",
    "#         StructField(\"geo_hash\",StringType(),False),\n",
    "#         StructField(\"horizontal_accuracy\",DoubleType(),False),\n",
    "#         StructField(\"ip_address\",StringType(),False),\n",
    "#         #StructField(\"altitude\",DoubleType(),False),\n",
    "#         StructField(\"iso_country_code\",StringType(),False)]\n",
    "# )\n",
    "\n",
    "# pings = spark.read.schema(raw_schema).parquet(path).select(\"latitude\", \"longitude\", \"caid\", \"utc_timestamp\") # .show() # .limit(1000)\n",
    "# pings.createOrReplaceTempView(\"pings\")\n",
    "\n",
    "# # Read Hive table\n",
    "# pings = spark.sql(\n",
    "#       \"\"\"SELECT ST_FlipCoordinates(ST_Transform(ST_FlipCoordinates(ST_Point(cast(pings.longitude as Decimal(24,20)), cast(pings.latitude as Decimal(24,20)))), \"epsg:4326\", \"epsg:6381\")) AS point, \n",
    "#       utc_timestamp, caid\n",
    "#       FROM pings;\n",
    "#       \"\"\"\n",
    "# )\n",
    "# pings.write.format(\"geoparquet\").mode(\"overwrite\").parquet(dir_data + \"pings_sedona.parquet\")\n"
   ]
  },
  {
   "cell_type": "code",
   "execution_count": 12,
   "id": "23f48cea-d049-45f6-b9cc-5e82b4787e58",
   "metadata": {
    "execution": {
     "iopub.execute_input": "2023-10-02T22:09:06.240272Z",
     "iopub.status.busy": "2023-10-02T22:09:06.239965Z",
     "iopub.status.idle": "2023-10-02T22:09:07.486748Z",
     "shell.execute_reply": "2023-10-02T22:09:07.486117Z",
     "shell.execute_reply.started": "2023-10-02T22:09:06.240247Z"
    },
    "tags": []
   },
   "outputs": [
    {
     "data": {
      "application/vnd.jupyter.widget-view+json": {
       "model_id": "c9cce48bfded48b299e531986c7f0058",
       "version_major": 2,
       "version_minor": 0
      },
      "text/plain": [
       "VBox()"
      ]
     },
     "metadata": {},
     "output_type": "display_data"
    },
    {
     "data": {
      "application/vnd.jupyter.widget-view+json": {
       "model_id": "",
       "version_major": 2,
       "version_minor": 0
      },
      "text/plain": [
       "FloatProgress(value=0.0, bar_style='info', description='Progress:', layout=Layout(height='25px', width='50%'),…"
      ]
     },
     "metadata": {},
     "output_type": "display_data"
    }
   ],
   "source": [
    "\n",
    "num_partitions = 1000\n",
    "\n",
    "pings = spark.read.parquet(dir_data + \"pings_sedona.parquet\") # .sample(fraction=0.1)\n",
    "\n",
    "pings = pings.withColumn(\"date\", F.to_date(F.from_utc_timestamp(F.col(\"utc_timestamp\").cast(TimestampType()), \"EET\")))\n",
    "# Repartition the data using the salted repartition column\n",
    "pings = pings.repartition(num_partitions)\n",
    "pings = pings.cache()\n",
    " \n",
    " "
   ]
  },
  {
   "cell_type": "code",
   "execution_count": 7,
   "id": "6433a474-e45c-4fe5-a194-29b6e78fb2e1",
   "metadata": {
    "execution": {
     "iopub.execute_input": "2023-10-02T22:06:39.257159Z",
     "iopub.status.busy": "2023-10-02T22:06:39.256929Z",
     "iopub.status.idle": "2023-10-02T22:06:39.288628Z",
     "shell.execute_reply": "2023-10-02T22:06:39.288047Z",
     "shell.execute_reply.started": "2023-10-02T22:06:39.257136Z"
    },
    "tags": []
   },
   "outputs": [
    {
     "data": {
      "application/vnd.jupyter.widget-view+json": {
       "model_id": "b1366105643d41f595ab609a9fd52d2e",
       "version_major": 2,
       "version_minor": 0
      },
      "text/plain": [
       "VBox()"
      ]
     },
     "metadata": {},
     "output_type": "display_data"
    },
    {
     "data": {
      "application/vnd.jupyter.widget-view+json": {
       "model_id": "",
       "version_major": 2,
       "version_minor": 0
      },
      "text/plain": [
       "FloatProgress(value=0.0, bar_style='info', description='Progress:', layout=Layout(height='25px', width='50%'),…"
      ]
     },
     "metadata": {},
     "output_type": "display_data"
    }
   ],
   "source": [
    "# pings = pings.alias(\"pings\").join(F.broadcast(poly_spark).alias(\"poly_rdd\"), F.expr(\n",
    "#   f\"\"\"ST_Within(pings.point, poly_rdd.geometry)\"\"\"\n",
    "# )) #select(\"pings.utc_timestamp\", \"pings.caid\").show()\n",
    "\n",
    "# pings.write.mode(\"overwrite\").parquet(os.path.join(dir_data, 'pings_grid'))"
   ]
  },
  {
   "cell_type": "code",
   "execution_count": 13,
   "id": "f7fd446c-b25c-402b-91e6-cc817743d182",
   "metadata": {
    "execution": {
     "iopub.execute_input": "2023-10-02T22:09:09.249118Z",
     "iopub.status.busy": "2023-10-02T22:09:09.248816Z",
     "iopub.status.idle": "2023-10-02T22:10:44.848310Z",
     "shell.execute_reply": "2023-10-02T22:10:44.847713Z",
     "shell.execute_reply.started": "2023-10-02T22:09:09.249092Z"
    },
    "tags": []
   },
   "outputs": [
    {
     "data": {
      "application/vnd.jupyter.widget-view+json": {
       "model_id": "88435831a1bd47babb7b79025dfaa23a",
       "version_major": 2,
       "version_minor": 0
      },
      "text/plain": [
       "VBox()"
      ]
     },
     "metadata": {},
     "output_type": "display_data"
    },
    {
     "data": {
      "application/vnd.jupyter.widget-view+json": {
       "model_id": "",
       "version_major": 2,
       "version_minor": 0
      },
      "text/plain": [
       "FloatProgress(value=0.0, bar_style='info', description='Progress:', layout=Layout(height='25px', width='50%'),…"
      ]
     },
     "metadata": {},
     "output_type": "display_data"
    },
    {
     "name": "stdout",
     "output_type": "stream",
     "text": [
      "True"
     ]
    }
   ],
   "source": [
    "grid_type = GridType.QUADTREE # this shit works so much better for skewed data\n",
    "\n",
    "points_rdd = Adapter.toSpatialRdd(pings, \"point\")\n",
    "points_rdd.analyze()\n",
    "points_rdd.spatialPartitioning(grid_type)"
   ]
  },
  {
   "cell_type": "code",
   "execution_count": 14,
   "id": "cba61117-610b-480c-93f4-2344e7373485",
   "metadata": {
    "execution": {
     "iopub.execute_input": "2023-10-02T22:10:44.849577Z",
     "iopub.status.busy": "2023-10-02T22:10:44.849354Z",
     "iopub.status.idle": "2023-10-02T22:10:45.590341Z",
     "shell.execute_reply": "2023-10-02T22:10:45.589738Z",
     "shell.execute_reply.started": "2023-10-02T22:10:44.849554Z"
    },
    "tags": []
   },
   "outputs": [
    {
     "data": {
      "application/vnd.jupyter.widget-view+json": {
       "model_id": "abafb8cbea75426788cc47f6b653095e",
       "version_major": 2,
       "version_minor": 0
      },
      "text/plain": [
       "VBox()"
      ]
     },
     "metadata": {},
     "output_type": "display_data"
    },
    {
     "data": {
      "application/vnd.jupyter.widget-view+json": {
       "model_id": "",
       "version_major": 2,
       "version_minor": 0
      },
      "text/plain": [
       "FloatProgress(value=0.0, bar_style='info', description='Progress:', layout=Layout(height='25px', width='50%'),…"
      ]
     },
     "metadata": {},
     "output_type": "display_data"
    }
   ],
   "source": [
    "#poly_rdd = Adapter.toSpatialRdd(polygons_rdd, \"geometry\")\n",
    "poly_rdd.analyze()\n",
    "poly_rdd.spatialPartitioning(points_rdd.getPartitioner())\n"
   ]
  },
  {
   "cell_type": "code",
   "execution_count": 15,
   "id": "400a6538-1f8a-4be8-a898-717ce2f97300",
   "metadata": {
    "execution": {
     "iopub.execute_input": "2023-10-02T22:10:45.591788Z",
     "iopub.status.busy": "2023-10-02T22:10:45.591569Z",
     "iopub.status.idle": "2023-10-02T22:10:45.829655Z",
     "shell.execute_reply": "2023-10-02T22:10:45.829026Z",
     "shell.execute_reply.started": "2023-10-02T22:10:45.591767Z"
    },
    "tags": []
   },
   "outputs": [
    {
     "data": {
      "application/vnd.jupyter.widget-view+json": {
       "model_id": "050ebc22124542b2a13e4e08235ee41d",
       "version_major": 2,
       "version_minor": 0
      },
      "text/plain": [
       "VBox()"
      ]
     },
     "metadata": {},
     "output_type": "display_data"
    },
    {
     "data": {
      "application/vnd.jupyter.widget-view+json": {
       "model_id": "",
       "version_major": 2,
       "version_minor": 0
      },
      "text/plain": [
       "FloatProgress(value=0.0, bar_style='info', description='Progress:', layout=Layout(height='25px', width='50%'),…"
      ]
     },
     "metadata": {},
     "output_type": "display_data"
    }
   ],
   "source": [
    "\n",
    "build_on_spatial_partitioned_rdd = True ## Set to TRUE only if run join query\n",
    "using_index = True\n",
    "points_rdd.buildIndex(IndexType.QUADTREE, build_on_spatial_partitioned_rdd)\n",
    "\n",
    "# points_rdd = points_rdd.cache()\n",
    "# poly_rdd = poly_rdd.cache()\n",
    "\n",
    "# #poly_rdd = Adapter.toSpatialRdd(polygons_rdd, \"geometry\")\n",
    "# poly_rdd.analyze()\n",
    "# # poly_rdd.buildIndex(grid_type, build_on_spatial_partitioned_rdd)\n",
    "# poly_rdd.spatialPartitioning(points_rdd.getPartitioner())\n",
    "\n",
    "# spatial join\n",
    "result = JoinQueryRaw.SpatialJoinQueryFlat(points_rdd, poly_rdd, using_index, True)\n",
    "\n",
    "\n",
    "\n",
    "# (Adapter.toDf(result, poly_rdd.fieldNames, points_rdd.fieldNames, spark)#.show(5)\n",
    "#     .write.mode(\"overwrite\").parquet(os.path.join(dir_data, 'pings_grid'))\n",
    "# ) # this is currently slow, may need to remove unrealistically large polygons?\n"
   ]
  },
  {
   "cell_type": "code",
   "execution_count": 16,
   "id": "44fdedf3-b3b4-4747-9239-1db60a015e5c",
   "metadata": {
    "execution": {
     "iopub.execute_input": "2023-10-02T22:10:45.830969Z",
     "iopub.status.busy": "2023-10-02T22:10:45.830733Z",
     "iopub.status.idle": "2023-10-02T22:12:21.324576Z",
     "shell.execute_reply": "2023-10-02T22:12:21.323971Z",
     "shell.execute_reply.started": "2023-10-02T22:10:45.830947Z"
    },
    "tags": []
   },
   "outputs": [
    {
     "data": {
      "application/vnd.jupyter.widget-view+json": {
       "model_id": "91ef316731964e8aa92baceab8f720f5",
       "version_major": 2,
       "version_minor": 0
      },
      "text/plain": [
       "VBox()"
      ]
     },
     "metadata": {},
     "output_type": "display_data"
    },
    {
     "data": {
      "application/vnd.jupyter.widget-view+json": {
       "model_id": "",
       "version_major": 2,
       "version_minor": 0
      },
      "text/plain": [
       "FloatProgress(value=0.0, bar_style='info', description='Progress:', layout=Layout(height='25px', width='50%'),…"
      ]
     },
     "metadata": {},
     "output_type": "display_data"
    }
   ],
   "source": [
    "(Adapter.toDf(result, poly_rdd.fieldNames, points_rdd.fieldNames, spark)#.show(5)\n",
    "    .write.mode(\"overwrite\").parquet(os.path.join(dir_data, 'pings_grid'))\n",
    ") # this is currently slow, may need to remove unrealistically large polygons?"
   ]
  },
  {
   "cell_type": "markdown",
   "id": "a33ae661-7ba0-4984-b1fa-077d10610398",
   "metadata": {},
   "source": [
    "## After Spatial Join"
   ]
  },
  {
   "cell_type": "code",
   "execution_count": 2,
   "id": "26fc067d-b9f9-4571-a66d-8006f03ecc16",
   "metadata": {
    "execution": {
     "iopub.execute_input": "2023-10-03T18:31:53.157316Z",
     "iopub.status.busy": "2023-10-03T18:31:53.157107Z",
     "iopub.status.idle": "2023-10-03T18:31:58.438477Z",
     "shell.execute_reply": "2023-10-03T18:31:58.437911Z",
     "shell.execute_reply.started": "2023-10-03T18:31:53.157295Z"
    },
    "tags": []
   },
   "outputs": [
    {
     "data": {
      "application/vnd.jupyter.widget-view+json": {
       "model_id": "67d5785c3d454f1c8f08a48a752bde07",
       "version_major": 2,
       "version_minor": 0
      },
      "text/plain": [
       "VBox()"
      ]
     },
     "metadata": {},
     "output_type": "display_data"
    },
    {
     "data": {
      "application/vnd.jupyter.widget-view+json": {
       "model_id": "",
       "version_major": 2,
       "version_minor": 0
      },
      "text/plain": [
       "FloatProgress(value=0.0, bar_style='info', description='Progress:', layout=Layout(height='25px', width='50%'),…"
      ]
     },
     "metadata": {},
     "output_type": "display_data"
    }
   ],
   "source": [
    "pings_grid = spark.read.parquet(os.path.join(dir_data, 'pings_grid'))\n",
    "\n",
    "\n",
    "pings_grid = pings_grid.withColumnRenamed(\"leftgeometry\", \"geometry\")"
   ]
  },
  {
   "cell_type": "code",
   "execution_count": 3,
   "id": "939e58cd-c22f-492a-8456-69ee48a01990",
   "metadata": {
    "execution": {
     "iopub.execute_input": "2023-10-03T18:31:58.440051Z",
     "iopub.status.busy": "2023-10-03T18:31:58.439837Z",
     "iopub.status.idle": "2023-10-03T18:31:58.679333Z",
     "shell.execute_reply": "2023-10-03T18:31:58.678735Z",
     "shell.execute_reply.started": "2023-10-03T18:31:58.440031Z"
    },
    "tags": []
   },
   "outputs": [
    {
     "data": {
      "application/vnd.jupyter.widget-view+json": {
       "model_id": "f9df3cd843654e8b82860c9658f9aa38",
       "version_major": 2,
       "version_minor": 0
      },
      "text/plain": [
       "VBox()"
      ]
     },
     "metadata": {},
     "output_type": "display_data"
    },
    {
     "data": {
      "application/vnd.jupyter.widget-view+json": {
       "model_id": "",
       "version_major": 2,
       "version_minor": 0
      },
      "text/plain": [
       "FloatProgress(value=0.0, bar_style='info', description='Progress:', layout=Layout(height='25px', width='50%'),…"
      ]
     },
     "metadata": {},
     "output_type": "display_data"
    }
   ],
   "source": [
    "pings_grid = pings_grid.groupby(\"date\", \"geometry\").agg(F.count(\"caid\").alias(\"count\"), F.countDistinct(\"caid\").alias(\"caid\"))"
   ]
  },
  {
   "cell_type": "code",
   "execution_count": null,
   "id": "93bcf846-5016-472b-abcf-eb5364df129d",
   "metadata": {
    "tags": []
   },
   "outputs": [],
   "source": []
  },
  {
   "cell_type": "code",
   "execution_count": 4,
   "id": "7d8c7717-669b-45a4-9c4b-10dc476e3b18",
   "metadata": {
    "execution": {
     "iopub.execute_input": "2023-10-03T18:31:58.680664Z",
     "iopub.status.busy": "2023-10-03T18:31:58.680450Z",
     "iopub.status.idle": "2023-10-03T18:36:34.727312Z",
     "shell.execute_reply": "2023-10-03T18:36:34.726673Z",
     "shell.execute_reply.started": "2023-10-03T18:31:58.680643Z"
    },
    "tags": []
   },
   "outputs": [
    {
     "data": {
      "application/vnd.jupyter.widget-view+json": {
       "model_id": "606c69482d8540e68e530ee6423147a3",
       "version_major": 2,
       "version_minor": 0
      },
      "text/plain": [
       "VBox()"
      ]
     },
     "metadata": {},
     "output_type": "display_data"
    },
    {
     "data": {
      "application/vnd.jupyter.widget-view+json": {
       "model_id": "",
       "version_major": 2,
       "version_minor": 0
      },
      "text/plain": [
       "FloatProgress(value=0.0, bar_style='info', description='Progress:', layout=Layout(height='25px', width='50%'),…"
      ]
     },
     "metadata": {},
     "output_type": "display_data"
    }
   ],
   "source": [
    "fn = os.path.join(dir_data, 'out', 'geo',  'overlay.geojson')\n",
    "test = gpd.read_file(fn)\n",
    "\n",
    "poly_spark = spark.createDataFrame(\n",
    "  test\n",
    ").cache()"
   ]
  },
  {
   "cell_type": "code",
   "execution_count": 5,
   "id": "91e24f59-30e1-46f6-9bb9-37f68336d7b7",
   "metadata": {
    "execution": {
     "iopub.execute_input": "2023-10-03T18:36:34.728422Z",
     "iopub.status.busy": "2023-10-03T18:36:34.728208Z",
     "iopub.status.idle": "2023-10-03T18:36:48.059755Z",
     "shell.execute_reply": "2023-10-03T18:36:48.059129Z",
     "shell.execute_reply.started": "2023-10-03T18:36:34.728401Z"
    },
    "tags": []
   },
   "outputs": [
    {
     "data": {
      "application/vnd.jupyter.widget-view+json": {
       "model_id": "b69eb57d06b14772bf46f924aed2ad11",
       "version_major": 2,
       "version_minor": 0
      },
      "text/plain": [
       "VBox()"
      ]
     },
     "metadata": {},
     "output_type": "display_data"
    },
    {
     "data": {
      "application/vnd.jupyter.widget-view+json": {
       "model_id": "",
       "version_major": 2,
       "version_minor": 0
      },
      "text/plain": [
       "FloatProgress(value=0.0, bar_style='info', description='Progress:', layout=Layout(height='25px', width='50%'),…"
      ]
     },
     "metadata": {},
     "output_type": "display_data"
    }
   ],
   "source": [
    "dates = pings_grid.select(\"date\").distinct().toPandas()"
   ]
  },
  {
   "cell_type": "code",
   "execution_count": 6,
   "id": "25b2c999-9bec-4205-8c0a-8d38024c2ed4",
   "metadata": {
    "execution": {
     "iopub.execute_input": "2023-10-03T18:36:48.060845Z",
     "iopub.status.busy": "2023-10-03T18:36:48.060629Z",
     "iopub.status.idle": "2023-10-03T18:36:48.301911Z",
     "shell.execute_reply": "2023-10-03T18:36:48.301342Z",
     "shell.execute_reply.started": "2023-10-03T18:36:48.060823Z"
    },
    "tags": []
   },
   "outputs": [
    {
     "data": {
      "application/vnd.jupyter.widget-view+json": {
       "model_id": "7a4b0d5e82ca4e838e03ef5c1fe61d14",
       "version_major": 2,
       "version_minor": 0
      },
      "text/plain": [
       "VBox()"
      ]
     },
     "metadata": {},
     "output_type": "display_data"
    },
    {
     "data": {
      "application/vnd.jupyter.widget-view+json": {
       "model_id": "",
       "version_major": 2,
       "version_minor": 0
      },
      "text/plain": [
       "FloatProgress(value=0.0, bar_style='info', description='Progress:', layout=Layout(height='25px', width='50%'),…"
      ]
     },
     "metadata": {},
     "output_type": "display_data"
    }
   ],
   "source": [
    "# replicate grid data for each date in pings_grid\n",
    "\n",
    "dates_df = spark.createDataFrame(dates)\n",
    "\n",
    "\n"
   ]
  },
  {
   "cell_type": "code",
   "execution_count": 7,
   "id": "f5a5df91-7440-4d78-ab46-20dc7286fbf1",
   "metadata": {
    "execution": {
     "iopub.execute_input": "2023-10-03T18:36:48.302896Z",
     "iopub.status.busy": "2023-10-03T18:36:48.302690Z",
     "iopub.status.idle": "2023-10-03T18:36:48.539917Z",
     "shell.execute_reply": "2023-10-03T18:36:48.539314Z",
     "shell.execute_reply.started": "2023-10-03T18:36:48.302875Z"
    },
    "tags": []
   },
   "outputs": [
    {
     "data": {
      "application/vnd.jupyter.widget-view+json": {
       "model_id": "b9985530ddd6477596f382bc5bb9ea88",
       "version_major": 2,
       "version_minor": 0
      },
      "text/plain": [
       "VBox()"
      ]
     },
     "metadata": {},
     "output_type": "display_data"
    },
    {
     "data": {
      "application/vnd.jupyter.widget-view+json": {
       "model_id": "",
       "version_major": 2,
       "version_minor": 0
      },
      "text/plain": [
       "FloatProgress(value=0.0, bar_style='info', description='Progress:', layout=Layout(height='25px', width='50%'),…"
      ]
     },
     "metadata": {},
     "output_type": "display_data"
    }
   ],
   "source": [
    "balanced = dates_df.crossJoin(poly_spark)\n"
   ]
  },
  {
   "cell_type": "code",
   "execution_count": 8,
   "id": "1fe72a63-96c5-4b00-a38d-e3b2d35ce823",
   "metadata": {
    "execution": {
     "iopub.execute_input": "2023-10-03T18:36:48.541658Z",
     "iopub.status.busy": "2023-10-03T18:36:48.541423Z",
     "iopub.status.idle": "2023-10-03T18:36:48.781573Z",
     "shell.execute_reply": "2023-10-03T18:36:48.780964Z",
     "shell.execute_reply.started": "2023-10-03T18:36:48.541634Z"
    },
    "tags": []
   },
   "outputs": [
    {
     "data": {
      "application/vnd.jupyter.widget-view+json": {
       "model_id": "4698e2459cba4388ac2465dc28849565",
       "version_major": 2,
       "version_minor": 0
      },
      "text/plain": [
       "VBox()"
      ]
     },
     "metadata": {},
     "output_type": "display_data"
    },
    {
     "data": {
      "application/vnd.jupyter.widget-view+json": {
       "model_id": "",
       "version_major": 2,
       "version_minor": 0
      },
      "text/plain": [
       "FloatProgress(value=0.0, bar_style='info', description='Progress:', layout=Layout(height='25px', width='50%'),…"
      ]
     },
     "metadata": {},
     "output_type": "display_data"
    }
   ],
   "source": [
    "# balance panel\n",
    "\n",
    "pings_grid_full = balanced.join(pings_grid, on = ['date', 'geometry'], how=\"left\")\n"
   ]
  },
  {
   "cell_type": "code",
   "execution_count": 9,
   "id": "bcea5016-bb34-41ba-858a-7a9c8463dca9",
   "metadata": {
    "execution": {
     "iopub.execute_input": "2023-10-03T18:36:48.782704Z",
     "iopub.status.busy": "2023-10-03T18:36:48.782492Z",
     "iopub.status.idle": "2023-10-03T18:44:27.418134Z",
     "shell.execute_reply": "2023-10-03T18:44:27.417512Z",
     "shell.execute_reply.started": "2023-10-03T18:36:48.782682Z"
    },
    "tags": []
   },
   "outputs": [
    {
     "data": {
      "application/vnd.jupyter.widget-view+json": {
       "model_id": "c8fe37f92413487fb9f7ab4c546bd462",
       "version_major": 2,
       "version_minor": 0
      },
      "text/plain": [
       "VBox()"
      ]
     },
     "metadata": {},
     "output_type": "display_data"
    },
    {
     "data": {
      "application/vnd.jupyter.widget-view+json": {
       "model_id": "",
       "version_major": 2,
       "version_minor": 0
      },
      "text/plain": [
       "FloatProgress(value=0.0, bar_style='info', description='Progress:', layout=Layout(height='25px', width='50%'),…"
      ]
     },
     "metadata": {},
     "output_type": "display_data"
    },
    {
     "name": "stdout",
     "output_type": "stream",
     "text": [
      "431526000"
     ]
    }
   ],
   "source": [
    "pings_grid = pings_grid.cache()\n",
    "pings_grid_full.count()"
   ]
  },
  {
   "cell_type": "code",
   "execution_count": 11,
   "id": "b152601e-fe76-403e-a9c8-cea9b7dbdffa",
   "metadata": {
    "execution": {
     "iopub.execute_input": "2023-10-03T18:48:15.927020Z",
     "iopub.status.busy": "2023-10-03T18:48:15.926723Z",
     "iopub.status.idle": "2023-10-03T18:55:43.785856Z",
     "shell.execute_reply": "2023-10-03T18:55:43.785238Z",
     "shell.execute_reply.started": "2023-10-03T18:48:15.926994Z"
    },
    "tags": []
   },
   "outputs": [
    {
     "data": {
      "application/vnd.jupyter.widget-view+json": {
       "model_id": "57d41aece943449ab0ff0b4bf317a346",
       "version_major": 2,
       "version_minor": 0
      },
      "text/plain": [
       "VBox()"
      ]
     },
     "metadata": {},
     "output_type": "display_data"
    },
    {
     "data": {
      "application/vnd.jupyter.widget-view+json": {
       "model_id": "",
       "version_major": 2,
       "version_minor": 0
      },
      "text/plain": [
       "FloatProgress(value=0.0, bar_style='info', description='Progress:', layout=Layout(height='25px', width='50%'),…"
      ]
     },
     "metadata": {},
     "output_type": "display_data"
    }
   ],
   "source": [
    "pings_grid_full.write.parquet(os.path.join(dir_data, \"pings_grid_full\"))"
   ]
  },
  {
   "cell_type": "markdown",
   "id": "edf89c3a-38f1-4aa3-bb76-5d04c8182ee7",
   "metadata": {},
   "source": [
    "## Restart with balanced panel"
   ]
  },
  {
   "cell_type": "code",
   "execution_count": 2,
   "id": "609db1f3-bd96-4a52-9b6e-4225d9db0143",
   "metadata": {
    "execution": {
     "iopub.execute_input": "2023-10-07T19:44:23.785565Z",
     "iopub.status.busy": "2023-10-07T19:44:23.785341Z",
     "iopub.status.idle": "2023-10-07T19:44:29.068804Z",
     "shell.execute_reply": "2023-10-07T19:44:29.068176Z",
     "shell.execute_reply.started": "2023-10-07T19:44:23.785544Z"
    },
    "tags": []
   },
   "outputs": [
    {
     "data": {
      "application/vnd.jupyter.widget-view+json": {
       "model_id": "c2b6629cb5cb4c8d8fdbe7f187de3ada",
       "version_major": 2,
       "version_minor": 0
      },
      "text/plain": [
       "VBox()"
      ]
     },
     "metadata": {},
     "output_type": "display_data"
    },
    {
     "data": {
      "application/vnd.jupyter.widget-view+json": {
       "model_id": "",
       "version_major": 2,
       "version_minor": 0
      },
      "text/plain": [
       "FloatProgress(value=0.0, bar_style='info', description='Progress:', layout=Layout(height='25px', width='50%'),…"
      ]
     },
     "metadata": {},
     "output_type": "display_data"
    }
   ],
   "source": [
    "pings_grid_full = spark.read.parquet(os.path.join(dir_data, \"pings_grid_full\"))"
   ]
  },
  {
   "cell_type": "code",
   "execution_count": 3,
   "id": "1f5f1a2b-a087-404d-904b-75028393ff97",
   "metadata": {
    "collapsed": true,
    "execution": {
     "iopub.execute_input": "2023-10-07T19:44:29.070004Z",
     "iopub.status.busy": "2023-10-07T19:44:29.069777Z",
     "iopub.status.idle": "2023-10-07T19:44:38.363561Z",
     "shell.execute_reply": "2023-10-07T19:44:38.362947Z",
     "shell.execute_reply.started": "2023-10-07T19:44:29.069982Z"
    },
    "jupyter": {
     "outputs_hidden": true
    },
    "tags": []
   },
   "outputs": [
    {
     "data": {
      "application/vnd.jupyter.widget-view+json": {
       "model_id": "5108cbff1ec649d292639bf8c4db3187",
       "version_major": 2,
       "version_minor": 0
      },
      "text/plain": [
       "VBox()"
      ]
     },
     "metadata": {},
     "output_type": "display_data"
    },
    {
     "data": {
      "application/vnd.jupyter.widget-view+json": {
       "model_id": "",
       "version_major": 2,
       "version_minor": 0
      },
      "text/plain": [
       "FloatProgress(value=0.0, bar_style='info', description='Progress:', layout=Layout(height='25px', width='50%'),…"
      ]
     },
     "metadata": {},
     "output_type": "display_data"
    },
    {
     "name": "stdout",
     "output_type": "stream",
     "text": [
      "+-----------+\n",
      "|month(date)|\n",
      "+-----------+\n",
      "|         12|\n",
      "|         12|\n",
      "|         12|\n",
      "|         12|\n",
      "|         12|\n",
      "|         12|\n",
      "|         12|\n",
      "|         12|\n",
      "|         12|\n",
      "|         12|\n",
      "|         12|\n",
      "|         12|\n",
      "|         12|\n",
      "|         12|\n",
      "|         12|\n",
      "|         12|\n",
      "|         12|\n",
      "|         12|\n",
      "|         12|\n",
      "|         12|\n",
      "+-----------+\n",
      "only showing top 20 rows"
     ]
    }
   ],
   "source": [
    "# calculate average in january\n",
    "pings_grid_full = pings_grid_full.cache()\n",
    "pings_grid_full.select(F.month(\"date\")).show()\n"
   ]
  },
  {
   "cell_type": "code",
   "execution_count": 4,
   "id": "5a386208-89f7-4d91-83ac-c84b452eed1c",
   "metadata": {
    "execution": {
     "iopub.execute_input": "2023-10-07T19:44:38.364679Z",
     "iopub.status.busy": "2023-10-07T19:44:38.364459Z",
     "iopub.status.idle": "2023-10-07T19:44:38.615685Z",
     "shell.execute_reply": "2023-10-07T19:44:38.614985Z",
     "shell.execute_reply.started": "2023-10-07T19:44:38.364657Z"
    },
    "tags": []
   },
   "outputs": [
    {
     "data": {
      "application/vnd.jupyter.widget-view+json": {
       "model_id": "748741ea1cc94ba69bf7029a8bdcc3bb",
       "version_major": 2,
       "version_minor": 0
      },
      "text/plain": [
       "VBox()"
      ]
     },
     "metadata": {},
     "output_type": "display_data"
    },
    {
     "data": {
      "application/vnd.jupyter.widget-view+json": {
       "model_id": "",
       "version_major": 2,
       "version_minor": 0
      },
      "text/plain": [
       "FloatProgress(value=0.0, bar_style='info', description='Progress:', layout=Layout(height='25px', width='50%'),…"
      ]
     },
     "metadata": {},
     "output_type": "display_data"
    }
   ],
   "source": [
    "pings_grid_full = pings_grid_full.na.fill({'count': 0, 'caid': 0})"
   ]
  },
  {
   "cell_type": "code",
   "execution_count": 5,
   "id": "b27dbbe4-d067-49c9-b6ac-2477bf694717",
   "metadata": {
    "execution": {
     "iopub.execute_input": "2023-10-07T19:44:38.616895Z",
     "iopub.status.busy": "2023-10-07T19:44:38.616640Z",
     "iopub.status.idle": "2023-10-07T19:44:38.876669Z",
     "shell.execute_reply": "2023-10-07T19:44:38.876059Z",
     "shell.execute_reply.started": "2023-10-07T19:44:38.616860Z"
    },
    "tags": []
   },
   "outputs": [
    {
     "data": {
      "application/vnd.jupyter.widget-view+json": {
       "model_id": "ec6f09ea1d4749539c7c4472c28bbd27",
       "version_major": 2,
       "version_minor": 0
      },
      "text/plain": [
       "VBox()"
      ]
     },
     "metadata": {},
     "output_type": "display_data"
    },
    {
     "data": {
      "application/vnd.jupyter.widget-view+json": {
       "model_id": "",
       "version_major": 2,
       "version_minor": 0
      },
      "text/plain": [
       "FloatProgress(value=0.0, bar_style='info', description='Progress:', layout=Layout(height='25px', width='50%'),…"
      ]
     },
     "metadata": {},
     "output_type": "display_data"
    }
   ],
   "source": [
    "temp = pings_grid_full.filter(F.month(\"date\") == 1).groupby(\"geometry\").agg(F.avg(\"count\").alias(\"count_jan\"), F.avg(\"caid\").alias(\"caid_jan\"))\n",
    "pings_grid_full = pings_grid_full.join(temp, on = \"geometry\", how = \"left\")"
   ]
  },
  {
   "cell_type": "code",
   "execution_count": 6,
   "id": "cbf4fe19-43f7-4ba4-ac4d-8c7f93de0f5b",
   "metadata": {
    "execution": {
     "iopub.execute_input": "2023-10-07T19:44:38.878480Z",
     "iopub.status.busy": "2023-10-07T19:44:38.878260Z",
     "iopub.status.idle": "2023-10-07T19:44:39.124058Z",
     "shell.execute_reply": "2023-10-07T19:44:39.123331Z",
     "shell.execute_reply.started": "2023-10-07T19:44:38.878458Z"
    },
    "tags": []
   },
   "outputs": [
    {
     "data": {
      "application/vnd.jupyter.widget-view+json": {
       "model_id": "db8d03565a914a1b858f5cda48793d1e",
       "version_major": 2,
       "version_minor": 0
      },
      "text/plain": [
       "VBox()"
      ]
     },
     "metadata": {},
     "output_type": "display_data"
    },
    {
     "data": {
      "application/vnd.jupyter.widget-view+json": {
       "model_id": "",
       "version_major": 2,
       "version_minor": 0
      },
      "text/plain": [
       "FloatProgress(value=0.0, bar_style='info', description='Progress:', layout=Layout(height='25px', width='50%'),…"
      ]
     },
     "metadata": {},
     "output_type": "display_data"
    }
   ],
   "source": [
    "pings_grid_full = (pings_grid_full.withColumn(\"count_ratio\", F.when(F.col(\"count_jan\") == 0, 0).otherwise(F.col(\"count\") / F.col(\"count_jan\")))\n",
    "                                .withColumn(\"caid_ratio\", F.when(F.col(\"caid_jan\") == 0, 0).otherwise(F.col(\"caid\") / F.col(\"caid_jan\")))\n",
    "                               .drop('caid_jan', 'count_jan')\n",
    "    )"
   ]
  },
  {
   "cell_type": "code",
   "execution_count": 7,
   "id": "43e2d01e-b235-4e41-9c08-4dbcc60eafe5",
   "metadata": {
    "execution": {
     "iopub.execute_input": "2023-10-07T19:44:39.125215Z",
     "iopub.status.busy": "2023-10-07T19:44:39.125003Z",
     "iopub.status.idle": "2023-10-07T19:46:10.718064Z",
     "shell.execute_reply": "2023-10-07T19:46:10.717200Z",
     "shell.execute_reply.started": "2023-10-07T19:44:39.125194Z"
    },
    "tags": []
   },
   "outputs": [
    {
     "data": {
      "application/vnd.jupyter.widget-view+json": {
       "model_id": "9f99d63d17934786af9b4cff78df84f7",
       "version_major": 2,
       "version_minor": 0
      },
      "text/plain": [
       "VBox()"
      ]
     },
     "metadata": {},
     "output_type": "display_data"
    },
    {
     "data": {
      "application/vnd.jupyter.widget-view+json": {
       "model_id": "",
       "version_major": 2,
       "version_minor": 0
      },
      "text/plain": [
       "FloatProgress(value=0.0, bar_style='info', description='Progress:', layout=Layout(height='25px', width='50%'),…"
      ]
     },
     "metadata": {},
     "output_type": "display_data"
    }
   ],
   "source": [
    "dates = pings_grid_full.select(\"date\").distinct().toPandas()"
   ]
  },
  {
   "cell_type": "code",
   "execution_count": 8,
   "id": "8e412d1c-6deb-40d6-ab59-409f7f81a1e3",
   "metadata": {
    "execution": {
     "iopub.execute_input": "2023-10-07T19:46:10.719268Z",
     "iopub.status.busy": "2023-10-07T19:46:10.719050Z",
     "iopub.status.idle": "2023-10-07T19:46:11.470072Z",
     "shell.execute_reply": "2023-10-07T19:46:11.469470Z",
     "shell.execute_reply.started": "2023-10-07T19:46:10.719246Z"
    },
    "tags": []
   },
   "outputs": [
    {
     "data": {
      "application/vnd.jupyter.widget-view+json": {
       "model_id": "545e1cc7291947f3acef6084fcccb235",
       "version_major": 2,
       "version_minor": 0
      },
      "text/plain": [
       "VBox()"
      ]
     },
     "metadata": {},
     "output_type": "display_data"
    },
    {
     "data": {
      "application/vnd.jupyter.widget-view+json": {
       "model_id": "",
       "version_major": 2,
       "version_minor": 0
      },
      "text/plain": [
       "FloatProgress(value=0.0, bar_style='info', description='Progress:', layout=Layout(height='25px', width='50%'),…"
      ]
     },
     "metadata": {},
     "output_type": "display_data"
    }
   ],
   "source": [
    "pings_grid_full = pings_grid_full.cache()"
   ]
  },
  {
   "cell_type": "code",
   "execution_count": 12,
   "id": "71478cd6-d8ad-40c9-b2e8-1183599cffa7",
   "metadata": {
    "execution": {
     "iopub.execute_input": "2023-10-07T19:56:14.245204Z",
     "iopub.status.busy": "2023-10-07T19:56:14.244899Z",
     "iopub.status.idle": "2023-10-07T19:56:14.488360Z",
     "shell.execute_reply": "2023-10-07T19:56:14.487782Z",
     "shell.execute_reply.started": "2023-10-07T19:56:14.245179Z"
    },
    "tags": []
   },
   "outputs": [
    {
     "data": {
      "application/vnd.jupyter.widget-view+json": {
       "model_id": "449b7c938f7b4e9c874c0ca6565211c9",
       "version_major": 2,
       "version_minor": 0
      },
      "text/plain": [
       "VBox()"
      ]
     },
     "metadata": {},
     "output_type": "display_data"
    },
    {
     "data": {
      "application/vnd.jupyter.widget-view+json": {
       "model_id": "",
       "version_major": 2,
       "version_minor": 0
      },
      "text/plain": [
       "FloatProgress(value=0.0, bar_style='info', description='Progress:', layout=Layout(height='25px', width='50%'),…"
      ]
     },
     "metadata": {},
     "output_type": "display_data"
    }
   ],
   "source": [
    "import boto3\n",
    "import re\n",
    "s3 = boto3.client('s3')\n",
    "\n",
    "def get_date_parts_from_s3_folder(bucket_name, prefix):\n",
    "    \"\"\"Get date parts from .geojson files in the specified S3 folder.\"\"\"\n",
    "    date_parts = []\n",
    "\n",
    "    # List the files in the given S3 folder\n",
    "    response = s3.list_objects_v2(Bucket=bucket_name, Prefix=prefix)\n",
    "\n",
    "    # Check if there are any files in the folder\n",
    "    if response.get('Contents'):\n",
    "        for obj in response['Contents']:\n",
    "            file_name = obj['Key'].split('/')[-1]  # Extract the file name from the full S3 key\n",
    "\n",
    "            # Use a regular expression to match the date part of the filename\n",
    "            match = re.match(r'(\\d{4}-\\d{2}-\\d{2})\\.geojson', file_name)\n",
    "            if match:\n",
    "                date_parts.append(match.group(1))\n",
    "\n",
    "    return date_parts\n",
    "\n",
    "skip = get_date_parts_from_s3_folder(\"ipsos-dvd\", \"fdd/data/out/ukr/grid_daily_pings\")\n"
   ]
  },
  {
   "cell_type": "code",
   "execution_count": null,
   "id": "3a820795-306e-437c-8c62-641bf7f16c31",
   "metadata": {
    "execution": {
     "iopub.execute_input": "2023-10-07T20:03:48.058446Z",
     "iopub.status.busy": "2023-10-07T20:03:48.058132Z"
    },
    "tags": []
   },
   "outputs": [
    {
     "data": {
      "application/vnd.jupyter.widget-view+json": {
       "model_id": "0210cb7f852448a1ace6cca411541f12",
       "version_major": 2,
       "version_minor": 0
      },
      "text/plain": [
       "VBox()"
      ]
     },
     "metadata": {},
     "output_type": "display_data"
    },
    {
     "data": {
      "application/vnd.jupyter.widget-view+json": {
       "model_id": "5a52fed843ec4f94b3afc27e7b0ed026",
       "version_major": 2,
       "version_minor": 0
      },
      "text/plain": [
       "FloatProgress(value=0.0, bar_style='info', description='Progress:', layout=Layout(height='25px', width='50%'),…"
      ]
     },
     "metadata": {},
     "output_type": "display_data"
    }
   ],
   "source": [
    "for date in dates[~dates['date'].isin(skip)]['date']:\n",
    "    \n",
    "    print(date)\n",
    "    \n",
    "    gdf_date = pings_grid_full.filter(F.col(\"date\") == date).toPandas()\n",
    "    gdf_date = gpd.GeoDataFrame(gdf_date, geometry = gdf_date['geometry'])\n",
    "    gdf_date.to_file(\"s3://ipsos-dvd/fdd/data/out/ukr/\" + \"grid_daily_pings/\" + date + \".geojson\", driver=\"GeoJSON\")\n",
    "    "
   ]
  },
  {
   "cell_type": "code",
   "execution_count": null,
   "id": "7eae320b-e27f-44ee-a710-1c781fa3acbd",
   "metadata": {
    "tags": []
   },
   "outputs": [],
   "source": [
    "date\n",
    "\n"
   ]
  },
  {
   "cell_type": "code",
   "execution_count": null,
   "id": "34abb3ae-c04d-4b8d-98fb-9f85d491d3a1",
   "metadata": {
    "execution": {
     "iopub.execute_input": "2023-10-02T23:06:12.822205Z",
     "iopub.status.busy": "2023-10-02T23:06:12.821906Z"
    },
    "tags": []
   },
   "outputs": [
    {
     "data": {
      "application/vnd.jupyter.widget-view+json": {
       "model_id": "4abecc7420a0452794774e0ce1d8b49b",
       "version_major": 2,
       "version_minor": 0
      },
      "text/plain": [
       "VBox()"
      ]
     },
     "metadata": {},
     "output_type": "display_data"
    },
    {
     "data": {
      "application/vnd.jupyter.widget-view+json": {
       "model_id": "7346c342cd69415b9475f820c739be34",
       "version_major": 2,
       "version_minor": 0
      },
      "text/plain": [
       "FloatProgress(value=0.0, bar_style='info', description='Progress:', layout=Layout(height='25px', width='50%'),…"
      ]
     },
     "metadata": {},
     "output_type": "display_data"
    }
   ],
   "source": [
    "pings_gdf['day'] = pings_gdf['day'].astype(str)\n",
    "pings_gdf[['day', 'geometry', 'count', 'caid']].to_file(os.path.join(dir_data, \"grid_daily_pings_raw.geojson\"), driver = \"GeoJSON\")"
   ]
  },
  {
   "cell_type": "code",
   "execution_count": null,
   "id": "8f687bd2-459c-43ca-9b7f-a6c3eaa61398",
   "metadata": {},
   "outputs": [],
   "source": [
    "pings_gdf = gpd.read_file(os.path.join(dir_data, \"grid_daily_pings_raw.geojson\"))"
   ]
  },
  {
   "cell_type": "code",
   "execution_count": 5,
   "id": "0bdaf679-2350-4928-983e-a66a023fcf16",
   "metadata": {
    "execution": {
     "iopub.execute_input": "2023-10-02T23:03:14.526894Z",
     "iopub.status.busy": "2023-10-02T23:03:14.526678Z",
     "iopub.status.idle": "2023-10-02T23:03:19.781155Z",
     "shell.execute_reply": "2023-10-02T23:03:19.780523Z",
     "shell.execute_reply.started": "2023-10-02T23:03:14.526872Z"
    },
    "tags": []
   },
   "outputs": [
    {
     "data": {
      "application/vnd.jupyter.widget-view+json": {
       "model_id": "fdab33e42b92461592b40df7ea2840f9",
       "version_major": 2,
       "version_minor": 0
      },
      "text/plain": [
       "VBox()"
      ]
     },
     "metadata": {},
     "output_type": "display_data"
    },
    {
     "data": {
      "application/vnd.jupyter.widget-view+json": {
       "model_id": "",
       "version_major": 2,
       "version_minor": 0
      },
      "text/plain": [
       "FloatProgress(value=0.0, bar_style='info', description='Progress:', layout=Layout(height='25px', width='50%'),…"
      ]
     },
     "metadata": {},
     "output_type": "display_data"
    }
   ],
   "source": [
    "pings_gdf['date'] = pd.to_datetime(pings_gdf['date'])\n",
    "pings_gdf['day'] = pings_gdf['date'].dt.date"
   ]
  },
  {
   "cell_type": "code",
   "execution_count": 6,
   "id": "7a844618-3919-4f7e-811b-d58b7685adaa",
   "metadata": {
    "execution": {
     "iopub.execute_input": "2023-10-02T23:03:19.782423Z",
     "iopub.status.busy": "2023-10-02T23:03:19.782209Z",
     "iopub.status.idle": "2023-10-02T23:03:21.024838Z",
     "shell.execute_reply": "2023-10-02T23:03:21.024207Z",
     "shell.execute_reply.started": "2023-10-02T23:03:19.782402Z"
    },
    "tags": []
   },
   "outputs": [
    {
     "data": {
      "application/vnd.jupyter.widget-view+json": {
       "model_id": "ecde0706207c49ab86579d11c5f524a0",
       "version_major": 2,
       "version_minor": 0
      },
      "text/plain": [
       "VBox()"
      ]
     },
     "metadata": {},
     "output_type": "display_data"
    },
    {
     "data": {
      "application/vnd.jupyter.widget-view+json": {
       "model_id": "",
       "version_major": 2,
       "version_minor": 0
      },
      "text/plain": [
       "FloatProgress(value=0.0, bar_style='info', description='Progress:', layout=Layout(height='25px', width='50%'),…"
      ]
     },
     "metadata": {},
     "output_type": "display_data"
    },
    {
     "name": "stderr",
     "output_type": "stream",
     "text": [
      "An error was encountered:\n",
      "unhashable type: 'Polygon'\n",
      "Traceback (most recent call last):\n",
      "  File \"/usr/local/lib/python3.7/site-packages/geopandas/geoseries.py\", line 624, in apply\n",
      "    result = super().apply(func, convert_dtype=convert_dtype, args=args, **kwargs)\n",
      "  File \"/usr/local/lib64/python3.7/site-packages/pandas/core/series.py\", line 4357, in apply\n",
      "    return SeriesApply(self, func, convert_dtype, args, kwargs).apply()\n",
      "  File \"/usr/local/lib64/python3.7/site-packages/pandas/core/apply.py\", line 1043, in apply\n",
      "    return self.apply_standard()\n",
      "  File \"/usr/local/lib64/python3.7/site-packages/pandas/core/apply.py\", line 1101, in apply_standard\n",
      "    convert=self.convert_dtype,\n",
      "  File \"pandas/_libs/lib.pyx\", line 2859, in pandas._libs.lib.map_infer\n",
      "TypeError: unhashable type: 'Polygon'\n",
      "\n"
     ]
    }
   ],
   "source": [
    "# balance panel by adding missing weeks\n",
    "# Set \"week\" and \"index_right\" as a MultiIndex\n",
    "test = pings_gdf.copy()\n",
    "test['geom_id'] = test['geometry'].to_wkt.apply(hash)\n",
    "test = test.set_index(['day', 'geom_id'])\n"
   ]
  },
  {
   "cell_type": "code",
   "execution_count": null,
   "id": "bd0c6f5f-5940-4110-b7dd-ef850063aa4a",
   "metadata": {},
   "outputs": [],
   "source": [
    "\n",
    "# # Create all possible combinations of \"week\" and \"index_right\"\n",
    "# unique_weeks = test.index.levels[0]\n",
    "# unique_index_right = test.index.levels[1]\n",
    "# index_combinations = pd.MultiIndex.from_product([unique_weeks, unique_index_right], names=['day', 'geometry'])\n",
    "\n",
    "# # Reindex the DataFrame with the new index combinations\n",
    "# test = test.reindex(index_combinations).reset_index()"
   ]
  },
  {
   "cell_type": "code",
   "execution_count": 49,
   "id": "33da595a-5c51-4ad3-8395-4c5a1fec5325",
   "metadata": {
    "execution": {
     "iopub.execute_input": "2023-10-02T22:55:51.602271Z",
     "iopub.status.busy": "2023-10-02T22:55:51.601968Z",
     "iopub.status.idle": "2023-10-02T22:55:51.635925Z",
     "shell.execute_reply": "2023-10-02T22:55:51.635349Z",
     "shell.execute_reply.started": "2023-10-02T22:55:51.602247Z"
    },
    "tags": []
   },
   "outputs": [
    {
     "data": {
      "application/vnd.jupyter.widget-view+json": {
       "model_id": "d6e091f910cb465e91b6592d9f013daa",
       "version_major": 2,
       "version_minor": 0
      },
      "text/plain": [
       "VBox()"
      ]
     },
     "metadata": {},
     "output_type": "display_data"
    },
    {
     "data": {
      "application/vnd.jupyter.widget-view+json": {
       "model_id": "",
       "version_major": 2,
       "version_minor": 0
      },
      "text/plain": [
       "FloatProgress(value=0.0, bar_style='info', description='Progress:', layout=Layout(height='25px', width='50%'),…"
      ]
     },
     "metadata": {},
     "output_type": "display_data"
    },
    {
     "name": "stderr",
     "output_type": "stream",
     "text": [
      "An error was encountered:\n",
      "name 'unique_index_right' is not defined\n",
      "Traceback (most recent call last):\n",
      "NameError: name 'unique_index_right' is not defined\n",
      "\n"
     ]
    }
   ],
   "source": [
    "unique_index_right"
   ]
  },
  {
   "cell_type": "code",
   "execution_count": 41,
   "id": "efa34c16-3629-4567-830c-f7da275e04f4",
   "metadata": {
    "execution": {
     "iopub.execute_input": "2023-10-02T22:43:58.321642Z",
     "iopub.status.busy": "2023-10-02T22:43:58.321179Z",
     "iopub.status.idle": "2023-10-02T22:46:17.891583Z",
     "shell.execute_reply": "2023-10-02T22:46:17.890981Z",
     "shell.execute_reply.started": "2023-10-02T22:43:58.321615Z"
    },
    "tags": []
   },
   "outputs": [
    {
     "data": {
      "application/vnd.jupyter.widget-view+json": {
       "model_id": "e2e0411f97ad42a5b82aa6369d98516e",
       "version_major": 2,
       "version_minor": 0
      },
      "text/plain": [
       "VBox()"
      ]
     },
     "metadata": {},
     "output_type": "display_data"
    },
    {
     "data": {
      "application/vnd.jupyter.widget-view+json": {
       "model_id": "",
       "version_major": 2,
       "version_minor": 0
      },
      "text/plain": [
       "FloatProgress(value=0.0, bar_style='info', description='Progress:', layout=Layout(height='25px', width='50%'),…"
      ]
     },
     "metadata": {},
     "output_type": "display_data"
    },
    {
     "name": "stdout",
     "output_type": "stream",
     "text": [
      "227265"
     ]
    }
   ],
   "source": [
    "pings_grid['geometry'].astype(str).nunique()"
   ]
  },
  {
   "cell_type": "code",
   "execution_count": null,
   "id": "8f405ece-d1fe-4179-86f3-b3ab1e19d3a9",
   "metadata": {},
   "outputs": [],
   "source": []
  }
 ],
 "metadata": {
  "kernelspec": {
   "display_name": "PySpark",
   "language": "python",
   "name": "pysparkkernel"
  },
  "language_info": {
   "codemirror_mode": {
    "name": "python",
    "version": 3
   },
   "file_extension": ".py",
   "mimetype": "text/x-python",
   "name": "pyspark",
   "pygments_lexer": "python3"
  }
 },
 "nbformat": 4,
 "nbformat_minor": 5
}
