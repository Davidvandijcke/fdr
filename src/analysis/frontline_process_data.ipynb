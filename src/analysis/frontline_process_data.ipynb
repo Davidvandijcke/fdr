{
 "cells": [
  {
   "cell_type": "code",
   "execution_count": 1,
   "id": "c4f196cf-5df5-4322-aa79-27a44a99adef",
   "metadata": {
    "execution": {
     "iopub.execute_input": "2023-10-19T20:36:36.343784Z",
     "iopub.status.busy": "2023-10-19T20:36:36.343463Z",
     "iopub.status.idle": "2023-10-19T20:37:08.160592Z",
     "shell.execute_reply": "2023-10-19T20:37:08.159959Z",
     "shell.execute_reply.started": "2023-10-19T20:36:36.343758Z"
    },
    "tags": []
   },
   "outputs": [
    {
     "data": {
      "application/vnd.jupyter.widget-view+json": {
       "model_id": "53cd25b34d5640a39f378dcb1f9c8c09",
       "version_major": 2,
       "version_minor": 0
      },
      "text/plain": [
       "VBox()"
      ]
     },
     "metadata": {},
     "output_type": "display_data"
    },
    {
     "name": "stdout",
     "output_type": "stream",
     "text": [
      "Starting Spark application\n"
     ]
    },
    {
     "data": {
      "text/html": [
       "<table>\n<tbody><tr><th>ID</th><th>YARN Application ID</th><th>Kind</th><th>State</th><th>Spark UI</th><th>Driver log</th><th>User</th><th>Current session?</th></tr><tr><td>5</td><td>application_1697738185164_0006</td><td>pyspark</td><td>idle</td><td><a target=\"_blank\" href=\"http://ip-172-31-32-216.ec2.internal:20888/proxy/application_1697738185164_0006/\" class=\"emr-proxy-link j-ND0DJYCTS0AQ application_1697738185164_0006\" emr-resource=\"j-ND0DJYCTS0AQ\n\" application-id=\"application_1697738185164_0006\">Link</a></td><td><a target=\"_blank\" href=\"http://ip-172-31-36-134.ec2.internal:8042/node/containerlogs/container_1697738185164_0006_01_000001/livy\">Link</a></td><td>None</td><td>✔</td></tr></tbody></table>"
      ],
      "text/plain": [
       "<IPython.core.display.HTML object>"
      ]
     },
     "metadata": {},
     "output_type": "display_data"
    },
    {
     "data": {
      "application/vnd.jupyter.widget-view+json": {
       "model_id": "",
       "version_major": 2,
       "version_minor": 0
      },
      "text/plain": [
       "FloatProgress(value=0.0, bar_style='info', description='Progress:', layout=Layout(height='25px', width='50%'),…"
      ]
     },
     "metadata": {},
     "output_type": "display_data"
    },
    {
     "name": "stdout",
     "output_type": "stream",
     "text": [
      "SparkSession available as 'spark'.\n"
     ]
    },
    {
     "data": {
      "application/vnd.jupyter.widget-view+json": {
       "model_id": "",
       "version_major": 2,
       "version_minor": 0
      },
      "text/plain": [
       "FloatProgress(value=0.0, bar_style='info', description='Progress:', layout=Layout(height='25px', width='50%'),…"
      ]
     },
     "metadata": {},
     "output_type": "display_data"
    }
   ],
   "source": [
    "\"\"\" Filter based on h3 hexagons mapped to polygons\n",
    "\n",
    "aws emr add-steps --cluster-id <Your EMR cluster id> --steps Type=spark,Name=TestJob,Args=[--deploy-mode,cluster,--master,yarn,--conf,spark.yarn.submit.waitAppCompletion=true,s3a://your-source-bucket/code/pythonjob.py,s3a://your-source-bucket/data/data.csv,s3a://your-destination-bucket/test-output/],ActionOnFailure=CONTINUE\n",
    "\"\"\"\n",
    "\n",
    "from collections import namedtuple\n",
    "import logging\n",
    "import sys\n",
    "\n",
    "\n",
    "import pyproj\n",
    "\n",
    "from geopy.distance import great_circle\n",
    "import pandas as pd\n",
    "import geopandas as gpd\n",
    "import numpy as np\n",
    "import os\n",
    "\n",
    "from datetime import timedelta, date, datetime\n",
    "from statistics import *\n",
    "\n",
    "from pyspark import SparkContext\n",
    "\n",
    "from pyspark.sql import SQLContext, SparkSession\n",
    "from pyspark.sql.window import Window\n",
    "from pyspark.sql.types import (\n",
    "    StructType,\n",
    "    LongType,\n",
    "    StructField,\n",
    "    IntegerType,\n",
    "    StringType,\n",
    "    DoubleType,\n",
    "    TimestampType,\n",
    "    FloatType,\n",
    "    ArrayType\n",
    ")\n",
    "from pyspark.sql.functions import (\n",
    "    from_utc_timestamp,\n",
    "    to_utc_timestamp,\n",
    "    dayofyear,\n",
    "    col,\n",
    "    unix_timestamp,\n",
    "    monotonically_increasing_id,\n",
    "    pandas_udf,\n",
    "    PandasUDFType,\n",
    "    col,\n",
    "    asc,\n",
    "    lit,\n",
    "    countDistinct,\n",
    ")\n",
    "from sedona.register import SedonaRegistrator  \n",
    "from sedona.utils import SedonaKryoRegistrator, KryoSerializer\n",
    "from pyspark.sql.functions import udf\n",
    "from sedona.utils.adapter import Adapter\n",
    "from sedona.core.formatMapper.shapefileParser import ShapefileReader\n",
    "from sedona.core.SpatialRDD import PointRDD, SpatialRDD, CircleRDD\n",
    "from sedona.sql.types import GeometryType\n",
    "from sedona.core.enums import GridType, IndexType\n",
    "from sedona.core.spatialOperator import JoinQueryRaw\n",
    "from sedona.core.spatialOperator import JoinQuery\n",
    "from sedona.core.enums import IndexType\n",
    "from sedona.core.formatMapper.disc_utils import load_spatial_rdd_from_disc, GeoType\n",
    "from sedona.core.formatMapper import WktReader, GeoJsonReader\n",
    "import pyspark.sql.functions as F\n",
    "from math import *\n",
    "import time\n",
    "\n",
    "from shapely.wkt import loads as wkt_loads\n",
    "from shapely.geometry import Point, Polygon, shape\n",
    "from shapely.ops import transform\n",
    "import shapely\n",
    "\n",
    "def create_rectangular_grid(xmin, ymin, xmax, ymax, width, height, crs=\"epsg:4326\"):\n",
    "    rows = int(np.ceil((ymax-ymin) / height))\n",
    "    cols = int(np.ceil((xmax-xmin) / width))\n",
    "    polygons = []\n",
    "    \n",
    "    for i in range(rows):\n",
    "        for j in range(cols):\n",
    "            min_x = xmin + j * width\n",
    "            min_y = ymin + i * height\n",
    "            max_x = min_x + width\n",
    "            max_y = min_y + height\n",
    "            polygon = Polygon([(min_x, min_y), (min_x, max_y), (max_x, max_y), (max_x, min_y), (min_x, min_y)])\n",
    "            polygons.append(polygon)\n",
    "            \n",
    "    return gpd.GeoDataFrame(pd.DataFrame({'geometry': polygons}), crs=crs)\n",
    "\n",
    "\n",
    "\n",
    "spark = (SparkSession.builder.appName(\"sedona\")\n",
    "                 .config(\"spark.serializer\", KryoSerializer.getName)          \n",
    "        .config(\"spark.kryo.registrator\",     \n",
    "                  SedonaKryoRegistrator.getName)    \n",
    "         .config(\"spark.driver.maxResultSize\", \"3g\")\n",
    "    .getOrCreate() \n",
    "        )\n",
    "\n",
    "# Register Sedona UDTs and UDFs\n",
    "SedonaRegistrator.registerAll(spark)\n",
    "\n",
    "#------- \n",
    "# parameters\n",
    "#-------\n",
    "\n",
    "data_ukr = \"s3://ipsos-dvd/ukr/data/\"\n",
    "dir_data = \"s3://ipsos-dvd/fdd/data/ukr/\"\n",
    "\n"
   ]
  },
  {
   "cell_type": "code",
   "execution_count": 2,
   "id": "d7e9df15-1399-4f7e-9e70-e3234f5cb183",
   "metadata": {
    "execution": {
     "iopub.execute_input": "2023-10-19T20:03:56.262751Z",
     "iopub.status.busy": "2023-10-19T20:03:56.262521Z",
     "iopub.status.idle": "2023-10-19T20:03:56.301618Z",
     "shell.execute_reply": "2023-10-19T20:03:56.300973Z",
     "shell.execute_reply.started": "2023-10-19T20:03:56.262729Z"
    },
    "tags": []
   },
   "outputs": [
    {
     "data": {
      "application/vnd.jupyter.widget-view+json": {
       "model_id": "b633d438d39343cb8da685b7a4df9dfb",
       "version_major": 2,
       "version_minor": 0
      },
      "text/plain": [
       "VBox()"
      ]
     },
     "metadata": {},
     "output_type": "display_data"
    },
    {
     "data": {
      "application/vnd.jupyter.widget-view+json": {
       "model_id": "",
       "version_major": 2,
       "version_minor": 0
      },
      "text/plain": [
       "FloatProgress(value=0.0, bar_style='info', description='Progress:', layout=Layout(height='25px', width='50%'),…"
      ]
     },
     "metadata": {},
     "output_type": "display_data"
    }
   ],
   "source": [
    "# # create grid to overlay\n",
    "# crs = \"epsg:6381\"\n",
    "# ukr = gpd.read_file(os.path.join(dir_data, 'raw', 'geo', 'ukr_admin_level1'))\n",
    "# test = ukr.to_crs(crs).dissolve().bounds\n",
    "# xmin, ymin, xmax, ymax = tuple(test.loc[0])\n",
    "# polygon = Polygon([(xmin, ymin), (xmin, ymax), (xmax, ymax), (xmax, ymin), (xmin, ymin)])\n",
    "# grid_width = 5000\n",
    "# grid_height = 5000\n",
    "\n",
    "# grid = create_rectangular_grid(xmin, ymin, xmax, ymax, grid_width, grid_height, crs)\n",
    "# polygon_gdf = gpd.GeoDataFrame(pd.DataFrame({'geometry': [polygon]}), crs=crs)\n",
    "# overlay = gpd.overlay(polygon_gdf, grid, how='intersection')\n",
    "\n",
    "# overlay.to_file(os.path.join(dir_data, 'out', 'geo',  'overlay.geojson'), driver=\"GeoJSON\")\n"
   ]
  },
  {
   "cell_type": "code",
   "execution_count": 3,
   "id": "4da074f9-4ade-41bc-92b3-8f4f03be2523",
   "metadata": {
    "execution": {
     "iopub.execute_input": "2023-10-19T20:03:56.303189Z",
     "iopub.status.busy": "2023-10-19T20:03:56.302965Z",
     "iopub.status.idle": "2023-10-19T20:04:09.586345Z",
     "shell.execute_reply": "2023-10-19T20:04:09.585694Z",
     "shell.execute_reply.started": "2023-10-19T20:03:56.303167Z"
    },
    "tags": []
   },
   "outputs": [
    {
     "data": {
      "application/vnd.jupyter.widget-view+json": {
       "model_id": "566565937f564a58a1136941bad33b1c",
       "version_major": 2,
       "version_minor": 0
      },
      "text/plain": [
       "VBox()"
      ]
     },
     "metadata": {},
     "output_type": "display_data"
    },
    {
     "data": {
      "application/vnd.jupyter.widget-view+json": {
       "model_id": "",
       "version_major": 2,
       "version_minor": 0
      },
      "text/plain": [
       "FloatProgress(value=0.0, bar_style='info', description='Progress:', layout=Layout(height='25px', width='50%'),…"
      ]
     },
     "metadata": {},
     "output_type": "display_data"
    }
   ],
   "source": [
    "fn = os.path.join(dir_data, 'out', 'geo',  'overlay.geojson')\n",
    "test = gpd.read_file(fn)\n",
    "\n",
    "poly_spark = spark.createDataFrame(\n",
    "  test\n",
    ").cache()"
   ]
  },
  {
   "cell_type": "code",
   "execution_count": 4,
   "id": "398ab2bc-67a9-476e-a83e-22a5bb95c8bd",
   "metadata": {
    "execution": {
     "iopub.execute_input": "2023-10-19T20:04:09.587767Z",
     "iopub.status.busy": "2023-10-19T20:04:09.587542Z",
     "iopub.status.idle": "2023-10-19T20:04:09.827772Z",
     "shell.execute_reply": "2023-10-19T20:04:09.827149Z",
     "shell.execute_reply.started": "2023-10-19T20:04:09.587745Z"
    },
    "tags": []
   },
   "outputs": [
    {
     "data": {
      "application/vnd.jupyter.widget-view+json": {
       "model_id": "780b589189ba457282a61fa7bd3caad7",
       "version_major": 2,
       "version_minor": 0
      },
      "text/plain": [
       "VBox()"
      ]
     },
     "metadata": {},
     "output_type": "display_data"
    },
    {
     "data": {
      "application/vnd.jupyter.widget-view+json": {
       "model_id": "",
       "version_major": 2,
       "version_minor": 0
      },
      "text/plain": [
       "FloatProgress(value=0.0, bar_style='info', description='Progress:', layout=Layout(height='25px', width='50%'),…"
      ]
     },
     "metadata": {},
     "output_type": "display_data"
    }
   ],
   "source": [
    "poly_rdd = Adapter.toSpatialRdd(poly_spark, \"geometry\")\n"
   ]
  },
  {
   "cell_type": "code",
   "execution_count": 5,
   "id": "523f136e-4813-4bd3-a7f7-04a21cb110fd",
   "metadata": {
    "execution": {
     "iopub.execute_input": "2023-10-19T20:04:09.828915Z",
     "iopub.status.busy": "2023-10-19T20:04:09.828671Z",
     "iopub.status.idle": "2023-10-19T20:04:15.091660Z",
     "shell.execute_reply": "2023-10-19T20:04:15.091055Z",
     "shell.execute_reply.started": "2023-10-19T20:04:09.828892Z"
    },
    "tags": []
   },
   "outputs": [
    {
     "data": {
      "application/vnd.jupyter.widget-view+json": {
       "model_id": "ae6b10e3c3ff4eba9484b768ba5ebbd4",
       "version_major": 2,
       "version_minor": 0
      },
      "text/plain": [
       "VBox()"
      ]
     },
     "metadata": {},
     "output_type": "display_data"
    },
    {
     "data": {
      "application/vnd.jupyter.widget-view+json": {
       "model_id": "",
       "version_major": 2,
       "version_minor": 0
      },
      "text/plain": [
       "FloatProgress(value=0.0, bar_style='info', description='Progress:', layout=Layout(height='25px', width='50%'),…"
      ]
     },
     "metadata": {},
     "output_type": "display_data"
    }
   ],
   "source": [
    "redo_ru = False\n",
    "if redo_ru:\n",
    "    # get Russian device IDs\n",
    "    essential_fields = [\n",
    "            StructField(\"utc_timestamp\",LongType(),False),\n",
    "            StructField(\"caid\",StringType(),False),\n",
    "            StructField(\"latitude\",DoubleType(),False),\n",
    "            StructField(\"longitude\",DoubleType(),False),\n",
    "            StructField(\"altitude\",DoubleType(),False),\n",
    "    ]\n",
    "    raw_schema = StructType(\n",
    "        essential_fields + [\n",
    "            StructField(\"id_type\",StringType(),False),\n",
    "            StructField(\"geo_hash\",StringType(),False),\n",
    "            StructField(\"horizontal_accuracy\",DoubleType(),False),\n",
    "            StructField(\"ip_address\",StringType(),False),\n",
    "            #StructField(\"altitude\",DoubleType(),False),\n",
    "            StructField(\"iso_country_code\",StringType(),False)]\n",
    "    )\n",
    "    ru = spark.read.schema(raw_schema).parquet(\"s3://external-veraset-data-us-west-2/movement/2022/\").select(\"caid\", \"latitude\", \"longitude\", \"utc_timestamp\", \"altitude\")\n",
    "\n",
    "    ru.filter(F.col(\"iso_country_code\") == \"RU\").write.mode(\"overwrite\").parquet(\"s3://ipsos-dvd/ukr/data/pings_RU_2022-01-01_2022-12-31/\")\n",
    "\n",
    "    ru_files = [\"s3://ipsos-dvd/ukr/data/pings_RU_2021-01-01_2021-12-31/\", \n",
    "               \"s3://ipsos-dvd/ukr/data/pings_RU_2022-01-01_2022-12-31/\"]\n",
    "\n",
    "    ru = spark.read.parquet(*ru_files)\n",
    "\n",
    "    ru = ru.select(\"caid\").dropDuplicates()\n",
    "\n",
    "    ru.write.mode(\"overwrite\").parquet(os.path.join(dir_data, 'ru_device_caids'))\n",
    "    \n",
    "ru = spark.read.parquet(os.path.join(dir_data, 'ru_device_caids'))\n"
   ]
  },
  {
   "cell_type": "code",
   "execution_count": 6,
   "id": "3c00831c-5e0c-4b91-a5fe-a93ca5a533bd",
   "metadata": {
    "execution": {
     "iopub.execute_input": "2023-10-19T20:04:15.092821Z",
     "iopub.status.busy": "2023-10-19T20:04:15.092601Z",
     "iopub.status.idle": "2023-10-19T20:04:22.359870Z",
     "shell.execute_reply": "2023-10-19T20:04:22.359217Z",
     "shell.execute_reply.started": "2023-10-19T20:04:15.092799Z"
    },
    "tags": []
   },
   "outputs": [
    {
     "data": {
      "application/vnd.jupyter.widget-view+json": {
       "model_id": "abd7fd78b3ca434f9c41266cd9935d7f",
       "version_major": 2,
       "version_minor": 0
      },
      "text/plain": [
       "VBox()"
      ]
     },
     "metadata": {},
     "output_type": "display_data"
    },
    {
     "data": {
      "application/vnd.jupyter.widget-view+json": {
       "model_id": "",
       "version_major": 2,
       "version_minor": 0
      },
      "text/plain": [
       "FloatProgress(value=0.0, bar_style='info', description='Progress:', layout=Layout(height='25px', width='50%'),…"
      ]
     },
     "metadata": {},
     "output_type": "display_data"
    }
   ],
   "source": [
    "# convert pings to sedona geometry format\n",
    "\n",
    "path = \"s3://ipsos-dvd/ukr/data/pings_2022-01-01_2022-12-31/\"\n",
    "\n",
    "essential_fields = [\n",
    "        StructField(\"utc_timestamp\",LongType(),False),\n",
    "        StructField(\"caid\",StringType(),False),\n",
    "        StructField(\"latitude\",DoubleType(),False),\n",
    "        StructField(\"longitude\",DoubleType(),False),\n",
    "        StructField(\"altitude\",DoubleType(),False),\n",
    "]\n",
    "raw_schema = StructType(\n",
    "    essential_fields + [\n",
    "        StructField(\"id_type\",StringType(),False),\n",
    "        StructField(\"geo_hash\",StringType(),False),\n",
    "        StructField(\"horizontal_accuracy\",DoubleType(),False),\n",
    "        StructField(\"ip_address\",StringType(),False),\n",
    "        #StructField(\"altitude\",DoubleType(),False),\n",
    "        StructField(\"iso_country_code\",StringType(),False)]\n",
    ")\n",
    "\n",
    "pings = spark.read.schema(raw_schema).parquet(path).select(\"latitude\", \"longitude\", \"caid\", \"utc_timestamp\") # .show() # .limit(1000)\n",
    "\n",
    "pings = pings.join(ru.withColumn(\"ru\", lit(1)), on = \"caid\", how=\"left\")\n",
    "pings = pings.fillna({'ru' : 0})"
   ]
  },
  {
   "cell_type": "code",
   "execution_count": 7,
   "id": "75275dbe-cbb3-4840-8aca-782998d2d50c",
   "metadata": {
    "execution": {
     "iopub.execute_input": "2023-10-19T20:04:22.360903Z",
     "iopub.status.busy": "2023-10-19T20:04:22.360693Z",
     "iopub.status.idle": "2023-10-19T20:08:32.308090Z",
     "shell.execute_reply": "2023-10-19T20:08:32.307382Z",
     "shell.execute_reply.started": "2023-10-19T20:04:22.360881Z"
    },
    "tags": []
   },
   "outputs": [
    {
     "data": {
      "application/vnd.jupyter.widget-view+json": {
       "model_id": "6ee3cb8dc4374cf080001647e31b4823",
       "version_major": 2,
       "version_minor": 0
      },
      "text/plain": [
       "VBox()"
      ]
     },
     "metadata": {},
     "output_type": "display_data"
    },
    {
     "data": {
      "application/vnd.jupyter.widget-view+json": {
       "model_id": "",
       "version_major": 2,
       "version_minor": 0
      },
      "text/plain": [
       "FloatProgress(value=0.0, bar_style='info', description='Progress:', layout=Layout(height='25px', width='50%'),…"
      ]
     },
     "metadata": {},
     "output_type": "display_data"
    }
   ],
   "source": [
    "pings.createOrReplaceTempView(\"pings\")\n",
    "\n",
    "# Read Hive table\n",
    "pings = spark.sql(\n",
    "      \"\"\"SELECT ST_FlipCoordinates(ST_Transform(ST_FlipCoordinates(ST_Point(cast(pings.longitude as Decimal(24,20)), cast(pings.latitude as Decimal(24,20)))), \"epsg:4326\", \"epsg:6381\")) AS point, \n",
    "      utc_timestamp, caid, latitude, longitude, ru\n",
    "      FROM pings;\n",
    "      \"\"\"\n",
    ")\n",
    "pings.write.format(\"geoparquet\").mode(\"overwrite\").parquet(dir_data + \"pings_sedona.parquet\")\n"
   ]
  },
  {
   "cell_type": "code",
   "execution_count": 8,
   "id": "23f48cea-d049-45f6-b9cc-5e82b4787e58",
   "metadata": {
    "execution": {
     "iopub.execute_input": "2023-10-19T20:08:32.312168Z",
     "iopub.status.busy": "2023-10-19T20:08:32.311929Z",
     "iopub.status.idle": "2023-10-19T20:08:33.560015Z",
     "shell.execute_reply": "2023-10-19T20:08:33.559416Z",
     "shell.execute_reply.started": "2023-10-19T20:08:32.312142Z"
    },
    "tags": []
   },
   "outputs": [
    {
     "data": {
      "application/vnd.jupyter.widget-view+json": {
       "model_id": "03893ec5cb5d41beb97a0d6206c9d0d7",
       "version_major": 2,
       "version_minor": 0
      },
      "text/plain": [
       "VBox()"
      ]
     },
     "metadata": {},
     "output_type": "display_data"
    },
    {
     "data": {
      "application/vnd.jupyter.widget-view+json": {
       "model_id": "",
       "version_major": 2,
       "version_minor": 0
      },
      "text/plain": [
       "FloatProgress(value=0.0, bar_style='info', description='Progress:', layout=Layout(height='25px', width='50%'),…"
      ]
     },
     "metadata": {},
     "output_type": "display_data"
    }
   ],
   "source": [
    "\n",
    "num_partitions = 1000\n",
    "\n",
    "pings = spark.read.parquet(dir_data + \"pings_sedona.parquet\") # .sample(fraction=0.1)\n",
    "\n",
    "pings = pings.withColumn(\"date\", F.to_date(F.from_utc_timestamp(F.col(\"utc_timestamp\").cast(TimestampType()), \"EET\")))\n",
    "# Repartition the data using the salted repartition column\n",
    "pings = pings.repartition(num_partitions)\n",
    "pings = pings.cache()\n",
    " \n",
    " "
   ]
  },
  {
   "cell_type": "code",
   "execution_count": 9,
   "id": "6433a474-e45c-4fe5-a194-29b6e78fb2e1",
   "metadata": {
    "execution": {
     "iopub.execute_input": "2023-10-19T20:08:33.561360Z",
     "iopub.status.busy": "2023-10-19T20:08:33.561127Z",
     "iopub.status.idle": "2023-10-19T20:08:33.597934Z",
     "shell.execute_reply": "2023-10-19T20:08:33.597145Z",
     "shell.execute_reply.started": "2023-10-19T20:08:33.561339Z"
    },
    "tags": []
   },
   "outputs": [
    {
     "data": {
      "application/vnd.jupyter.widget-view+json": {
       "model_id": "631f4dbe646f4384a5509a0f418c5ca0",
       "version_major": 2,
       "version_minor": 0
      },
      "text/plain": [
       "VBox()"
      ]
     },
     "metadata": {},
     "output_type": "display_data"
    },
    {
     "data": {
      "application/vnd.jupyter.widget-view+json": {
       "model_id": "",
       "version_major": 2,
       "version_minor": 0
      },
      "text/plain": [
       "FloatProgress(value=0.0, bar_style='info', description='Progress:', layout=Layout(height='25px', width='50%'),…"
      ]
     },
     "metadata": {},
     "output_type": "display_data"
    }
   ],
   "source": [
    "# pings = pings.alias(\"pings\").join(F.broadcast(poly_spark).alias(\"poly_rdd\"), F.expr(\n",
    "#   f\"\"\"ST_Within(pings.point, poly_rdd.geometry)\"\"\"\n",
    "# )) #select(\"pings.utc_timestamp\", \"pings.caid\").show()\n",
    "\n",
    "# pings.write.mode(\"overwrite\").parquet(os.path.join(dir_data, 'pings_grid'))"
   ]
  },
  {
   "cell_type": "code",
   "execution_count": 10,
   "id": "f7fd446c-b25c-402b-91e6-cc817743d182",
   "metadata": {
    "execution": {
     "iopub.execute_input": "2023-10-19T20:08:33.599400Z",
     "iopub.status.busy": "2023-10-19T20:08:33.599097Z",
     "iopub.status.idle": "2023-10-19T20:13:57.755411Z",
     "shell.execute_reply": "2023-10-19T20:13:57.754754Z",
     "shell.execute_reply.started": "2023-10-19T20:08:33.599376Z"
    },
    "tags": []
   },
   "outputs": [
    {
     "data": {
      "application/vnd.jupyter.widget-view+json": {
       "model_id": "337e2ee359554546a8aeda1615965cbb",
       "version_major": 2,
       "version_minor": 0
      },
      "text/plain": [
       "VBox()"
      ]
     },
     "metadata": {},
     "output_type": "display_data"
    },
    {
     "data": {
      "application/vnd.jupyter.widget-view+json": {
       "model_id": "",
       "version_major": 2,
       "version_minor": 0
      },
      "text/plain": [
       "FloatProgress(value=0.0, bar_style='info', description='Progress:', layout=Layout(height='25px', width='50%'),…"
      ]
     },
     "metadata": {},
     "output_type": "display_data"
    },
    {
     "name": "stdout",
     "output_type": "stream",
     "text": [
      "True"
     ]
    }
   ],
   "source": [
    "grid_type = GridType.QUADTREE # this shit works so much better for skewed data\n",
    "\n",
    "points_rdd = Adapter.toSpatialRdd(pings, \"point\")\n",
    "points_rdd.analyze()\n",
    "points_rdd.spatialPartitioning(grid_type)"
   ]
  },
  {
   "cell_type": "code",
   "execution_count": 11,
   "id": "cba61117-610b-480c-93f4-2344e7373485",
   "metadata": {
    "execution": {
     "iopub.execute_input": "2023-10-19T20:13:57.756537Z",
     "iopub.status.busy": "2023-10-19T20:13:57.756311Z",
     "iopub.status.idle": "2023-10-19T20:14:01.011488Z",
     "shell.execute_reply": "2023-10-19T20:14:01.010902Z",
     "shell.execute_reply.started": "2023-10-19T20:13:57.756515Z"
    },
    "tags": []
   },
   "outputs": [
    {
     "data": {
      "application/vnd.jupyter.widget-view+json": {
       "model_id": "5480e81bf7f64ce8b64615d4160cd17e",
       "version_major": 2,
       "version_minor": 0
      },
      "text/plain": [
       "VBox()"
      ]
     },
     "metadata": {},
     "output_type": "display_data"
    },
    {
     "data": {
      "application/vnd.jupyter.widget-view+json": {
       "model_id": "",
       "version_major": 2,
       "version_minor": 0
      },
      "text/plain": [
       "FloatProgress(value=0.0, bar_style='info', description='Progress:', layout=Layout(height='25px', width='50%'),…"
      ]
     },
     "metadata": {},
     "output_type": "display_data"
    }
   ],
   "source": [
    "#poly_rdd = Adapter.toSpatialRdd(polygons_rdd, \"geometry\")\n",
    "poly_rdd.analyze()\n",
    "poly_rdd.spatialPartitioning(points_rdd.getPartitioner())\n"
   ]
  },
  {
   "cell_type": "code",
   "execution_count": 12,
   "id": "400a6538-1f8a-4be8-a898-717ce2f97300",
   "metadata": {
    "execution": {
     "iopub.execute_input": "2023-10-19T20:14:01.012560Z",
     "iopub.status.busy": "2023-10-19T20:14:01.012349Z",
     "iopub.status.idle": "2023-10-19T20:14:01.248460Z",
     "shell.execute_reply": "2023-10-19T20:14:01.247896Z",
     "shell.execute_reply.started": "2023-10-19T20:14:01.012539Z"
    },
    "tags": []
   },
   "outputs": [
    {
     "data": {
      "application/vnd.jupyter.widget-view+json": {
       "model_id": "5eaddce3ffcb42209e4d8bf4c399684c",
       "version_major": 2,
       "version_minor": 0
      },
      "text/plain": [
       "VBox()"
      ]
     },
     "metadata": {},
     "output_type": "display_data"
    },
    {
     "data": {
      "application/vnd.jupyter.widget-view+json": {
       "model_id": "",
       "version_major": 2,
       "version_minor": 0
      },
      "text/plain": [
       "FloatProgress(value=0.0, bar_style='info', description='Progress:', layout=Layout(height='25px', width='50%'),…"
      ]
     },
     "metadata": {},
     "output_type": "display_data"
    }
   ],
   "source": [
    "\n",
    "build_on_spatial_partitioned_rdd = True ## Set to TRUE only if run join query\n",
    "using_index = True\n",
    "points_rdd.buildIndex(IndexType.QUADTREE, build_on_spatial_partitioned_rdd)\n",
    "\n",
    "# points_rdd = points_rdd.cache()\n",
    "# poly_rdd = poly_rdd.cache()\n",
    "\n",
    "# #poly_rdd = Adapter.toSpatialRdd(polygons_rdd, \"geometry\")\n",
    "# poly_rdd.analyze()\n",
    "# # poly_rdd.buildIndex(grid_type, build_on_spatial_partitioned_rdd)\n",
    "# poly_rdd.spatialPartitioning(points_rdd.getPartitioner())\n",
    "\n",
    "# spatial join\n",
    "result = JoinQueryRaw.SpatialJoinQueryFlat(points_rdd, poly_rdd, using_index, True)\n",
    "\n",
    "\n",
    "\n",
    "# (Adapter.toDf(result, poly_rdd.fieldNames, points_rdd.fieldNames, spark)#.show(5)\n",
    "#     .write.mode(\"overwrite\").parquet(os.path.join(dir_data, 'pings_grid'))\n",
    "# ) # this is currently slow, may need to remove unrealistically large polygons?\n"
   ]
  },
  {
   "cell_type": "code",
   "execution_count": 13,
   "id": "44fdedf3-b3b4-4747-9239-1db60a015e5c",
   "metadata": {
    "execution": {
     "iopub.execute_input": "2023-10-19T20:14:01.249485Z",
     "iopub.status.busy": "2023-10-19T20:14:01.249276Z",
     "iopub.status.idle": "2023-10-19T20:20:15.475510Z",
     "shell.execute_reply": "2023-10-19T20:20:15.474892Z",
     "shell.execute_reply.started": "2023-10-19T20:14:01.249464Z"
    },
    "tags": []
   },
   "outputs": [
    {
     "data": {
      "application/vnd.jupyter.widget-view+json": {
       "model_id": "2fd00df0ec94407698f0f01e46e107a4",
       "version_major": 2,
       "version_minor": 0
      },
      "text/plain": [
       "VBox()"
      ]
     },
     "metadata": {},
     "output_type": "display_data"
    },
    {
     "data": {
      "application/vnd.jupyter.widget-view+json": {
       "model_id": "",
       "version_major": 2,
       "version_minor": 0
      },
      "text/plain": [
       "FloatProgress(value=0.0, bar_style='info', description='Progress:', layout=Layout(height='25px', width='50%'),…"
      ]
     },
     "metadata": {},
     "output_type": "display_data"
    },
    {
     "name": "stdout",
     "output_type": "stream",
     "text": [
      "[('3.0', '2.12', '1.4.0')]"
     ]
    }
   ],
   "source": [
    "(Adapter.toDf(result, poly_rdd.fieldNames, points_rdd.fieldNames, spark)#.show(5)\n",
    "    .write.mode(\"overwrite\").parquet(os.path.join(dir_data, 'pings_grid_5x5'))\n",
    ") # this is currently slow, may need to remove unrealistically large polygons?"
   ]
  },
  {
   "cell_type": "markdown",
   "id": "a33ae661-7ba0-4984-b1fa-077d10610398",
   "metadata": {},
   "source": [
    "## After Spatial Join"
   ]
  },
  {
   "cell_type": "code",
   "execution_count": 2,
   "id": "26fc067d-b9f9-4571-a66d-8006f03ecc16",
   "metadata": {
    "execution": {
     "iopub.execute_input": "2023-10-19T20:37:11.753661Z",
     "iopub.status.busy": "2023-10-19T20:37:11.753363Z",
     "iopub.status.idle": "2023-10-19T20:37:17.021299Z",
     "shell.execute_reply": "2023-10-19T20:37:17.020625Z",
     "shell.execute_reply.started": "2023-10-19T20:37:11.753629Z"
    },
    "tags": []
   },
   "outputs": [
    {
     "data": {
      "application/vnd.jupyter.widget-view+json": {
       "model_id": "ef3ce45103014c398356469445e4def4",
       "version_major": 2,
       "version_minor": 0
      },
      "text/plain": [
       "VBox()"
      ]
     },
     "metadata": {},
     "output_type": "display_data"
    },
    {
     "data": {
      "application/vnd.jupyter.widget-view+json": {
       "model_id": "",
       "version_major": 2,
       "version_minor": 0
      },
      "text/plain": [
       "FloatProgress(value=0.0, bar_style='info', description='Progress:', layout=Layout(height='25px', width='50%'),…"
      ]
     },
     "metadata": {},
     "output_type": "display_data"
    }
   ],
   "source": [
    "pings_grid = spark.read.parquet(os.path.join(dir_data, 'pings_grid_5x5'))\n",
    "\n",
    "pings_grid = pings_grid.withColumnRenamed(\"leftgeometry\", \"geometry\")"
   ]
  },
  {
   "cell_type": "code",
   "execution_count": 3,
   "id": "4a3cab17-3979-4d90-8604-9fbcf92ca983",
   "metadata": {
    "execution": {
     "iopub.execute_input": "2023-10-19T20:37:17.022585Z",
     "iopub.status.busy": "2023-10-19T20:37:17.022371Z",
     "iopub.status.idle": "2023-10-19T20:37:17.059211Z",
     "shell.execute_reply": "2023-10-19T20:37:17.058631Z",
     "shell.execute_reply.started": "2023-10-19T20:37:17.022565Z"
    },
    "tags": []
   },
   "outputs": [
    {
     "data": {
      "application/vnd.jupyter.widget-view+json": {
       "model_id": "6a3c1da9ecec4769ba43dcccdb67f0fc",
       "version_major": 2,
       "version_minor": 0
      },
      "text/plain": [
       "VBox()"
      ]
     },
     "metadata": {},
     "output_type": "display_data"
    },
    {
     "data": {
      "application/vnd.jupyter.widget-view+json": {
       "model_id": "",
       "version_major": 2,
       "version_minor": 0
      },
      "text/plain": [
       "FloatProgress(value=0.0, bar_style='info', description='Progress:', layout=Layout(height='25px', width='50%'),…"
      ]
     },
     "metadata": {},
     "output_type": "display_data"
    }
   ],
   "source": [
    "from pyspark.sql.functions import atan2, cos, sin, radians, degrees\n",
    "\n",
    "def compute_bearing(latitude, longitude, lat_lag, long_lag):\n",
    "    # Convert degrees to radians\n",
    "    lat1, lon1, lat2, lon2 = map(radians, [latitude, longitude, lat_lag, long_lag])\n",
    "    \n",
    "    # Compute the bearing in radians\n",
    "    dLon = lon2 - lon1\n",
    "    y = sin(dLon) * cos(lat2)\n",
    "    x = cos(lat1) * sin(lat2) - sin(lat1) * cos(lat2) * cos(dLon)\n",
    "    initial_bearing = atan2(y, x)\n",
    "    \n",
    "    # Convert to degrees and normalize\n",
    "    initial_bearing = degrees(initial_bearing)\n",
    "    compass_bearing = (initial_bearing + 360) % 360\n",
    "    return compass_bearing\n",
    "bearing_udf = udf(compute_bearing, FloatType())\n"
   ]
  },
  {
   "cell_type": "code",
   "execution_count": 4,
   "id": "c23670ce-960b-493d-b75c-a8fb2fc6554d",
   "metadata": {
    "execution": {
     "iopub.execute_input": "2023-10-19T20:37:21.893429Z",
     "iopub.status.busy": "2023-10-19T20:37:21.893091Z",
     "iopub.status.idle": "2023-10-19T20:37:22.638240Z",
     "shell.execute_reply": "2023-10-19T20:37:22.637590Z",
     "shell.execute_reply.started": "2023-10-19T20:37:21.893391Z"
    },
    "tags": []
   },
   "outputs": [
    {
     "data": {
      "application/vnd.jupyter.widget-view+json": {
       "model_id": "8cbbc325cdf548128e5ab4a951e49bb3",
       "version_major": 2,
       "version_minor": 0
      },
      "text/plain": [
       "VBox()"
      ]
     },
     "metadata": {},
     "output_type": "display_data"
    },
    {
     "data": {
      "application/vnd.jupyter.widget-view+json": {
       "model_id": "",
       "version_major": 2,
       "version_minor": 0
      },
      "text/plain": [
       "FloatProgress(value=0.0, bar_style='info', description='Progress:', layout=Layout(height='25px', width='50%'),…"
      ]
     },
     "metadata": {},
     "output_type": "display_data"
    }
   ],
   "source": [
    "w1 = Window.partitionBy('caid', 'date').orderBy('utc_timestamp')\n",
    "pings_grid = (pings_grid.withColumn('grid_change', (F.col('geometry') != F.lead(F.col('geometry')).over(w1)).cast(IntegerType()))\n",
    "                        .fillna({'grid_change' : 0})\n",
    "                        .withColumn(\"lat_lead\", F.lead(F.col(\"latitude\")).over(w1))\n",
    "                        .withColumn(\"long_lead\", F.lead(F.col(\"longitude\")).over(w1))\n",
    "                        .withColumn(\"bearing\", compute_bearing(F.col(\"latitude\"), F.col(\"longitude\"), \n",
    "                                                               F.col(\"lat_lead\"), F.col(\"long_lead\")))\n",
    "             )"
   ]
  },
  {
   "cell_type": "markdown",
   "id": "1befcb2c-410b-473e-bac7-19bd30fe2b84",
   "metadata": {
    "execution": {
     "iopub.execute_input": "2023-10-19T18:56:53.393847Z",
     "iopub.status.busy": "2023-10-19T18:56:53.393546Z",
     "iopub.status.idle": "2023-10-19T18:56:53.429083Z",
     "shell.execute_reply": "2023-10-19T18:56:53.428425Z",
     "shell.execute_reply.started": "2023-10-19T18:56:53.393819Z"
    }
   },
   "source": [
    "### Calculate bearing"
   ]
  },
  {
   "cell_type": "markdown",
   "id": "b936bc49-2a0e-47d6-95ad-8d1e9d9dcd3c",
   "metadata": {},
   "source": [
    "### Calculate number of devices appearing in cell as well as in neighboring cells"
   ]
  },
  {
   "cell_type": "code",
   "execution_count": 5,
   "id": "939e58cd-c22f-492a-8456-69ee48a01990",
   "metadata": {
    "execution": {
     "iopub.execute_input": "2023-10-19T20:37:27.793149Z",
     "iopub.status.busy": "2023-10-19T20:37:27.792796Z",
     "iopub.status.idle": "2023-10-19T20:37:28.030349Z",
     "shell.execute_reply": "2023-10-19T20:37:28.029768Z",
     "shell.execute_reply.started": "2023-10-19T20:37:27.793122Z"
    },
    "tags": []
   },
   "outputs": [
    {
     "data": {
      "application/vnd.jupyter.widget-view+json": {
       "model_id": "df3a0698d958451693fde03eeda810aa",
       "version_major": 2,
       "version_minor": 0
      },
      "text/plain": [
       "VBox()"
      ]
     },
     "metadata": {},
     "output_type": "display_data"
    },
    {
     "data": {
      "application/vnd.jupyter.widget-view+json": {
       "model_id": "",
       "version_major": 2,
       "version_minor": 0
      },
      "text/plain": [
       "FloatProgress(value=0.0, bar_style='info', description='Progress:', layout=Layout(height='25px', width='50%'),…"
      ]
     },
     "metadata": {},
     "output_type": "display_data"
    }
   ],
   "source": [
    "pings_grid = (pings_grid.groupby(\"date\", \"geometry\")\n",
    "                    .agg(F.count(\"caid\").alias(\"count\"), F.countDistinct(\"caid\").alias(\"caid\"),\n",
    "                         F.sum(1-F.col(\"ru\")).alias(\"count_ukr\"), \n",
    "                         (F.countDistinct(F.col(\"caid\")*(1-F.col(\"ru\")))-1).alias(\"caid_ukr\"),\n",
    "                       (F.sum(F.col(\"bearing\") * F.col(\"grid_change\")) / F.sum(F.col(\"grid_change\"))).alias(\"bearing\")\n",
    "                       )\n",
    "    )"
   ]
  },
  {
   "cell_type": "code",
   "execution_count": 6,
   "id": "7d8c7717-669b-45a4-9c4b-10dc476e3b18",
   "metadata": {
    "execution": {
     "iopub.execute_input": "2023-10-19T20:37:30.358735Z",
     "iopub.status.busy": "2023-10-19T20:37:30.358438Z",
     "iopub.status.idle": "2023-10-19T20:37:43.638206Z",
     "shell.execute_reply": "2023-10-19T20:37:43.637594Z",
     "shell.execute_reply.started": "2023-10-19T20:37:30.358712Z"
    },
    "tags": []
   },
   "outputs": [
    {
     "data": {
      "application/vnd.jupyter.widget-view+json": {
       "model_id": "c01fb0c1ec434ef6adf1ef5d40228521",
       "version_major": 2,
       "version_minor": 0
      },
      "text/plain": [
       "VBox()"
      ]
     },
     "metadata": {},
     "output_type": "display_data"
    },
    {
     "data": {
      "application/vnd.jupyter.widget-view+json": {
       "model_id": "",
       "version_major": 2,
       "version_minor": 0
      },
      "text/plain": [
       "FloatProgress(value=0.0, bar_style='info', description='Progress:', layout=Layout(height='25px', width='50%'),…"
      ]
     },
     "metadata": {},
     "output_type": "display_data"
    }
   ],
   "source": [
    "fn = os.path.join(dir_data, 'out', 'geo',  'overlay.geojson')\n",
    "test = gpd.read_file(fn)\n",
    "\n",
    "poly_spark = spark.createDataFrame(\n",
    "  test\n",
    ").cache()"
   ]
  },
  {
   "cell_type": "code",
   "execution_count": 7,
   "id": "91e24f59-30e1-46f6-9bb9-37f68336d7b7",
   "metadata": {
    "execution": {
     "iopub.execute_input": "2023-10-19T20:37:43.639461Z",
     "iopub.status.busy": "2023-10-19T20:37:43.639248Z",
     "iopub.status.idle": "2023-10-19T20:37:56.921171Z",
     "shell.execute_reply": "2023-10-19T20:37:56.920327Z",
     "shell.execute_reply.started": "2023-10-19T20:37:43.639439Z"
    },
    "tags": []
   },
   "outputs": [
    {
     "data": {
      "application/vnd.jupyter.widget-view+json": {
       "model_id": "82e1b855407842c3a466af436118444f",
       "version_major": 2,
       "version_minor": 0
      },
      "text/plain": [
       "VBox()"
      ]
     },
     "metadata": {},
     "output_type": "display_data"
    },
    {
     "data": {
      "application/vnd.jupyter.widget-view+json": {
       "model_id": "",
       "version_major": 2,
       "version_minor": 0
      },
      "text/plain": [
       "FloatProgress(value=0.0, bar_style='info', description='Progress:', layout=Layout(height='25px', width='50%'),…"
      ]
     },
     "metadata": {},
     "output_type": "display_data"
    }
   ],
   "source": [
    "dates = pings_grid.select(\"date\").distinct().toPandas()"
   ]
  },
  {
   "cell_type": "code",
   "execution_count": 8,
   "id": "25b2c999-9bec-4205-8c0a-8d38024c2ed4",
   "metadata": {
    "execution": {
     "iopub.execute_input": "2023-10-19T20:37:56.922820Z",
     "iopub.status.busy": "2023-10-19T20:37:56.922604Z",
     "iopub.status.idle": "2023-10-19T20:37:57.161513Z",
     "shell.execute_reply": "2023-10-19T20:37:57.160827Z",
     "shell.execute_reply.started": "2023-10-19T20:37:56.922798Z"
    },
    "tags": []
   },
   "outputs": [
    {
     "data": {
      "application/vnd.jupyter.widget-view+json": {
       "model_id": "c7abb54ed29746d09b8d33ab2d247b84",
       "version_major": 2,
       "version_minor": 0
      },
      "text/plain": [
       "VBox()"
      ]
     },
     "metadata": {},
     "output_type": "display_data"
    },
    {
     "data": {
      "application/vnd.jupyter.widget-view+json": {
       "model_id": "",
       "version_major": 2,
       "version_minor": 0
      },
      "text/plain": [
       "FloatProgress(value=0.0, bar_style='info', description='Progress:', layout=Layout(height='25px', width='50%'),…"
      ]
     },
     "metadata": {},
     "output_type": "display_data"
    }
   ],
   "source": [
    "# replicate grid data for each date in pings_grid\n",
    "\n",
    "dates_df = spark.createDataFrame(dates)\n",
    "\n",
    "\n"
   ]
  },
  {
   "cell_type": "code",
   "execution_count": 9,
   "id": "f5a5df91-7440-4d78-ab46-20dc7286fbf1",
   "metadata": {
    "execution": {
     "iopub.execute_input": "2023-10-19T20:37:57.163057Z",
     "iopub.status.busy": "2023-10-19T20:37:57.162826Z",
     "iopub.status.idle": "2023-10-19T20:37:57.402643Z",
     "shell.execute_reply": "2023-10-19T20:37:57.402068Z",
     "shell.execute_reply.started": "2023-10-19T20:37:57.163036Z"
    },
    "tags": []
   },
   "outputs": [
    {
     "data": {
      "application/vnd.jupyter.widget-view+json": {
       "model_id": "b2f92a75705d443f8cb334d9adb78133",
       "version_major": 2,
       "version_minor": 0
      },
      "text/plain": [
       "VBox()"
      ]
     },
     "metadata": {},
     "output_type": "display_data"
    },
    {
     "data": {
      "application/vnd.jupyter.widget-view+json": {
       "model_id": "",
       "version_major": 2,
       "version_minor": 0
      },
      "text/plain": [
       "FloatProgress(value=0.0, bar_style='info', description='Progress:', layout=Layout(height='25px', width='50%'),…"
      ]
     },
     "metadata": {},
     "output_type": "display_data"
    }
   ],
   "source": [
    "balanced = dates_df.crossJoin(poly_spark)\n"
   ]
  },
  {
   "cell_type": "code",
   "execution_count": 10,
   "id": "1fe72a63-96c5-4b00-a38d-e3b2d35ce823",
   "metadata": {
    "execution": {
     "iopub.execute_input": "2023-10-19T20:37:57.403715Z",
     "iopub.status.busy": "2023-10-19T20:37:57.403494Z",
     "iopub.status.idle": "2023-10-19T20:37:57.640603Z",
     "shell.execute_reply": "2023-10-19T20:37:57.640019Z",
     "shell.execute_reply.started": "2023-10-19T20:37:57.403694Z"
    },
    "tags": []
   },
   "outputs": [
    {
     "data": {
      "application/vnd.jupyter.widget-view+json": {
       "model_id": "5e667b43998d4616a1c4b05137b3fb5a",
       "version_major": 2,
       "version_minor": 0
      },
      "text/plain": [
       "VBox()"
      ]
     },
     "metadata": {},
     "output_type": "display_data"
    },
    {
     "data": {
      "application/vnd.jupyter.widget-view+json": {
       "model_id": "",
       "version_major": 2,
       "version_minor": 0
      },
      "text/plain": [
       "FloatProgress(value=0.0, bar_style='info', description='Progress:', layout=Layout(height='25px', width='50%'),…"
      ]
     },
     "metadata": {},
     "output_type": "display_data"
    }
   ],
   "source": [
    "# balance panel\n",
    "\n",
    "pings_grid_full = balanced.join(pings_grid, on = ['date', 'geometry'], how=\"left\")\n"
   ]
  },
  {
   "cell_type": "code",
   "execution_count": 11,
   "id": "bcea5016-bb34-41ba-858a-7a9c8463dca9",
   "metadata": {
    "execution": {
     "iopub.execute_input": "2023-10-19T20:37:57.641681Z",
     "iopub.status.busy": "2023-10-19T20:37:57.641473Z",
     "iopub.status.idle": "2023-10-19T20:37:57.674181Z",
     "shell.execute_reply": "2023-10-19T20:37:57.673573Z",
     "shell.execute_reply.started": "2023-10-19T20:37:57.641660Z"
    },
    "tags": []
   },
   "outputs": [
    {
     "data": {
      "application/vnd.jupyter.widget-view+json": {
       "model_id": "56da6529e39a4b31b11b9ebcbaadbffb",
       "version_major": 2,
       "version_minor": 0
      },
      "text/plain": [
       "VBox()"
      ]
     },
     "metadata": {},
     "output_type": "display_data"
    },
    {
     "data": {
      "application/vnd.jupyter.widget-view+json": {
       "model_id": "",
       "version_major": 2,
       "version_minor": 0
      },
      "text/plain": [
       "FloatProgress(value=0.0, bar_style='info', description='Progress:', layout=Layout(height='25px', width='50%'),…"
      ]
     },
     "metadata": {},
     "output_type": "display_data"
    }
   ],
   "source": [
    "#pings_grid = pings_grid.cache()\n",
    "#pings_grid_full.count()\n"
   ]
  },
  {
   "cell_type": "code",
   "execution_count": 12,
   "id": "b152601e-fe76-403e-a9c8-cea9b7dbdffa",
   "metadata": {
    "execution": {
     "iopub.execute_input": "2023-10-19T20:37:57.675204Z",
     "iopub.status.busy": "2023-10-19T20:37:57.675005Z",
     "iopub.status.idle": "2023-10-19T20:45:06.122463Z",
     "shell.execute_reply": "2023-10-19T20:45:06.121853Z",
     "shell.execute_reply.started": "2023-10-19T20:37:57.675184Z"
    },
    "tags": []
   },
   "outputs": [
    {
     "data": {
      "application/vnd.jupyter.widget-view+json": {
       "model_id": "cf9b669450a54def8d56f24f565edbe2",
       "version_major": 2,
       "version_minor": 0
      },
      "text/plain": [
       "VBox()"
      ]
     },
     "metadata": {},
     "output_type": "display_data"
    },
    {
     "data": {
      "application/vnd.jupyter.widget-view+json": {
       "model_id": "",
       "version_major": 2,
       "version_minor": 0
      },
      "text/plain": [
       "FloatProgress(value=0.0, bar_style='info', description='Progress:', layout=Layout(height='25px', width='50%'),…"
      ]
     },
     "metadata": {},
     "output_type": "display_data"
    }
   ],
   "source": [
    "pings_grid_full.write.parquet(os.path.join(dir_data, \"pings_grid_full_5x5\"))"
   ]
  },
  {
   "cell_type": "markdown",
   "id": "edf89c3a-38f1-4aa3-bb76-5d04c8182ee7",
   "metadata": {},
   "source": [
    "## Restart with balanced panel"
   ]
  },
  {
   "cell_type": "code",
   "execution_count": 13,
   "id": "609db1f3-bd96-4a52-9b6e-4225d9db0143",
   "metadata": {
    "execution": {
     "iopub.execute_input": "2023-10-19T20:45:06.124206Z",
     "iopub.status.busy": "2023-10-19T20:45:06.123987Z",
     "iopub.status.idle": "2023-10-19T20:45:06.863693Z",
     "shell.execute_reply": "2023-10-19T20:45:06.863090Z",
     "shell.execute_reply.started": "2023-10-19T20:45:06.124185Z"
    },
    "tags": []
   },
   "outputs": [
    {
     "data": {
      "application/vnd.jupyter.widget-view+json": {
       "model_id": "4f067bbac3d044ac9b8ecf8dd00e0ce8",
       "version_major": 2,
       "version_minor": 0
      },
      "text/plain": [
       "VBox()"
      ]
     },
     "metadata": {},
     "output_type": "display_data"
    },
    {
     "data": {
      "application/vnd.jupyter.widget-view+json": {
       "model_id": "",
       "version_major": 2,
       "version_minor": 0
      },
      "text/plain": [
       "FloatProgress(value=0.0, bar_style='info', description='Progress:', layout=Layout(height='25px', width='50%'),…"
      ]
     },
     "metadata": {},
     "output_type": "display_data"
    }
   ],
   "source": [
    "pings_grid_full = spark.read.parquet(os.path.join(dir_data, \"pings_grid_full_5x5\"))"
   ]
  },
  {
   "cell_type": "code",
   "execution_count": 14,
   "id": "1f5f1a2b-a087-404d-904b-75028393ff97",
   "metadata": {
    "collapsed": true,
    "execution": {
     "iopub.execute_input": "2023-10-19T20:45:06.864760Z",
     "iopub.status.busy": "2023-10-19T20:45:06.864555Z",
     "iopub.status.idle": "2023-10-19T20:45:07.601686Z",
     "shell.execute_reply": "2023-10-19T20:45:07.601055Z",
     "shell.execute_reply.started": "2023-10-19T20:45:06.864740Z"
    },
    "jupyter": {
     "outputs_hidden": true
    },
    "tags": []
   },
   "outputs": [
    {
     "data": {
      "application/vnd.jupyter.widget-view+json": {
       "model_id": "1e3a49c15ffe4f89b2a02923398bc4dc",
       "version_major": 2,
       "version_minor": 0
      },
      "text/plain": [
       "VBox()"
      ]
     },
     "metadata": {},
     "output_type": "display_data"
    },
    {
     "data": {
      "application/vnd.jupyter.widget-view+json": {
       "model_id": "",
       "version_major": 2,
       "version_minor": 0
      },
      "text/plain": [
       "FloatProgress(value=0.0, bar_style='info', description='Progress:', layout=Layout(height='25px', width='50%'),…"
      ]
     },
     "metadata": {},
     "output_type": "display_data"
    },
    {
     "name": "stdout",
     "output_type": "stream",
     "text": [
      "+-----------+\n",
      "|month(date)|\n",
      "+-----------+\n",
      "|          9|\n",
      "|          9|\n",
      "|          9|\n",
      "|          9|\n",
      "|          9|\n",
      "|          9|\n",
      "|          9|\n",
      "|          9|\n",
      "|          9|\n",
      "|          7|\n",
      "|          7|\n",
      "|          7|\n",
      "|          7|\n",
      "|          7|\n",
      "|          7|\n",
      "|          7|\n",
      "|          7|\n",
      "|          7|\n",
      "|          7|\n",
      "|          7|\n",
      "+-----------+\n",
      "only showing top 20 rows"
     ]
    }
   ],
   "source": [
    "# calculate average in january\n",
    "pings_grid_full = pings_grid_full.cache()\n"
   ]
  },
  {
   "cell_type": "code",
   "execution_count": 15,
   "id": "b27dbbe4-d067-49c9-b6ac-2477bf694717",
   "metadata": {
    "execution": {
     "iopub.execute_input": "2023-10-19T20:45:35.108307Z",
     "iopub.status.busy": "2023-10-19T20:45:35.108001Z",
     "iopub.status.idle": "2023-10-19T20:45:35.345938Z",
     "shell.execute_reply": "2023-10-19T20:45:35.345344Z",
     "shell.execute_reply.started": "2023-10-19T20:45:35.108283Z"
    },
    "tags": []
   },
   "outputs": [
    {
     "data": {
      "application/vnd.jupyter.widget-view+json": {
       "model_id": "2c777e6e9bba443c87a1e3f1f53e01c2",
       "version_major": 2,
       "version_minor": 0
      },
      "text/plain": [
       "VBox()"
      ]
     },
     "metadata": {},
     "output_type": "display_data"
    },
    {
     "data": {
      "application/vnd.jupyter.widget-view+json": {
       "model_id": "",
       "version_major": 2,
       "version_minor": 0
      },
      "text/plain": [
       "FloatProgress(value=0.0, bar_style='info', description='Progress:', layout=Layout(height='25px', width='50%'),…"
      ]
     },
     "metadata": {},
     "output_type": "display_data"
    }
   ],
   "source": [
    "# calculate the conditional average\n",
    "# temp = pings_grid_full.filter(F.month(\"date\") == 1).groupby(\"geometry\").agg((F.sum(F.col(\"count\") * (F.col(\"count\") > 0).cast(IntegerType())) / F.sum((F.col(\"count\") > 0).cast(IntegerType()))).alias(\"count_jan\"), \n",
    "#                                                             (F.sum(F.col(\"caid\") * (F.col(\"caid\") > 0).cast(IntegerType())) / F.sum((F.col(\"caid\") > 0).cast(IntegerType()))).alias(\"caid_jan\"))\n",
    "temp = pings_grid_full.filter(F.month(\"date\") == 1).groupby(\"geometry\").agg(F.avg(\"count\").alias(\"count_jan\"), \n",
    "                                                            F.avg(\"caid\").alias(\"caid_jan\"),\n",
    "                                                            F.avg(\"count_ukr\").alias(\"count_ukr_jan\"), \n",
    "                                                            F.avg(\"caid_ukr\").alias(\"caid_ukr_jan\"),\n",
    "                                                            F.avg(\"bearing\").alias(\"bearing_jan\")\n",
    "                                                            )\n",
    "\n",
    "\n",
    "pings_grid_full = pings_grid_full.join(temp, on = \"geometry\", how = \"left\")"
   ]
  },
  {
   "cell_type": "code",
   "execution_count": 16,
   "id": "9dc0edac-7895-416b-8104-bae98042cdfc",
   "metadata": {
    "execution": {
     "iopub.execute_input": "2023-10-19T20:45:35.592864Z",
     "iopub.status.busy": "2023-10-19T20:45:35.592584Z",
     "iopub.status.idle": "2023-10-19T20:45:35.829476Z",
     "shell.execute_reply": "2023-10-19T20:45:35.828884Z",
     "shell.execute_reply.started": "2023-10-19T20:45:35.592841Z"
    },
    "tags": []
   },
   "outputs": [
    {
     "data": {
      "application/vnd.jupyter.widget-view+json": {
       "model_id": "2d5ba7cb76f247a394b98e43bfc55a8f",
       "version_major": 2,
       "version_minor": 0
      },
      "text/plain": [
       "VBox()"
      ]
     },
     "metadata": {},
     "output_type": "display_data"
    },
    {
     "data": {
      "application/vnd.jupyter.widget-view+json": {
       "model_id": "",
       "version_major": 2,
       "version_minor": 0
      },
      "text/plain": [
       "FloatProgress(value=0.0, bar_style='info', description='Progress:', layout=Layout(height='25px', width='50%'),…"
      ]
     },
     "metadata": {},
     "output_type": "display_data"
    }
   ],
   "source": [
    "pings_grid_full = pings_grid_full.na.fill({'count_jan' : 0, 'caid_jan' : 0, 'caid' : 0, 'count' : 0, \n",
    "                                          'count_ukr_jan' : 0, 'caid_ukr_jan' : 0, 'bearing' : 0, 'bearing_jan' : 0})"
   ]
  },
  {
   "cell_type": "code",
   "execution_count": 17,
   "id": "cbf4fe19-43f7-4ba4-ac4d-8c7f93de0f5b",
   "metadata": {
    "execution": {
     "iopub.execute_input": "2023-10-19T20:45:36.493140Z",
     "iopub.status.busy": "2023-10-19T20:45:36.492768Z",
     "iopub.status.idle": "2023-10-19T20:45:36.731269Z",
     "shell.execute_reply": "2023-10-19T20:45:36.730679Z",
     "shell.execute_reply.started": "2023-10-19T20:45:36.493111Z"
    },
    "tags": []
   },
   "outputs": [
    {
     "data": {
      "application/vnd.jupyter.widget-view+json": {
       "model_id": "ca74bc70a2e0431e89586eab4178d2f2",
       "version_major": 2,
       "version_minor": 0
      },
      "text/plain": [
       "VBox()"
      ]
     },
     "metadata": {},
     "output_type": "display_data"
    },
    {
     "data": {
      "application/vnd.jupyter.widget-view+json": {
       "model_id": "",
       "version_major": 2,
       "version_minor": 0
      },
      "text/plain": [
       "FloatProgress(value=0.0, bar_style='info', description='Progress:', layout=Layout(height='25px', width='50%'),…"
      ]
     },
     "metadata": {},
     "output_type": "display_data"
    }
   ],
   "source": [
    "pings_grid_full = (pings_grid_full.withColumn(\"count_ratio\", F.when(F.col(\"count_jan\") == 0, 0).otherwise(F.col(\"count\") / F.col(\"count_jan\")))\n",
    "                                .withColumn(\"caid_ratio\", F.when(F.col(\"caid_jan\") == 0, 0).otherwise(F.col(\"caid\") / F.col(\"caid_jan\")))\n",
    "    )"
   ]
  },
  {
   "cell_type": "code",
   "execution_count": 18,
   "id": "43e2d01e-b235-4e41-9c08-4dbcc60eafe5",
   "metadata": {
    "execution": {
     "iopub.execute_input": "2023-10-19T20:45:38.858061Z",
     "iopub.status.busy": "2023-10-19T20:45:38.857767Z",
     "iopub.status.idle": "2023-10-19T20:45:42.114438Z",
     "shell.execute_reply": "2023-10-19T20:45:42.113820Z",
     "shell.execute_reply.started": "2023-10-19T20:45:38.858038Z"
    },
    "tags": []
   },
   "outputs": [
    {
     "data": {
      "application/vnd.jupyter.widget-view+json": {
       "model_id": "289dc768bc48479b9e600fd1ce19927d",
       "version_major": 2,
       "version_minor": 0
      },
      "text/plain": [
       "VBox()"
      ]
     },
     "metadata": {},
     "output_type": "display_data"
    },
    {
     "data": {
      "application/vnd.jupyter.widget-view+json": {
       "model_id": "",
       "version_major": 2,
       "version_minor": 0
      },
      "text/plain": [
       "FloatProgress(value=0.0, bar_style='info', description='Progress:', layout=Layout(height='25px', width='50%'),…"
      ]
     },
     "metadata": {},
     "output_type": "display_data"
    }
   ],
   "source": [
    "dates = pings_grid_full.select(\"date\").distinct().toPandas()"
   ]
  },
  {
   "cell_type": "code",
   "execution_count": 19,
   "id": "8e412d1c-6deb-40d6-ab59-409f7f81a1e3",
   "metadata": {
    "execution": {
     "iopub.execute_input": "2023-10-19T20:45:42.116154Z",
     "iopub.status.busy": "2023-10-19T20:45:42.115829Z",
     "iopub.status.idle": "2023-10-19T20:45:42.356980Z",
     "shell.execute_reply": "2023-10-19T20:45:42.356327Z",
     "shell.execute_reply.started": "2023-10-19T20:45:42.116120Z"
    },
    "tags": []
   },
   "outputs": [
    {
     "data": {
      "application/vnd.jupyter.widget-view+json": {
       "model_id": "11b0080560d744f5bef10e52a0b9f770",
       "version_major": 2,
       "version_minor": 0
      },
      "text/plain": [
       "VBox()"
      ]
     },
     "metadata": {},
     "output_type": "display_data"
    },
    {
     "data": {
      "application/vnd.jupyter.widget-view+json": {
       "model_id": "",
       "version_major": 2,
       "version_minor": 0
      },
      "text/plain": [
       "FloatProgress(value=0.0, bar_style='info', description='Progress:', layout=Layout(height='25px', width='50%'),…"
      ]
     },
     "metadata": {},
     "output_type": "display_data"
    }
   ],
   "source": [
    "pings_grid_full = pings_grid_full.cache()"
   ]
  },
  {
   "cell_type": "code",
   "execution_count": 20,
   "id": "71478cd6-d8ad-40c9-b2e8-1183599cffa7",
   "metadata": {
    "execution": {
     "iopub.execute_input": "2023-10-19T20:45:42.359032Z",
     "iopub.status.busy": "2023-10-19T20:45:42.358707Z",
     "iopub.status.idle": "2023-10-19T20:45:42.597677Z",
     "shell.execute_reply": "2023-10-19T20:45:42.597069Z",
     "shell.execute_reply.started": "2023-10-19T20:45:42.358998Z"
    },
    "tags": []
   },
   "outputs": [
    {
     "data": {
      "application/vnd.jupyter.widget-view+json": {
       "model_id": "88362b1277d540e986468c5c6fa1d01f",
       "version_major": 2,
       "version_minor": 0
      },
      "text/plain": [
       "VBox()"
      ]
     },
     "metadata": {},
     "output_type": "display_data"
    },
    {
     "data": {
      "application/vnd.jupyter.widget-view+json": {
       "model_id": "",
       "version_major": 2,
       "version_minor": 0
      },
      "text/plain": [
       "FloatProgress(value=0.0, bar_style='info', description='Progress:', layout=Layout(height='25px', width='50%'),…"
      ]
     },
     "metadata": {},
     "output_type": "display_data"
    }
   ],
   "source": [
    "import boto3\n",
    "import re\n",
    "s3 = boto3.client('s3')\n",
    "\n",
    "def get_date_parts_from_s3_folder(bucket_name, prefix):\n",
    "    \"\"\"Get date parts from .geojson files in the specified S3 folder.\"\"\"\n",
    "    date_parts = []\n",
    "\n",
    "    # List the files in the given S3 folder\n",
    "    response = s3.list_objects_v2(Bucket=bucket_name, Prefix=prefix)\n",
    "\n",
    "    # Check if there are any files in the folder\n",
    "    if response.get('Contents'):\n",
    "        for obj in response['Contents']:\n",
    "            file_name = obj['Key'].split('/')[-1]  # Extract the file name from the full S3 key\n",
    "\n",
    "            # Use a regular expression to match the date part of the filename\n",
    "            match = re.match(r'(\\d{4}-\\d{2}-\\d{2})\\.geojson', file_name)\n",
    "            if match:\n",
    "                date_parts.append(match.group(1))\n",
    "\n",
    "    return date_parts\n",
    "\n",
    "skip = get_date_parts_from_s3_folder(\"ipsos-dvd\", \"fdd/data/out/ukr/grid_daily_pings\")\n"
   ]
  },
  {
   "cell_type": "code",
   "execution_count": 21,
   "id": "3a820795-306e-437c-8c62-641bf7f16c31",
   "metadata": {
    "execution": {
     "iopub.execute_input": "2023-10-19T20:45:42.598825Z",
     "iopub.status.busy": "2023-10-19T20:45:42.598610Z",
     "iopub.status.idle": "2023-10-19T20:46:03.964652Z",
     "shell.execute_reply": "2023-10-19T20:46:03.964047Z",
     "shell.execute_reply.started": "2023-10-19T20:45:42.598804Z"
    },
    "tags": []
   },
   "outputs": [
    {
     "data": {
      "application/vnd.jupyter.widget-view+json": {
       "model_id": "dc052b267ad64163bf9f63c7c58ab4ff",
       "version_major": 2,
       "version_minor": 0
      },
      "text/plain": [
       "VBox()"
      ]
     },
     "metadata": {},
     "output_type": "display_data"
    },
    {
     "data": {
      "application/vnd.jupyter.widget-view+json": {
       "model_id": "",
       "version_major": 2,
       "version_minor": 0
      },
      "text/plain": [
       "FloatProgress(value=0.0, bar_style='info', description='Progress:', layout=Layout(height='25px', width='50%'),…"
      ]
     },
     "metadata": {},
     "output_type": "display_data"
    },
    {
     "name": "stdout",
     "output_type": "stream",
     "text": [
      "2022-11-09"
     ]
    }
   ],
   "source": [
    "for date in ['2022-11-09']: # dates['date']:\n",
    "    \n",
    "    print(date)\n",
    "    \n",
    "    gdf_date = pings_grid_full.filter(F.col(\"date\") == date).toPandas()\n",
    "    gdf_date = gpd.GeoDataFrame(gdf_date, geometry = gdf_date['geometry'])\n",
    "    gdf_date.to_file(\"s3://ipsos-dvd/fdd/data/out/ukr/\" + \"grid_daily_pings_5x5/\" + date + \".geojson\", driver=\"GeoJSON\")\n",
    "    "
   ]
  },
  {
   "cell_type": "code",
   "execution_count": null,
   "id": "7eae320b-e27f-44ee-a710-1c781fa3acbd",
   "metadata": {
    "tags": []
   },
   "outputs": [],
   "source": [
    "date\n",
    "\n"
   ]
  },
  {
   "cell_type": "code",
   "execution_count": null,
   "id": "34abb3ae-c04d-4b8d-98fb-9f85d491d3a1",
   "metadata": {
    "execution": {
     "iopub.execute_input": "2023-10-02T23:06:12.822205Z",
     "iopub.status.busy": "2023-10-02T23:06:12.821906Z"
    },
    "tags": []
   },
   "outputs": [
    {
     "data": {
      "application/vnd.jupyter.widget-view+json": {
       "model_id": "4abecc7420a0452794774e0ce1d8b49b",
       "version_major": 2,
       "version_minor": 0
      },
      "text/plain": [
       "VBox()"
      ]
     },
     "metadata": {},
     "output_type": "display_data"
    },
    {
     "data": {
      "application/vnd.jupyter.widget-view+json": {
       "model_id": "7346c342cd69415b9475f820c739be34",
       "version_major": 2,
       "version_minor": 0
      },
      "text/plain": [
       "FloatProgress(value=0.0, bar_style='info', description='Progress:', layout=Layout(height='25px', width='50%'),…"
      ]
     },
     "metadata": {},
     "output_type": "display_data"
    }
   ],
   "source": [
    "pings_gdf['day'] = pings_gdf['day'].astype(str)\n",
    "pings_gdf[['day', 'geometry', 'count', 'caid']].to_file(os.path.join(dir_data, \"grid_daily_pings_raw.geojson\"), driver = \"GeoJSON\")"
   ]
  },
  {
   "cell_type": "code",
   "execution_count": null,
   "id": "8f687bd2-459c-43ca-9b7f-a6c3eaa61398",
   "metadata": {},
   "outputs": [],
   "source": [
    "pings_gdf = gpd.read_file(os.path.join(dir_data, \"grid_daily_pings_raw.geojson\"))"
   ]
  },
  {
   "cell_type": "code",
   "execution_count": 5,
   "id": "0bdaf679-2350-4928-983e-a66a023fcf16",
   "metadata": {
    "execution": {
     "iopub.execute_input": "2023-10-02T23:03:14.526894Z",
     "iopub.status.busy": "2023-10-02T23:03:14.526678Z",
     "iopub.status.idle": "2023-10-02T23:03:19.781155Z",
     "shell.execute_reply": "2023-10-02T23:03:19.780523Z",
     "shell.execute_reply.started": "2023-10-02T23:03:14.526872Z"
    },
    "tags": []
   },
   "outputs": [
    {
     "data": {
      "application/vnd.jupyter.widget-view+json": {
       "model_id": "fdab33e42b92461592b40df7ea2840f9",
       "version_major": 2,
       "version_minor": 0
      },
      "text/plain": [
       "VBox()"
      ]
     },
     "metadata": {},
     "output_type": "display_data"
    },
    {
     "data": {
      "application/vnd.jupyter.widget-view+json": {
       "model_id": "",
       "version_major": 2,
       "version_minor": 0
      },
      "text/plain": [
       "FloatProgress(value=0.0, bar_style='info', description='Progress:', layout=Layout(height='25px', width='50%'),…"
      ]
     },
     "metadata": {},
     "output_type": "display_data"
    }
   ],
   "source": [
    "pings_gdf['date'] = pd.to_datetime(pings_gdf['date'])\n",
    "pings_gdf['day'] = pings_gdf['date'].dt.date"
   ]
  },
  {
   "cell_type": "code",
   "execution_count": 6,
   "id": "7a844618-3919-4f7e-811b-d58b7685adaa",
   "metadata": {
    "execution": {
     "iopub.execute_input": "2023-10-02T23:03:19.782423Z",
     "iopub.status.busy": "2023-10-02T23:03:19.782209Z",
     "iopub.status.idle": "2023-10-02T23:03:21.024838Z",
     "shell.execute_reply": "2023-10-02T23:03:21.024207Z",
     "shell.execute_reply.started": "2023-10-02T23:03:19.782402Z"
    },
    "tags": []
   },
   "outputs": [
    {
     "data": {
      "application/vnd.jupyter.widget-view+json": {
       "model_id": "ecde0706207c49ab86579d11c5f524a0",
       "version_major": 2,
       "version_minor": 0
      },
      "text/plain": [
       "VBox()"
      ]
     },
     "metadata": {},
     "output_type": "display_data"
    },
    {
     "data": {
      "application/vnd.jupyter.widget-view+json": {
       "model_id": "",
       "version_major": 2,
       "version_minor": 0
      },
      "text/plain": [
       "FloatProgress(value=0.0, bar_style='info', description='Progress:', layout=Layout(height='25px', width='50%'),…"
      ]
     },
     "metadata": {},
     "output_type": "display_data"
    },
    {
     "name": "stderr",
     "output_type": "stream",
     "text": [
      "An error was encountered:\n",
      "unhashable type: 'Polygon'\n",
      "Traceback (most recent call last):\n",
      "  File \"/usr/local/lib/python3.7/site-packages/geopandas/geoseries.py\", line 624, in apply\n",
      "    result = super().apply(func, convert_dtype=convert_dtype, args=args, **kwargs)\n",
      "  File \"/usr/local/lib64/python3.7/site-packages/pandas/core/series.py\", line 4357, in apply\n",
      "    return SeriesApply(self, func, convert_dtype, args, kwargs).apply()\n",
      "  File \"/usr/local/lib64/python3.7/site-packages/pandas/core/apply.py\", line 1043, in apply\n",
      "    return self.apply_standard()\n",
      "  File \"/usr/local/lib64/python3.7/site-packages/pandas/core/apply.py\", line 1101, in apply_standard\n",
      "    convert=self.convert_dtype,\n",
      "  File \"pandas/_libs/lib.pyx\", line 2859, in pandas._libs.lib.map_infer\n",
      "TypeError: unhashable type: 'Polygon'\n",
      "\n"
     ]
    }
   ],
   "source": [
    "# balance panel by adding missing weeks\n",
    "# Set \"week\" and \"index_right\" as a MultiIndex\n",
    "test = pings_gdf.copy()\n",
    "test['geom_id'] = test['geometry'].to_wkt.apply(hash)\n",
    "test = test.set_index(['day', 'geom_id'])\n"
   ]
  },
  {
   "cell_type": "code",
   "execution_count": null,
   "id": "bd0c6f5f-5940-4110-b7dd-ef850063aa4a",
   "metadata": {},
   "outputs": [],
   "source": [
    "\n",
    "# # Create all possible combinations of \"week\" and \"index_right\"\n",
    "# unique_weeks = test.index.levels[0]\n",
    "# unique_index_right = test.index.levels[1]\n",
    "# index_combinations = pd.MultiIndex.from_product([unique_weeks, unique_index_right], names=['day', 'geometry'])\n",
    "\n",
    "# # Reindex the DataFrame with the new index combinations\n",
    "# test = test.reindex(index_combinations).reset_index()"
   ]
  },
  {
   "cell_type": "code",
   "execution_count": 49,
   "id": "33da595a-5c51-4ad3-8395-4c5a1fec5325",
   "metadata": {
    "execution": {
     "iopub.execute_input": "2023-10-02T22:55:51.602271Z",
     "iopub.status.busy": "2023-10-02T22:55:51.601968Z",
     "iopub.status.idle": "2023-10-02T22:55:51.635925Z",
     "shell.execute_reply": "2023-10-02T22:55:51.635349Z",
     "shell.execute_reply.started": "2023-10-02T22:55:51.602247Z"
    },
    "tags": []
   },
   "outputs": [
    {
     "data": {
      "application/vnd.jupyter.widget-view+json": {
       "model_id": "d6e091f910cb465e91b6592d9f013daa",
       "version_major": 2,
       "version_minor": 0
      },
      "text/plain": [
       "VBox()"
      ]
     },
     "metadata": {},
     "output_type": "display_data"
    },
    {
     "data": {
      "application/vnd.jupyter.widget-view+json": {
       "model_id": "",
       "version_major": 2,
       "version_minor": 0
      },
      "text/plain": [
       "FloatProgress(value=0.0, bar_style='info', description='Progress:', layout=Layout(height='25px', width='50%'),…"
      ]
     },
     "metadata": {},
     "output_type": "display_data"
    },
    {
     "name": "stderr",
     "output_type": "stream",
     "text": [
      "An error was encountered:\n",
      "name 'unique_index_right' is not defined\n",
      "Traceback (most recent call last):\n",
      "NameError: name 'unique_index_right' is not defined\n",
      "\n"
     ]
    }
   ],
   "source": [
    "unique_index_right"
   ]
  },
  {
   "cell_type": "code",
   "execution_count": 41,
   "id": "efa34c16-3629-4567-830c-f7da275e04f4",
   "metadata": {
    "execution": {
     "iopub.execute_input": "2023-10-02T22:43:58.321642Z",
     "iopub.status.busy": "2023-10-02T22:43:58.321179Z",
     "iopub.status.idle": "2023-10-02T22:46:17.891583Z",
     "shell.execute_reply": "2023-10-02T22:46:17.890981Z",
     "shell.execute_reply.started": "2023-10-02T22:43:58.321615Z"
    },
    "tags": []
   },
   "outputs": [
    {
     "data": {
      "application/vnd.jupyter.widget-view+json": {
       "model_id": "e2e0411f97ad42a5b82aa6369d98516e",
       "version_major": 2,
       "version_minor": 0
      },
      "text/plain": [
       "VBox()"
      ]
     },
     "metadata": {},
     "output_type": "display_data"
    },
    {
     "data": {
      "application/vnd.jupyter.widget-view+json": {
       "model_id": "",
       "version_major": 2,
       "version_minor": 0
      },
      "text/plain": [
       "FloatProgress(value=0.0, bar_style='info', description='Progress:', layout=Layout(height='25px', width='50%'),…"
      ]
     },
     "metadata": {},
     "output_type": "display_data"
    },
    {
     "name": "stdout",
     "output_type": "stream",
     "text": [
      "227265"
     ]
    }
   ],
   "source": [
    "pings_grid['geometry'].astype(str).nunique()"
   ]
  },
  {
   "cell_type": "code",
   "execution_count": null,
   "id": "8f405ece-d1fe-4179-86f3-b3ab1e19d3a9",
   "metadata": {},
   "outputs": [],
   "source": []
  }
 ],
 "metadata": {
  "kernelspec": {
   "display_name": "PySpark",
   "language": "python",
   "name": "pysparkkernel"
  },
  "language_info": {
   "codemirror_mode": {
    "name": "python",
    "version": 3
   },
   "file_extension": ".py",
   "mimetype": "text/x-python",
   "name": "pyspark",
   "pygments_lexer": "python3"
  }
 },
 "nbformat": 4,
 "nbformat_minor": 5
}
